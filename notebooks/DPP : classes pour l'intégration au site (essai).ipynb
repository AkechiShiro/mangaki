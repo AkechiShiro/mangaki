{
 "cells": [
  {
   "cell_type": "code",
   "execution_count": 1,
   "metadata": {
    "collapsed": true
   },
   "outputs": [],
   "source": [
    "#pas encore testé\n",
    "\n",
    "from scipy.spatial.distance import pdist, squareform\n",
    "import random\n",
    "\n",
    "\n",
    "\n",
    "def cosine_similarity(X): # X : dimension nb_users, \n",
    "    return 1 - squareform(pdist(X, metric='cosine'))\n",
    "\n",
    "\n",
    "class MangakiUniform(object):\n",
    "    nb_points=None\n",
    "    matrix_similarity=None\n",
    "    def __init__(self, nb_points, matrix_similarity) :\n",
    "        self.nb_points=nb_points\n",
    "        self.matrix_similarity=matrix_similarity\n",
    "\n",
    "    def sample_uniform(self):\n",
    "        uniform_items = list(range(matrix_similarity.shape[0]))\n",
    "        random.shuffle(uniform_items)\n",
    "        return uniform_items[:size]\n",
    "\n",
    "    \n",
    "    def __str__(self):\n",
    "        return 'uniform list, nb_points=%d' % self.nb_points\n",
    "    \n"
   ]
  },
  {
   "cell_type": "code",
   "execution_count": null,
   "metadata": {
    "collapsed": true
   },
   "outputs": [],
   "source": []
  },
  {
   "cell_type": "code",
   "execution_count": null,
   "metadata": {
    "collapsed": true
   },
   "outputs": [],
   "source": []
  },
  {
   "cell_type": "code",
   "execution_count": null,
   "metadata": {
    "collapsed": true
   },
   "outputs": [],
   "source": []
  },
  {
   "cell_type": "code",
   "execution_count": null,
   "metadata": {
    "collapsed": true
   },
   "outputs": [],
   "source": []
  },
  {
   "cell_type": "markdown",
   "metadata": {},
   "source": [
    "# Test"
   ]
  },
  {
   "cell_type": "code",
   "execution_count": null,
   "metadata": {
    "collapsed": true
   },
   "outputs": [],
   "source": [
    "#X= \n",
    "A=MangakiUniform(10, cosine_similarity(X))"
   ]
  }
 ],
 "metadata": {
  "kernelspec": {
   "display_name": "Django Shell-Plus",
   "language": "python",
   "name": "django_extensions"
  },
  "language_info": {
   "codemirror_mode": {
    "name": "ipython",
    "version": 3
   },
   "file_extension": ".py",
   "mimetype": "text/x-python",
   "name": "python",
   "nbconvert_exporter": "python",
   "pygments_lexer": "ipython3",
   "version": "3.4.3"
  }
 },
 "nbformat": 4,
 "nbformat_minor": 0
}

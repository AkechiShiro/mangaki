{
 "cells": [
  {
   "cell_type": "markdown",
   "metadata": {},
   "source": [
    "TODO :\n",
    "r=1, 1/2,1/3,1/4\n",
    "ou alors on divise par 2 entre chaque (r/2)\n",
    "on regarde la diff de valeur entre r et r/2\n",
    "<= 1% de la valeur\n",
    "plotter\n",
    "\n",
    "\n",
    "à vérif en faisant des plots "
   ]
  },
  {
   "cell_type": "code",
   "execution_count": 6,
   "metadata": {
    "collapsed": false
   },
   "outputs": [
    {
     "name": "stdout",
     "output_type": "stream",
     "text": [
      "Computing M: (1710 × 8347)\n",
      "fill and center matrix [770 ms]\n",
      "Shapes (1710, 10) (10,) (10, 8347)\n",
      "factor matrix [28330 ms]\n"
     ]
    }
   ],
   "source": [
    "from mangaki.utils.svd import MangakiSVD\n",
    "import numpy as np\n",
    "import pandas \n",
    "from mangaki.utils.values import rating_values\n",
    "\n",
    "ratings = pandas.read_csv('../data/ratings.csv', header=None).as_matrix()\n",
    "works=pandas.read_csv('../data/works.csv', header=None).as_matrix()\n",
    "\n",
    "\n",
    "svd =MangakiSVD(10)\n",
    "X=ratings[:,0:2]\n",
    "Y=[rating_values[rating] for rating in ratings[:,2]]\n",
    "nb_users=X[:,0].max()+1\n",
    "nb_items=X[:,1].max()+1\n",
    "svd.set_parameters(nb_users,nb_items)\n",
    "svd.fit(X,Y)"
   ]
  },
  {
   "cell_type": "code",
   "execution_count": null,
   "metadata": {
    "collapsed": true
   },
   "outputs": [],
   "source": []
  },
  {
   "cell_type": "code",
   "execution_count": 69,
   "metadata": {
    "collapsed": true
   },
   "outputs": [],
   "source": [
    "\n",
    "from scipy.spatial.distance import pdist, squareform\n",
    "\n",
    "def compute_similarity_coisine(SVD):\n",
    "    return 1 - squareform(pdist(SVD.T, metric='cosine'))\n",
    "\n",
    "similarity=compute_similarity_coisine(svd.VT)\n"
   ]
  },
  {
   "cell_type": "code",
   "execution_count": 70,
   "metadata": {
    "collapsed": false
   },
   "outputs": [
    {
     "data": {
      "text/plain": [
       "array([[ 1.        ,  0.08471437, -0.56138472, ...,  0.14679545,\n",
       "        -0.68534132,  0.00383582],\n",
       "       [ 0.08471437,  1.        , -0.07371975, ...,  0.03701757,\n",
       "        -0.0280354 ,  0.91589537],\n",
       "       [-0.56138472, -0.07371975,  1.        , ..., -0.03505325,\n",
       "         0.09011494,  0.15850288],\n",
       "       ..., \n",
       "       [ 0.14679545,  0.03701757, -0.03505325, ...,  1.        ,\n",
       "         0.11731634, -0.00233954],\n",
       "       [-0.68534132, -0.0280354 ,  0.09011494, ...,  0.11731634,\n",
       "         1.        ,  0.05507686],\n",
       "       [ 0.00383582,  0.91589537,  0.15850288, ..., -0.00233954,\n",
       "         0.05507686,  1.        ]])"
      ]
     },
     "execution_count": 70,
     "metadata": {},
     "output_type": "execute_result"
    }
   ],
   "source": [
    "similarity"
   ]
  },
  {
   "cell_type": "code",
   "execution_count": 71,
   "metadata": {
    "collapsed": true
   },
   "outputs": [],
   "source": [
    "sampled_items=[ 929, 1126, 2483, 3511, 4460, 4858, 5163, 5340, 6674, 7700]\n",
    "uniform_items=[2279, 5704, 8193, 1300, 6718, 3135, 1315, 7801, 472, 4580]"
   ]
  },
  {
   "cell_type": "code",
   "execution_count": 72,
   "metadata": {
    "collapsed": true
   },
   "outputs": [],
   "source": [
    "def diameter(r, nb_points):\n",
    "    return ((2/(nb_points*(nb_points-1))*((pdist(svd.VT[:, sampled_items].T)**r).sum()))**(1/r))"
   ]
  },
  {
   "cell_type": "code",
   "execution_count": 73,
   "metadata": {
    "collapsed": false
   },
   "outputs": [
    {
     "data": {
      "text/plain": [
       "0.024841109005258488"
      ]
     },
     "execution_count": 73,
     "metadata": {},
     "output_type": "execute_result"
    }
   ],
   "source": [
    "diameter(1,10)"
   ]
  },
  {
   "cell_type": "code",
   "execution_count": 74,
   "metadata": {
    "collapsed": false
   },
   "outputs": [
    {
     "data": {
      "text/plain": [
       "0.024841109005258488"
      ]
     },
     "execution_count": 74,
     "metadata": {},
     "output_type": "execute_result"
    }
   ],
   "source": [
    "nb_points=10\n",
    "coefficient_sample=2/(nb_points*(nb_points-1))*(pdist(svd.VT[:,sampled_items].T).sum())\n",
    "coefficient_sample"
   ]
  },
  {
   "cell_type": "code",
   "execution_count": 79,
   "metadata": {
    "collapsed": false
   },
   "outputs": [
    {
     "data": {
      "application/javascript": [
       "/* Put everything inside the global mpl namespace */\n",
       "window.mpl = {};\n",
       "\n",
       "mpl.get_websocket_type = function() {\n",
       "    if (typeof(WebSocket) !== 'undefined') {\n",
       "        return WebSocket;\n",
       "    } else if (typeof(MozWebSocket) !== 'undefined') {\n",
       "        return MozWebSocket;\n",
       "    } else {\n",
       "        alert('Your browser does not have WebSocket support.' +\n",
       "              'Please try Chrome, Safari or Firefox ≥ 6. ' +\n",
       "              'Firefox 4 and 5 are also supported but you ' +\n",
       "              'have to enable WebSockets in about:config.');\n",
       "    };\n",
       "}\n",
       "\n",
       "mpl.figure = function(figure_id, websocket, ondownload, parent_element) {\n",
       "    this.id = figure_id;\n",
       "\n",
       "    this.ws = websocket;\n",
       "\n",
       "    this.supports_binary = (this.ws.binaryType != undefined);\n",
       "\n",
       "    if (!this.supports_binary) {\n",
       "        var warnings = document.getElementById(\"mpl-warnings\");\n",
       "        if (warnings) {\n",
       "            warnings.style.display = 'block';\n",
       "            warnings.textContent = (\n",
       "                \"This browser does not support binary websocket messages. \" +\n",
       "                    \"Performance may be slow.\");\n",
       "        }\n",
       "    }\n",
       "\n",
       "    this.imageObj = new Image();\n",
       "\n",
       "    this.context = undefined;\n",
       "    this.message = undefined;\n",
       "    this.canvas = undefined;\n",
       "    this.rubberband_canvas = undefined;\n",
       "    this.rubberband_context = undefined;\n",
       "    this.format_dropdown = undefined;\n",
       "\n",
       "    this.image_mode = 'full';\n",
       "\n",
       "    this.root = $('<div/>');\n",
       "    this._root_extra_style(this.root)\n",
       "    this.root.attr('style', 'display: inline-block');\n",
       "\n",
       "    $(parent_element).append(this.root);\n",
       "\n",
       "    this._init_header(this);\n",
       "    this._init_canvas(this);\n",
       "    this._init_toolbar(this);\n",
       "\n",
       "    var fig = this;\n",
       "\n",
       "    this.waiting = false;\n",
       "\n",
       "    this.ws.onopen =  function () {\n",
       "            fig.send_message(\"supports_binary\", {value: fig.supports_binary});\n",
       "            fig.send_message(\"send_image_mode\", {});\n",
       "            fig.send_message(\"refresh\", {});\n",
       "        }\n",
       "\n",
       "    this.imageObj.onload = function() {\n",
       "            if (fig.image_mode == 'full') {\n",
       "                // Full images could contain transparency (where diff images\n",
       "                // almost always do), so we need to clear the canvas so that\n",
       "                // there is no ghosting.\n",
       "                fig.context.clearRect(0, 0, fig.canvas.width, fig.canvas.height);\n",
       "            }\n",
       "            fig.context.drawImage(fig.imageObj, 0, 0);\n",
       "        };\n",
       "\n",
       "    this.imageObj.onunload = function() {\n",
       "        this.ws.close();\n",
       "    }\n",
       "\n",
       "    this.ws.onmessage = this._make_on_message_function(this);\n",
       "\n",
       "    this.ondownload = ondownload;\n",
       "}\n",
       "\n",
       "mpl.figure.prototype._init_header = function() {\n",
       "    var titlebar = $(\n",
       "        '<div class=\"ui-dialog-titlebar ui-widget-header ui-corner-all ' +\n",
       "        'ui-helper-clearfix\"/>');\n",
       "    var titletext = $(\n",
       "        '<div class=\"ui-dialog-title\" style=\"width: 100%; ' +\n",
       "        'text-align: center; padding: 3px;\"/>');\n",
       "    titlebar.append(titletext)\n",
       "    this.root.append(titlebar);\n",
       "    this.header = titletext[0];\n",
       "}\n",
       "\n",
       "\n",
       "\n",
       "mpl.figure.prototype._canvas_extra_style = function(canvas_div) {\n",
       "\n",
       "}\n",
       "\n",
       "\n",
       "mpl.figure.prototype._root_extra_style = function(canvas_div) {\n",
       "\n",
       "}\n",
       "\n",
       "mpl.figure.prototype._init_canvas = function() {\n",
       "    var fig = this;\n",
       "\n",
       "    var canvas_div = $('<div/>');\n",
       "\n",
       "    canvas_div.attr('style', 'position: relative; clear: both; outline: 0');\n",
       "\n",
       "    function canvas_keyboard_event(event) {\n",
       "        return fig.key_event(event, event['data']);\n",
       "    }\n",
       "\n",
       "    canvas_div.keydown('key_press', canvas_keyboard_event);\n",
       "    canvas_div.keyup('key_release', canvas_keyboard_event);\n",
       "    this.canvas_div = canvas_div\n",
       "    this._canvas_extra_style(canvas_div)\n",
       "    this.root.append(canvas_div);\n",
       "\n",
       "    var canvas = $('<canvas/>');\n",
       "    canvas.addClass('mpl-canvas');\n",
       "    canvas.attr('style', \"left: 0; top: 0; z-index: 0; outline: 0\")\n",
       "\n",
       "    this.canvas = canvas[0];\n",
       "    this.context = canvas[0].getContext(\"2d\");\n",
       "\n",
       "    var rubberband = $('<canvas/>');\n",
       "    rubberband.attr('style', \"position: absolute; left: 0; top: 0; z-index: 1;\")\n",
       "\n",
       "    var pass_mouse_events = true;\n",
       "\n",
       "    canvas_div.resizable({\n",
       "        start: function(event, ui) {\n",
       "            pass_mouse_events = false;\n",
       "        },\n",
       "        resize: function(event, ui) {\n",
       "            fig.request_resize(ui.size.width, ui.size.height);\n",
       "        },\n",
       "        stop: function(event, ui) {\n",
       "            pass_mouse_events = true;\n",
       "            fig.request_resize(ui.size.width, ui.size.height);\n",
       "        },\n",
       "    });\n",
       "\n",
       "    function mouse_event_fn(event) {\n",
       "        if (pass_mouse_events)\n",
       "            return fig.mouse_event(event, event['data']);\n",
       "    }\n",
       "\n",
       "    rubberband.mousedown('button_press', mouse_event_fn);\n",
       "    rubberband.mouseup('button_release', mouse_event_fn);\n",
       "    // Throttle sequential mouse events to 1 every 20ms.\n",
       "    rubberband.mousemove('motion_notify', mouse_event_fn);\n",
       "\n",
       "    rubberband.mouseenter('figure_enter', mouse_event_fn);\n",
       "    rubberband.mouseleave('figure_leave', mouse_event_fn);\n",
       "\n",
       "    canvas_div.on(\"wheel\", function (event) {\n",
       "        event = event.originalEvent;\n",
       "        event['data'] = 'scroll'\n",
       "        if (event.deltaY < 0) {\n",
       "            event.step = 1;\n",
       "        } else {\n",
       "            event.step = -1;\n",
       "        }\n",
       "        mouse_event_fn(event);\n",
       "    });\n",
       "\n",
       "    canvas_div.append(canvas);\n",
       "    canvas_div.append(rubberband);\n",
       "\n",
       "    this.rubberband = rubberband;\n",
       "    this.rubberband_canvas = rubberband[0];\n",
       "    this.rubberband_context = rubberband[0].getContext(\"2d\");\n",
       "    this.rubberband_context.strokeStyle = \"#000000\";\n",
       "\n",
       "    this._resize_canvas = function(width, height) {\n",
       "        // Keep the size of the canvas, canvas container, and rubber band\n",
       "        // canvas in synch.\n",
       "        canvas_div.css('width', width)\n",
       "        canvas_div.css('height', height)\n",
       "\n",
       "        canvas.attr('width', width);\n",
       "        canvas.attr('height', height);\n",
       "\n",
       "        rubberband.attr('width', width);\n",
       "        rubberband.attr('height', height);\n",
       "    }\n",
       "\n",
       "    // Set the figure to an initial 600x600px, this will subsequently be updated\n",
       "    // upon first draw.\n",
       "    this._resize_canvas(600, 600);\n",
       "\n",
       "    // Disable right mouse context menu.\n",
       "    $(this.rubberband_canvas).bind(\"contextmenu\",function(e){\n",
       "        return false;\n",
       "    });\n",
       "\n",
       "    function set_focus () {\n",
       "        canvas.focus();\n",
       "        canvas_div.focus();\n",
       "    }\n",
       "\n",
       "    window.setTimeout(set_focus, 100);\n",
       "}\n",
       "\n",
       "mpl.figure.prototype._init_toolbar = function() {\n",
       "    var fig = this;\n",
       "\n",
       "    var nav_element = $('<div/>')\n",
       "    nav_element.attr('style', 'width: 100%');\n",
       "    this.root.append(nav_element);\n",
       "\n",
       "    // Define a callback function for later on.\n",
       "    function toolbar_event(event) {\n",
       "        return fig.toolbar_button_onclick(event['data']);\n",
       "    }\n",
       "    function toolbar_mouse_event(event) {\n",
       "        return fig.toolbar_button_onmouseover(event['data']);\n",
       "    }\n",
       "\n",
       "    for(var toolbar_ind in mpl.toolbar_items) {\n",
       "        var name = mpl.toolbar_items[toolbar_ind][0];\n",
       "        var tooltip = mpl.toolbar_items[toolbar_ind][1];\n",
       "        var image = mpl.toolbar_items[toolbar_ind][2];\n",
       "        var method_name = mpl.toolbar_items[toolbar_ind][3];\n",
       "\n",
       "        if (!name) {\n",
       "            // put a spacer in here.\n",
       "            continue;\n",
       "        }\n",
       "        var button = $('<button/>');\n",
       "        button.addClass('ui-button ui-widget ui-state-default ui-corner-all ' +\n",
       "                        'ui-button-icon-only');\n",
       "        button.attr('role', 'button');\n",
       "        button.attr('aria-disabled', 'false');\n",
       "        button.click(method_name, toolbar_event);\n",
       "        button.mouseover(tooltip, toolbar_mouse_event);\n",
       "\n",
       "        var icon_img = $('<span/>');\n",
       "        icon_img.addClass('ui-button-icon-primary ui-icon');\n",
       "        icon_img.addClass(image);\n",
       "        icon_img.addClass('ui-corner-all');\n",
       "\n",
       "        var tooltip_span = $('<span/>');\n",
       "        tooltip_span.addClass('ui-button-text');\n",
       "        tooltip_span.html(tooltip);\n",
       "\n",
       "        button.append(icon_img);\n",
       "        button.append(tooltip_span);\n",
       "\n",
       "        nav_element.append(button);\n",
       "    }\n",
       "\n",
       "    var fmt_picker_span = $('<span/>');\n",
       "\n",
       "    var fmt_picker = $('<select/>');\n",
       "    fmt_picker.addClass('mpl-toolbar-option ui-widget ui-widget-content');\n",
       "    fmt_picker_span.append(fmt_picker);\n",
       "    nav_element.append(fmt_picker_span);\n",
       "    this.format_dropdown = fmt_picker[0];\n",
       "\n",
       "    for (var ind in mpl.extensions) {\n",
       "        var fmt = mpl.extensions[ind];\n",
       "        var option = $(\n",
       "            '<option/>', {selected: fmt === mpl.default_extension}).html(fmt);\n",
       "        fmt_picker.append(option)\n",
       "    }\n",
       "\n",
       "    // Add hover states to the ui-buttons\n",
       "    $( \".ui-button\" ).hover(\n",
       "        function() { $(this).addClass(\"ui-state-hover\");},\n",
       "        function() { $(this).removeClass(\"ui-state-hover\");}\n",
       "    );\n",
       "\n",
       "    var status_bar = $('<span class=\"mpl-message\"/>');\n",
       "    nav_element.append(status_bar);\n",
       "    this.message = status_bar[0];\n",
       "}\n",
       "\n",
       "mpl.figure.prototype.request_resize = function(x_pixels, y_pixels) {\n",
       "    // Request matplotlib to resize the figure. Matplotlib will then trigger a resize in the client,\n",
       "    // which will in turn request a refresh of the image.\n",
       "    this.send_message('resize', {'width': x_pixels, 'height': y_pixels});\n",
       "}\n",
       "\n",
       "mpl.figure.prototype.send_message = function(type, properties) {\n",
       "    properties['type'] = type;\n",
       "    properties['figure_id'] = this.id;\n",
       "    this.ws.send(JSON.stringify(properties));\n",
       "}\n",
       "\n",
       "mpl.figure.prototype.send_draw_message = function() {\n",
       "    if (!this.waiting) {\n",
       "        this.waiting = true;\n",
       "        this.ws.send(JSON.stringify({type: \"draw\", figure_id: this.id}));\n",
       "    }\n",
       "}\n",
       "\n",
       "\n",
       "mpl.figure.prototype.handle_save = function(fig, msg) {\n",
       "    var format_dropdown = fig.format_dropdown;\n",
       "    var format = format_dropdown.options[format_dropdown.selectedIndex].value;\n",
       "    fig.ondownload(fig, format);\n",
       "}\n",
       "\n",
       "\n",
       "mpl.figure.prototype.handle_resize = function(fig, msg) {\n",
       "    var size = msg['size'];\n",
       "    if (size[0] != fig.canvas.width || size[1] != fig.canvas.height) {\n",
       "        fig._resize_canvas(size[0], size[1]);\n",
       "        fig.send_message(\"refresh\", {});\n",
       "    };\n",
       "}\n",
       "\n",
       "mpl.figure.prototype.handle_rubberband = function(fig, msg) {\n",
       "    var x0 = msg['x0'];\n",
       "    var y0 = fig.canvas.height - msg['y0'];\n",
       "    var x1 = msg['x1'];\n",
       "    var y1 = fig.canvas.height - msg['y1'];\n",
       "    x0 = Math.floor(x0) + 0.5;\n",
       "    y0 = Math.floor(y0) + 0.5;\n",
       "    x1 = Math.floor(x1) + 0.5;\n",
       "    y1 = Math.floor(y1) + 0.5;\n",
       "    var min_x = Math.min(x0, x1);\n",
       "    var min_y = Math.min(y0, y1);\n",
       "    var width = Math.abs(x1 - x0);\n",
       "    var height = Math.abs(y1 - y0);\n",
       "\n",
       "    fig.rubberband_context.clearRect(\n",
       "        0, 0, fig.canvas.width, fig.canvas.height);\n",
       "\n",
       "    fig.rubberband_context.strokeRect(min_x, min_y, width, height);\n",
       "}\n",
       "\n",
       "mpl.figure.prototype.handle_figure_label = function(fig, msg) {\n",
       "    // Updates the figure title.\n",
       "    fig.header.textContent = msg['label'];\n",
       "}\n",
       "\n",
       "mpl.figure.prototype.handle_cursor = function(fig, msg) {\n",
       "    var cursor = msg['cursor'];\n",
       "    switch(cursor)\n",
       "    {\n",
       "    case 0:\n",
       "        cursor = 'pointer';\n",
       "        break;\n",
       "    case 1:\n",
       "        cursor = 'default';\n",
       "        break;\n",
       "    case 2:\n",
       "        cursor = 'crosshair';\n",
       "        break;\n",
       "    case 3:\n",
       "        cursor = 'move';\n",
       "        break;\n",
       "    }\n",
       "    fig.rubberband_canvas.style.cursor = cursor;\n",
       "}\n",
       "\n",
       "mpl.figure.prototype.handle_message = function(fig, msg) {\n",
       "    fig.message.textContent = msg['message'];\n",
       "}\n",
       "\n",
       "mpl.figure.prototype.handle_draw = function(fig, msg) {\n",
       "    // Request the server to send over a new figure.\n",
       "    fig.send_draw_message();\n",
       "}\n",
       "\n",
       "mpl.figure.prototype.handle_image_mode = function(fig, msg) {\n",
       "    fig.image_mode = msg['mode'];\n",
       "}\n",
       "\n",
       "mpl.figure.prototype.updated_canvas_event = function() {\n",
       "    // Called whenever the canvas gets updated.\n",
       "    this.send_message(\"ack\", {});\n",
       "}\n",
       "\n",
       "// A function to construct a web socket function for onmessage handling.\n",
       "// Called in the figure constructor.\n",
       "mpl.figure.prototype._make_on_message_function = function(fig) {\n",
       "    return function socket_on_message(evt) {\n",
       "        if (evt.data instanceof Blob) {\n",
       "            /* FIXME: We get \"Resource interpreted as Image but\n",
       "             * transferred with MIME type text/plain:\" errors on\n",
       "             * Chrome.  But how to set the MIME type?  It doesn't seem\n",
       "             * to be part of the websocket stream */\n",
       "            evt.data.type = \"image/png\";\n",
       "\n",
       "            /* Free the memory for the previous frames */\n",
       "            if (fig.imageObj.src) {\n",
       "                (window.URL || window.webkitURL).revokeObjectURL(\n",
       "                    fig.imageObj.src);\n",
       "            }\n",
       "\n",
       "            fig.imageObj.src = (window.URL || window.webkitURL).createObjectURL(\n",
       "                evt.data);\n",
       "            fig.updated_canvas_event();\n",
       "            fig.waiting = false;\n",
       "            return;\n",
       "        }\n",
       "        else if (typeof evt.data === 'string' && evt.data.slice(0, 21) == \"data:image/png;base64\") {\n",
       "            fig.imageObj.src = evt.data;\n",
       "            fig.updated_canvas_event();\n",
       "            fig.waiting = false;\n",
       "            return;\n",
       "        }\n",
       "\n",
       "        var msg = JSON.parse(evt.data);\n",
       "        var msg_type = msg['type'];\n",
       "\n",
       "        // Call the  \"handle_{type}\" callback, which takes\n",
       "        // the figure and JSON message as its only arguments.\n",
       "        try {\n",
       "            var callback = fig[\"handle_\" + msg_type];\n",
       "        } catch (e) {\n",
       "            console.log(\"No handler for the '\" + msg_type + \"' message type: \", msg);\n",
       "            return;\n",
       "        }\n",
       "\n",
       "        if (callback) {\n",
       "            try {\n",
       "                // console.log(\"Handling '\" + msg_type + \"' message: \", msg);\n",
       "                callback(fig, msg);\n",
       "            } catch (e) {\n",
       "                console.log(\"Exception inside the 'handler_\" + msg_type + \"' callback:\", e, e.stack, msg);\n",
       "            }\n",
       "        }\n",
       "    };\n",
       "}\n",
       "\n",
       "// from http://stackoverflow.com/questions/1114465/getting-mouse-location-in-canvas\n",
       "mpl.findpos = function(e) {\n",
       "    //this section is from http://www.quirksmode.org/js/events_properties.html\n",
       "    var targ;\n",
       "    if (!e)\n",
       "        e = window.event;\n",
       "    if (e.target)\n",
       "        targ = e.target;\n",
       "    else if (e.srcElement)\n",
       "        targ = e.srcElement;\n",
       "    if (targ.nodeType == 3) // defeat Safari bug\n",
       "        targ = targ.parentNode;\n",
       "\n",
       "    // jQuery normalizes the pageX and pageY\n",
       "    // pageX,Y are the mouse positions relative to the document\n",
       "    // offset() returns the position of the element relative to the document\n",
       "    var x = e.pageX - $(targ).offset().left;\n",
       "    var y = e.pageY - $(targ).offset().top;\n",
       "\n",
       "    return {\"x\": x, \"y\": y};\n",
       "};\n",
       "\n",
       "/*\n",
       " * return a copy of an object with only non-object keys\n",
       " * we need this to avoid circular references\n",
       " * http://stackoverflow.com/a/24161582/3208463\n",
       " */\n",
       "function simpleKeys (original) {\n",
       "  return Object.keys(original).reduce(function (obj, key) {\n",
       "    if (typeof original[key] !== 'object')\n",
       "        obj[key] = original[key]\n",
       "    return obj;\n",
       "  }, {});\n",
       "}\n",
       "\n",
       "mpl.figure.prototype.mouse_event = function(event, name) {\n",
       "    var canvas_pos = mpl.findpos(event)\n",
       "\n",
       "    if (name === 'button_press')\n",
       "    {\n",
       "        this.canvas.focus();\n",
       "        this.canvas_div.focus();\n",
       "    }\n",
       "\n",
       "    var x = canvas_pos.x;\n",
       "    var y = canvas_pos.y;\n",
       "\n",
       "    this.send_message(name, {x: x, y: y, button: event.button,\n",
       "                             step: event.step,\n",
       "                             guiEvent: simpleKeys(event)});\n",
       "\n",
       "    /* This prevents the web browser from automatically changing to\n",
       "     * the text insertion cursor when the button is pressed.  We want\n",
       "     * to control all of the cursor setting manually through the\n",
       "     * 'cursor' event from matplotlib */\n",
       "    event.preventDefault();\n",
       "    return false;\n",
       "}\n",
       "\n",
       "mpl.figure.prototype._key_event_extra = function(event, name) {\n",
       "    // Handle any extra behaviour associated with a key event\n",
       "}\n",
       "\n",
       "mpl.figure.prototype.key_event = function(event, name) {\n",
       "\n",
       "    // Prevent repeat events\n",
       "    if (name == 'key_press')\n",
       "    {\n",
       "        if (event.which === this._key)\n",
       "            return;\n",
       "        else\n",
       "            this._key = event.which;\n",
       "    }\n",
       "    if (name == 'key_release')\n",
       "        this._key = null;\n",
       "\n",
       "    var value = '';\n",
       "    if (event.ctrlKey && event.which != 17)\n",
       "        value += \"ctrl+\";\n",
       "    if (event.altKey && event.which != 18)\n",
       "        value += \"alt+\";\n",
       "    if (event.shiftKey && event.which != 16)\n",
       "        value += \"shift+\";\n",
       "\n",
       "    value += 'k';\n",
       "    value += event.which.toString();\n",
       "\n",
       "    this._key_event_extra(event, name);\n",
       "\n",
       "    this.send_message(name, {key: value,\n",
       "                             guiEvent: simpleKeys(event)});\n",
       "    return false;\n",
       "}\n",
       "\n",
       "mpl.figure.prototype.toolbar_button_onclick = function(name) {\n",
       "    if (name == 'download') {\n",
       "        this.handle_save(this, null);\n",
       "    } else {\n",
       "        this.send_message(\"toolbar_button\", {name: name});\n",
       "    }\n",
       "};\n",
       "\n",
       "mpl.figure.prototype.toolbar_button_onmouseover = function(tooltip) {\n",
       "    this.message.textContent = tooltip;\n",
       "};\n",
       "mpl.toolbar_items = [[\"Home\", \"Reset original view\", \"fa fa-home icon-home\", \"home\"], [\"Back\", \"Back to  previous view\", \"fa fa-arrow-left icon-arrow-left\", \"back\"], [\"Forward\", \"Forward to next view\", \"fa fa-arrow-right icon-arrow-right\", \"forward\"], [\"\", \"\", \"\", \"\"], [\"Pan\", \"Pan axes with left mouse, zoom with right\", \"fa fa-arrows icon-move\", \"pan\"], [\"Zoom\", \"Zoom to rectangle\", \"fa fa-square-o icon-check-empty\", \"zoom\"], [\"\", \"\", \"\", \"\"], [\"Download\", \"Download plot\", \"fa fa-floppy-o icon-save\", \"download\"]];\n",
       "\n",
       "mpl.extensions = [\"eps\", \"pdf\", \"png\", \"ps\", \"raw\", \"svg\"];\n",
       "\n",
       "mpl.default_extension = \"png\";var comm_websocket_adapter = function(comm) {\n",
       "    // Create a \"websocket\"-like object which calls the given IPython comm\n",
       "    // object with the appropriate methods. Currently this is a non binary\n",
       "    // socket, so there is still some room for performance tuning.\n",
       "    var ws = {};\n",
       "\n",
       "    ws.close = function() {\n",
       "        comm.close()\n",
       "    };\n",
       "    ws.send = function(m) {\n",
       "        //console.log('sending', m);\n",
       "        comm.send(m);\n",
       "    };\n",
       "    // Register the callback with on_msg.\n",
       "    comm.on_msg(function(msg) {\n",
       "        //console.log('receiving', msg['content']['data'], msg);\n",
       "        // Pass the mpl event to the overriden (by mpl) onmessage function.\n",
       "        ws.onmessage(msg['content']['data'])\n",
       "    });\n",
       "    return ws;\n",
       "}\n",
       "\n",
       "mpl.mpl_figure_comm = function(comm, msg) {\n",
       "    // This is the function which gets called when the mpl process\n",
       "    // starts-up an IPython Comm through the \"matplotlib\" channel.\n",
       "\n",
       "    var id = msg.content.data.id;\n",
       "    // Get hold of the div created by the display call when the Comm\n",
       "    // socket was opened in Python.\n",
       "    var element = $(\"#\" + id);\n",
       "    var ws_proxy = comm_websocket_adapter(comm)\n",
       "\n",
       "    function ondownload(figure, format) {\n",
       "        window.open(figure.imageObj.src);\n",
       "    }\n",
       "\n",
       "    var fig = new mpl.figure(id, ws_proxy,\n",
       "                           ondownload,\n",
       "                           element.get(0));\n",
       "\n",
       "    // Call onopen now - mpl needs it, as it is assuming we've passed it a real\n",
       "    // web socket which is closed, not our websocket->open comm proxy.\n",
       "    ws_proxy.onopen();\n",
       "\n",
       "    fig.parent_element = element.get(0);\n",
       "    fig.cell_info = mpl.find_output_cell(\"<div id='\" + id + \"'></div>\");\n",
       "    if (!fig.cell_info) {\n",
       "        console.error(\"Failed to find cell for figure\", id, fig);\n",
       "        return;\n",
       "    }\n",
       "\n",
       "    var output_index = fig.cell_info[2]\n",
       "    var cell = fig.cell_info[0];\n",
       "\n",
       "};\n",
       "\n",
       "mpl.figure.prototype.handle_close = function(fig, msg) {\n",
       "    fig.root.unbind('remove')\n",
       "\n",
       "    // Update the output cell to use the data from the current canvas.\n",
       "    fig.push_to_output();\n",
       "    var dataURL = fig.canvas.toDataURL();\n",
       "    // Re-enable the keyboard manager in IPython - without this line, in FF,\n",
       "    // the notebook keyboard shortcuts fail.\n",
       "    IPython.keyboard_manager.enable()\n",
       "    $(fig.parent_element).html('<img src=\"' + dataURL + '\">');\n",
       "    fig.close_ws(fig, msg);\n",
       "}\n",
       "\n",
       "mpl.figure.prototype.close_ws = function(fig, msg){\n",
       "    fig.send_message('closing', msg);\n",
       "    // fig.ws.close()\n",
       "}\n",
       "\n",
       "mpl.figure.prototype.push_to_output = function(remove_interactive) {\n",
       "    // Turn the data on the canvas into data in the output cell.\n",
       "    var dataURL = this.canvas.toDataURL();\n",
       "    this.cell_info[1]['text/html'] = '<img src=\"' + dataURL + '\">';\n",
       "}\n",
       "\n",
       "mpl.figure.prototype.updated_canvas_event = function() {\n",
       "    // Tell IPython that the notebook contents must change.\n",
       "    IPython.notebook.set_dirty(true);\n",
       "    this.send_message(\"ack\", {});\n",
       "    var fig = this;\n",
       "    // Wait a second, then push the new image to the DOM so\n",
       "    // that it is saved nicely (might be nice to debounce this).\n",
       "    setTimeout(function () { fig.push_to_output() }, 1000);\n",
       "}\n",
       "\n",
       "mpl.figure.prototype._init_toolbar = function() {\n",
       "    var fig = this;\n",
       "\n",
       "    var nav_element = $('<div/>')\n",
       "    nav_element.attr('style', 'width: 100%');\n",
       "    this.root.append(nav_element);\n",
       "\n",
       "    // Define a callback function for later on.\n",
       "    function toolbar_event(event) {\n",
       "        return fig.toolbar_button_onclick(event['data']);\n",
       "    }\n",
       "    function toolbar_mouse_event(event) {\n",
       "        return fig.toolbar_button_onmouseover(event['data']);\n",
       "    }\n",
       "\n",
       "    for(var toolbar_ind in mpl.toolbar_items){\n",
       "        var name = mpl.toolbar_items[toolbar_ind][0];\n",
       "        var tooltip = mpl.toolbar_items[toolbar_ind][1];\n",
       "        var image = mpl.toolbar_items[toolbar_ind][2];\n",
       "        var method_name = mpl.toolbar_items[toolbar_ind][3];\n",
       "\n",
       "        if (!name) { continue; };\n",
       "\n",
       "        var button = $('<button class=\"btn btn-default\" href=\"#\" title=\"' + name + '\"><i class=\"fa ' + image + ' fa-lg\"></i></button>');\n",
       "        button.click(method_name, toolbar_event);\n",
       "        button.mouseover(tooltip, toolbar_mouse_event);\n",
       "        nav_element.append(button);\n",
       "    }\n",
       "\n",
       "    // Add the status bar.\n",
       "    var status_bar = $('<span class=\"mpl-message\" style=\"text-align:right; float: right;\"/>');\n",
       "    nav_element.append(status_bar);\n",
       "    this.message = status_bar[0];\n",
       "\n",
       "    // Add the close button to the window.\n",
       "    var buttongrp = $('<div class=\"btn-group inline pull-right\"></div>');\n",
       "    var button = $('<button class=\"btn btn-mini btn-primary\" href=\"#\" title=\"Stop Interaction\"><i class=\"fa fa-power-off icon-remove icon-large\"></i></button>');\n",
       "    button.click(function (evt) { fig.handle_close(fig, {}); } );\n",
       "    button.mouseover('Stop Interaction', toolbar_mouse_event);\n",
       "    buttongrp.append(button);\n",
       "    var titlebar = this.root.find($('.ui-dialog-titlebar'));\n",
       "    titlebar.prepend(buttongrp);\n",
       "}\n",
       "\n",
       "mpl.figure.prototype._root_extra_style = function(el){\n",
       "    var fig = this\n",
       "    el.on(\"remove\", function(){\n",
       "\tfig.close_ws(fig, {});\n",
       "    });\n",
       "}\n",
       "\n",
       "mpl.figure.prototype._canvas_extra_style = function(el){\n",
       "    // this is important to make the div 'focusable\n",
       "    el.attr('tabindex', 0)\n",
       "    // reach out to IPython and tell the keyboard manager to turn it's self\n",
       "    // off when our div gets focus\n",
       "\n",
       "    // location in version 3\n",
       "    if (IPython.notebook.keyboard_manager) {\n",
       "        IPython.notebook.keyboard_manager.register_events(el);\n",
       "    }\n",
       "    else {\n",
       "        // location in version 2\n",
       "        IPython.keyboard_manager.register_events(el);\n",
       "    }\n",
       "\n",
       "}\n",
       "\n",
       "mpl.figure.prototype._key_event_extra = function(event, name) {\n",
       "    var manager = IPython.notebook.keyboard_manager;\n",
       "    if (!manager)\n",
       "        manager = IPython.keyboard_manager;\n",
       "\n",
       "    // Check for shift+enter\n",
       "    if (event.shiftKey && event.which == 13) {\n",
       "        this.canvas_div.blur();\n",
       "        event.shiftKey = false;\n",
       "        // Send a \"J\" for go to next cell\n",
       "        event.which = 74;\n",
       "        event.keyCode = 74;\n",
       "        manager.command_mode();\n",
       "        manager.handle_keydown(event);\n",
       "    }\n",
       "}\n",
       "\n",
       "mpl.figure.prototype.handle_save = function(fig, msg) {\n",
       "    fig.ondownload(fig, null);\n",
       "}\n",
       "\n",
       "\n",
       "mpl.find_output_cell = function(html_output) {\n",
       "    // Return the cell and output element which can be found *uniquely* in the notebook.\n",
       "    // Note - this is a bit hacky, but it is done because the \"notebook_saving.Notebook\"\n",
       "    // IPython event is triggered only after the cells have been serialised, which for\n",
       "    // our purposes (turning an active figure into a static one), is too late.\n",
       "    var cells = IPython.notebook.get_cells();\n",
       "    var ncells = cells.length;\n",
       "    for (var i=0; i<ncells; i++) {\n",
       "        var cell = cells[i];\n",
       "        if (cell.cell_type === 'code'){\n",
       "            for (var j=0; j<cell.output_area.outputs.length; j++) {\n",
       "                var data = cell.output_area.outputs[j];\n",
       "                if (data.data) {\n",
       "                    // IPython >= 3 moved mimebundle to data attribute of output\n",
       "                    data = data.data;\n",
       "                }\n",
       "                if (data['text/html'] == html_output) {\n",
       "                    return [cell, data, j];\n",
       "                }\n",
       "            }\n",
       "        }\n",
       "    }\n",
       "}\n",
       "\n",
       "// Register the function which deals with the matplotlib target/channel.\n",
       "// The kernel may be null if the page has been refreshed.\n",
       "if (IPython.notebook.kernel != null) {\n",
       "    IPython.notebook.kernel.comm_manager.register_target('matplotlib', mpl.mpl_figure_comm);\n",
       "}\n"
      ],
      "text/plain": [
       "<IPython.core.display.Javascript object>"
      ]
     },
     "metadata": {},
     "output_type": "display_data"
    },
    {
     "data": {
      "text/html": [
       "<img src=\"data:image/png;base64,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\">"
      ],
      "text/plain": [
       "<IPython.core.display.HTML object>"
      ]
     },
     "metadata": {},
     "output_type": "display_data"
    },
    {
     "name": "stdout",
     "output_type": "stream",
     "text": [
      "0.0248411090053\n",
      "\n",
      "0.0205475322128\n",
      "\n",
      "0.5\n",
      "0.0205475322128\n",
      "\n",
      "0.0182673543703\n",
      "\n",
      "0.25\n",
      "0.0182673543703\n",
      "\n",
      "0.0171270945595\n",
      "\n",
      "0.125\n",
      "0.0171270945595\n",
      "\n",
      "0.0165623894024\n",
      "\n",
      "0.0625\n",
      "0.0165623894024\n",
      "\n",
      "0.0162821164774\n",
      "\n",
      "0.03125\n",
      "0.0162821164774\n",
      "\n",
      "0.016142590715\n",
      "\n",
      "0.015625\n"
     ]
    }
   ],
   "source": [
    "import matplotlib.pyplot as plt\n",
    "\n",
    "%matplotlib notebook\n",
    "plt.clf()\n",
    "\n",
    "\n",
    "r=1\n",
    "premier=diameter(r,10)\n",
    "deuxième=diameter(r/2,10)\n",
    "while premier-deuxième >0.01*deuxième :\n",
    "    premier=diameter(r,10)\n",
    "    r=r/2\n",
    "    \n",
    "    deuxième=diameter(r,10)\n",
    "    print(premier)\n",
    "    print()\n",
    "    print(deuxième)\n",
    "    print()\n",
    "    print(r)\n",
    "    plt.plot(r, premier-deuxième , '+b')\n",
    "    "
   ]
  },
  {
   "cell_type": "code",
   "execution_count": 10,
   "metadata": {
    "collapsed": false
   },
   "outputs": [
    {
     "data": {
      "text/plain": [
       "0.016003505226748621"
      ]
     },
     "execution_count": 10,
     "metadata": {},
     "output_type": "execute_result"
    }
   ],
   "source": [
    "diameter(0.000000001,10)"
   ]
  },
  {
   "cell_type": "code",
   "execution_count": 78,
   "metadata": {
    "collapsed": false
   },
   "outputs": [
    {
     "data": {
      "application/javascript": [
       "/* Put everything inside the global mpl namespace */\n",
       "window.mpl = {};\n",
       "\n",
       "mpl.get_websocket_type = function() {\n",
       "    if (typeof(WebSocket) !== 'undefined') {\n",
       "        return WebSocket;\n",
       "    } else if (typeof(MozWebSocket) !== 'undefined') {\n",
       "        return MozWebSocket;\n",
       "    } else {\n",
       "        alert('Your browser does not have WebSocket support.' +\n",
       "              'Please try Chrome, Safari or Firefox ≥ 6. ' +\n",
       "              'Firefox 4 and 5 are also supported but you ' +\n",
       "              'have to enable WebSockets in about:config.');\n",
       "    };\n",
       "}\n",
       "\n",
       "mpl.figure = function(figure_id, websocket, ondownload, parent_element) {\n",
       "    this.id = figure_id;\n",
       "\n",
       "    this.ws = websocket;\n",
       "\n",
       "    this.supports_binary = (this.ws.binaryType != undefined);\n",
       "\n",
       "    if (!this.supports_binary) {\n",
       "        var warnings = document.getElementById(\"mpl-warnings\");\n",
       "        if (warnings) {\n",
       "            warnings.style.display = 'block';\n",
       "            warnings.textContent = (\n",
       "                \"This browser does not support binary websocket messages. \" +\n",
       "                    \"Performance may be slow.\");\n",
       "        }\n",
       "    }\n",
       "\n",
       "    this.imageObj = new Image();\n",
       "\n",
       "    this.context = undefined;\n",
       "    this.message = undefined;\n",
       "    this.canvas = undefined;\n",
       "    this.rubberband_canvas = undefined;\n",
       "    this.rubberband_context = undefined;\n",
       "    this.format_dropdown = undefined;\n",
       "\n",
       "    this.image_mode = 'full';\n",
       "\n",
       "    this.root = $('<div/>');\n",
       "    this._root_extra_style(this.root)\n",
       "    this.root.attr('style', 'display: inline-block');\n",
       "\n",
       "    $(parent_element).append(this.root);\n",
       "\n",
       "    this._init_header(this);\n",
       "    this._init_canvas(this);\n",
       "    this._init_toolbar(this);\n",
       "\n",
       "    var fig = this;\n",
       "\n",
       "    this.waiting = false;\n",
       "\n",
       "    this.ws.onopen =  function () {\n",
       "            fig.send_message(\"supports_binary\", {value: fig.supports_binary});\n",
       "            fig.send_message(\"send_image_mode\", {});\n",
       "            fig.send_message(\"refresh\", {});\n",
       "        }\n",
       "\n",
       "    this.imageObj.onload = function() {\n",
       "            if (fig.image_mode == 'full') {\n",
       "                // Full images could contain transparency (where diff images\n",
       "                // almost always do), so we need to clear the canvas so that\n",
       "                // there is no ghosting.\n",
       "                fig.context.clearRect(0, 0, fig.canvas.width, fig.canvas.height);\n",
       "            }\n",
       "            fig.context.drawImage(fig.imageObj, 0, 0);\n",
       "        };\n",
       "\n",
       "    this.imageObj.onunload = function() {\n",
       "        this.ws.close();\n",
       "    }\n",
       "\n",
       "    this.ws.onmessage = this._make_on_message_function(this);\n",
       "\n",
       "    this.ondownload = ondownload;\n",
       "}\n",
       "\n",
       "mpl.figure.prototype._init_header = function() {\n",
       "    var titlebar = $(\n",
       "        '<div class=\"ui-dialog-titlebar ui-widget-header ui-corner-all ' +\n",
       "        'ui-helper-clearfix\"/>');\n",
       "    var titletext = $(\n",
       "        '<div class=\"ui-dialog-title\" style=\"width: 100%; ' +\n",
       "        'text-align: center; padding: 3px;\"/>');\n",
       "    titlebar.append(titletext)\n",
       "    this.root.append(titlebar);\n",
       "    this.header = titletext[0];\n",
       "}\n",
       "\n",
       "\n",
       "\n",
       "mpl.figure.prototype._canvas_extra_style = function(canvas_div) {\n",
       "\n",
       "}\n",
       "\n",
       "\n",
       "mpl.figure.prototype._root_extra_style = function(canvas_div) {\n",
       "\n",
       "}\n",
       "\n",
       "mpl.figure.prototype._init_canvas = function() {\n",
       "    var fig = this;\n",
       "\n",
       "    var canvas_div = $('<div/>');\n",
       "\n",
       "    canvas_div.attr('style', 'position: relative; clear: both; outline: 0');\n",
       "\n",
       "    function canvas_keyboard_event(event) {\n",
       "        return fig.key_event(event, event['data']);\n",
       "    }\n",
       "\n",
       "    canvas_div.keydown('key_press', canvas_keyboard_event);\n",
       "    canvas_div.keyup('key_release', canvas_keyboard_event);\n",
       "    this.canvas_div = canvas_div\n",
       "    this._canvas_extra_style(canvas_div)\n",
       "    this.root.append(canvas_div);\n",
       "\n",
       "    var canvas = $('<canvas/>');\n",
       "    canvas.addClass('mpl-canvas');\n",
       "    canvas.attr('style', \"left: 0; top: 0; z-index: 0; outline: 0\")\n",
       "\n",
       "    this.canvas = canvas[0];\n",
       "    this.context = canvas[0].getContext(\"2d\");\n",
       "\n",
       "    var rubberband = $('<canvas/>');\n",
       "    rubberband.attr('style', \"position: absolute; left: 0; top: 0; z-index: 1;\")\n",
       "\n",
       "    var pass_mouse_events = true;\n",
       "\n",
       "    canvas_div.resizable({\n",
       "        start: function(event, ui) {\n",
       "            pass_mouse_events = false;\n",
       "        },\n",
       "        resize: function(event, ui) {\n",
       "            fig.request_resize(ui.size.width, ui.size.height);\n",
       "        },\n",
       "        stop: function(event, ui) {\n",
       "            pass_mouse_events = true;\n",
       "            fig.request_resize(ui.size.width, ui.size.height);\n",
       "        },\n",
       "    });\n",
       "\n",
       "    function mouse_event_fn(event) {\n",
       "        if (pass_mouse_events)\n",
       "            return fig.mouse_event(event, event['data']);\n",
       "    }\n",
       "\n",
       "    rubberband.mousedown('button_press', mouse_event_fn);\n",
       "    rubberband.mouseup('button_release', mouse_event_fn);\n",
       "    // Throttle sequential mouse events to 1 every 20ms.\n",
       "    rubberband.mousemove('motion_notify', mouse_event_fn);\n",
       "\n",
       "    rubberband.mouseenter('figure_enter', mouse_event_fn);\n",
       "    rubberband.mouseleave('figure_leave', mouse_event_fn);\n",
       "\n",
       "    canvas_div.on(\"wheel\", function (event) {\n",
       "        event = event.originalEvent;\n",
       "        event['data'] = 'scroll'\n",
       "        if (event.deltaY < 0) {\n",
       "            event.step = 1;\n",
       "        } else {\n",
       "            event.step = -1;\n",
       "        }\n",
       "        mouse_event_fn(event);\n",
       "    });\n",
       "\n",
       "    canvas_div.append(canvas);\n",
       "    canvas_div.append(rubberband);\n",
       "\n",
       "    this.rubberband = rubberband;\n",
       "    this.rubberband_canvas = rubberband[0];\n",
       "    this.rubberband_context = rubberband[0].getContext(\"2d\");\n",
       "    this.rubberband_context.strokeStyle = \"#000000\";\n",
       "\n",
       "    this._resize_canvas = function(width, height) {\n",
       "        // Keep the size of the canvas, canvas container, and rubber band\n",
       "        // canvas in synch.\n",
       "        canvas_div.css('width', width)\n",
       "        canvas_div.css('height', height)\n",
       "\n",
       "        canvas.attr('width', width);\n",
       "        canvas.attr('height', height);\n",
       "\n",
       "        rubberband.attr('width', width);\n",
       "        rubberband.attr('height', height);\n",
       "    }\n",
       "\n",
       "    // Set the figure to an initial 600x600px, this will subsequently be updated\n",
       "    // upon first draw.\n",
       "    this._resize_canvas(600, 600);\n",
       "\n",
       "    // Disable right mouse context menu.\n",
       "    $(this.rubberband_canvas).bind(\"contextmenu\",function(e){\n",
       "        return false;\n",
       "    });\n",
       "\n",
       "    function set_focus () {\n",
       "        canvas.focus();\n",
       "        canvas_div.focus();\n",
       "    }\n",
       "\n",
       "    window.setTimeout(set_focus, 100);\n",
       "}\n",
       "\n",
       "mpl.figure.prototype._init_toolbar = function() {\n",
       "    var fig = this;\n",
       "\n",
       "    var nav_element = $('<div/>')\n",
       "    nav_element.attr('style', 'width: 100%');\n",
       "    this.root.append(nav_element);\n",
       "\n",
       "    // Define a callback function for later on.\n",
       "    function toolbar_event(event) {\n",
       "        return fig.toolbar_button_onclick(event['data']);\n",
       "    }\n",
       "    function toolbar_mouse_event(event) {\n",
       "        return fig.toolbar_button_onmouseover(event['data']);\n",
       "    }\n",
       "\n",
       "    for(var toolbar_ind in mpl.toolbar_items) {\n",
       "        var name = mpl.toolbar_items[toolbar_ind][0];\n",
       "        var tooltip = mpl.toolbar_items[toolbar_ind][1];\n",
       "        var image = mpl.toolbar_items[toolbar_ind][2];\n",
       "        var method_name = mpl.toolbar_items[toolbar_ind][3];\n",
       "\n",
       "        if (!name) {\n",
       "            // put a spacer in here.\n",
       "            continue;\n",
       "        }\n",
       "        var button = $('<button/>');\n",
       "        button.addClass('ui-button ui-widget ui-state-default ui-corner-all ' +\n",
       "                        'ui-button-icon-only');\n",
       "        button.attr('role', 'button');\n",
       "        button.attr('aria-disabled', 'false');\n",
       "        button.click(method_name, toolbar_event);\n",
       "        button.mouseover(tooltip, toolbar_mouse_event);\n",
       "\n",
       "        var icon_img = $('<span/>');\n",
       "        icon_img.addClass('ui-button-icon-primary ui-icon');\n",
       "        icon_img.addClass(image);\n",
       "        icon_img.addClass('ui-corner-all');\n",
       "\n",
       "        var tooltip_span = $('<span/>');\n",
       "        tooltip_span.addClass('ui-button-text');\n",
       "        tooltip_span.html(tooltip);\n",
       "\n",
       "        button.append(icon_img);\n",
       "        button.append(tooltip_span);\n",
       "\n",
       "        nav_element.append(button);\n",
       "    }\n",
       "\n",
       "    var fmt_picker_span = $('<span/>');\n",
       "\n",
       "    var fmt_picker = $('<select/>');\n",
       "    fmt_picker.addClass('mpl-toolbar-option ui-widget ui-widget-content');\n",
       "    fmt_picker_span.append(fmt_picker);\n",
       "    nav_element.append(fmt_picker_span);\n",
       "    this.format_dropdown = fmt_picker[0];\n",
       "\n",
       "    for (var ind in mpl.extensions) {\n",
       "        var fmt = mpl.extensions[ind];\n",
       "        var option = $(\n",
       "            '<option/>', {selected: fmt === mpl.default_extension}).html(fmt);\n",
       "        fmt_picker.append(option)\n",
       "    }\n",
       "\n",
       "    // Add hover states to the ui-buttons\n",
       "    $( \".ui-button\" ).hover(\n",
       "        function() { $(this).addClass(\"ui-state-hover\");},\n",
       "        function() { $(this).removeClass(\"ui-state-hover\");}\n",
       "    );\n",
       "\n",
       "    var status_bar = $('<span class=\"mpl-message\"/>');\n",
       "    nav_element.append(status_bar);\n",
       "    this.message = status_bar[0];\n",
       "}\n",
       "\n",
       "mpl.figure.prototype.request_resize = function(x_pixels, y_pixels) {\n",
       "    // Request matplotlib to resize the figure. Matplotlib will then trigger a resize in the client,\n",
       "    // which will in turn request a refresh of the image.\n",
       "    this.send_message('resize', {'width': x_pixels, 'height': y_pixels});\n",
       "}\n",
       "\n",
       "mpl.figure.prototype.send_message = function(type, properties) {\n",
       "    properties['type'] = type;\n",
       "    properties['figure_id'] = this.id;\n",
       "    this.ws.send(JSON.stringify(properties));\n",
       "}\n",
       "\n",
       "mpl.figure.prototype.send_draw_message = function() {\n",
       "    if (!this.waiting) {\n",
       "        this.waiting = true;\n",
       "        this.ws.send(JSON.stringify({type: \"draw\", figure_id: this.id}));\n",
       "    }\n",
       "}\n",
       "\n",
       "\n",
       "mpl.figure.prototype.handle_save = function(fig, msg) {\n",
       "    var format_dropdown = fig.format_dropdown;\n",
       "    var format = format_dropdown.options[format_dropdown.selectedIndex].value;\n",
       "    fig.ondownload(fig, format);\n",
       "}\n",
       "\n",
       "\n",
       "mpl.figure.prototype.handle_resize = function(fig, msg) {\n",
       "    var size = msg['size'];\n",
       "    if (size[0] != fig.canvas.width || size[1] != fig.canvas.height) {\n",
       "        fig._resize_canvas(size[0], size[1]);\n",
       "        fig.send_message(\"refresh\", {});\n",
       "    };\n",
       "}\n",
       "\n",
       "mpl.figure.prototype.handle_rubberband = function(fig, msg) {\n",
       "    var x0 = msg['x0'];\n",
       "    var y0 = fig.canvas.height - msg['y0'];\n",
       "    var x1 = msg['x1'];\n",
       "    var y1 = fig.canvas.height - msg['y1'];\n",
       "    x0 = Math.floor(x0) + 0.5;\n",
       "    y0 = Math.floor(y0) + 0.5;\n",
       "    x1 = Math.floor(x1) + 0.5;\n",
       "    y1 = Math.floor(y1) + 0.5;\n",
       "    var min_x = Math.min(x0, x1);\n",
       "    var min_y = Math.min(y0, y1);\n",
       "    var width = Math.abs(x1 - x0);\n",
       "    var height = Math.abs(y1 - y0);\n",
       "\n",
       "    fig.rubberband_context.clearRect(\n",
       "        0, 0, fig.canvas.width, fig.canvas.height);\n",
       "\n",
       "    fig.rubberband_context.strokeRect(min_x, min_y, width, height);\n",
       "}\n",
       "\n",
       "mpl.figure.prototype.handle_figure_label = function(fig, msg) {\n",
       "    // Updates the figure title.\n",
       "    fig.header.textContent = msg['label'];\n",
       "}\n",
       "\n",
       "mpl.figure.prototype.handle_cursor = function(fig, msg) {\n",
       "    var cursor = msg['cursor'];\n",
       "    switch(cursor)\n",
       "    {\n",
       "    case 0:\n",
       "        cursor = 'pointer';\n",
       "        break;\n",
       "    case 1:\n",
       "        cursor = 'default';\n",
       "        break;\n",
       "    case 2:\n",
       "        cursor = 'crosshair';\n",
       "        break;\n",
       "    case 3:\n",
       "        cursor = 'move';\n",
       "        break;\n",
       "    }\n",
       "    fig.rubberband_canvas.style.cursor = cursor;\n",
       "}\n",
       "\n",
       "mpl.figure.prototype.handle_message = function(fig, msg) {\n",
       "    fig.message.textContent = msg['message'];\n",
       "}\n",
       "\n",
       "mpl.figure.prototype.handle_draw = function(fig, msg) {\n",
       "    // Request the server to send over a new figure.\n",
       "    fig.send_draw_message();\n",
       "}\n",
       "\n",
       "mpl.figure.prototype.handle_image_mode = function(fig, msg) {\n",
       "    fig.image_mode = msg['mode'];\n",
       "}\n",
       "\n",
       "mpl.figure.prototype.updated_canvas_event = function() {\n",
       "    // Called whenever the canvas gets updated.\n",
       "    this.send_message(\"ack\", {});\n",
       "}\n",
       "\n",
       "// A function to construct a web socket function for onmessage handling.\n",
       "// Called in the figure constructor.\n",
       "mpl.figure.prototype._make_on_message_function = function(fig) {\n",
       "    return function socket_on_message(evt) {\n",
       "        if (evt.data instanceof Blob) {\n",
       "            /* FIXME: We get \"Resource interpreted as Image but\n",
       "             * transferred with MIME type text/plain:\" errors on\n",
       "             * Chrome.  But how to set the MIME type?  It doesn't seem\n",
       "             * to be part of the websocket stream */\n",
       "            evt.data.type = \"image/png\";\n",
       "\n",
       "            /* Free the memory for the previous frames */\n",
       "            if (fig.imageObj.src) {\n",
       "                (window.URL || window.webkitURL).revokeObjectURL(\n",
       "                    fig.imageObj.src);\n",
       "            }\n",
       "\n",
       "            fig.imageObj.src = (window.URL || window.webkitURL).createObjectURL(\n",
       "                evt.data);\n",
       "            fig.updated_canvas_event();\n",
       "            fig.waiting = false;\n",
       "            return;\n",
       "        }\n",
       "        else if (typeof evt.data === 'string' && evt.data.slice(0, 21) == \"data:image/png;base64\") {\n",
       "            fig.imageObj.src = evt.data;\n",
       "            fig.updated_canvas_event();\n",
       "            fig.waiting = false;\n",
       "            return;\n",
       "        }\n",
       "\n",
       "        var msg = JSON.parse(evt.data);\n",
       "        var msg_type = msg['type'];\n",
       "\n",
       "        // Call the  \"handle_{type}\" callback, which takes\n",
       "        // the figure and JSON message as its only arguments.\n",
       "        try {\n",
       "            var callback = fig[\"handle_\" + msg_type];\n",
       "        } catch (e) {\n",
       "            console.log(\"No handler for the '\" + msg_type + \"' message type: \", msg);\n",
       "            return;\n",
       "        }\n",
       "\n",
       "        if (callback) {\n",
       "            try {\n",
       "                // console.log(\"Handling '\" + msg_type + \"' message: \", msg);\n",
       "                callback(fig, msg);\n",
       "            } catch (e) {\n",
       "                console.log(\"Exception inside the 'handler_\" + msg_type + \"' callback:\", e, e.stack, msg);\n",
       "            }\n",
       "        }\n",
       "    };\n",
       "}\n",
       "\n",
       "// from http://stackoverflow.com/questions/1114465/getting-mouse-location-in-canvas\n",
       "mpl.findpos = function(e) {\n",
       "    //this section is from http://www.quirksmode.org/js/events_properties.html\n",
       "    var targ;\n",
       "    if (!e)\n",
       "        e = window.event;\n",
       "    if (e.target)\n",
       "        targ = e.target;\n",
       "    else if (e.srcElement)\n",
       "        targ = e.srcElement;\n",
       "    if (targ.nodeType == 3) // defeat Safari bug\n",
       "        targ = targ.parentNode;\n",
       "\n",
       "    // jQuery normalizes the pageX and pageY\n",
       "    // pageX,Y are the mouse positions relative to the document\n",
       "    // offset() returns the position of the element relative to the document\n",
       "    var x = e.pageX - $(targ).offset().left;\n",
       "    var y = e.pageY - $(targ).offset().top;\n",
       "\n",
       "    return {\"x\": x, \"y\": y};\n",
       "};\n",
       "\n",
       "/*\n",
       " * return a copy of an object with only non-object keys\n",
       " * we need this to avoid circular references\n",
       " * http://stackoverflow.com/a/24161582/3208463\n",
       " */\n",
       "function simpleKeys (original) {\n",
       "  return Object.keys(original).reduce(function (obj, key) {\n",
       "    if (typeof original[key] !== 'object')\n",
       "        obj[key] = original[key]\n",
       "    return obj;\n",
       "  }, {});\n",
       "}\n",
       "\n",
       "mpl.figure.prototype.mouse_event = function(event, name) {\n",
       "    var canvas_pos = mpl.findpos(event)\n",
       "\n",
       "    if (name === 'button_press')\n",
       "    {\n",
       "        this.canvas.focus();\n",
       "        this.canvas_div.focus();\n",
       "    }\n",
       "\n",
       "    var x = canvas_pos.x;\n",
       "    var y = canvas_pos.y;\n",
       "\n",
       "    this.send_message(name, {x: x, y: y, button: event.button,\n",
       "                             step: event.step,\n",
       "                             guiEvent: simpleKeys(event)});\n",
       "\n",
       "    /* This prevents the web browser from automatically changing to\n",
       "     * the text insertion cursor when the button is pressed.  We want\n",
       "     * to control all of the cursor setting manually through the\n",
       "     * 'cursor' event from matplotlib */\n",
       "    event.preventDefault();\n",
       "    return false;\n",
       "}\n",
       "\n",
       "mpl.figure.prototype._key_event_extra = function(event, name) {\n",
       "    // Handle any extra behaviour associated with a key event\n",
       "}\n",
       "\n",
       "mpl.figure.prototype.key_event = function(event, name) {\n",
       "\n",
       "    // Prevent repeat events\n",
       "    if (name == 'key_press')\n",
       "    {\n",
       "        if (event.which === this._key)\n",
       "            return;\n",
       "        else\n",
       "            this._key = event.which;\n",
       "    }\n",
       "    if (name == 'key_release')\n",
       "        this._key = null;\n",
       "\n",
       "    var value = '';\n",
       "    if (event.ctrlKey && event.which != 17)\n",
       "        value += \"ctrl+\";\n",
       "    if (event.altKey && event.which != 18)\n",
       "        value += \"alt+\";\n",
       "    if (event.shiftKey && event.which != 16)\n",
       "        value += \"shift+\";\n",
       "\n",
       "    value += 'k';\n",
       "    value += event.which.toString();\n",
       "\n",
       "    this._key_event_extra(event, name);\n",
       "\n",
       "    this.send_message(name, {key: value,\n",
       "                             guiEvent: simpleKeys(event)});\n",
       "    return false;\n",
       "}\n",
       "\n",
       "mpl.figure.prototype.toolbar_button_onclick = function(name) {\n",
       "    if (name == 'download') {\n",
       "        this.handle_save(this, null);\n",
       "    } else {\n",
       "        this.send_message(\"toolbar_button\", {name: name});\n",
       "    }\n",
       "};\n",
       "\n",
       "mpl.figure.prototype.toolbar_button_onmouseover = function(tooltip) {\n",
       "    this.message.textContent = tooltip;\n",
       "};\n",
       "mpl.toolbar_items = [[\"Home\", \"Reset original view\", \"fa fa-home icon-home\", \"home\"], [\"Back\", \"Back to  previous view\", \"fa fa-arrow-left icon-arrow-left\", \"back\"], [\"Forward\", \"Forward to next view\", \"fa fa-arrow-right icon-arrow-right\", \"forward\"], [\"\", \"\", \"\", \"\"], [\"Pan\", \"Pan axes with left mouse, zoom with right\", \"fa fa-arrows icon-move\", \"pan\"], [\"Zoom\", \"Zoom to rectangle\", \"fa fa-square-o icon-check-empty\", \"zoom\"], [\"\", \"\", \"\", \"\"], [\"Download\", \"Download plot\", \"fa fa-floppy-o icon-save\", \"download\"]];\n",
       "\n",
       "mpl.extensions = [\"eps\", \"pdf\", \"png\", \"ps\", \"raw\", \"svg\"];\n",
       "\n",
       "mpl.default_extension = \"png\";var comm_websocket_adapter = function(comm) {\n",
       "    // Create a \"websocket\"-like object which calls the given IPython comm\n",
       "    // object with the appropriate methods. Currently this is a non binary\n",
       "    // socket, so there is still some room for performance tuning.\n",
       "    var ws = {};\n",
       "\n",
       "    ws.close = function() {\n",
       "        comm.close()\n",
       "    };\n",
       "    ws.send = function(m) {\n",
       "        //console.log('sending', m);\n",
       "        comm.send(m);\n",
       "    };\n",
       "    // Register the callback with on_msg.\n",
       "    comm.on_msg(function(msg) {\n",
       "        //console.log('receiving', msg['content']['data'], msg);\n",
       "        // Pass the mpl event to the overriden (by mpl) onmessage function.\n",
       "        ws.onmessage(msg['content']['data'])\n",
       "    });\n",
       "    return ws;\n",
       "}\n",
       "\n",
       "mpl.mpl_figure_comm = function(comm, msg) {\n",
       "    // This is the function which gets called when the mpl process\n",
       "    // starts-up an IPython Comm through the \"matplotlib\" channel.\n",
       "\n",
       "    var id = msg.content.data.id;\n",
       "    // Get hold of the div created by the display call when the Comm\n",
       "    // socket was opened in Python.\n",
       "    var element = $(\"#\" + id);\n",
       "    var ws_proxy = comm_websocket_adapter(comm)\n",
       "\n",
       "    function ondownload(figure, format) {\n",
       "        window.open(figure.imageObj.src);\n",
       "    }\n",
       "\n",
       "    var fig = new mpl.figure(id, ws_proxy,\n",
       "                           ondownload,\n",
       "                           element.get(0));\n",
       "\n",
       "    // Call onopen now - mpl needs it, as it is assuming we've passed it a real\n",
       "    // web socket which is closed, not our websocket->open comm proxy.\n",
       "    ws_proxy.onopen();\n",
       "\n",
       "    fig.parent_element = element.get(0);\n",
       "    fig.cell_info = mpl.find_output_cell(\"<div id='\" + id + \"'></div>\");\n",
       "    if (!fig.cell_info) {\n",
       "        console.error(\"Failed to find cell for figure\", id, fig);\n",
       "        return;\n",
       "    }\n",
       "\n",
       "    var output_index = fig.cell_info[2]\n",
       "    var cell = fig.cell_info[0];\n",
       "\n",
       "};\n",
       "\n",
       "mpl.figure.prototype.handle_close = function(fig, msg) {\n",
       "    fig.root.unbind('remove')\n",
       "\n",
       "    // Update the output cell to use the data from the current canvas.\n",
       "    fig.push_to_output();\n",
       "    var dataURL = fig.canvas.toDataURL();\n",
       "    // Re-enable the keyboard manager in IPython - without this line, in FF,\n",
       "    // the notebook keyboard shortcuts fail.\n",
       "    IPython.keyboard_manager.enable()\n",
       "    $(fig.parent_element).html('<img src=\"' + dataURL + '\">');\n",
       "    fig.close_ws(fig, msg);\n",
       "}\n",
       "\n",
       "mpl.figure.prototype.close_ws = function(fig, msg){\n",
       "    fig.send_message('closing', msg);\n",
       "    // fig.ws.close()\n",
       "}\n",
       "\n",
       "mpl.figure.prototype.push_to_output = function(remove_interactive) {\n",
       "    // Turn the data on the canvas into data in the output cell.\n",
       "    var dataURL = this.canvas.toDataURL();\n",
       "    this.cell_info[1]['text/html'] = '<img src=\"' + dataURL + '\">';\n",
       "}\n",
       "\n",
       "mpl.figure.prototype.updated_canvas_event = function() {\n",
       "    // Tell IPython that the notebook contents must change.\n",
       "    IPython.notebook.set_dirty(true);\n",
       "    this.send_message(\"ack\", {});\n",
       "    var fig = this;\n",
       "    // Wait a second, then push the new image to the DOM so\n",
       "    // that it is saved nicely (might be nice to debounce this).\n",
       "    setTimeout(function () { fig.push_to_output() }, 1000);\n",
       "}\n",
       "\n",
       "mpl.figure.prototype._init_toolbar = function() {\n",
       "    var fig = this;\n",
       "\n",
       "    var nav_element = $('<div/>')\n",
       "    nav_element.attr('style', 'width: 100%');\n",
       "    this.root.append(nav_element);\n",
       "\n",
       "    // Define a callback function for later on.\n",
       "    function toolbar_event(event) {\n",
       "        return fig.toolbar_button_onclick(event['data']);\n",
       "    }\n",
       "    function toolbar_mouse_event(event) {\n",
       "        return fig.toolbar_button_onmouseover(event['data']);\n",
       "    }\n",
       "\n",
       "    for(var toolbar_ind in mpl.toolbar_items){\n",
       "        var name = mpl.toolbar_items[toolbar_ind][0];\n",
       "        var tooltip = mpl.toolbar_items[toolbar_ind][1];\n",
       "        var image = mpl.toolbar_items[toolbar_ind][2];\n",
       "        var method_name = mpl.toolbar_items[toolbar_ind][3];\n",
       "\n",
       "        if (!name) { continue; };\n",
       "\n",
       "        var button = $('<button class=\"btn btn-default\" href=\"#\" title=\"' + name + '\"><i class=\"fa ' + image + ' fa-lg\"></i></button>');\n",
       "        button.click(method_name, toolbar_event);\n",
       "        button.mouseover(tooltip, toolbar_mouse_event);\n",
       "        nav_element.append(button);\n",
       "    }\n",
       "\n",
       "    // Add the status bar.\n",
       "    var status_bar = $('<span class=\"mpl-message\" style=\"text-align:right; float: right;\"/>');\n",
       "    nav_element.append(status_bar);\n",
       "    this.message = status_bar[0];\n",
       "\n",
       "    // Add the close button to the window.\n",
       "    var buttongrp = $('<div class=\"btn-group inline pull-right\"></div>');\n",
       "    var button = $('<button class=\"btn btn-mini btn-primary\" href=\"#\" title=\"Stop Interaction\"><i class=\"fa fa-power-off icon-remove icon-large\"></i></button>');\n",
       "    button.click(function (evt) { fig.handle_close(fig, {}); } );\n",
       "    button.mouseover('Stop Interaction', toolbar_mouse_event);\n",
       "    buttongrp.append(button);\n",
       "    var titlebar = this.root.find($('.ui-dialog-titlebar'));\n",
       "    titlebar.prepend(buttongrp);\n",
       "}\n",
       "\n",
       "mpl.figure.prototype._root_extra_style = function(el){\n",
       "    var fig = this\n",
       "    el.on(\"remove\", function(){\n",
       "\tfig.close_ws(fig, {});\n",
       "    });\n",
       "}\n",
       "\n",
       "mpl.figure.prototype._canvas_extra_style = function(el){\n",
       "    // this is important to make the div 'focusable\n",
       "    el.attr('tabindex', 0)\n",
       "    // reach out to IPython and tell the keyboard manager to turn it's self\n",
       "    // off when our div gets focus\n",
       "\n",
       "    // location in version 3\n",
       "    if (IPython.notebook.keyboard_manager) {\n",
       "        IPython.notebook.keyboard_manager.register_events(el);\n",
       "    }\n",
       "    else {\n",
       "        // location in version 2\n",
       "        IPython.keyboard_manager.register_events(el);\n",
       "    }\n",
       "\n",
       "}\n",
       "\n",
       "mpl.figure.prototype._key_event_extra = function(event, name) {\n",
       "    var manager = IPython.notebook.keyboard_manager;\n",
       "    if (!manager)\n",
       "        manager = IPython.keyboard_manager;\n",
       "\n",
       "    // Check for shift+enter\n",
       "    if (event.shiftKey && event.which == 13) {\n",
       "        this.canvas_div.blur();\n",
       "        event.shiftKey = false;\n",
       "        // Send a \"J\" for go to next cell\n",
       "        event.which = 74;\n",
       "        event.keyCode = 74;\n",
       "        manager.command_mode();\n",
       "        manager.handle_keydown(event);\n",
       "    }\n",
       "}\n",
       "\n",
       "mpl.figure.prototype.handle_save = function(fig, msg) {\n",
       "    fig.ondownload(fig, null);\n",
       "}\n",
       "\n",
       "\n",
       "mpl.find_output_cell = function(html_output) {\n",
       "    // Return the cell and output element which can be found *uniquely* in the notebook.\n",
       "    // Note - this is a bit hacky, but it is done because the \"notebook_saving.Notebook\"\n",
       "    // IPython event is triggered only after the cells have been serialised, which for\n",
       "    // our purposes (turning an active figure into a static one), is too late.\n",
       "    var cells = IPython.notebook.get_cells();\n",
       "    var ncells = cells.length;\n",
       "    for (var i=0; i<ncells; i++) {\n",
       "        var cell = cells[i];\n",
       "        if (cell.cell_type === 'code'){\n",
       "            for (var j=0; j<cell.output_area.outputs.length; j++) {\n",
       "                var data = cell.output_area.outputs[j];\n",
       "                if (data.data) {\n",
       "                    // IPython >= 3 moved mimebundle to data attribute of output\n",
       "                    data = data.data;\n",
       "                }\n",
       "                if (data['text/html'] == html_output) {\n",
       "                    return [cell, data, j];\n",
       "                }\n",
       "            }\n",
       "        }\n",
       "    }\n",
       "}\n",
       "\n",
       "// Register the function which deals with the matplotlib target/channel.\n",
       "// The kernel may be null if the page has been refreshed.\n",
       "if (IPython.notebook.kernel != null) {\n",
       "    IPython.notebook.kernel.comm_manager.register_target('matplotlib', mpl.mpl_figure_comm);\n",
       "}\n"
      ],
      "text/plain": [
       "<IPython.core.display.Javascript object>"
      ]
     },
     "metadata": {},
     "output_type": "display_data"
    },
    {
     "data": {
      "text/html": [
       "<img src=\"data:image/png;base64,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\">"
      ],
      "text/plain": [
       "<IPython.core.display.HTML object>"
      ]
     },
     "metadata": {},
     "output_type": "display_data"
    },
    {
     "name": "stdout",
     "output_type": "stream",
     "text": [
      "0.0248411090053\n",
      "\n",
      "0.0205475322128\n",
      "\n",
      "0.5\n",
      "0.0205475322128\n",
      "\n",
      "0.0182673543703\n",
      "\n",
      "0.25\n",
      "0.0182673543703\n",
      "\n",
      "0.0171270945595\n",
      "\n",
      "0.125\n",
      "0.0171270945595\n",
      "\n",
      "0.0165623894024\n",
      "\n",
      "0.0625\n",
      "0.0165623894024\n",
      "\n",
      "0.0162821164774\n",
      "\n",
      "0.03125\n",
      "0.0162821164774\n",
      "\n",
      "0.016142590715\n",
      "\n",
      "0.015625\n"
     ]
    }
   ],
   "source": [
    "import matplotlib.pyplot as plt\n",
    "\n",
    "%matplotlib notebook\n",
    "plt.clf()\n",
    "\n",
    "i=0\n",
    "r=1\n",
    "premier=diameter(1,10)\n",
    "deuxième=diameter(1/2,10)\n",
    "while premier-deuxième >0.01*premier :\n",
    "    premier=diameter(r,10)\n",
    "    r=r/2\n",
    "    \n",
    "    deuxième=diameter(r,10)\n",
    "    print(premier)\n",
    "    print()\n",
    "    print(deuxième)\n",
    "    print()\n",
    "    print(r)\n",
    "    i=i+1\n",
    "    plt.plot(i, premier-deuxième , '+b')\n",
    "    "
   ]
  },
  {
   "cell_type": "code",
   "execution_count": null,
   "metadata": {
    "collapsed": true
   },
   "outputs": [],
   "source": []
  },
  {
   "cell_type": "code",
   "execution_count": 80,
   "metadata": {
    "collapsed": true
   },
   "outputs": [],
   "source": [
    "def diameter(r, nb_points, items):\n",
    "    return ((2/(nb_points*(nb_points-1))*((pdist(svd.VT[:, items].T)**r).sum()))**(1/r)) "
   ]
  },
  {
   "cell_type": "code",
   "execution_count": 81,
   "metadata": {
    "collapsed": true
   },
   "outputs": [],
   "source": [
    "def diameter_0(nb_points, items):\n",
    "    r=1\n",
    "    premier=diameter(r,10, items)\n",
    "    deuxième=diameter(r/2,10, items)\n",
    "    while premier-deuxième >0.01*deuxième :\n",
    "        premier=diameter(r,10, items)\n",
    "        r=r/2\n",
    "        deuxième=diameter(r,10, items)\n",
    "    return deuxième\n",
    "\n"
   ]
  },
  {
   "cell_type": "code",
   "execution_count": 82,
   "metadata": {
    "collapsed": false
   },
   "outputs": [
    {
     "data": {
      "text/plain": [
       "0.016142590714989656"
      ]
     },
     "execution_count": 82,
     "metadata": {},
     "output_type": "execute_result"
    }
   ],
   "source": [
    "diameter_0(10, sampled_items)"
   ]
  },
  {
   "cell_type": "code",
   "execution_count": 83,
   "metadata": {
    "collapsed": false
   },
   "outputs": [
    {
     "data": {
      "text/plain": [
       "0.024806839632745468"
      ]
     },
     "execution_count": 83,
     "metadata": {},
     "output_type": "execute_result"
    }
   ],
   "source": [
    "diameter_0(10, uniform_items)"
   ]
  },
  {
   "cell_type": "code",
   "execution_count": null,
   "metadata": {
    "collapsed": true
   },
   "outputs": [],
   "source": []
  },
  {
   "cell_type": "code",
   "execution_count": null,
   "metadata": {
    "collapsed": true
   },
   "outputs": [],
   "source": []
  },
  {
   "cell_type": "code",
   "execution_count": null,
   "metadata": {
    "collapsed": true
   },
   "outputs": [],
   "source": []
  },
  {
   "cell_type": "code",
   "execution_count": null,
   "metadata": {
    "collapsed": true
   },
   "outputs": [],
   "source": []
  },
  {
   "cell_type": "code",
   "execution_count": 1,
   "metadata": {
    "collapsed": true
   },
   "outputs": [],
   "source": [
    "from sklearn.utils.extmath import randomized_svd\n",
    "from scipy.spatial.distance import pdist, squareform\n",
    "from scipy.sparse import lil_matrix\n",
    "from numpy.random import choice\n",
    "from mangaki.utils.values import rating_values\n",
    "from mangaki.models import Rating\n",
    "import pandas\n",
    "import random\n",
    "import numpy as np\n"
   ]
  },
  {
   "cell_type": "code",
   "execution_count": 2,
   "metadata": {
    "collapsed": false
   },
   "outputs": [
    {
     "data": {
      "text/plain": [
       "array([[ 0.,  2.,  0., ...,  0.,  0.,  0.],\n",
       "       [ 0.,  2.,  2., ...,  0.,  0.,  0.],\n",
       "       [ 0.,  2.,  0., ...,  0.,  0.,  0.],\n",
       "       ..., \n",
       "       [ 0.,  2.,  2., ...,  0.,  0.,  0.],\n",
       "       [ 0.,  0.,  0., ...,  0.,  0.,  0.],\n",
       "       [ 0.,  2.,  0., ...,  0.,  0.,  0.]])"
      ]
     },
     "execution_count": 2,
     "metadata": {},
     "output_type": "execute_result"
    }
   ],
   "source": [
    "\n",
    "\n",
    "user_set, item_set = set(), set()\n",
    "fname=None\n",
    "if fname is None:\n",
    "    content = Rating.objects.values_list('user_id',\n",
    "                                                 'work_id',\n",
    "                                                 'choice')\n",
    "    for user_id, item_id in Rating.objects.values_list('user_id',\n",
    "                                                               'work_id'):\n",
    "        user_set.add(user_id)\n",
    "        item_set.add(item_id)\n",
    "else:\n",
    "    content = pandas.read_csv(fname,\n",
    "                                      header=None).as_matrix()\n",
    "    for user_id, item_id in content[:, 0:2]:\n",
    "        user_set.add(user_id)\n",
    "        item_set.add(item_id)\n",
    "user_dict = {v: k for k, v in enumerate(user_set)}\n",
    "item_dict = {v: k for k, v in enumerate(item_set)}\n",
    "matrix = lil_matrix((len(user_set), len(item_set)), dtype=np.float64)\n",
    "for user_id, item_id, rating in content:\n",
    "    matrix[user_dict[user_id],item_dict[item_id]] = rating_values[rating]\n",
    "\n",
    "matrix.toarray()"
   ]
  },
  {
   "cell_type": "code",
   "execution_count": 3,
   "metadata": {
    "collapsed": false
   },
   "outputs": [
    {
     "data": {
      "text/plain": [
       "array([[ 0.,  2.,  0., ...,  0.,  0.,  0.],\n",
       "       [ 0.,  2.,  2., ...,  0.,  0.,  0.],\n",
       "       [ 0.,  2.,  0., ...,  0.,  0.,  0.],\n",
       "       ..., \n",
       "       [ 0.,  2.,  2., ...,  0.,  0.,  0.],\n",
       "       [ 0.,  0.,  0., ...,  0.,  0.,  0.],\n",
       "       [ 0.,  2.,  0., ...,  0.,  0.,  0.]])"
      ]
     },
     "execution_count": 3,
     "metadata": {},
     "output_type": "execute_result"
    }
   ],
   "source": [
    "from scipy.sparse import csc_matrix\n",
    "\n",
    "user_list, item_list, data=[],[], []\n",
    "\n",
    "\n",
    "if fname is None:\n",
    "    content = Rating.objects.values_list('user_id',\n",
    "                                                 'work_id',\n",
    "                                                 'choice')\n",
    "    for user_id, item_id in Rating.objects.values_list('user_id',\n",
    "                                                               'work_id'):\n",
    "        user_list.append(user_id)\n",
    "        item_list.append(item_id)\n",
    "else:\n",
    "    content = pandas.read_csv(fname,\n",
    "                                      header=None).as_matrix()\n",
    "    for user_id, item_id, choice in content:\n",
    "        user_list.append(user_id)\n",
    "        item_list.append(item_id)\n",
    "        #data.append(rating_values[choice])\n",
    "user_set=set(user_list)\n",
    "item_set=set(item_list)\n",
    "user_dict = {v: k for k, v in enumerate(user_set)}\n",
    "item_dict = {v: k for k, v in enumerate(item_set)}\n",
    "row=[user_dict[v] for v in user_list]\n",
    "col=[item_dict[v] for v in item_list]\n",
    "data=[rating_values[rating] for rating in Rating.objects.values_list('choice', flat=True)]\n",
    "matrix = csc_matrix((data, (row, col)), shape=(len(user_set),len(item_set)))\n",
    "matrix.toarray()\n",
    "#matrix.toarray()\n",
    "\n",
    "                    \n",
    "\n",
    "\n"
   ]
  },
  {
   "cell_type": "code",
   "execution_count": 4,
   "metadata": {
    "collapsed": false
   },
   "outputs": [
    {
     "data": {
      "text/plain": [
       "array([[ 0.,  2.,  0., ...,  0.,  0.,  0.],\n",
       "       [ 0.,  2.,  2., ...,  0.,  0.,  0.],\n",
       "       [ 0.,  2.,  0., ...,  0.,  0.,  0.],\n",
       "       ..., \n",
       "       [ 0.,  2.,  2., ...,  0.,  0.,  0.],\n",
       "       [ 0.,  0.,  0., ...,  0.,  0.,  0.],\n",
       "       [ 0.,  2.,  0., ...,  0.,  0.,  0.]])"
      ]
     },
     "execution_count": 4,
     "metadata": {},
     "output_type": "execute_result"
    }
   ],
   "source": [
    "from scipy.sparse import csc_matrix\n",
    "\n",
    "user_list, item_list, data=[],[], []\n",
    "\n",
    "\n",
    "if fname is None:\n",
    "    content = Rating.objects.values_list('user_id',\n",
    "                                                 'work_id',\n",
    "                                                 'choice')\n",
    "    for user_id, item_id, choice in content:\n",
    "        user_list.append(user_id)\n",
    "        item_list.append(item_id)\n",
    "        data.append(rating_values[choice])\n",
    "else:\n",
    "    content = pandas.read_csv(fname,\n",
    "                                      header=None).as_matrix()\n",
    "    for user_id, item_id, choice in content:\n",
    "        user_list.append(user_id)\n",
    "        item_list.append(item_id)\n",
    "        data.append(rating_values[choice])\n",
    "        \n",
    "user_set=set(user_list)\n",
    "item_set=set(item_list)\n",
    "user_dict = {v: k for k, v in enumerate(user_set)}\n",
    "item_dict = {v: k for k, v in enumerate(item_set)}\n",
    "row=[user_dict[v] for v in user_list]\n",
    "col=[item_dict[v] for v in item_list]\n",
    "#data=[rating_values[rating] for rating in Rating.objects.values_list('choice', flat=True)]\n",
    "matrix = csc_matrix((data, (row, col)), shape=(len(user_set),len(item_set)))\n",
    "matrix.toarray()\n",
    "#matrix.toarray()"
   ]
  },
  {
   "cell_type": "code",
   "execution_count": 7,
   "metadata": {
    "collapsed": false
   },
   "outputs": [
    {
     "data": {
      "text/plain": [
       "[(2087, 1, 'like'), (1994, 2, 'willsee'), (1994, 3, 'neutral'), (1994, 5, 'favorite'), (1994, 16, 'favorite'), (1994, 22, 'neutral'), (1994, 30, 'like'), (1994, 37, 'dislike'), (1994, 40, 'like'), (1994, 49, 'like'), (1994, 55, 'favorite'), (1994, 65, 'neutral'), (1994, 87, 'neutral'), (1994, 91, 'like'), (1994, 122, 'like'), (1994, 141, 'favorite'), (1994, 13, 'willsee'), (1994, 60, 'like'), (1994, 26, 'willsee'), (1994, 8, 'wontsee'), '...(remaining elements truncated)...']"
      ]
     },
     "execution_count": 7,
     "metadata": {},
     "output_type": "execute_result"
    }
   ],
   "source": [
    "Rating.objects.values_list('user_id', 'work_id', 'choice')"
   ]
  },
  {
   "cell_type": "code",
   "execution_count": 9,
   "metadata": {
    "collapsed": false
   },
   "outputs": [
    {
     "data": {
      "text/plain": [
       "[(1, 1900, 'like'), (1, 1901, 'like'), (1, 1903, 'like'), (1, 1905, 'like'), (1, 1906, 'like'), (1, 1907, 'like'), (1, 1908, 'favorite'), (1, 1910, 'like'), (1, 1911, 'wontsee'), (1, 1912, 'like'), (1, 1913, 'neutral'), (1, 1915, 'favorite'), (1, 1916, 'like'), (1, 1917, 'like'), (1, 1918, 'like'), (1, 1922, 'wontsee'), (1, 1923, 'like'), (1, 1924, 'like'), (1, 1925, 'like'), (1, 1928, 'neutral'), '...(remaining elements truncated)...']"
      ]
     },
     "execution_count": 9,
     "metadata": {},
     "output_type": "execute_result"
    }
   ],
   "source": [
    "Rating.objects.values_list('work_id', 'user_id', 'choice').order_by('work_id', 'user_id')\n"
   ]
  },
  {
   "cell_type": "code",
   "execution_count": 26,
   "metadata": {
    "collapsed": false
   },
   "outputs": [
    {
     "ename": "SyntaxError",
     "evalue": "unexpected EOF while parsing (<ipython-input-26-981b25257f06>, line 3)",
     "output_type": "error",
     "traceback": [
      "\u001b[1;36m  File \u001b[1;32m\"<ipython-input-26-981b25257f06>\"\u001b[1;36m, line \u001b[1;32m3\u001b[0m\n\u001b[1;33m    #data=rating_values[rating]\u001b[0m\n\u001b[1;37m                                ^\u001b[0m\n\u001b[1;31mSyntaxError\u001b[0m\u001b[1;31m:\u001b[0m unexpected EOF while parsing\n"
     ]
    }
   ],
   "source": [
    "for rating in Rating.objects.values('choice'):\n",
    "    #print(rating)\n",
    "    #data=rating_values[rating] \n"
   ]
  },
  {
   "cell_type": "code",
   "execution_count": 21,
   "metadata": {
    "collapsed": false
   },
   "outputs": [
    {
     "data": {
      "text/plain": [
       "2"
      ]
     },
     "execution_count": 21,
     "metadata": {},
     "output_type": "execute_result"
    }
   ],
   "source": [
    "rating_values['like']"
   ]
  },
  {
   "cell_type": "code",
   "execution_count": 33,
   "metadata": {
    "collapsed": false
   },
   "outputs": [
    {
     "data": {
      "text/plain": [
       "['like', 'willsee', 'neutral', 'favorite', 'favorite', 'neutral', 'like', 'dislike', 'like', 'like', 'favorite', 'neutral', 'neutral', 'like', 'like', 'favorite', 'willsee', 'like', 'willsee', 'wontsee', '...(remaining elements truncated)...']"
      ]
     },
     "execution_count": 33,
     "metadata": {},
     "output_type": "execute_result"
    }
   ],
   "source": [
    "Rating.objects.values_list('choice', flat=True)\n"
   ]
  },
  {
   "cell_type": "code",
   "execution_count": 11,
   "metadata": {
    "collapsed": false
   },
   "outputs": [],
   "source": [
    "row=[user_dict[v] for v in user_set]\n",
    "col=[item_dict[v] for v in item_set]\n",
    "#row\n"
   ]
  },
  {
   "cell_type": "code",
   "execution_count": null,
   "metadata": {
    "collapsed": true
   },
   "outputs": [],
   "source": []
  },
  {
   "cell_type": "code",
   "execution_count": null,
   "metadata": {
    "collapsed": true
   },
   "outputs": [],
   "source": []
  },
  {
   "cell_type": "code",
   "execution_count": 56,
   "metadata": {
    "collapsed": false
   },
   "outputs": [],
   "source": [
    "U, sigma, VT=randomized_svd(matrix,n_components=20)"
   ]
  },
  {
   "cell_type": "code",
   "execution_count": 58,
   "metadata": {
    "collapsed": false
   },
   "outputs": [
    {
     "data": {
      "text/plain": [
       "(20, 4271)"
      ]
     },
     "execution_count": 58,
     "metadata": {},
     "output_type": "execute_result"
    }
   ],
   "source": [
    "VT\n",
    "np.shape(VT)"
   ]
  },
  {
   "cell_type": "code",
   "execution_count": null,
   "metadata": {
    "collapsed": true
   },
   "outputs": [],
   "source": []
  },
  {
   "cell_type": "code",
   "execution_count": null,
   "metadata": {
    "collapsed": true
   },
   "outputs": [],
   "source": []
  },
  {
   "cell_type": "code",
   "execution_count": null,
   "metadata": {
    "collapsed": true
   },
   "outputs": [],
   "source": []
  },
  {
   "cell_type": "code",
   "execution_count": null,
   "metadata": {
    "collapsed": true
   },
   "outputs": [],
   "source": []
  },
  {
   "cell_type": "code",
   "execution_count": 66,
   "metadata": {
    "collapsed": false
   },
   "outputs": [],
   "source": [
    "def print_line(*args):\n",
    "    for arg in args:\n",
    "        print(arg)\n",
    "    print(len(args))\n",
    "    "
   ]
  },
  {
   "cell_type": "code",
   "execution_count": 12,
   "metadata": {
    "collapsed": false
   },
   "outputs": [
    {
     "ename": "NameError",
     "evalue": "name 'print_line' is not defined",
     "output_type": "error",
     "traceback": [
      "\u001b[1;31m---------------------------------------------------------------------------\u001b[0m",
      "\u001b[1;31mNameError\u001b[0m                                 Traceback (most recent call last)",
      "\u001b[1;32m<ipython-input-12-e8aa7eef3cb0>\u001b[0m in \u001b[0;36m<module>\u001b[1;34m()\u001b[0m\n\u001b[1;32m----> 1\u001b[1;33m \u001b[0mprint_line\u001b[0m\u001b[1;33m(\u001b[0m\u001b[1;34m'a'\u001b[0m\u001b[1;33m,\u001b[0m\u001b[1;34m'b'\u001b[0m\u001b[1;33m,\u001b[0m\u001b[1;36m3\u001b[0m\u001b[1;33m,\u001b[0m\u001b[1;36m45\u001b[0m\u001b[1;33m,\u001b[0m\u001b[1;34m'r'\u001b[0m\u001b[1;33m,\u001b[0m\u001b[1;34m'g'\u001b[0m\u001b[1;33m)\u001b[0m\u001b[1;33m\u001b[0m\u001b[0m\n\u001b[0m\u001b[0;32m      2\u001b[0m \u001b[1;33m\u001b[0m\u001b[0m\n",
      "\u001b[1;31mNameError\u001b[0m: name 'print_line' is not defined"
     ]
    }
   ],
   "source": [
    "print_line('a','b',3,45,'r','g')\n",
    "\n"
   ]
  },
  {
   "cell_type": "code",
   "execution_count": null,
   "metadata": {
    "collapsed": true
   },
   "outputs": [],
   "source": []
  },
  {
   "cell_type": "code",
   "execution_count": 1,
   "metadata": {
    "collapsed": false
   },
   "outputs": [
    {
     "data": {
      "text/plain": [
       "[(2087, 1, 'like'), (1994, 2, 'willsee'), (1994, 3, 'neutral'), (1994, 5, 'favorite'), (1994, 16, 'favorite'), (1994, 22, 'neutral'), (1994, 30, 'like'), (1994, 37, 'dislike'), (1994, 40, 'like'), (1994, 49, 'like'), (1994, 55, 'favorite'), (1994, 65, 'neutral'), (1994, 87, 'neutral'), (1994, 91, 'like'), (1994, 122, 'like'), (1994, 141, 'favorite'), (1994, 13, 'willsee'), (1994, 60, 'like'), (1994, 26, 'willsee'), (1994, 8, 'wontsee'), '...(remaining elements truncated)...']"
      ]
     },
     "execution_count": 1,
     "metadata": {},
     "output_type": "execute_result"
    }
   ],
   "source": [
    "Rating.objects.values_list('user_id','work_id','choice')"
   ]
  },
  {
   "cell_type": "code",
   "execution_count": null,
   "metadata": {
    "collapsed": true
   },
   "outputs": [],
   "source": []
  },
  {
   "cell_type": "code",
   "execution_count": null,
   "metadata": {
    "collapsed": true
   },
   "outputs": [],
   "source": []
  },
  {
   "cell_type": "code",
   "execution_count": null,
   "metadata": {
    "collapsed": true
   },
   "outputs": [],
   "source": []
  },
  {
   "cell_type": "code",
   "execution_count": null,
   "metadata": {
    "collapsed": true
   },
   "outputs": [],
   "source": []
  },
  {
   "cell_type": "code",
   "execution_count": 1,
   "metadata": {
    "collapsed": false
   },
   "outputs": [
    {
     "name": "stdout",
     "output_type": "stream",
     "text": [
      "Computing M: (1710 × 8347)\n",
      "fill and center matrix [793 ms]\n",
      "Shapes (1710, 10) (10,) (10, 8347)\n",
      "factor matrix [27911 ms]\n"
     ]
    }
   ],
   "source": [
    "from mangaki.utils.svd import MangakiSVD\n",
    "import numpy as np\n",
    "import pandas \n",
    "from mangaki.utils.values import rating_values\n",
    "\n",
    "ratings = pandas.read_csv('../data/ratings.csv', header=None).as_matrix()\n",
    "works=pandas.read_csv('../data/works.csv', header=None).as_matrix()\n",
    "\n",
    "\n",
    "svd =MangakiSVD(10)\n",
    "X=ratings[:,0:2]\n",
    "Y=[rating_values[rating] for rating in ratings[:,2]]\n",
    "nb_users=X[:,0].max()+1\n",
    "nb_items=X[:,1].max()+1\n",
    "svd.set_parameters(nb_users,nb_items)\n",
    "svd.fit(X,Y)"
   ]
  },
  {
   "cell_type": "code",
   "execution_count": 2,
   "metadata": {
    "collapsed": true
   },
   "outputs": [],
   "source": [
    "from scipy.spatial.distance import pdist, squareform\n",
    "\n",
    "def compute_similarity_coisine(SVD):\n",
    "    return 1 - squareform(pdist(SVD.T, metric='cosine'))\n",
    "\n",
    "similarity=compute_similarity_coisine(svd.VT)\n"
   ]
  },
  {
   "cell_type": "code",
   "execution_count": 3,
   "metadata": {
    "collapsed": false
   },
   "outputs": [],
   "source": [
    "uniform_items=[2279, 5704, 8193, 1300, 6718, 3135, 1315, 7801, 472, 4580]"
   ]
  },
  {
   "cell_type": "code",
   "execution_count": 11,
   "metadata": {
    "collapsed": false
   },
   "outputs": [
    {
     "data": {
      "text/plain": [
       "-2.3777707907109327e-07"
      ]
     },
     "execution_count": 11,
     "metadata": {},
     "output_type": "execute_result"
    }
   ],
   "source": [
    "import numpy as np \n",
    "from scipy.spatial.distance import squareform, pdist\n",
    "\n",
    "\n",
    "\n",
    "\n",
    "np.linalg.det(squareform(pdist(\n",
    "                       svd.VT[:, uniform_items].T,\n",
    "                       metric='cosine')))"
   ]
  },
  {
   "cell_type": "code",
   "execution_count": 13,
   "metadata": {
    "collapsed": false
   },
   "outputs": [
    {
     "data": {
      "text/plain": [
       "(10, 10)"
      ]
     },
     "execution_count": 13,
     "metadata": {},
     "output_type": "execute_result"
    }
   ],
   "source": [
    "C=squareform(pdist(\n",
    "                       svd.VT[:, uniform_items].T,\n",
    "                       metric='cosine'))\n",
    "np.shape(C)"
   ]
  },
  {
   "cell_type": "code",
   "execution_count": null,
   "metadata": {
    "collapsed": true
   },
   "outputs": [],
   "source": [
    "np.linalg.det(similarity)"
   ]
  },
  {
   "cell_type": "code",
   "execution_count": 35,
   "metadata": {
    "collapsed": false
   },
   "outputs": [
    {
     "data": {
      "text/plain": [
       "array([[ 0.        ,  0.92494473,  1.40949884,  1.07620685,  1.05840657,\n",
       "         0.91111015,  0.8624768 ,  0.92845639,  1.1169124 ,  0.51263919],\n",
       "       [ 0.92494473,  0.        ,  1.40108378,  1.82938755,  1.00158655,\n",
       "         0.54049524,  0.07418706,  0.88237594,  1.48164995,  1.13940186],\n",
       "       [ 1.40949884,  1.40108378,  0.        ,  0.76639947,  0.6318404 ,\n",
       "         0.71740293,  1.2041682 ,  0.46728672,  1.03059462,  1.02295045],\n",
       "       [ 1.07620685,  1.82938755,  0.76639947,  0.        ,  0.85613574,\n",
       "         1.34942295,  1.70138525,  1.15825754,  0.56629839,  1.04514834],\n",
       "       [ 1.05840657,  1.00158655,  0.6318404 ,  0.85613574,  0.        ,\n",
       "         0.31017759,  0.76671238,  0.22706116,  1.09668306,  1.20535903],\n",
       "       [ 0.91111015,  0.54049524,  0.71740293,  1.34942295,  0.31017759,\n",
       "         0.        ,  0.26604316,  0.08458483,  1.5872808 ,  1.03534168],\n",
       "       [ 0.8624768 ,  0.07418706,  1.2041682 ,  1.70138525,  0.76671238,\n",
       "         0.26604316,  0.        ,  0.57801132,  1.6172608 ,  1.12590997],\n",
       "       [ 0.92845639,  0.88237594,  0.46728672,  1.15825754,  0.22706116,\n",
       "         0.08458483,  0.57801132,  0.        ,  1.46074983,  0.93185814],\n",
       "       [ 1.1169124 ,  1.48164995,  1.03059462,  0.56629839,  1.09668306,\n",
       "         1.5872808 ,  1.6172608 ,  1.46074983,  0.        ,  0.89676757],\n",
       "       [ 0.51263919,  1.13940186,  1.02295045,  1.04514834,  1.20535903,\n",
       "         1.03534168,  1.12590997,  0.93185814,  0.89676757,  0.        ]])"
      ]
     },
     "execution_count": 35,
     "metadata": {},
     "output_type": "execute_result"
    }
   ],
   "source": [
    "np.shape(similarity)\n",
    "A=1-similarity\n",
    "np.shape(A)\n",
    "A=A[:,uniform_items]\n",
    "A\n",
    "np.shape(A)\n",
    "D=A[uniform_items, :]\n",
    "D\n",
    "#np.shape(A)\n"
   ]
  },
  {
   "cell_type": "code",
   "execution_count": 33,
   "metadata": {
    "collapsed": false
   },
   "outputs": [
    {
     "data": {
      "text/plain": [
       "array([[ 0.        ,  0.92494473,  1.40949884,  1.07620685,  1.05840657,\n",
       "         0.91111015,  0.8624768 ,  0.92845639,  1.1169124 ,  0.51263919],\n",
       "       [ 0.92494473,  0.        ,  1.40108378,  1.82938755,  1.00158655,\n",
       "         0.54049524,  0.07418706,  0.88237594,  1.48164995,  1.13940186],\n",
       "       [ 1.40949884,  1.40108378,  0.        ,  0.76639947,  0.6318404 ,\n",
       "         0.71740293,  1.2041682 ,  0.46728672,  1.03059462,  1.02295045],\n",
       "       [ 1.07620685,  1.82938755,  0.76639947,  0.        ,  0.85613574,\n",
       "         1.34942295,  1.70138525,  1.15825754,  0.56629839,  1.04514834],\n",
       "       [ 1.05840657,  1.00158655,  0.6318404 ,  0.85613574,  0.        ,\n",
       "         0.31017759,  0.76671238,  0.22706116,  1.09668306,  1.20535903],\n",
       "       [ 0.91111015,  0.54049524,  0.71740293,  1.34942295,  0.31017759,\n",
       "         0.        ,  0.26604316,  0.08458483,  1.5872808 ,  1.03534168],\n",
       "       [ 0.8624768 ,  0.07418706,  1.2041682 ,  1.70138525,  0.76671238,\n",
       "         0.26604316,  0.        ,  0.57801132,  1.6172608 ,  1.12590997],\n",
       "       [ 0.92845639,  0.88237594,  0.46728672,  1.15825754,  0.22706116,\n",
       "         0.08458483,  0.57801132,  0.        ,  1.46074983,  0.93185814],\n",
       "       [ 1.1169124 ,  1.48164995,  1.03059462,  0.56629839,  1.09668306,\n",
       "         1.5872808 ,  1.6172608 ,  1.46074983,  0.        ,  0.89676757],\n",
       "       [ 0.51263919,  1.13940186,  1.02295045,  1.04514834,  1.20535903,\n",
       "         1.03534168,  1.12590997,  0.93185814,  0.89676757,  0.        ]])"
      ]
     },
     "execution_count": 33,
     "metadata": {},
     "output_type": "execute_result"
    }
   ],
   "source": [
    "A=(1-similarity)[:, uniform_items]\n",
    "A=A[uniform_items, :]\n",
    "A"
   ]
  },
  {
   "cell_type": "code",
   "execution_count": 8,
   "metadata": {
    "collapsed": false
   },
   "outputs": [
    {
     "ename": "IndexError",
     "evalue": "too many indices for array",
     "output_type": "error",
     "traceback": [
      "\u001b[1;31m---------------------------------------------------------------------------\u001b[0m",
      "\u001b[1;31mIndexError\u001b[0m                                Traceback (most recent call last)",
      "\u001b[1;32m<ipython-input-8-a1e8e2debb7f>\u001b[0m in \u001b[0;36m<module>\u001b[1;34m()\u001b[0m\n\u001b[0;32m      1\u001b[0m \u001b[0mA\u001b[0m\u001b[1;33m=\u001b[0m\u001b[1;33m(\u001b[0m\u001b[1;36m1\u001b[0m\u001b[1;33m-\u001b[0m\u001b[0msimilarity\u001b[0m\u001b[1;33m)\u001b[0m\u001b[1;33m[\u001b[0m\u001b[0muniform_items\u001b[0m\u001b[1;33m,\u001b[0m\u001b[0muniform_items\u001b[0m\u001b[1;33m]\u001b[0m\u001b[1;33m\u001b[0m\u001b[0m\n\u001b[0;32m      2\u001b[0m \u001b[0mnp\u001b[0m\u001b[1;33m.\u001b[0m\u001b[0mshape\u001b[0m\u001b[1;33m(\u001b[0m\u001b[0mA\u001b[0m\u001b[1;33m)\u001b[0m\u001b[1;33m\u001b[0m\u001b[0m\n\u001b[1;32m----> 3\u001b[1;33m \u001b[0mnp\u001b[0m\u001b[1;33m.\u001b[0m\u001b[0mlinalg\u001b[0m\u001b[1;33m.\u001b[0m\u001b[0mdet\u001b[0m\u001b[1;33m(\u001b[0m\u001b[0mA\u001b[0m\u001b[1;33m[\u001b[0m\u001b[0muniform_items\u001b[0m\u001b[1;33m,\u001b[0m \u001b[0muniform_items\u001b[0m\u001b[1;33m]\u001b[0m\u001b[1;33m)\u001b[0m\u001b[1;33m\u001b[0m\u001b[0m\n\u001b[0m",
      "\u001b[1;31mIndexError\u001b[0m: too many indices for array"
     ]
    }
   ],
   "source": [
    "A=(1-similarity)[uniform_items,uniform_items]\n",
    "np.shape(A)\n",
    "np.linalg.det(A[uniform_items, uniform_items])"
   ]
  },
  {
   "cell_type": "code",
   "execution_count": 23,
   "metadata": {
    "collapsed": false
   },
   "outputs": [
    {
     "data": {
      "text/plain": [
       "(10, 10)"
      ]
     },
     "execution_count": 23,
     "metadata": {},
     "output_type": "execute_result"
    }
   ],
   "source": [
    "B=squareform(pdist(\n",
    "                       svd.VT[:, :10].T,\n",
    "                       metric='cosine'))\n",
    "np.shape(B)\n"
   ]
  },
  {
   "cell_type": "code",
   "execution_count": 26,
   "metadata": {
    "collapsed": false
   },
   "outputs": [
    {
     "data": {
      "text/plain": [
       "array([[ True,  True,  True,  True,  True,  True,  True,  True,  True,\n",
       "         True],\n",
       "       [ True,  True,  True,  True,  True,  True,  True,  True,  True,\n",
       "         True],\n",
       "       [ True,  True,  True,  True,  True,  True,  True,  True,  True,\n",
       "         True],\n",
       "       [ True,  True,  True,  True,  True,  True,  True,  True,  True,\n",
       "         True],\n",
       "       [ True,  True,  True,  True,  True,  True,  True,  True,  True,\n",
       "         True],\n",
       "       [ True,  True,  True,  True,  True,  True,  True,  True,  True,\n",
       "         True],\n",
       "       [ True,  True,  True,  True,  True,  True,  True,  True,  True,\n",
       "         True],\n",
       "       [ True,  True,  True,  True,  True,  True,  True,  True,  True,\n",
       "         True],\n",
       "       [ True,  True,  True,  True,  True,  True,  True,  True,  True,\n",
       "         True],\n",
       "       [ True,  True,  True,  True,  True,  True,  True,  True,  True,\n",
       "         True]], dtype=bool)"
      ]
     },
     "execution_count": 26,
     "metadata": {},
     "output_type": "execute_result"
    }
   ],
   "source": [
    "A == B"
   ]
  },
  {
   "cell_type": "code",
   "execution_count": 34,
   "metadata": {
    "collapsed": false
   },
   "outputs": [
    {
     "data": {
      "text/plain": [
       "-2.3777707907109327e-07"
      ]
     },
     "execution_count": 34,
     "metadata": {},
     "output_type": "execute_result"
    }
   ],
   "source": [
    "np.linalg.det(A)"
   ]
  },
  {
   "cell_type": "code",
   "execution_count": 37,
   "metadata": {
    "collapsed": false
   },
   "outputs": [
    {
     "data": {
      "text/plain": [
       "-2.3777707907109327e-07"
      ]
     },
     "execution_count": 37,
     "metadata": {},
     "output_type": "execute_result"
    }
   ],
   "source": [
    "np.linalg.det(D)\n"
   ]
  },
  {
   "cell_type": "code",
   "execution_count": null,
   "metadata": {
    "collapsed": true
   },
   "outputs": [],
   "source": []
  },
  {
   "cell_type": "code",
   "execution_count": null,
   "metadata": {
    "collapsed": true
   },
   "outputs": [],
   "source": []
  },
  {
   "cell_type": "code",
   "execution_count": null,
   "metadata": {
    "collapsed": true
   },
   "outputs": [],
   "source": []
  }
 ],
 "metadata": {
  "kernelspec": {
   "display_name": "Django Shell-Plus",
   "language": "python",
   "name": "django_extensions"
  },
  "language_info": {
   "codemirror_mode": {
    "name": "ipython",
    "version": 3
   },
   "file_extension": ".py",
   "mimetype": "text/x-python",
   "name": "python",
   "nbconvert_exporter": "python",
   "pygments_lexer": "ipython3",
   "version": "3.4.3"
  }
 },
 "nbformat": 4,
 "nbformat_minor": 0
}

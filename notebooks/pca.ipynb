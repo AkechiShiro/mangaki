{
 "cells": [
  {
   "cell_type": "code",
   "execution_count": 1,
   "metadata": {
    "collapsed": false
   },
   "outputs": [],
   "source": [
    "%matplotlib notebook\n",
    "import pandas\n",
    "import numpy as np\n",
    "from matplotlib import pyplot as plt"
   ]
  },
  {
   "cell_type": "code",
   "execution_count": 2,
   "metadata": {
    "collapsed": false
   },
   "outputs": [],
   "source": [
    "ratings = pandas.read_csv('ratings.csv', header=None).as_matrix()\n",
    "works = pandas.read_csv('works.csv', header=None)"
   ]
  },
  {
   "cell_type": "code",
   "execution_count": 3,
   "metadata": {
    "collapsed": false
   },
   "outputs": [],
   "source": [
    "def mk_matrix(nb_users, nb_works, ratings):\n",
    "    matrix = np.zeros((nb_users, nb_works), dtype=np.float64)\n",
    "    for user, work, rating in ratings:\n",
    "        matrix[user][work] = names[rating]\n",
    "    means = np.zeros((nb_users,))\n",
    "    for i in range(nb_users):\n",
    "        means[i] = np.sum(matrix[i]) / np.sum(matrix[i] != 0)\n",
    "        if np.isnan(means[i]):\n",
    "            means[i] = 0\n",
    "        matrix[i][matrix[i] != 0] -= means[i]\n",
    "    return matrix, means"
   ]
  },
  {
   "cell_type": "code",
   "execution_count": 4,
   "metadata": {
    "collapsed": false
   },
   "outputs": [],
   "source": [
    "nu = nb_users = len(set(ratings[:,0]))"
   ]
  },
  {
   "cell_type": "code",
   "execution_count": 5,
   "metadata": {
    "collapsed": false
   },
   "outputs": [],
   "source": [
    "nw = nb_works = len(set(ratings[:,1]))"
   ]
  },
  {
   "cell_type": "code",
   "execution_count": 6,
   "metadata": {
    "collapsed": false
   },
   "outputs": [],
   "source": [
    "matrix = np.zeros((nb_users, nb_works), dtype=np.float64)"
   ]
  },
  {
   "cell_type": "code",
   "execution_count": 7,
   "metadata": {
    "collapsed": true
   },
   "outputs": [],
   "source": [
    "names = { 'dislike': -2, 'wontsee': -0.5, 'neutral': 0.1, 'willsee': 0.5, 'like': 2, 'favorite': 4 }"
   ]
  },
  {
   "cell_type": "code",
   "execution_count": 8,
   "metadata": {
    "collapsed": false
   },
   "outputs": [],
   "source": [
    "for user, work, rating in ratings:\n",
    "    matrix[user][work] = names[rating]"
   ]
  },
  {
   "cell_type": "code",
   "execution_count": 9,
   "metadata": {
    "collapsed": false
   },
   "outputs": [],
   "source": [
    "for i in range(nb_users):\n",
    "    matrix[i][matrix[i] != 0] -= np.sum(matrix[i]) / np.sum(matrix[i] != 0)"
   ]
  },
  {
   "cell_type": "code",
   "execution_count": 10,
   "metadata": {
    "collapsed": false
   },
   "outputs": [],
   "source": [
    "from sklearn.decomposition import PCA, KernelPCA, TruncatedSVD"
   ]
  },
  {
   "cell_type": "code",
   "execution_count": 11,
   "metadata": {
    "collapsed": false
   },
   "outputs": [
    {
     "data": {
      "text/plain": [
       "PCA(copy=True, n_components=10, whiten=False)"
      ]
     },
     "execution_count": 11,
     "metadata": {},
     "output_type": "execute_result"
    }
   ],
   "source": [
    "pca = PCA(n_components=10)\n",
    "\n",
    "pca.fit(matrix)"
   ]
  },
  {
   "cell_type": "code",
   "execution_count": 19,
   "metadata": {
    "collapsed": false
   },
   "outputs": [],
   "source": [
    "from sklearn.metrics import mean_squared_error\n",
    "from sklearn.cross_validation import train_test_split\n"
   ]
  },
  {
   "cell_type": "code",
   "execution_count": null,
   "metadata": {
    "collapsed": false
   },
   "outputs": [],
   "source": [
    "train, test = train_test_split(ratings, random_state=0, test_size=10000)\n",
    "matrix, means = mk_matrix(nb_users, nb_works, train)\n",
    "pca.fit(matrix)\n",
    "train.shape, test.shape"
   ]
  },
  {
   "cell_type": "code",
   "execution_count": null,
   "metadata": {
    "collapsed": false
   },
   "outputs": [],
   "source": [
    "enorme = pca.transform(matrix).dot(np.diag(np.sqrt(pca.explained_variance_/nb_users))).dot(pca.components_)"
   ]
  },
  {
   "cell_type": "code",
   "execution_count": null,
   "metadata": {
    "collapsed": false
   },
   "outputs": [],
   "source": [
    "predicted = enorme[test[:,0].astype(np.int64), test[:,1].astype(np.int64)] + means[test[:,0].astype(np.int64)]"
   ]
  },
  {
   "cell_type": "code",
   "execution_count": null,
   "metadata": {
    "collapsed": false
   },
   "outputs": [],
   "source": [
    "truth = [names[k] for k in test[:,2]]"
   ]
  },
  {
   "cell_type": "code",
   "execution_count": 40,
   "metadata": {
    "collapsed": false
   },
   "outputs": [
    {
     "data": {
      "text/plain": [
       "1.2302634402177204"
      ]
     },
     "execution_count": 40,
     "metadata": {},
     "output_type": "execute_result"
    }
   ],
   "source": [
    "np.sqrt(mean_squared_error(predicted, truth))"
   ]
  },
  {
   "cell_type": "code",
   "execution_count": 55,
   "metadata": {
    "collapsed": false
   },
   "outputs": [
    {
     "data": {
      "text/plain": [
       "(array([ 0.8636856 ,  1.87608072,  1.30360878,  1.40580151,  0.94293627,\n",
       "         0.34451114,  1.43839099,  1.02796913,  0.35262042,  0.5622531 ]),\n",
       " [2, 2, 0.5, 2, 2, 2, 2, -2, -0.5, 0.1])"
      ]
     },
     "execution_count": 55,
     "metadata": {},
     "output_type": "execute_result"
    }
   ],
   "source": [
    "predicted[:10], truth[:10]"
   ]
  },
  {
   "cell_type": "code",
   "execution_count": 20,
   "metadata": {
    "collapsed": false
   },
   "outputs": [
    {
     "ename": "SyntaxError",
     "evalue": "invalid syntax (<ipython-input-20-91d225a95474>, line 5)",
     "output_type": "error",
     "traceback": [
      "\u001b[0;36m  File \u001b[0;32m\"<ipython-input-20-91d225a95474>\"\u001b[0;36m, line \u001b[0;32m5\u001b[0m\n\u001b[0;31m    plt.annotate('', xy=(0, 5), xytext=(0, -5),arrowprops={'arrowstyle': '<->',color='yellow'},c='yellow')\u001b[0m\n\u001b[0m                                                                                    ^\u001b[0m\n\u001b[0;31mSyntaxError\u001b[0m\u001b[0;31m:\u001b[0m invalid syntax\n"
     ]
    }
   ],
   "source": [
    "jj = 1407; etienne = 591; elarnon = 365; people = [jj]\n",
    "\n",
    "plt.plot(matrix.dot(pca.components_[0]), matrix.dot(pca.components_[1]), '+');\n",
    "plt.plot(matrix[people].dot(pca.components_[0]), matrix[people].dot(pca.components_[1]), 'ro');\n",
    "plt.annotate('', xy=(0, 5), xytext=(0, -5),arrowprops={'arrowstyle': '<->',color='yellow'},c='yellow')\n",
    "plt.annotate('', xy=(5, 0), xytext=(-5, 0),arrowprops={'arrowstyle': '<->'},c='yellow')\n",
    "plt.text(-0.03, 0.1, 'Popular', size='x-large')\n",
    "plt.text(-0.02, -0.1, 'Weird', size='x-large')\n",
    "plt.text(-0.15, -0.005, 'Teens', size='x-large')\n",
    "plt.text(0.11, -0.005, 'Ghibli/SF', size='x-large')"
   ]
  },
  {
   "cell_type": "code",
   "execution_count": 57,
   "metadata": {
    "collapsed": false,
    "scrolled": true
   },
   "outputs": [
    {
     "data": {
      "text/plain": [
       "3572                                 L'Attaque des Titans\n",
       "3864                     Fullmetal Alchemist: Brotherhood\n",
       "1352                                           Death Note\n",
       "7895                                  Fullmetal Alchemist\n",
       "1076                                     Sword Art Online\n",
       "4178                                 Le Voyage de Chihiro\n",
       "7232                                   Princesse Mononoké\n",
       "5                                          Ao no Exorcist\n",
       "8224                                      No Game No Life\n",
       "5683                                          Tokyo Ghoul\n",
       "6971                                    Mon voisin Totoro\n",
       "1999                                  FullMetal Alchemist\n",
       "1276                                          Psycho-Pass\n",
       "7798                              Attaque Des Titans (l')\n",
       "7427                      Code Geass: Hangyaku no Lelouch\n",
       "6420                                               Naruto\n",
       "7793                                            Fate/Zero\n",
       "2988                       Les Enfants Loups : Ame & Yuki\n",
       "3725                                      Hunter x Hunter\n",
       "3877      Fullmetal Alchemist: Brotherhood OVA Collection\n",
       "5132                                          Mirai Nikki\n",
       "4221                                           Death note\n",
       "7578                                          Steins;Gate\n",
       "617                                            Soul Eater\n",
       "4644                                            One Piece\n",
       "7724                                  Le Château ambulant\n",
       "336                               Le Château dans le ciel\n",
       "2010                                               Bleach\n",
       "5393                                           Durarara!!\n",
       "4076                                          Tokyo ghoul\n",
       "                              ...                        \n",
       "5262                                   Infinite Stratos 2\n",
       "6558                                 IS: Infinite Stratos\n",
       "4781                           Ikkitousen: Dragon Destiny\n",
       "5240                              The Severing Crime Edge\n",
       "889     IS: Infinite Stratos Encore - Koi ni Kogareru ...\n",
       "5704                         A Bridge to the Starry Skies\n",
       "5732                                        Sailor Moon R\n",
       "5071                                          Ikki Tousen\n",
       "441                                    Vividred Operation\n",
       "4165               School Days: Magical Heart Kokoro-chan\n",
       "5927                             Papa to Kiss in the Dark\n",
       "7539                                        D.C.~Da Capo~\n",
       "2314                                           Rail Wars!\n",
       "4543                                     Strawberry Panic\n",
       "938                                              Freezing\n",
       "3398                                           To LOVE-Ru\n",
       "2221                                          School Days\n",
       "2280                                        Tokyo Mew Mew\n",
       "2089                             Haruka Nogizaka's Secret\n",
       "8311                                                 R-15\n",
       "1267                                    Wizard Barristers\n",
       "1349                Choujigen Game Neptune: The Animation\n",
       "992                                          Yu-Gi-Oh! GX\n",
       "4750                                       Dragon Ball GT\n",
       "5396                                        Captain Earth\n",
       "5743                                      Astarotte's Toy\n",
       "6786                                         Sakura Trick\n",
       "5083                            Girls Bravo: First Season\n",
       "8304                                           Kiss x Sis\n",
       "7557                                             Dog Days\n",
       "Name: 1, dtype: object"
      ]
     },
     "execution_count": 57,
     "metadata": {},
     "output_type": "execute_result"
    }
   ],
   "source": [
    "works[1][(np.argsort(pca.components_[1]))][::-1]"
   ]
  },
  {
   "cell_type": "code",
   "execution_count": 24,
   "metadata": {
    "collapsed": false
   },
   "outputs": [],
   "source": [
    "wut = np.argsort(pca.components_.T.dot(pca.transform([matrix[0]]).T).flatten())"
   ]
  },
  {
   "cell_type": "code",
   "execution_count": null,
   "metadata": {
    "collapsed": true
   },
   "outputs": [],
   "source": []
  },
  {
   "cell_type": "code",
   "execution_count": null,
   "metadata": {
    "collapsed": true
   },
   "outputs": [],
   "source": []
  },
  {
   "cell_type": "code",
   "execution_count": 13,
   "metadata": {
    "collapsed": false
   },
   "outputs": [],
   "source": [
    "from sklearn.cluster import KMeans\n",
    "transformed = pca.transform(matrix)"
   ]
  },
  {
   "cell_type": "code",
   "execution_count": 37,
   "metadata": {
    "collapsed": false
   },
   "outputs": [
    {
     "data": {
      "text/plain": [
       "KMeans(copy_x=True, init='k-means++', max_iter=300, n_clusters=7, n_init=10,\n",
       "    n_jobs=1, precompute_distances='auto', random_state=None, tol=0.0001,\n",
       "    verbose=0)"
      ]
     },
     "execution_count": 37,
     "metadata": {},
     "output_type": "execute_result"
    }
   ],
   "source": [
    "k = KMeans(n_clusters=7)\n",
    "k.fit(matrix.T)"
   ]
  },
  {
   "cell_type": "code",
   "execution_count": 38,
   "metadata": {
    "collapsed": false
   },
   "outputs": [],
   "source": [
    "data = {}\n",
    "for id, cls in enumerate(k.predict(matrix.T)):\n",
    "    if cls not in data:\n",
    "        data[cls] = set()\n",
    "    data[cls].add(works[1][id])"
   ]
  },
  {
   "cell_type": "code",
   "execution_count": 43,
   "metadata": {
    "collapsed": false,
    "scrolled": false
   },
   "outputs": [
    {
     "data": {
      "text/plain": [
       "168"
      ]
     },
     "execution_count": 43,
     "metadata": {},
     "output_type": "execute_result"
    }
   ],
   "source": []
  },
  {
   "cell_type": "code",
   "execution_count": 18,
   "metadata": {
    "collapsed": false
   },
   "outputs": [
    {
     "data": {
      "text/plain": [
       "{0, 1, 2, 3, 4, 5, 6}"
      ]
     },
     "execution_count": 18,
     "metadata": {},
     "output_type": "execute_result"
    }
   ],
   "source": [
    "set(k.predict(matrix))"
   ]
  },
  {
   "cell_type": "code",
   "execution_count": null,
   "metadata": {
    "collapsed": false
   },
   "outputs": [],
   "source": [
    "plt.plot(pca.explained_variance_ratio_)"
   ]
  },
  {
   "cell_type": "code",
   "execution_count": null,
   "metadata": {
    "collapsed": false
   },
   "outputs": [],
   "source": [
    "pcau = PCA(n_components=100)\n",
    "pcau.fit(matrix.T)\n",
    "plt.plot(pcau.explained_variance_ratio_)"
   ]
  },
  {
   "cell_type": "code",
   "execution_count": null,
   "metadata": {
    "collapsed": false
   },
   "outputs": [],
   "source": [
    "train, test = cross_validation.train_test_split(matrix, random_state=0)"
   ]
  },
  {
   "cell_type": "code",
   "execution_count": null,
   "metadata": {
    "collapsed": true
   },
   "outputs": [],
   "source": []
  },
  {
   "cell_type": "raw",
   "metadata": {},
   "source": []
  },
  {
   "cell_type": "code",
   "execution_count": null,
   "metadata": {
    "collapsed": true
   },
   "outputs": [],
   "source": []
  }
 ],
 "metadata": {
  "kernelspec": {
   "display_name": "Django Shell-Plus",
   "language": "python",
   "name": "django_extensions"
  },
  "language_info": {
   "codemirror_mode": {
    "name": "ipython",
    "version": 3
   },
   "file_extension": ".py",
   "mimetype": "text/x-python",
   "name": "python",
   "nbconvert_exporter": "python",
   "pygments_lexer": "ipython3",
   "version": "3.4.3"
  }
 },
 "nbformat": 4,
 "nbformat_minor": 0
}

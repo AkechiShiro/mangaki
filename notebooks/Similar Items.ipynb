{
 "cells": [
  {
   "cell_type": "code",
   "execution_count": 1,
   "metadata": {
    "collapsed": false
   },
   "outputs": [],
   "source": [
    "import numpy as np\n",
    "import pandas\n",
    "\n",
    "ratings = pandas.read_csv('../data/ratings.csv', header=None, names=['User', 'Work', 'Choice'])\n",
    "works = pandas.read_csv('../data/works.csv', header=None, index_col=0, names=['Title'])\n",
    "\n",
    "class BaseEmbedding:\n",
    "    def __init__(self, ratings=None, works=None):\n",
    "        if ratings is None:\n",
    "            ratings = pandas.read_csv('../data/ratings.csv', header=None, names=['User', 'Work', 'Choice'])\n",
    "        if works is None:\n",
    "            works = pandas.read_csv('../data/works.csv', header=None, index_col=0, names=['Title'])\n",
    "            \n",
    "        self.ratings = ratings\n",
    "        self.works = works\n",
    "        self.nb_users = ratings['User'].max() + 1\n",
    "        self.nb_works = ratings['Work'].max() + 1\n",
    "\n",
    "    def most_similar(self, work_id, topn=8):\n",
    "        res = self._get_most_similar(work_id, topn)\n",
    "        similar = self.works.loc[res[1]]\n",
    "        similar['Similarity'] = pandas.Series(res[0], index=similar.index)\n",
    "        return similar"
   ]
  },
  {
   "cell_type": "markdown",
   "metadata": {},
   "source": [
    "# Embedding par SVD de la matrices objets-objets"
   ]
  },
  {
   "cell_type": "code",
   "execution_count": 2,
   "metadata": {
    "collapsed": false
   },
   "outputs": [],
   "source": [
    "from sklearn.decomposition import TruncatedSVD\n",
    "from sklearn.neighbors import NearestNeighbors\n",
    "import scipy.sparse as sp\n",
    "\n",
    "class SVDEmbedding(BaseEmbedding):\n",
    "    def __init__(self, *choices_list, size=100, **kwargs):\n",
    "        super().__init__(**kwargs)\n",
    "        self._compute_svd(*choices_list, size=size)\n",
    "        self._compute_nn()\n",
    "        \n",
    "    def _matrix_for(self, choices):\n",
    "        elems = self.ratings[self.ratings['Choice'].isin(choices)].as_matrix()\n",
    "        return sp.csc_matrix((np.ones(len(elems)), (elems[:,0], elems[:,1])), shape=(self.nb_users, self.nb_works))\n",
    "    \n",
    "    def _cooccurrences_for(self, choices):\n",
    "        matrix = self._matrix_for(choices)\n",
    "        return matrix.T.dot(matrix)\n",
    "    \n",
    "    def _compute_svd(self, *choices_list, size):\n",
    "        cooccurrences = np.sum(self._cooccurrences_for(choices) for choices in choices_list)\n",
    "        self._svd = TruncatedSVD(size).fit(cooccurrences)\n",
    "        \n",
    "    def _compute_nn(self):\n",
    "        assert hasattr(self, '_svd')\n",
    "        self._nn = NearestNeighbors(algorithm='brute', metric='cosine').fit(self._svd.components_.T)\n",
    "        \n",
    "    def _get_most_similar(self, work_id, n_neighbors):\n",
    "        assert hasattr(self, '_svd') and hasattr(self, '_nn')\n",
    "        res = self._nn.kneighbors(self._svd.components_[:,[work_id]].T, n_neighbors=n_neighbors + 1)\n",
    "        return (1 - res[0].ravel(), res[1].ravel())"
   ]
  },
  {
   "cell_type": "code",
   "execution_count": 3,
   "metadata": {
    "collapsed": false
   },
   "outputs": [],
   "source": [
    "svd_embedding = SVDEmbedding({'dislike'}, {'neutral'}, {'like', 'favorite'}, ratings=ratings, works=works)"
   ]
  },
  {
   "cell_type": "code",
   "execution_count": 4,
   "metadata": {
    "collapsed": false
   },
   "outputs": [
    {
     "data": {
      "text/html": [
       "<div>\n",
       "<table border=\"1\" class=\"dataframe\">\n",
       "  <thead>\n",
       "    <tr style=\"text-align: right;\">\n",
       "      <th></th>\n",
       "      <th>Title</th>\n",
       "    </tr>\n",
       "  </thead>\n",
       "  <tbody>\n",
       "    <tr>\n",
       "      <th>1184</th>\n",
       "      <td>Mahou Shoujo Madoka★Magica Movie 3: Hangyaku n...</td>\n",
       "    </tr>\n",
       "    <tr>\n",
       "      <th>1773</th>\n",
       "      <td>Mahou Shoujo Madoka★Magica</td>\n",
       "    </tr>\n",
       "    <tr>\n",
       "      <th>1890</th>\n",
       "      <td>Puella Magi Madoka Magica the Movie Part II: E...</td>\n",
       "    </tr>\n",
       "    <tr>\n",
       "      <th>2969</th>\n",
       "      <td>Puella Magi Madoka Magica the Movie Part III: ...</td>\n",
       "    </tr>\n",
       "    <tr>\n",
       "      <th>4985</th>\n",
       "      <td>Puella Magi Madoka Magica</td>\n",
       "    </tr>\n",
       "    <tr>\n",
       "      <th>7265</th>\n",
       "      <td>Puella Magi Madoka Magica - The different story</td>\n",
       "    </tr>\n",
       "    <tr>\n",
       "      <th>7753</th>\n",
       "      <td>Puella Magi Madoka Magica the Movie Part I: Be...</td>\n",
       "    </tr>\n",
       "  </tbody>\n",
       "</table>\n",
       "</div>"
      ],
      "text/plain": [
       "                                                  Title\n",
       "1184  Mahou Shoujo Madoka★Magica Movie 3: Hangyaku n...\n",
       "1773                         Mahou Shoujo Madoka★Magica\n",
       "1890  Puella Magi Madoka Magica the Movie Part II: E...\n",
       "2969  Puella Magi Madoka Magica the Movie Part III: ...\n",
       "4985                          Puella Magi Madoka Magica\n",
       "7265    Puella Magi Madoka Magica - The different story\n",
       "7753  Puella Magi Madoka Magica the Movie Part I: Be..."
      ]
     },
     "execution_count": 4,
     "metadata": {},
     "output_type": "execute_result"
    }
   ],
   "source": [
    "works[works['Title'].str.contains('Madoka')]"
   ]
  },
  {
   "cell_type": "code",
   "execution_count": 5,
   "metadata": {
    "collapsed": false
   },
   "outputs": [
    {
     "data": {
      "text/html": [
       "<div>\n",
       "<table border=\"1\" class=\"dataframe\">\n",
       "  <thead>\n",
       "    <tr style=\"text-align: right;\">\n",
       "      <th></th>\n",
       "      <th>Title</th>\n",
       "      <th>Similarity</th>\n",
       "    </tr>\n",
       "  </thead>\n",
       "  <tbody>\n",
       "    <tr>\n",
       "      <th>1773</th>\n",
       "      <td>Mahou Shoujo Madoka★Magica</td>\n",
       "      <td>1.000000</td>\n",
       "    </tr>\n",
       "    <tr>\n",
       "      <th>7753</th>\n",
       "      <td>Puella Magi Madoka Magica the Movie Part I: Be...</td>\n",
       "      <td>0.515669</td>\n",
       "    </tr>\n",
       "    <tr>\n",
       "      <th>2969</th>\n",
       "      <td>Puella Magi Madoka Magica the Movie Part III: ...</td>\n",
       "      <td>0.470317</td>\n",
       "    </tr>\n",
       "    <tr>\n",
       "      <th>1890</th>\n",
       "      <td>Puella Magi Madoka Magica the Movie Part II: E...</td>\n",
       "      <td>0.463384</td>\n",
       "    </tr>\n",
       "    <tr>\n",
       "      <th>1916</th>\n",
       "      <td>Hayate the combat butler</td>\n",
       "      <td>0.397772</td>\n",
       "    </tr>\n",
       "    <tr>\n",
       "      <th>4466</th>\n",
       "      <td>Enzai</td>\n",
       "      <td>0.376058</td>\n",
       "    </tr>\n",
       "    <tr>\n",
       "      <th>616</th>\n",
       "      <td>Peaceful Times (F02) Petit Film</td>\n",
       "      <td>0.374256</td>\n",
       "    </tr>\n",
       "    <tr>\n",
       "      <th>711</th>\n",
       "      <td>Mottainai</td>\n",
       "      <td>0.374256</td>\n",
       "    </tr>\n",
       "    <tr>\n",
       "      <th>6651</th>\n",
       "      <td>Shinano Mainichi Shinbun</td>\n",
       "      <td>0.374256</td>\n",
       "    </tr>\n",
       "  </tbody>\n",
       "</table>\n",
       "</div>"
      ],
      "text/plain": [
       "                                                  Title  Similarity\n",
       "1773                         Mahou Shoujo Madoka★Magica    1.000000\n",
       "7753  Puella Magi Madoka Magica the Movie Part I: Be...    0.515669\n",
       "2969  Puella Magi Madoka Magica the Movie Part III: ...    0.470317\n",
       "1890  Puella Magi Madoka Magica the Movie Part II: E...    0.463384\n",
       "1916                           Hayate the combat butler    0.397772\n",
       "4466                                              Enzai    0.376058\n",
       "616                     Peaceful Times (F02) Petit Film    0.374256\n",
       "711                                           Mottainai    0.374256\n",
       "6651                           Shinano Mainichi Shinbun    0.374256"
      ]
     },
     "execution_count": 5,
     "metadata": {},
     "output_type": "execute_result"
    }
   ],
   "source": [
    "svd_embedding.most_similar(1773)"
   ]
  },
  {
   "cell_type": "markdown",
   "metadata": {},
   "source": [
    "# Embedding par `item2vec`"
   ]
  },
  {
   "cell_type": "code",
   "execution_count": 6,
   "metadata": {
    "collapsed": false
   },
   "outputs": [],
   "source": [
    "import gensim\n",
    "import random\n",
    "\n",
    "class Item2VecEmbedding(BaseEmbedding):\n",
    "    def __init__(self, *choices_list, size=100, min_count=2, **kwargs):\n",
    "        super().__init__(**kwargs)\n",
    "        self.docs = []\n",
    "        for choices in choices_list:\n",
    "            elems = self.ratings[self.ratings['Choice'].isin(choices)][['User', 'Work']].as_matrix()\n",
    "            docs = [[] for _ in range(self.nb_users)]\n",
    "            for user_id, work_id in elems:\n",
    "                docs[user_id].append(str(work_id))\n",
    "            self.docs.extend(docs)\n",
    "        max_len = max(len(doc) for doc in self.docs)\n",
    "        self._word2vec = gensim.models.Word2Vec(self.docs, size=size, window=max_len+1, min_count=min_count, iter=10, sg=1)\n",
    "        \n",
    "    def _get_most_similar(self, work_id, n_neighbors):\n",
    "        res = self._word2vec.most_similar(str(work_id), topn=n_neighbors)\n",
    "        return ([1.] + [x for _, x in res], [work_id] + [int(x) for x, _ in res])"
   ]
  },
  {
   "cell_type": "code",
   "execution_count": 7,
   "metadata": {
    "collapsed": false
   },
   "outputs": [],
   "source": [
    "embedding = Item2VecEmbedding({'like', 'favorite'}, ratings=ratings, works=works)"
   ]
  },
  {
   "cell_type": "code",
   "execution_count": 8,
   "metadata": {
    "collapsed": false
   },
   "outputs": [
    {
     "data": {
      "text/html": [
       "<div>\n",
       "<table border=\"1\" class=\"dataframe\">\n",
       "  <thead>\n",
       "    <tr style=\"text-align: right;\">\n",
       "      <th></th>\n",
       "      <th>Title</th>\n",
       "      <th>Similarity</th>\n",
       "    </tr>\n",
       "  </thead>\n",
       "  <tbody>\n",
       "    <tr>\n",
       "      <th>1773</th>\n",
       "      <td>Mahou Shoujo Madoka★Magica</td>\n",
       "      <td>1.000000</td>\n",
       "    </tr>\n",
       "    <tr>\n",
       "      <th>2969</th>\n",
       "      <td>Puella Magi Madoka Magica the Movie Part III: ...</td>\n",
       "      <td>0.845671</td>\n",
       "    </tr>\n",
       "    <tr>\n",
       "      <th>6508</th>\n",
       "      <td>Suzumiya Haruhi no Yuuutsu</td>\n",
       "      <td>0.808180</td>\n",
       "    </tr>\n",
       "    <tr>\n",
       "      <th>4846</th>\n",
       "      <td>Suzumiya Haruhi no Shoushitsu</td>\n",
       "      <td>0.801270</td>\n",
       "    </tr>\n",
       "    <tr>\n",
       "      <th>5596</th>\n",
       "      <td>Bakemonogatari</td>\n",
       "      <td>0.785766</td>\n",
       "    </tr>\n",
       "    <tr>\n",
       "      <th>7753</th>\n",
       "      <td>Puella Magi Madoka Magica the Movie Part I: Be...</td>\n",
       "      <td>0.769850</td>\n",
       "    </tr>\n",
       "    <tr>\n",
       "      <th>2874</th>\n",
       "      <td>5 centimètres par seconde</td>\n",
       "      <td>0.760987</td>\n",
       "    </tr>\n",
       "    <tr>\n",
       "      <th>2819</th>\n",
       "      <td>Tengen Toppa Gurren Lagann</td>\n",
       "      <td>0.733072</td>\n",
       "    </tr>\n",
       "    <tr>\n",
       "      <th>1890</th>\n",
       "      <td>Puella Magi Madoka Magica the Movie Part II: E...</td>\n",
       "      <td>0.730325</td>\n",
       "    </tr>\n",
       "  </tbody>\n",
       "</table>\n",
       "</div>"
      ],
      "text/plain": [
       "                                                  Title  Similarity\n",
       "1773                         Mahou Shoujo Madoka★Magica    1.000000\n",
       "2969  Puella Magi Madoka Magica the Movie Part III: ...    0.845671\n",
       "6508                         Suzumiya Haruhi no Yuuutsu    0.808180\n",
       "4846                      Suzumiya Haruhi no Shoushitsu    0.801270\n",
       "5596                                     Bakemonogatari    0.785766\n",
       "7753  Puella Magi Madoka Magica the Movie Part I: Be...    0.769850\n",
       "2874                          5 centimètres par seconde    0.760987\n",
       "2819                         Tengen Toppa Gurren Lagann    0.733072\n",
       "1890  Puella Magi Madoka Magica the Movie Part II: E...    0.730325"
      ]
     },
     "execution_count": 8,
     "metadata": {},
     "output_type": "execute_result"
    }
   ],
   "source": [
    "embedding.most_similar(1773)"
   ]
  },
  {
   "cell_type": "code",
   "execution_count": null,
   "metadata": {
    "collapsed": true
   },
   "outputs": [],
   "source": []
  }
 ],
 "metadata": {
  "kernelspec": {
   "display_name": "Python 3",
   "language": "python",
   "name": "python3"
  },
  "language_info": {
   "codemirror_mode": {
    "name": "ipython",
    "version": 3
   },
   "file_extension": ".py",
   "mimetype": "text/x-python",
   "name": "python",
   "nbconvert_exporter": "python",
   "pygments_lexer": "ipython3",
   "version": "3.5.1"
  }
 },
 "nbformat": 4,
 "nbformat_minor": 0
}

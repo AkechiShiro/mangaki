{
 "cells": [
  {
   "cell_type": "code",
   "execution_count": 25,
   "metadata": {
    "collapsed": false
   },
   "outputs": [
    {
     "data": {
      "text/plain": [
       "10315"
      ]
     },
     "execution_count": 25,
     "metadata": {},
     "output_type": "execute_result"
    }
   ],
   "source": [
    "Anime.objects.count()"
   ]
  },
  {
   "cell_type": "code",
   "execution_count": 26,
   "metadata": {
    "collapsed": false
   },
   "outputs": [
    {
     "data": {
      "text/plain": [
       "3857"
      ]
     },
     "execution_count": 26,
     "metadata": {},
     "output_type": "execute_result"
    }
   ],
   "source": [
    "Manga.objects.count()"
   ]
  },
  {
   "cell_type": "code",
   "execution_count": 30,
   "metadata": {
    "collapsed": false
   },
   "outputs": [
    {
     "data": {
      "text/plain": [
       "(0, {})"
      ]
     },
     "execution_count": 30,
     "metadata": {},
     "output_type": "execute_result"
    }
   ],
   "source": [
    "NB_MANGA_LIMIT = 20\n",
    "NB_ANIME_LIMIT = 20\n",
    "NB_USERS_LIMIT = 200\n",
    "\n",
    "SearchIssue.objects.all().delete()\n",
    "# Profile.objects.all().delete()  # Keeping some profiles would be better\n",
    "Suggestion.objects.all().delete()\n",
    "Recommendation.objects.all().delete()\n",
    "Pairing.objects.all().delete()\n",
    "SocialApp.objects.all().delete()\n",
    "Session.objects.all().delete()\n",
    "ContentType.objects.all().delete()\n",
    "# Reference.objects.all().delete()"
   ]
  },
  {
   "cell_type": "code",
   "execution_count": 29,
   "metadata": {
    "collapsed": false
   },
   "outputs": [],
   "source": [
    "from collections import Counter\n",
    "nb = Counter(Rating.objects.values_list('work_id', flat=True))\n",
    "# Distinction between Anime and Manga will disappear with PR #153\n",
    "if NB_ANIME_LIMIT:\n",
    "    work_ids = list(Anime.objects.values_list('id', flat=True))\n",
    "    work_ids.sort(key=lambda work_id: -nb[work_id])\n",
    "    Anime.objects.exclude(id__in=work_ids[:NB_ANIME_LIMIT]).delete()\n",
    "if NB_MANGA_LIMIT:\n",
    "    work_ids = list(Manga.objects.values_list('id', flat=True))\n",
    "    work_ids.sort(key=lambda work_id: -nb[work_id])\n",
    "    Manga.objects.exclude(id__in=work_ids[:NB_MANGA_LIMIT]).delete()"
   ]
  },
  {
   "cell_type": "code",
   "execution_count": 33,
   "metadata": {
    "collapsed": false
   },
   "outputs": [],
   "source": [
    "if NB_ANIME_LIMIT or NB_MANGA_LIMIT:\n",
    "    bundle = []\n",
    "    for artist_ids in Work.objects.values_list('artists'):\n",
    "        bundle.extend(artist_ids)\n",
    "    kept_artist_ids = list(set([x for x in bundle if x is not None]))\n",
    "    Artist.objects.exclude(id__in=kept_artist_ids).delete()"
   ]
  },
  {
   "cell_type": "code",
   "execution_count": 34,
   "metadata": {
    "collapsed": false
   },
   "outputs": [
    {
     "data": {
      "text/plain": [
       "48"
      ]
     },
     "execution_count": 34,
     "metadata": {},
     "output_type": "execute_result"
    }
   ],
   "source": [
    "Artist.objects.count()"
   ]
  },
  {
   "cell_type": "code",
   "execution_count": 35,
   "metadata": {
    "collapsed": false
   },
   "outputs": [
    {
     "data": {
      "text/plain": [
       "40"
      ]
     },
     "execution_count": 35,
     "metadata": {},
     "output_type": "execute_result"
    }
   ],
   "source": [
    "Work.objects.count()"
   ]
  },
  {
   "cell_type": "code",
   "execution_count": 36,
   "metadata": {
    "collapsed": false
   },
   "outputs": [
    {
     "data": {
      "text/plain": [
       "3163"
      ]
     },
     "execution_count": 36,
     "metadata": {},
     "output_type": "execute_result"
    }
   ],
   "source": [
    "Rating.objects.count()"
   ]
  },
  {
   "cell_type": "code",
   "execution_count": 37,
   "metadata": {
    "collapsed": true
   },
   "outputs": [],
   "source": [
    "max_user_id = max(User.objects.values_list('id', flat=True))"
   ]
  },
  {
   "cell_type": "code",
   "execution_count": 38,
   "metadata": {
    "collapsed": false
   },
   "outputs": [
    {
     "data": {
      "text/plain": [
       "(0, {})"
      ]
     },
     "execution_count": 38,
     "metadata": {},
     "output_type": "execute_result"
    }
   ],
   "source": [
    "import random\n",
    "chosen = User.objects.order_by('?')[:NB_USERS_LIMIT]\n",
    "kept_ids = chosen.values_list('id', flat=True)\n",
    "User.objects.exclude(id__in=kept_ids).delete()"
   ]
  },
  {
   "cell_type": "code",
   "execution_count": 39,
   "metadata": {
    "collapsed": false
   },
   "outputs": [
    {
     "data": {
      "text/plain": [
       "200"
      ]
     },
     "execution_count": 39,
     "metadata": {},
     "output_type": "execute_result"
    }
   ],
   "source": [
    "User.objects.count()"
   ]
  },
  {
   "cell_type": "code",
   "execution_count": 40,
   "metadata": {
    "collapsed": false
   },
   "outputs": [],
   "source": [
    "from django.utils import timezone\n",
    "new_ids = random.sample(range(max_user_id + 1, max_user_id + 201), 200)\n",
    "for user, new_id in zip(User.objects.all(), new_ids):\n",
    "    old_id = user.id\n",
    "    user.pk = new_id\n",
    "    user.username = str(new_id)\n",
    "    user.is_superuser = False\n",
    "    user.set_password('mangaki')\n",
    "    user.email = '%d@mangaki.fr' % new_id\n",
    "    user.date_joined = timezone.now()\n",
    "    user.last_login = timezone.now()\n",
    "    user.save()\n",
    "    old_user = User.objects.get(id=old_id)\n",
    "    old_user.rating_set.update(user=user)\n",
    "    # old_user.profile.user = user\n",
    "    old_user.delete()"
   ]
  },
  {
   "cell_type": "code",
   "execution_count": 41,
   "metadata": {
    "collapsed": false
   },
   "outputs": [
    {
     "data": {
      "text/plain": [
       "[<User: 2156>, <User: 2261>, <User: 2221>, <User: 2202>, <User: 2120>, <User: 2200>, <User: 2226>, <User: 2159>, <User: 2192>, <User: 2121>, <User: 2186>, <User: 2242>, <User: 2203>, <User: 2180>, <User: 2241>, <User: 2157>, <User: 2298>, <User: 2245>, <User: 2154>, <User: 2113>, '...(remaining elements truncated)...']"
      ]
     },
     "execution_count": 41,
     "metadata": {},
     "output_type": "execute_result"
    }
   ],
   "source": [
    "User.objects.all()"
   ]
  },
  {
   "cell_type": "markdown",
   "metadata": {},
   "source": [
    "Now, please make ``./mangaki/manage.py dumpdata > fixtures/seed_data.json``"
   ]
  },
  {
   "cell_type": "code",
   "execution_count": 42,
   "metadata": {
    "collapsed": false
   },
   "outputs": [
    {
     "data": {
      "text/plain": [
       "Counter({'auth.group': 1,\n",
       "         'auth.user': 200,\n",
       "         'irl.event': 38,\n",
       "         'irl.location': 2,\n",
       "         'irl.partner': 12,\n",
       "         'mangaki.anime': 20,\n",
       "         'mangaki.artist': 48,\n",
       "         'mangaki.category': 3,\n",
       "         'mangaki.editor': 17,\n",
       "         'mangaki.genre': 34,\n",
       "         'mangaki.manga': 20,\n",
       "         'mangaki.page': 4,\n",
       "         'mangaki.rating': 3163,\n",
       "         'mangaki.reference': 30,\n",
       "         'mangaki.role': 5,\n",
       "         'mangaki.staff': 100,\n",
       "         'mangaki.studio': 50,\n",
       "         'mangaki.top': 3,\n",
       "         'mangaki.work': 40,\n",
       "         'sites.site': 1})"
      ]
     },
     "execution_count": 42,
     "metadata": {},
     "output_type": "execute_result"
    }
   ],
   "source": [
    "from collections import Counter\n",
    "import json\n",
    "j = json.load(open('../fixtures/seed_data.json'))\n",
    "Counter(entry['model'] for entry in j)"
   ]
  },
  {
   "cell_type": "code",
   "execution_count": null,
   "metadata": {
    "collapsed": true
   },
   "outputs": [],
   "source": []
  }
 ],
 "metadata": {
  "kernelspec": {
   "display_name": "Django Shell-Plus",
   "language": "python",
   "name": "django_extensions"
  },
  "language_info": {
   "codemirror_mode": {
    "name": "ipython",
    "version": 3
   },
   "file_extension": ".py",
   "mimetype": "text/x-python",
   "name": "python",
   "nbconvert_exporter": "python",
   "pygments_lexer": "ipython3",
   "version": "3.4.1"
  }
 },
 "nbformat": 4,
 "nbformat_minor": 0
}

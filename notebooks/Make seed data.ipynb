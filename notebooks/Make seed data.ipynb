{
 "cells": [
  {
   "cell_type": "code",
   "execution_count": 1,
   "metadata": {
    "collapsed": false
   },
   "outputs": [],
   "source": [
    "SearchIssue.objects.all().delete()\n",
    "# Profile.objects.all().delete()  # Keeping some profiles would be better\n",
    "Suggestion.objects.all().delete()\n",
    "Recommendation.objects.all().delete()\n",
    "Pairing.objects.all().delete()\n",
    "SocialApp.objects.all().delete()\n",
    "Session.objects.all().delete()\n",
    "ContentType.objects.all().delete()"
   ]
  },
  {
   "cell_type": "code",
   "execution_count": 8,
   "metadata": {
    "collapsed": false
   },
   "outputs": [],
   "source": [
    "from collections import Counter\n",
    "nb = Counter(Rating.objects.values_list('work_id', flat=True))\n",
    "for model in [Anime, Manga]:\n",
    "    work_ids = list(model.objects.values_list('id', flat=True))\n",
    "    work_ids.sort(key=lambda work_id: -nb[work_id])\n",
    "    model.objects.exclude(id__in=work_ids[:20]).delete()"
   ]
  },
  {
   "cell_type": "code",
   "execution_count": 9,
   "metadata": {
    "collapsed": false
   },
   "outputs": [],
   "source": [
    "bundle = []\n",
    "for artist_ids in Work.objects.values_list('anime__director_id', 'anime__composer_id', 'anime__author_id', 'manga__mangaka_id', 'manga__writer_id'):\n",
    "    bundle.extend(artist_ids)\n",
    "kept_artist_ids = list(set([x for x in bundle if x is not None]))\n",
    "Artist.objects.exclude(id__in=kept_artist_ids).delete()"
   ]
  },
  {
   "cell_type": "code",
   "execution_count": 10,
   "metadata": {
    "collapsed": false
   },
   "outputs": [
    {
     "data": {
      "text/plain": [
       "54"
      ]
     },
     "execution_count": 10,
     "metadata": {},
     "output_type": "execute_result"
    }
   ],
   "source": [
    "Artist.objects.count()"
   ]
  },
  {
   "cell_type": "code",
   "execution_count": 11,
   "metadata": {
    "collapsed": false
   },
   "outputs": [
    {
     "data": {
      "text/plain": [
       "40"
      ]
     },
     "execution_count": 11,
     "metadata": {},
     "output_type": "execute_result"
    }
   ],
   "source": [
    "Work.objects.count()"
   ]
  },
  {
   "cell_type": "code",
   "execution_count": 12,
   "metadata": {
    "collapsed": false
   },
   "outputs": [
    {
     "data": {
      "text/plain": [
       "3098"
      ]
     },
     "execution_count": 12,
     "metadata": {},
     "output_type": "execute_result"
    }
   ],
   "source": [
    "Rating.objects.count()"
   ]
  },
  {
   "cell_type": "code",
   "execution_count": 2,
   "metadata": {
    "collapsed": true
   },
   "outputs": [],
   "source": [
    "max_user_id = max(User.objects.values_list('id', flat=True))"
   ]
  },
  {
   "cell_type": "code",
   "execution_count": 3,
   "metadata": {
    "collapsed": false
   },
   "outputs": [],
   "source": [
    "import random\n",
    "chosen = User.objects.order_by('?')[:200]\n",
    "kept_ids = chosen.values_list('id', flat=True)\n",
    "User.objects.exclude(id__in=kept_ids).delete()"
   ]
  },
  {
   "cell_type": "code",
   "execution_count": 4,
   "metadata": {
    "collapsed": false
   },
   "outputs": [
    {
     "data": {
      "text/plain": [
       "200"
      ]
     },
     "execution_count": 4,
     "metadata": {},
     "output_type": "execute_result"
    }
   ],
   "source": [
    "User.objects.count()"
   ]
  },
  {
   "cell_type": "code",
   "execution_count": 5,
   "metadata": {
    "collapsed": false
   },
   "outputs": [],
   "source": [
    "from django.utils import timezone\n",
    "new_ids = random.sample(range(max_user_id + 1, max_user_id + 201), 200)\n",
    "for user, new_id in zip(User.objects.all(), new_ids):\n",
    "    old_id = user.id\n",
    "    user.pk = new_id\n",
    "    user.username = str(new_id)\n",
    "    user.is_superuser = False\n",
    "    user.set_password('mangaki')\n",
    "    user.email = '%d@mangaki.fr' % new_id\n",
    "    user.date_joined = timezone.now()\n",
    "    user.last_login = timezone.now()\n",
    "    user.save()\n",
    "    old_user = User.objects.get(id=old_id)\n",
    "    old_user.rating_set.update(user=user)\n",
    "    # old_user.profile.user = user\n",
    "    old_user.delete()"
   ]
  },
  {
   "cell_type": "code",
   "execution_count": 7,
   "metadata": {
    "collapsed": false
   },
   "outputs": [
    {
     "data": {
      "text/plain": [
       "[<User: 1848>, <User: 1858>, <User: 1847>, <User: 1956>, <User: 1902>, <User: 1892>, <User: 1853>, <User: 1805>, <User: 1955>, <User: 1856>, <User: 1842>, <User: 1897>, <User: 1970>, <User: 2000>, <User: 1963>, <User: 1836>, <User: 1828>, <User: 1833>, <User: 1821>, <User: 1851>, '...(remaining elements truncated)...']"
      ]
     },
     "execution_count": 7,
     "metadata": {},
     "output_type": "execute_result"
    }
   ],
   "source": [
    "User.objects.all()"
   ]
  },
  {
   "cell_type": "code",
   "execution_count": 15,
   "metadata": {
    "collapsed": false
   },
   "outputs": [
    {
     "data": {
      "text/plain": [
       "Counter({'auth.user': 200,\n",
       "         'mangaki.anime': 20,\n",
       "         'mangaki.artist': 54,\n",
       "         'mangaki.deck': 8,\n",
       "         'mangaki.editor': 17,\n",
       "         'mangaki.genre': 34,\n",
       "         'mangaki.manga': 20,\n",
       "         'mangaki.page': 4,\n",
       "         'mangaki.rating': 3098,\n",
       "         'mangaki.studio': 50,\n",
       "         'mangaki.work': 40,\n",
       "         'sessions.session': 1,\n",
       "         'sites.site': 1})"
      ]
     },
     "execution_count": 15,
     "metadata": {},
     "output_type": "execute_result"
    }
   ],
   "source": [
    "import json\n",
    "j = json.load(open('../fixtures/seed_data.json'))\n",
    "Counter(entry['model'] for entry in j)"
   ]
  }
 ],
 "metadata": {
  "kernelspec": {
   "display_name": "Django Shell-Plus",
   "language": "python",
   "name": "django_extensions"
  },
  "language_info": {
   "codemirror_mode": {
    "name": "ipython",
    "version": 3
   },
   "file_extension": ".py",
   "mimetype": "text/x-python",
   "name": "python",
   "nbconvert_exporter": "python",
   "pygments_lexer": "ipython3",
   "version": "3.4.1"
  }
 },
 "nbformat": 4,
 "nbformat_minor": 0
}

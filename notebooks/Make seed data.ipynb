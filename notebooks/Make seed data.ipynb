{
 "cells": [
  {
   "cell_type": "code",
   "execution_count": 12,
   "metadata": {
    "collapsed": false
   },
   "outputs": [
    {
     "data": {
      "text/plain": [
       "266"
      ]
     },
     "execution_count": 12,
     "metadata": {},
     "output_type": "execute_result"
    }
   ],
   "source": [
    "Anime.objects.count()"
   ]
  },
  {
   "cell_type": "code",
   "execution_count": 14,
   "metadata": {
    "collapsed": false
   },
   "outputs": [
    {
     "data": {
      "text/plain": [
       "3857"
      ]
     },
     "execution_count": 14,
     "metadata": {},
     "output_type": "execute_result"
    }
   ],
   "source": [
    "Manga.objects.count()"
   ]
  },
  {
   "cell_type": "code",
   "execution_count": 17,
   "metadata": {
    "collapsed": false
   },
   "outputs": [
    {
     "data": {
      "text/plain": [
       "(0, {})"
      ]
     },
     "execution_count": 17,
     "metadata": {},
     "output_type": "execute_result"
    }
   ],
   "source": [
    "NB_MANGA_LIMIT = 20\n",
    "NB_ANIME_LIMIT = 20\n",
    "NB_USERS_LIMIT = 200\n",
    "\n",
    "SearchIssue.objects.all().delete()\n",
    "# Profile.objects.all().delete()  # Keeping some profiles would be better\n",
    "Suggestion.objects.all().delete()\n",
    "Recommendation.objects.all().delete()\n",
    "Pairing.objects.all().delete()\n",
    "SocialApp.objects.all().delete()\n",
    "Session.objects.all().delete()\n",
    "ContentType.objects.all().delete()"
   ]
  },
  {
   "cell_type": "code",
   "execution_count": 18,
   "metadata": {
    "collapsed": false
   },
   "outputs": [],
   "source": [
    "from collections import Counter\n",
    "nb = Counter(Rating.objects.values_list('work_id', flat=True))\n",
    "# Distinction between Anime and Manga will disappear with PR #153\n",
    "if NB_ANIME_LIMIT:\n",
    "    work_ids = list(Anime.objects.values_list('id', flat=True))\n",
    "    work_ids.sort(key=lambda work_id: -nb[work_id])\n",
    "    Anime.objects.exclude(id__in=work_ids[:NB_ANIME_LIMIT]).delete()\n",
    "if NB_MANGA_LIMIT:\n",
    "    work_ids = list(Manga.objects.values_list('id', flat=True))\n",
    "    work_ids.sort(key=lambda work_id: -nb[work_id])\n",
    "    Manga.objects.exclude(id__in=work_ids[:NB_MANGA_LIMIT]).delete()"
   ]
  },
  {
   "cell_type": "code",
   "execution_count": 20,
   "metadata": {
    "collapsed": false
   },
   "outputs": [
    {
     "data": {
      "text/plain": [
       "(2383,\n",
       " {'mangaki.Album': 1,\n",
       "  'mangaki.Artist': 2339,\n",
       "  'mangaki.Pairing': 0,\n",
       "  'mangaki.Rating': 42,\n",
       "  'mangaki.Recommendation': 0,\n",
       "  'mangaki.Staff': 0,\n",
       "  'mangaki.Track_album': 0,\n",
       "  'mangaki.Work': 1})"
      ]
     },
     "execution_count": 20,
     "metadata": {},
     "output_type": "execute_result"
    }
   ],
   "source": [
    "bundle = []\n",
    "for artist_ids in Work.objects.values_list('artists'):\n",
    "    bundle.extend(artist_ids)\n",
    "kept_artist_ids = list(set([x for x in bundle if x is not None]))\n",
    "Artist.objects.exclude(id__in=kept_artist_ids).delete()"
   ]
  },
  {
   "cell_type": "code",
   "execution_count": 21,
   "metadata": {
    "collapsed": false
   },
   "outputs": [
    {
     "data": {
      "text/plain": [
       "54"
      ]
     },
     "execution_count": 21,
     "metadata": {},
     "output_type": "execute_result"
    }
   ],
   "source": [
    "Artist.objects.count()"
   ]
  },
  {
   "cell_type": "code",
   "execution_count": 22,
   "metadata": {
    "collapsed": false
   },
   "outputs": [
    {
     "data": {
      "text/plain": [
       "40"
      ]
     },
     "execution_count": 22,
     "metadata": {},
     "output_type": "execute_result"
    }
   ],
   "source": [
    "Work.objects.count()"
   ]
  },
  {
   "cell_type": "code",
   "execution_count": 23,
   "metadata": {
    "collapsed": false
   },
   "outputs": [
    {
     "data": {
      "text/plain": [
       "28989"
      ]
     },
     "execution_count": 23,
     "metadata": {},
     "output_type": "execute_result"
    }
   ],
   "source": [
    "Rating.objects.count()"
   ]
  },
  {
   "cell_type": "code",
   "execution_count": 24,
   "metadata": {
    "collapsed": true
   },
   "outputs": [],
   "source": [
    "max_user_id = max(User.objects.values_list('id', flat=True))"
   ]
  },
  {
   "cell_type": "code",
   "execution_count": 25,
   "metadata": {
    "collapsed": false
   },
   "outputs": [
    {
     "data": {
      "text/plain": [
       "(50543,\n",
       " {'account.EmailAddress': 1672,\n",
       "  'account.EmailConfirmation': 1654,\n",
       "  'admin.LogEntry': 581,\n",
       "  'auth.User': 1687,\n",
       "  'auth.User_groups': 3,\n",
       "  'auth.User_user_permissions': 0,\n",
       "  'irl.Attendee': 10,\n",
       "  'mangaki.Neighborship': 17330,\n",
       "  'mangaki.Pairing': 0,\n",
       "  'mangaki.Profile': 1684,\n",
       "  'mangaki.Rating': 25891,\n",
       "  'mangaki.Recommendation': 0,\n",
       "  'mangaki.SearchIssue': 0,\n",
       "  'socialaccount.SocialAccount': 31,\n",
       "  'socialaccount.SocialToken': 0})"
      ]
     },
     "execution_count": 25,
     "metadata": {},
     "output_type": "execute_result"
    }
   ],
   "source": [
    "import random\n",
    "chosen = User.objects.order_by('?')[:NB_USERS_LIMIT]\n",
    "kept_ids = chosen.values_list('id', flat=True)\n",
    "User.objects.exclude(id__in=kept_ids).delete()"
   ]
  },
  {
   "cell_type": "code",
   "execution_count": 27,
   "metadata": {
    "collapsed": false
   },
   "outputs": [
    {
     "data": {
      "text/plain": [
       "200"
      ]
     },
     "execution_count": 27,
     "metadata": {},
     "output_type": "execute_result"
    }
   ],
   "source": [
    "User.objects.count()"
   ]
  },
  {
   "cell_type": "code",
   "execution_count": 28,
   "metadata": {
    "collapsed": false
   },
   "outputs": [],
   "source": [
    "from django.utils import timezone\n",
    "new_ids = random.sample(range(max_user_id + 1, max_user_id + 201), 200)\n",
    "for user, new_id in zip(User.objects.all(), new_ids):\n",
    "    old_id = user.id\n",
    "    user.pk = new_id\n",
    "    user.username = str(new_id)\n",
    "    user.is_superuser = False\n",
    "    user.set_password('mangaki')\n",
    "    user.email = '%d@mangaki.fr' % new_id\n",
    "    user.date_joined = timezone.now()\n",
    "    user.last_login = timezone.now()\n",
    "    user.save()\n",
    "    old_user = User.objects.get(id=old_id)\n",
    "    old_user.rating_set.update(user=user)\n",
    "    # old_user.profile.user = user\n",
    "    old_user.delete()"
   ]
  },
  {
   "cell_type": "code",
   "execution_count": 29,
   "metadata": {
    "collapsed": false
   },
   "outputs": [
    {
     "data": {
      "text/plain": [
       "[<User: 1960>, <User: 1971>, <User: 1992>, <User: 1956>, <User: 2060>, <User: 1998>, <User: 2070>, <User: 1999>, <User: 2024>, <User: 1988>, <User: 1976>, <User: 1986>, <User: 1935>, <User: 2013>, <User: 2087>, <User: 2002>, <User: 2054>, <User: 2088>, <User: 1972>, <User: 1946>, '...(remaining elements truncated)...']"
      ]
     },
     "execution_count": 29,
     "metadata": {},
     "output_type": "execute_result"
    }
   ],
   "source": [
    "User.objects.all()"
   ]
  },
  {
   "cell_type": "code",
   "execution_count": 30,
   "metadata": {
    "collapsed": false
   },
   "outputs": [
    {
     "data": {
      "text/plain": [
       "Counter({'auth.user': 200,\n",
       "         'mangaki.anime': 20,\n",
       "         'mangaki.artist': 54,\n",
       "         'mangaki.category': 3,\n",
       "         'mangaki.editor': 17,\n",
       "         'mangaki.genre': 34,\n",
       "         'mangaki.manga': 20,\n",
       "         'mangaki.page': 4,\n",
       "         'mangaki.rating': 3098,\n",
       "         'mangaki.studio': 50,\n",
       "         'mangaki.work': 40,\n",
       "         'sessions.session': 1,\n",
       "         'sites.site': 1})"
      ]
     },
     "execution_count": 30,
     "metadata": {},
     "output_type": "execute_result"
    }
   ],
   "source": [
    "import json\n",
    "j = json.load(open('../fixtures/seed_data.json'))\n",
    "Counter(entry['model'] for entry in j)"
   ]
  },
  {
   "cell_type": "code",
   "execution_count": null,
   "metadata": {
    "collapsed": true
   },
   "outputs": [],
   "source": []
  }
 ],
 "metadata": {
  "kernelspec": {
   "display_name": "Django Shell-Plus",
   "language": "python",
   "name": "django_extensions"
  },
  "language_info": {
   "codemirror_mode": {
    "name": "ipython",
    "version": 3
   },
   "file_extension": ".py",
   "mimetype": "text/x-python",
   "name": "python",
   "nbconvert_exporter": "python",
   "pygments_lexer": "ipython3",
   "version": "3.4.1"
  }
 },
 "nbformat": 4,
 "nbformat_minor": 0
}

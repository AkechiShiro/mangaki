{
 "cells": [
  {
   "cell_type": "code",
   "execution_count": 53,
   "metadata": {
    "collapsed": true
   },
   "outputs": [],
   "source": [
    "\"\"\"\n",
    "#remettre le all_dataset\n",
    "from scipy.sparse import csc_matrix\n",
    "from scipy.spatial.distance import pdist, squareform\n",
    "from mangaki.utils.svd import MangakiSVD\n",
    "from mangaki.utils.values import rating_values\n",
    "from mangaki.models import Rating\n",
    "import pandas, random\n",
    "import numpy as np\n",
    "\n",
    "#source : from 'csv' or 'database' ?\n",
    "\n",
    "#from csv\n",
    "\"\"\"\n",
    "#ratings = pandas.read_csv('../data/ratings.csv', header=None).as_matrix()\t\n",
    "#nb_users = ratings[:,0].max()+1\n",
    "#nb_items = ratings[:,1].max()+1\n",
    "#items = range(0,nb_items)\n",
    "\n",
    "\"\"\"\n",
    "\n",
    "#from database\n",
    "A, B = [], []\n",
    "for user_id, work_id, choice in Rating.objects.values_list('user_id', 'work_id', 'choice'):\n",
    "\tA.append([user_id, work_id])\n",
    "\tB.append(rating_values[choice])\n",
    "\n",
    "nb_users = np.asarray(A)[:,0].max()+1\n",
    "nb_items = np.asarray(A)[:,1].max()+1\n",
    "items = range(0,nb_items)\n",
    "\n",
    "\n",
    "\n",
    "#2 fonctions donnant une matrice de départ user*item\n",
    "\"\"\"\n",
    "#récupérer une matrice users*items avec les 1er nb_ratings de ratings.csv\n",
    "#-soit SVD ayant pour rang rank\t\n",
    "#-soit matrice creuse ayant pour coeff les ratings (creuse[i][j]=rating de l'utilisateur i pour l'oeuvre j)\n",
    "\"\"\"\n",
    "def get_matrix_svd(rank, nb_ratings):\n",
    "\tX = ratings[:nb_ratings,0:2]\n",
    "\tY = [rating_values[rating] for rating in ratings[:nb_ratings,2]]\n",
    "\tsvd = MangakiSVD(rank) \n",
    "\tsvd.set_parameters(nb_users,nb_items)\n",
    "\tsvd.fit(X,Y)\n",
    "\treturn svd.VT\n",
    "\n",
    "\n",
    "\n",
    "def get_matrix_csc(nb_ratings): \n",
    "\t\trow = ratings[:,0]\n",
    "\t\tcol = ratings[:,1]\n",
    "\t\tdata = np.array([rating_values[rating] for rating in ratings[:,2]])\n",
    "\t\tcreux = csc_matrix((data, (row, col)), shape=(nb_users, nb_items))\n",
    "\t\tcreuse = creux.toarray()\n",
    "\t\treturn creuse     \n",
    "\n",
    "\n",
    "#2 fonctions calculant des matrices de similarité\n",
    "\n",
    "#prendre en argument une metric car pas très intéressant car déjà tt fait en Python\n",
    "\n",
    "#option = 'cosine' pr 'jaccard'\n",
    "def similarity(matrix, option): # matrix: dimension nb_users x dimension nb_works\n",
    "    return 1 - squareform(pdist(matrix, metric=option))\n",
    "\t\n",
    "class MangakiUniform(object):\n",
    "\t\n",
    "\tdef __init__(self, nb_points):\n",
    "\t\tself.nb_points = nb_points\n",
    "\n",
    "\n",
    "\tdef sample_k(self,matrix_similarity):\n",
    "\t\tuniform_items = list(range(matrix_similarity.shape[0]))\n",
    "\t\trandom.shuffle(uniform_items)\n",
    "\t\treturn uniform_items[:self.nb_points]\n",
    "    \t\n",
    "\tdef __str__(self):\n",
    "\t\treturn 'uniform list, nb_points=%d' % self.nb_points\n",
    "\n",
    "class MangakiDPP(object):\n",
    "\n",
    "\tdef __init__(self, nb_points):\n",
    "\t\tself.nb_points = nb_points\n",
    "\t\t\n",
    "\n",
    "\t#n'a pas d'intérêt au final\n",
    "    #TODO : delete\n",
    "\t#similarity_fn='jaccard' or 'coisine'\n",
    "\t#def fit(self, matrix, all_dataset=False): #obtention de la matrice de similarité\n",
    "\t#\tmatrix_fit=similarity(matrix, similarity_fn)\n",
    "\t#\treturn matrix_fit\n",
    "    \n",
    "    #thanks to mehdidc on github\n",
    "      # tirer au hasard des points\n",
    "    #def sample_k(items, similiarity, k, max_nb_iterations=1000, rng=np.random):\n",
    "\tdef sample_k(items, L, k, max_nb_iterations=1000, rng=np.random):\n",
    "\t\n",
    "\t#Sample a list of k items from a DPP defined\n",
    "\t#by the similarity matrix L. The algorithm\n",
    "\t#is iterative and runs for max_nb_iterations.\n",
    "\t#The algorithm used is from\n",
    "\t#(Fast Determinantal Point Process Sampling withw\n",
    "\t#Application to Clustering, Byungkon Kang, NIPS 2013)\n",
    "\t\n",
    "\t\tinitial = rng.choice(range(len(items)), size=k, replace=False)\n",
    "\t\tX = [False] * len(items)\n",
    "\t\tfor i in initial:\n",
    "\t\t\tX[i] = True\n",
    "\t\tX = np.array(X)\n",
    "\t\tfor i in range(max_nb_iterations):\n",
    "\t\t\tu = rng.choice(np.arange(len(items))[X])\n",
    "\t\t\tv = rng.choice(np.arange(len(items))[~X])\n",
    "\t\t\tY = X.copy()\n",
    "\t\t\tY[u] = False\n",
    "\t\t\tL_Y = L[Y, :]\n",
    "\t\t\tL_Y = L_Y[:, Y]\n",
    "\t\t\tL_Y_inv = np.linalg.inv(L_Y)\n",
    "\n",
    "\t\t\tc_v = L[v:v+1, :]\n",
    "\t\t\tc_v = c_v[:, v:v+1]\n",
    "\t\t\tb_v = L[Y, :]\n",
    "\t\t\tb_v = b_v[:, v:v+1]\n",
    "\t\t\tc_u = L[u:u+1, :]\n",
    "\t\t\tc_u = c_u[:, u:u+1]\n",
    "\t\t\tb_u = L[Y, :]\n",
    "\t\t\tb_u = b_u[:, u:u+1]\n",
    "\n",
    "\t\t\tp = min(1, c_v - np.dot(np.dot(b_v.T, L_Y_inv), b_v) /\n",
    "\t              (c_u - np.dot(np.dot(b_u.T, L_Y_inv.T), b_u)))\n",
    "\t\t\tif rng.uniform() <= p:\n",
    "\t\t\t\tX = Y[:]\n",
    "\t\t\t\tX[v] = True\n",
    "\t\t\treturn np.array(items)[X]\n",
    "      \n",
    "\tdef __str__(self):\n",
    "\t\treturn 'sample dpp list, nb_points=%d' % self.nb_points\n",
    "   \n",
    "\n",
    "# comparer : regarder la distance moyenne entre deux points, mesures de dispersion. Avoir un truc qui permet de faire le fit + lancer quelques milliers de samples et regarder la dispersion moyenne\n",
    "#ajouter des options : quels para de comparaison utilisés ? Diamètre d'ordre r (1 ou 0 ? ), somme de pdist, déterminant du squareform(pdsit) ?\n",
    "\n",
    "\n",
    "#(pdist(svd.VT[:,sampled_items].T)).sum()\n",
    "\n",
    "\"\"\"\n",
    "\"\"\"\"\"\"\n",
    "#distance_sample = []\n",
    "#distance_uniform = []\n",
    "#et ds la boucle : \n",
    "#distance_sample.append((pdist(svd.VT[:,sampled_items].T)).sum())\n",
    "#distance_uniform.append((pdist(svd.VT[:,uniform_items].T)).sum())\n",
    "#puis comparaison entre les deux listes d'une manière ou d'une autre\n",
    "\"\"\"\"\"\"\n",
    "\"\"\"\n",
    "\"\"\"\"\"\"\n",
    "\n",
    "#det de pdist : np.linalg.det(squareform(pdist(svd.VT[:,uniform_items].T, metric='cosine')))\n",
    "\n",
    "#diamètre d'ordre r : (ici 1 pr l'instant) \n",
    "\"\"\"\n",
    "#n = len(sampled_items)\n",
    "#coefficient_sample = 2/(n*(n-1))*(pdist(svd.VT[:,sampled_items].T).sum())\n",
    "\"\"\"\n",
    "\n",
    "\n",
    "\n",
    "\n",
    "def compare(type_get_matrix, nb_points, nb_iterations, nb_ratings):\n",
    "\tresults_uniform, results_sample_dpp=[], []\n",
    "\tif type_get_matrix=='svd':\n",
    "\n",
    "\t\tmatrix = get_matrix_svd(10, nb_ratings)\n",
    "\telse :\n",
    "\t\tmatrix = get_matrix_svd(10, nb_ratings)\n",
    "\tuniform = MangakiUniform(nb_points)\n",
    "\tdpp = MangakiDDP(matrix, similarity_fn='cosine')\n",
    "\tsimilarity = dpp.fit(matrix)\n",
    "\tindicateur = 0\n",
    "\tpb = 0\n",
    "\twhile indicateur != nb_iterations:\n",
    "    \n",
    "\t\ttry:\n",
    "\t\t\tsampled_items = dpp.sample_k(items, similarity, nb_points)\n",
    "        \n",
    "\n",
    "\t\texcept np.linalg.linalg.LinAlgError as err:\n",
    "\t\t\tpb = 1\n",
    "\t\tif pb==0:\n",
    "\t\t\tindicateur = indicateur+1\n",
    "        # cas où tt se passe bien, bloc où l'on exécute la comparaison\n",
    "\t\t\tuniform_items = uniform.sample_k(items, similarity, nb_points)\n",
    "        \t\n",
    "\t\t\tdet_uni=np.linalg.det(squareform(pdist(svd.VT[:,uniform_items].T, metric='cosine')))\n",
    "\t\t\tdet_dpp=np.linalg.det(squareform(pdist(svd.VT[:,sampled_items].T, metric='cosine')))\n",
    "        \t\n",
    "\t\t\tdiam_uni = 2/(nb_points*(nb_points-1))*(pdist(svd.VT[:,uniform_items].T).sum())\n",
    "\t\t\tdiam_dpp = 2/(nb_points*(nb_points-1))*(pdist(svd.VT[:,sampled_items].T).sum())\n",
    "\n",
    "\t\t\tresults_uniform.append([det_uni, diam_uni]) #à compléter : det et diamètre d'ordre r\n",
    "\t\t\tresults_sample_dpp.append([det_dpp, diam_dpp]) #à compléter : det et diamètre d'ordre r\n",
    "\t\telse :\n",
    "\t\t\tpb = 0\n",
    "            \n",
    "\"\"\"\""
   ]
  },
  {
   "cell_type": "code",
   "execution_count": 8,
   "metadata": {
    "collapsed": false
   },
   "outputs": [],
   "source": [
    "#A\n",
    "#B\n",
    "#nb_users\n",
    "#nb_items\n"
   ]
  },
  {
   "cell_type": "code",
   "execution_count": null,
   "metadata": {
    "collapsed": true
   },
   "outputs": [],
   "source": []
  },
  {
   "cell_type": "code",
   "execution_count": null,
   "metadata": {
    "collapsed": true
   },
   "outputs": [],
   "source": []
  },
  {
   "cell_type": "code",
   "execution_count": null,
   "metadata": {
    "collapsed": true
   },
   "outputs": [],
   "source": []
  },
  {
   "cell_type": "code",
   "execution_count": null,
   "metadata": {
    "collapsed": true
   },
   "outputs": [],
   "source": []
  },
  {
   "cell_type": "code",
   "execution_count": 8,
   "metadata": {
    "collapsed": false
   },
   "outputs": [],
   "source": [
    "#remettre le all_dataset\n",
    "from scipy.sparse import csc_matrix\n",
    "from scipy.spatial.distance import pdist, squareform\n",
    "from mangaki.utils.svd import MangakiSVD\n",
    "from mangaki.utils.values import rating_values\n",
    "from mangaki.models import Rating\n",
    "import pandas, random\n",
    "import numpy as np\n",
    "\n",
    "#source : from 'csv' or 'database' ?\n",
    "\n",
    "#from csv\n",
    "\"\"\"\n",
    "ratings = pandas.read_csv('../data/ratings.csv', header=None).as_matrix()\t\n",
    "nb_users = ratings[:,0].max()+1\n",
    "nb_items = ratings[:,1].max()+1\n",
    "items = range(0,nb_items)\n",
    "\n",
    "\"\"\"\n",
    "\n",
    "#from database\n",
    "X, Y = [], []\n",
    "for user_id, work_id, choice in Rating.objects.values_list('user_id', 'work_id', 'choice'):\n",
    "\tX.append([user_id, work_id])\n",
    "\tY.append(rating_values[choice])\n",
    "X=np.asarray(X)\n",
    "nb_users = np.asarray(X)[:,0].max()+1\n",
    "nb_items = np.asarray(X)[:,1].max()+1\n",
    "items = range(0,nb_items)\n",
    "\n",
    "\n",
    "\n",
    "#2 fonctions donnant une matrice de départ user*item\n",
    "\"\"\"\n",
    "récupérer une matrice users*items avec les 1er nb_ratings de ratings.csv\n",
    "-soit SVD ayant pour rang rank\t\n",
    "-soit matrice creuse ayant pour coeff les ratings (creuse[i][j]=rating de l'utilisateur i pour l'oeuvre j)\n",
    "\"\"\"\n",
    "def get_matrix_svd(rank, nb_ratings):\n",
    "\tXpr = X[:nb_ratings,0:2]\n",
    "\tYpr = Y[:nb_ratings]\n",
    "\tsvd = MangakiSVD(rank) \n",
    "\tsvd.set_parameters(nb_users,nb_items)\n",
    "\tsvd.fit(Xpr,Ypr)\n",
    "\treturn svd.VT\n",
    "\n",
    "\n",
    "\n",
    "def get_matrix_csc(nb_ratings): \n",
    "\t\trow = X[:nb_ratings,0]\n",
    "\t\tcol = X[:nb_ratings,1]\n",
    "\t\tdata = np.array(Y[:nb_ratings])\n",
    "\t\tcreux = csc_matrix((data, (row, col)), shape=(nb_users, nb_items))\n",
    "\t\tcreuse = creux.toarray()\n",
    "\t\treturn creuse     \n",
    "\n",
    "\n",
    "#2 fonctions calculant des matrices de similarité\n",
    "\n",
    "#prendre en argument une metric car pas très intéressant car déjà tt fait en Python\n",
    "\n",
    "#option = 'cosine' pr 'jaccard'\n",
    "def similarity(matrix, option): # matrix: dimension nb_users x dimension nb_works\n",
    "    return 1 - squareform(pdist(matrix.T, metric=option))\n",
    "\t\n",
    "class MangakiUniform(object):\n",
    "\t\n",
    "\tdef __init__(self, nb_points):\n",
    "\t\tself.nb_points = nb_points\n",
    "\n",
    "\n",
    "\tdef sample_k(self,matrix_similarity):\n",
    "\t\tuniform_items = list(range(matrix_similarity.shape[0]))\n",
    "\t\trandom.shuffle(uniform_items)\n",
    "\t\treturn uniform_items[:self.nb_points]\n",
    "    \t\n",
    "\tdef __str__(self):\n",
    "\t\treturn 'uniform list, nb_points=%d' % self.nb_points\n",
    "\n",
    "class MangakiDPP(object):\n",
    "\n",
    "\tdef __init__(self, nb_points):\n",
    "\t\tself.nb_points = nb_points\n",
    "\n",
    "\n",
    "#n'a pas d'intérêt au final\n",
    "#TODO : delete\n",
    "#similarity_fn='jaccard' or 'coisine'\n",
    "#def fit(self, matrix, all_dataset=False): #obtention de la matrice de similarité\n",
    "#\tmatrix_fit=similarity(matrix, similarity_fn)\n",
    "#\treturn matrix_fit\n",
    "    \n",
    "#thanks to mehdidc on github\n",
    "# tirer au hasard des points\n",
    "#def sample_k(items, similiarity, k, max_nb_iterations=1000, rng=np.random):\n",
    "       #def sample_k(items, similiarity, k, max_nb_iterations=1000, rng=np.random):\n",
    "\tdef sample_k(self, items, L, k, max_nb_iterations=1000, rng=np.random):\n",
    "\t\n",
    "\t#Sample a list of k items from a DPP defined\n",
    "\t#by the similarity matrix L. The algorithm\n",
    "\t#is iterative and runs for max_nb_iterations.\n",
    "\t#The algorithm used is from\n",
    "\t#(Fast Determinantal Point Process Sampling withw\n",
    "\t#Application to Clustering, Byungkon Kang, NIPS 2013)\n",
    "\t\n",
    "\t\tinitial = rng.choice(range(len(items)), size=k, replace=False)\n",
    "\t\tX = [False] * len(items)\n",
    "\t\tfor i in initial:\n",
    "\t\t\tX[i] = True\n",
    "\t\tX = np.array(X)\n",
    "\t\tfor i in range(max_nb_iterations):\n",
    "\t\t\tu = rng.choice(np.arange(len(items))[X])\n",
    "\t\t\tv = rng.choice(np.arange(len(items))[~X])\n",
    "\t\t\tY = X.copy()\n",
    "\t\t\tY[u] = False\n",
    "\t\t\tL_Y = L[Y, :]\n",
    "\t\t\tL_Y = L_Y[:, Y]\n",
    "\t\t\tL_Y_inv = np.linalg.inv(L_Y)\n",
    "\n",
    "\t\t\tc_v = L[v:v+1, :]\n",
    "\t\t\tc_v = c_v[:, v:v+1]\n",
    "\t\t\tb_v = L[Y, :]\n",
    "\t\t\tb_v = b_v[:, v:v+1]\n",
    "\t\t\tc_u = L[u:u+1, :]\n",
    "\t\t\tc_u = c_u[:, u:u+1]\n",
    "\t\t\tb_u = L[Y, :]\n",
    "\t\t\tb_u = b_u[:, u:u+1]\n",
    "\n",
    "\t\t\tp = min(1, c_v - np.dot(np.dot(b_v.T, L_Y_inv), b_v) /\n",
    "\t              (c_u - np.dot(np.dot(b_u.T, L_Y_inv.T), b_u)))\n",
    "\t\t\tif rng.uniform() <= p:\n",
    "\t\t\t\tX = Y[:]\n",
    "\t\t\t\tX[v] = True\n",
    "\t\t\treturn np.array(items)[X]\n",
    "      \n",
    "    \n",
    "\tdef __str__(self):\n",
    "\t\treturn 'sample dpp list, nb_points=%d' % self.nb_points\n",
    "   \n",
    "\n",
    "# comparer : regarder la distance moyenne entre deux points, mesures de dispersion. Avoir un truc qui permet de faire le fit + lancer quelques milliers de samples et regarder la dispersion moyenne\n",
    "#ajouter des options : quels para de comparaison utilisés ? Diamètre d'ordre r (1 ou 0 ? ), somme de pdist, déterminant du squareform(pdsit) ?\n",
    "\n",
    "\n",
    "#(pdist(svd.VT[:,sampled_items].T)).sum()\n",
    "\n",
    "\"\"\"\n",
    "distance_sample = []\n",
    "distance_uniform = []\n",
    "et ds la boucle : \n",
    "distance_sample.append((pdist(svd.VT[:,sampled_items].T)).sum())\n",
    "distance_uniform.append((pdist(svd.VT[:,uniform_items].T)).sum())\n",
    "puis comparaison entre les deux listes d'une manière ou d'une autre\n",
    "\"\"\"\n",
    "\n",
    "\n",
    "#det de pdist : np.linalg.det(squareform(pdist(svd.VT[:,uniform_items].T, metric='cosine')))\n",
    "\n",
    "#diamètre d'ordre r : (ici 1 pr l'instant) \n",
    "\"\"\"\n",
    "n = len(sampled_items)\n",
    "coefficient_sample = 2/(n*(n-1))*(pdist(svd.VT[:,sampled_items].T).sum())\n",
    "\"\"\"\n",
    "\n",
    "\n",
    "\n",
    "\n",
    "def compare(type_get_matrix, nb_points, nb_iterations, nb_ratings):\n",
    "\tresults_uniform, results_sample_dpp=[], []\n",
    "\tif type_get_matrix=='svd':\n",
    "\n",
    "\t\tmatrix = get_matrix_svd(10, nb_ratings)\n",
    "\telse :\n",
    "\t\tmatrix = get_matrix_svd(10, nb_ratings)\n",
    "\tuniform = MangakiUniform(nb_points)\n",
    "\tdpp = MangakiDDP(matrix, similarity_fn='cosine')\n",
    "\tsimilarity = dpp.fit(matrix)\n",
    "\tindicateur = 0\n",
    "\tpb = 0\n",
    "\twhile indicateur != nb_iterations:\n",
    "    \n",
    "\t\ttry:\n",
    "\t\t\tsampled_items = dpp.sample_k(items, similarity, nb_points)\n",
    "        \n",
    "\n",
    "\t\texcept np.linalg.linalg.LinAlgError as err:\n",
    "\t\t\tpb = 1\n",
    "\t\tif pb==0:\n",
    "\t\t\tindicateur = indicateur+1\n",
    "        # cas où tt se passe bien, bloc où l'on exécute la comparaison\n",
    "\t\t\tuniform_items = uniform.sample_k(items, similarity, nb_points)\n",
    "        \t\n",
    "\t\t\tdet_uni=np.linalg.det(squareform(pdist(svd.VT[:,uniform_items].T, metric='cosine')))\n",
    "\t\t\tdet_dpp=np.linalg.det(squareform(pdist(svd.VT[:,sampled_items].T, metric='cosine')))\n",
    "        \t\n",
    "\t\t\tdiam_uni = 2/(nb_points*(nb_points-1))*(pdist(svd.VT[:,uniform_items].T).sum())\n",
    "\t\t\tdiam_dpp = 2/(nb_points*(nb_points-1))*(pdist(svd.VT[:,sampled_items].T).sum())\n",
    "\n",
    "\t\t\tresults_uniform.append([det_uni, diam_uni]) #à compléter : det et diamètre d'ordre r\n",
    "\t\t\tresults_sample_dpp.append([det_dpp, diam_dpp]) #à compléter : det et diamètre d'ordre r\n",
    "\t\telse :\n",
    "\t\t\tpb = 0"
   ]
  },
  {
   "cell_type": "code",
   "execution_count": 9,
   "metadata": {
    "collapsed": false
   },
   "outputs": [
    {
     "data": {
      "text/plain": [
       "array([[2087,    1],\n",
       "       [1994,    2],\n",
       "       [1994,    3],\n",
       "       ..., \n",
       "       [2026, 1384],\n",
       "       [2026, 9013],\n",
       "       [2026, 2257]])"
      ]
     },
     "execution_count": 9,
     "metadata": {},
     "output_type": "execute_result"
    }
   ],
   "source": [
    "X"
   ]
  },
  {
   "cell_type": "code",
   "execution_count": 4,
   "metadata": {
    "collapsed": false
   },
   "outputs": [],
   "source": [
    "#Y"
   ]
  },
  {
   "cell_type": "code",
   "execution_count": 10,
   "metadata": {
    "collapsed": false
   },
   "outputs": [
    {
     "data": {
      "text/plain": [
       "2100"
      ]
     },
     "execution_count": 10,
     "metadata": {},
     "output_type": "execute_result"
    }
   ],
   "source": [
    "nb_users"
   ]
  },
  {
   "cell_type": "code",
   "execution_count": 11,
   "metadata": {
    "collapsed": false
   },
   "outputs": [
    {
     "data": {
      "text/plain": [
       "14416"
      ]
     },
     "execution_count": 11,
     "metadata": {},
     "output_type": "execute_result"
    }
   ],
   "source": [
    "nb_items\n"
   ]
  },
  {
   "cell_type": "code",
   "execution_count": 5,
   "metadata": {
    "collapsed": false
   },
   "outputs": [
    {
     "name": "stdout",
     "output_type": "stream",
     "text": [
      "Computing M: (2100 × 14416)\n",
      "fill and center matrix [305 ms]\n",
      "Shapes (2100, 10) (10,) (10, 14416)\n",
      "factor matrix [64196 ms]\n"
     ]
    },
    {
     "data": {
      "text/plain": [
       "array([[ -4.76171693e-16,   1.01020483e-01,   5.93017784e-02, ...,\n",
       "         -0.00000000e+00,  -9.44467650e-05,  -1.60743802e-04],\n",
       "       [ -4.68550127e-15,  -1.83381462e-02,  -7.07910668e-03, ...,\n",
       "         -0.00000000e+00,  -1.13539014e-05,  -2.08125466e-03],\n",
       "       [  8.86429943e-14,  -9.75645378e-02,  -2.02313541e-03, ...,\n",
       "          0.00000000e+00,   1.00975773e-04,  -2.50413527e-03],\n",
       "       ..., \n",
       "       [ -9.62286895e-11,   9.94452876e-03,   4.81962899e-02, ...,\n",
       "          0.00000000e+00,   1.33213309e-04,   1.70693862e-02],\n",
       "       [ -2.70149909e-12,   4.34641981e-02,  -6.43504981e-02, ...,\n",
       "         -0.00000000e+00,  -2.40416928e-04,  -2.28896131e-03],\n",
       "       [  4.08080827e-10,   1.52707993e-02,   1.04863916e-01, ...,\n",
       "          0.00000000e+00,   3.21102824e-04,  -6.47039993e-03]])"
      ]
     },
     "execution_count": 5,
     "metadata": {},
     "output_type": "execute_result"
    }
   ],
   "source": [
    "matrix=get_matrix_svd(10,len(Y))\n",
    "matrix"
   ]
  },
  {
   "cell_type": "code",
   "execution_count": 6,
   "metadata": {
    "collapsed": false
   },
   "outputs": [
    {
     "data": {
      "text/plain": [
       "array([[ 0. ,  0. ,  0. , ...,  0. ,  0. ,  0. ],\n",
       "       [ 0. ,  0. ,  0. , ...,  0. ,  0. ,  0. ],\n",
       "       [ 0. ,  0. ,  0. , ...,  0. ,  0. ,  0. ],\n",
       "       ..., \n",
       "       [ 0. ,  4. ,  0. , ...,  0. ,  0. ,  0. ],\n",
       "       [ 0. ,  2. ,  2. , ...,  0. ,  0. ,  0. ],\n",
       "       [ 0. ,  4. ,  0.5, ...,  0. ,  0. ,  0. ]])"
      ]
     },
     "execution_count": 6,
     "metadata": {},
     "output_type": "execute_result"
    }
   ],
   "source": [
    "matrix2=get_matrix_csc(len(Y))\n",
    "get_matrix_csc(len(Y))"
   ]
  },
  {
   "cell_type": "code",
   "execution_count": 7,
   "metadata": {
    "collapsed": false
   },
   "outputs": [
    {
     "data": {
      "text/plain": [
       "array([[ 1.        , -0.02918436,  0.17222822, ...,         nan,\n",
       "         0.38887067, -0.54439638],\n",
       "       [-0.02918436,  1.        ,  0.55066255, ...,         nan,\n",
       "        -0.68247239,  0.1732992 ],\n",
       "       [ 0.17222822,  0.55066255,  1.        , ...,         nan,\n",
       "        -0.45988957,  0.22734672],\n",
       "       ..., \n",
       "       [        nan,         nan,         nan, ...,  1.        ,\n",
       "                nan,         nan],\n",
       "       [ 0.38887067, -0.68247239, -0.45988957, ...,         nan,\n",
       "         1.        , -0.05510931],\n",
       "       [-0.54439638,  0.1732992 ,  0.22734672, ...,         nan,\n",
       "        -0.05510931,  1.        ]])"
      ]
     },
     "execution_count": 7,
     "metadata": {},
     "output_type": "execute_result"
    }
   ],
   "source": [
    "similarity1=similarity(matrix,'cosine')\n",
    "similarity1"
   ]
  },
  {
   "cell_type": "code",
   "execution_count": 10,
   "metadata": {
    "collapsed": false
   },
   "outputs": [
    {
     "data": {
      "text/plain": [
       "array([[ 1.        ,         nan,         nan, ...,         nan,\n",
       "                nan,         nan],\n",
       "       [        nan,  1.        ,         nan, ...,         nan,\n",
       "                nan,         nan],\n",
       "       [        nan,         nan,  1.        , ...,         nan,\n",
       "                nan,         nan],\n",
       "       ..., \n",
       "       [        nan,         nan,         nan, ...,  1.        ,\n",
       "         0.31942857,  0.48542846],\n",
       "       [        nan,         nan,         nan, ...,  0.31942857,\n",
       "         1.        ,  0.31879469],\n",
       "       [        nan,         nan,         nan, ...,  0.48542846,\n",
       "         0.31879469,  1.        ]])"
      ]
     },
     "execution_count": 10,
     "metadata": {},
     "output_type": "execute_result"
    }
   ],
   "source": [
    "#nan ...\n",
    "similarity(matrix2,'cosine')"
   ]
  },
  {
   "cell_type": "code",
   "execution_count": 98,
   "metadata": {
    "collapsed": false
   },
   "outputs": [
    {
     "data": {
      "text/plain": [
       "array([[ 1.,  0.,  0.,  0.,  0.,  0.,  0.,  0.,  0.,  0.],\n",
       "       [ 0.,  1.,  0.,  0.,  0.,  0.,  0.,  0.,  0.,  0.],\n",
       "       [ 0.,  0.,  1.,  0.,  0.,  0.,  0.,  0.,  0.,  0.],\n",
       "       [ 0.,  0.,  0.,  1.,  0.,  0.,  0.,  0.,  0.,  0.],\n",
       "       [ 0.,  0.,  0.,  0.,  1.,  0.,  0.,  0.,  0.,  0.],\n",
       "       [ 0.,  0.,  0.,  0.,  0.,  1.,  0.,  0.,  0.,  0.],\n",
       "       [ 0.,  0.,  0.,  0.,  0.,  0.,  1.,  0.,  0.,  0.],\n",
       "       [ 0.,  0.,  0.,  0.,  0.,  0.,  0.,  1.,  0.,  0.],\n",
       "       [ 0.,  0.,  0.,  0.,  0.,  0.,  0.,  0.,  1.,  0.],\n",
       "       [ 0.,  0.,  0.,  0.,  0.,  0.,  0.,  0.,  0.,  1.]])"
      ]
     },
     "execution_count": 98,
     "metadata": {},
     "output_type": "execute_result"
    }
   ],
   "source": [
    "similarity(matrix,'jaccard')#pb avec les ratings_values \n",
    "#à corriger ............"
   ]
  },
  {
   "cell_type": "code",
   "execution_count": null,
   "metadata": {
    "collapsed": true
   },
   "outputs": [],
   "source": [
    "#mauvaise idée\n",
    "#similarity(matrix2,'jaccard')"
   ]
  },
  {
   "cell_type": "code",
   "execution_count": 11,
   "metadata": {
    "collapsed": false
   },
   "outputs": [
    {
     "data": {
      "text/plain": [
       "[7, 1, 9, 0, 8, 6, 2, 5, 4, 3]"
      ]
     },
     "execution_count": 11,
     "metadata": {},
     "output_type": "execute_result"
    }
   ],
   "source": [
    "uniform_test=MangakiUniform(10)\n",
    "uniform_test.sample_k(similarity1)"
   ]
  },
  {
   "cell_type": "code",
   "execution_count": 12,
   "metadata": {
    "collapsed": false
   },
   "outputs": [
    {
     "name": "stderr",
     "output_type": "stream",
     "text": [
      "/home/voisin/mangaki/venv/lib/python3.4/site-packages/ipykernel/__main__.py:116: VisibleDeprecationWarning: boolean index did not match indexed array along dimension 0; dimension is 10 but corresponding boolean dimension is 14416\n",
      "\n"
     ]
    },
    {
     "ename": "IndexError",
     "evalue": "index 4167 is out of bounds for axis 0 with size 10",
     "output_type": "error",
     "traceback": [
      "\u001b[1;31m---------------------------------------------------------------------------\u001b[0m",
      "\u001b[1;31mIndexError\u001b[0m                                Traceback (most recent call last)",
      "\u001b[1;32m<ipython-input-12-3eb26e8a5dc3>\u001b[0m in \u001b[0;36m<module>\u001b[1;34m()\u001b[0m\n\u001b[0;32m      1\u001b[0m \u001b[0mitems\u001b[0m \u001b[1;33m=\u001b[0m \u001b[0mrange\u001b[0m\u001b[1;33m(\u001b[0m\u001b[1;36m0\u001b[0m\u001b[1;33m,\u001b[0m\u001b[0mnb_items\u001b[0m\u001b[1;33m)\u001b[0m\u001b[1;33m\u001b[0m\u001b[0m\n\u001b[0;32m      2\u001b[0m \u001b[0mdpp_test\u001b[0m\u001b[1;33m=\u001b[0m\u001b[0mMangakiDPP\u001b[0m\u001b[1;33m(\u001b[0m\u001b[1;36m10\u001b[0m\u001b[1;33m)\u001b[0m\u001b[1;33m\u001b[0m\u001b[0m\n\u001b[1;32m----> 3\u001b[1;33m \u001b[0mdpp_test\u001b[0m\u001b[1;33m.\u001b[0m\u001b[0msample_k\u001b[0m\u001b[1;33m(\u001b[0m\u001b[0mitems\u001b[0m\u001b[1;33m,\u001b[0m\u001b[0msimilarity1\u001b[0m\u001b[1;33m,\u001b[0m\u001b[1;36m10\u001b[0m\u001b[1;33m)\u001b[0m\u001b[1;33m\u001b[0m\u001b[0m\n\u001b[0m",
      "\u001b[1;32m<ipython-input-1-d4afe7a783e0>\u001b[0m in \u001b[0;36msample_k\u001b[1;34m(self, items, L, k, max_nb_iterations, rng)\u001b[0m\n\u001b[0;32m    114\u001b[0m                         \u001b[0mY\u001b[0m \u001b[1;33m=\u001b[0m \u001b[0mX\u001b[0m\u001b[1;33m.\u001b[0m\u001b[0mcopy\u001b[0m\u001b[1;33m(\u001b[0m\u001b[1;33m)\u001b[0m\u001b[1;33m\u001b[0m\u001b[0m\n\u001b[0;32m    115\u001b[0m                         \u001b[0mY\u001b[0m\u001b[1;33m[\u001b[0m\u001b[0mu\u001b[0m\u001b[1;33m]\u001b[0m \u001b[1;33m=\u001b[0m \u001b[1;32mFalse\u001b[0m\u001b[1;33m\u001b[0m\u001b[0m\n\u001b[1;32m--> 116\u001b[1;33m                         \u001b[0mL_Y\u001b[0m \u001b[1;33m=\u001b[0m \u001b[0mL\u001b[0m\u001b[1;33m[\u001b[0m\u001b[0mY\u001b[0m\u001b[1;33m,\u001b[0m \u001b[1;33m:\u001b[0m\u001b[1;33m]\u001b[0m\u001b[1;33m\u001b[0m\u001b[0m\n\u001b[0m\u001b[0;32m    117\u001b[0m                         \u001b[0mL_Y\u001b[0m \u001b[1;33m=\u001b[0m \u001b[0mL_Y\u001b[0m\u001b[1;33m[\u001b[0m\u001b[1;33m:\u001b[0m\u001b[1;33m,\u001b[0m \u001b[0mY\u001b[0m\u001b[1;33m]\u001b[0m\u001b[1;33m\u001b[0m\u001b[0m\n\u001b[0;32m    118\u001b[0m                         \u001b[0mL_Y_inv\u001b[0m \u001b[1;33m=\u001b[0m \u001b[0mnp\u001b[0m\u001b[1;33m.\u001b[0m\u001b[0mlinalg\u001b[0m\u001b[1;33m.\u001b[0m\u001b[0minv\u001b[0m\u001b[1;33m(\u001b[0m\u001b[0mL_Y\u001b[0m\u001b[1;33m)\u001b[0m\u001b[1;33m\u001b[0m\u001b[0m\n",
      "\u001b[1;31mIndexError\u001b[0m: index 4167 is out of bounds for axis 0 with size 10"
     ]
    }
   ],
   "source": [
    "items = range(0,nb_items)\n",
    "dpp_test=MangakiDPP(10)\n",
    "dpp_test.sample_k(items,similarity1,10)"
   ]
  }
 ],
 "metadata": {
  "kernelspec": {
   "display_name": "Django Shell-Plus",
   "language": "python",
   "name": "django_extensions"
  },
  "language_info": {
   "codemirror_mode": {
    "name": "ipython",
    "version": 3
   },
   "file_extension": ".py",
   "mimetype": "text/x-python",
   "name": "python",
   "nbconvert_exporter": "python",
   "pygments_lexer": "ipython3",
   "version": "3.4.3"
  }
 },
 "nbformat": 4,
 "nbformat_minor": 0
}

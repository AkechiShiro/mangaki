{
 "cells": [
  {
   "cell_type": "code",
   "execution_count": null,
   "metadata": {
    "collapsed": true
   },
   "outputs": [],
   "source": [
    "\"\"\"\n",
    "vérifier :\n",
    "-existence de fr, en, ja tjrs OK\n",
    "-existence de category OK\n",
    "\n",
    "comment ranger les tags, lesquels prendre ? voir slack\n",
    "\n",
    "ajouter : \n",
    "save de tags TODO\n",
    "\n",
    "\"\"\""
   ]
  },
  {
   "cell_type": "code",
   "execution_count": 215,
   "metadata": {
    "collapsed": false
   },
   "outputs": [
    {
     "data": {
      "text/plain": [
       "(<WorkTitle: dn>, False)"
      ]
     },
     "execution_count": 215,
     "metadata": {},
     "output_type": "execute_result"
    }
   ],
   "source": [
    "#sauvegarde test\n",
    "\n",
    "#un worktitle\n",
    "from mangaki.models import Work\n",
    "\n",
    "a=Work.objects.filter(id=1)[0]\n",
    "WorkTitle.objects.update_or_create(work=a, title='dn', language='french')"
   ]
  },
  {
   "cell_type": "code",
   "execution_count": null,
   "metadata": {
    "collapsed": true
   },
   "outputs": [],
   "source": []
  },
  {
   "cell_type": "code",
   "execution_count": 150,
   "metadata": {
    "collapsed": false
   },
   "outputs": [
    {
     "data": {
      "text/plain": [
       "7"
      ]
     },
     "execution_count": 150,
     "metadata": {},
     "output_type": "execute_result"
    }
   ],
   "source": [
    "Work.objects.get(id=1).worktitle_set.count()"
   ]
  },
  {
   "cell_type": "code",
   "execution_count": 85,
   "metadata": {
    "collapsed": false
   },
   "outputs": [
    {
     "data": {
      "text/plain": [
       "[]"
      ]
     },
     "execution_count": 85,
     "metadata": {},
     "output_type": "execute_result"
    }
   ],
   "source": [
    "Genre.objects.get(title=\"Aventure\")\n",
    "Genre.objects.filter(title=\"thriller\")"
   ]
  },
  {
   "cell_type": "code",
   "execution_count": 88,
   "metadata": {
    "collapsed": false
   },
   "outputs": [
    {
     "ename": "MultipleObjectsReturned",
     "evalue": "get() returned more than one Genre -- it returned 2!",
     "output_type": "error",
     "traceback": [
      "\u001b[1;31m---------------------------------------------------------------------------\u001b[0m",
      "\u001b[1;31mMultipleObjectsReturned\u001b[0m                   Traceback (most recent call last)",
      "\u001b[1;32m<ipython-input-88-c62cd3d201e4>\u001b[0m in \u001b[0;36m<module>\u001b[1;34m()\u001b[0m\n\u001b[0;32m      3\u001b[0m \u001b[0ma\u001b[0m\u001b[1;33m=\u001b[0m\u001b[0mWork\u001b[0m\u001b[1;33m.\u001b[0m\u001b[0mobjects\u001b[0m\u001b[1;33m.\u001b[0m\u001b[0mfilter\u001b[0m\u001b[1;33m(\u001b[0m\u001b[0mid\u001b[0m\u001b[1;33m=\u001b[0m\u001b[1;36m1\u001b[0m\u001b[1;33m)\u001b[0m\u001b[1;33m[\u001b[0m\u001b[1;36m0\u001b[0m\u001b[1;33m]\u001b[0m\u001b[1;33m\u001b[0m\u001b[0m\n\u001b[0;32m      4\u001b[0m \u001b[0mGenre\u001b[0m\u001b[1;33m.\u001b[0m\u001b[0mobjects\u001b[0m\u001b[1;33m.\u001b[0m\u001b[0mupdate_or_create\u001b[0m\u001b[1;33m(\u001b[0m\u001b[0mtitle\u001b[0m\u001b[1;33m=\u001b[0m\u001b[1;34m'thriller'\u001b[0m\u001b[1;33m)\u001b[0m\u001b[1;33m\u001b[0m\u001b[0m\n\u001b[1;32m----> 5\u001b[1;33m \u001b[0mGenre\u001b[0m\u001b[1;33m.\u001b[0m\u001b[0mobjects\u001b[0m\u001b[1;33m.\u001b[0m\u001b[0mupdate_or_create\u001b[0m\u001b[1;33m(\u001b[0m\u001b[0mtitle\u001b[0m\u001b[1;33m=\u001b[0m\u001b[1;34m'dark shonen'\u001b[0m\u001b[1;33m)\u001b[0m\u001b[1;33m\u001b[0m\u001b[0m\n\u001b[0m\u001b[0;32m      6\u001b[0m \u001b[1;31m#a.genre.update_or_create(title='dark shonen')\u001b[0m\u001b[1;33m\u001b[0m\u001b[1;33m\u001b[0m\u001b[0m\n\u001b[0;32m      7\u001b[0m \u001b[1;31m#Genre.objects.update_or_create(title='')\u001b[0m\u001b[1;33m\u001b[0m\u001b[1;33m\u001b[0m\u001b[0m\n",
      "\u001b[1;32m/home/voisin/mangaki/venv/lib/python3.4/site-packages/django/db/models/manager.py\u001b[0m in \u001b[0;36mmanager_method\u001b[1;34m(self, *args, **kwargs)\u001b[0m\n\u001b[0;32m    120\u001b[0m         \u001b[1;32mdef\u001b[0m \u001b[0mcreate_method\u001b[0m\u001b[1;33m(\u001b[0m\u001b[0mname\u001b[0m\u001b[1;33m,\u001b[0m \u001b[0mmethod\u001b[0m\u001b[1;33m)\u001b[0m\u001b[1;33m:\u001b[0m\u001b[1;33m\u001b[0m\u001b[0m\n\u001b[0;32m    121\u001b[0m             \u001b[1;32mdef\u001b[0m \u001b[0mmanager_method\u001b[0m\u001b[1;33m(\u001b[0m\u001b[0mself\u001b[0m\u001b[1;33m,\u001b[0m \u001b[1;33m*\u001b[0m\u001b[0margs\u001b[0m\u001b[1;33m,\u001b[0m \u001b[1;33m**\u001b[0m\u001b[0mkwargs\u001b[0m\u001b[1;33m)\u001b[0m\u001b[1;33m:\u001b[0m\u001b[1;33m\u001b[0m\u001b[0m\n\u001b[1;32m--> 122\u001b[1;33m                 \u001b[1;32mreturn\u001b[0m \u001b[0mgetattr\u001b[0m\u001b[1;33m(\u001b[0m\u001b[0mself\u001b[0m\u001b[1;33m.\u001b[0m\u001b[0mget_queryset\u001b[0m\u001b[1;33m(\u001b[0m\u001b[1;33m)\u001b[0m\u001b[1;33m,\u001b[0m \u001b[0mname\u001b[0m\u001b[1;33m)\u001b[0m\u001b[1;33m(\u001b[0m\u001b[1;33m*\u001b[0m\u001b[0margs\u001b[0m\u001b[1;33m,\u001b[0m \u001b[1;33m**\u001b[0m\u001b[0mkwargs\u001b[0m\u001b[1;33m)\u001b[0m\u001b[1;33m\u001b[0m\u001b[0m\n\u001b[0m\u001b[0;32m    123\u001b[0m             \u001b[0mmanager_method\u001b[0m\u001b[1;33m.\u001b[0m\u001b[0m__name__\u001b[0m \u001b[1;33m=\u001b[0m \u001b[0mmethod\u001b[0m\u001b[1;33m.\u001b[0m\u001b[0m__name__\u001b[0m\u001b[1;33m\u001b[0m\u001b[0m\n\u001b[0;32m    124\u001b[0m             \u001b[0mmanager_method\u001b[0m\u001b[1;33m.\u001b[0m\u001b[0m__doc__\u001b[0m \u001b[1;33m=\u001b[0m \u001b[0mmethod\u001b[0m\u001b[1;33m.\u001b[0m\u001b[0m__doc__\u001b[0m\u001b[1;33m\u001b[0m\u001b[0m\n",
      "\u001b[1;32m/home/voisin/mangaki/venv/lib/python3.4/site-packages/django/db/models/query.py\u001b[0m in \u001b[0;36mupdate_or_create\u001b[1;34m(self, defaults, **kwargs)\u001b[0m\n\u001b[0;32m    478\u001b[0m         \u001b[0mself\u001b[0m\u001b[1;33m.\u001b[0m\u001b[0m_for_write\u001b[0m \u001b[1;33m=\u001b[0m \u001b[1;32mTrue\u001b[0m\u001b[1;33m\u001b[0m\u001b[0m\n\u001b[0;32m    479\u001b[0m         \u001b[1;32mtry\u001b[0m\u001b[1;33m:\u001b[0m\u001b[1;33m\u001b[0m\u001b[0m\n\u001b[1;32m--> 480\u001b[1;33m             \u001b[0mobj\u001b[0m \u001b[1;33m=\u001b[0m \u001b[0mself\u001b[0m\u001b[1;33m.\u001b[0m\u001b[0mget\u001b[0m\u001b[1;33m(\u001b[0m\u001b[1;33m**\u001b[0m\u001b[0mlookup\u001b[0m\u001b[1;33m)\u001b[0m\u001b[1;33m\u001b[0m\u001b[0m\n\u001b[0m\u001b[0;32m    481\u001b[0m         \u001b[1;32mexcept\u001b[0m \u001b[0mself\u001b[0m\u001b[1;33m.\u001b[0m\u001b[0mmodel\u001b[0m\u001b[1;33m.\u001b[0m\u001b[0mDoesNotExist\u001b[0m\u001b[1;33m:\u001b[0m\u001b[1;33m\u001b[0m\u001b[0m\n\u001b[0;32m    482\u001b[0m             \u001b[0mobj\u001b[0m\u001b[1;33m,\u001b[0m \u001b[0mcreated\u001b[0m \u001b[1;33m=\u001b[0m \u001b[0mself\u001b[0m\u001b[1;33m.\u001b[0m\u001b[0m_create_object_from_params\u001b[0m\u001b[1;33m(\u001b[0m\u001b[0mlookup\u001b[0m\u001b[1;33m,\u001b[0m \u001b[0mparams\u001b[0m\u001b[1;33m)\u001b[0m\u001b[1;33m\u001b[0m\u001b[0m\n",
      "\u001b[1;32m/home/voisin/mangaki/venv/lib/python3.4/site-packages/django/db/models/query.py\u001b[0m in \u001b[0;36mget\u001b[1;34m(self, *args, **kwargs)\u001b[0m\n\u001b[0;32m    389\u001b[0m         raise self.model.MultipleObjectsReturned(\n\u001b[0;32m    390\u001b[0m             \u001b[1;34m\"get() returned more than one %s -- it returned %s!\"\u001b[0m \u001b[1;33m%\u001b[0m\u001b[1;33m\u001b[0m\u001b[0m\n\u001b[1;32m--> 391\u001b[1;33m             \u001b[1;33m(\u001b[0m\u001b[0mself\u001b[0m\u001b[1;33m.\u001b[0m\u001b[0mmodel\u001b[0m\u001b[1;33m.\u001b[0m\u001b[0m_meta\u001b[0m\u001b[1;33m.\u001b[0m\u001b[0mobject_name\u001b[0m\u001b[1;33m,\u001b[0m \u001b[0mnum\u001b[0m\u001b[1;33m)\u001b[0m\u001b[1;33m\u001b[0m\u001b[0m\n\u001b[0m\u001b[0;32m    392\u001b[0m         )\n\u001b[0;32m    393\u001b[0m \u001b[1;33m\u001b[0m\u001b[0m\n",
      "\u001b[1;31mMultipleObjectsReturned\u001b[0m: get() returned more than one Genre -- it returned 2!"
     ]
    }
   ],
   "source": [
    "#add, update_or_reate, create\n",
    "#PB : Mnytomanyfields à regarder : \n",
    "#un tag,  un genre\n",
    "a=Work.objects.filter(id=1)[0]\n",
    "Genre.objects.update_or_create(title='thriller')\n",
    "Genre.objects.update_or_create(title='dark shonen')\n",
    "#a.genre.update_or_create(title='dark shonen')\n",
    "#Genre.objects.update_or_create(title='')"
   ]
  },
  {
   "cell_type": "markdown",
   "metadata": {
    "collapsed": true
   },
   "source": [
    "# Ex avec .hack//SIGN\n"
   ]
  },
  {
   "cell_type": "code",
   "execution_count": 1,
   "metadata": {
    "collapsed": true
   },
   "outputs": [],
   "source": [
    "#le fichier anidb\n",
    "text=\"\"\"\n",
    "<?xml version=\"1.0\" encoding=\"UTF-8\"?>\n",
    "<anime id=\"24\" restricted=\"false\">\n",
    "<type>TV Series</type>\n",
    "<episodecount>26</episodecount>\n",
    "<startdate>2002-04-04</startdate>\n",
    "<enddate>2002-09-26</enddate>\n",
    "<titles>\n",
    "<title xml:lang=\"x-jat\" type=\"main\">.hack//SIGN</title>\n",
    "<title xml:lang=\"en\" type=\"synonym\">dot hack sign</title>\n",
    "<title xml:lang=\"en\" type=\"official\">dot hack sign</title>\n",
    "<title xml:lang=\"ro\" type=\"synonym\">.hack//SIGN</title>\n",
    "<title xml:lang=\"bg\" type=\"synonym\">Хак//Симбол</title>\n",
    "<title xml:lang=\"x-jat\" type=\"synonym\">dot hack</title>\n",
    "<title xml:lang=\"x-jat\" type=\"synonym\">hack sign</title>\n",
    "<title xml:lang=\"x-jat\" type=\"synonym\">hack//SIGN</title>\n",
    "<title xml:lang=\"bg\" type=\"short\">Хак</title>\n",
    "<title xml:lang=\"x-jat\" type=\"short\">hack</title>\n",
    "<title xml:lang=\"x-jat\" type=\"short\">sign</title>\n",
    "<title xml:lang=\"x-jat\" type=\"short\">hackSIGN</title>\n",
    "<title xml:lang=\"ja\" type=\"official\">.hack//SIGN</title>\n",
    "<title xml:lang=\"de\" type=\"official\">.hack//SIGN</title>\n",
    "<title xml:lang=\"fr\" type=\"official\">.hack//SIGN</title>\n",
    "<title xml:lang=\"pt-BR\" type=\"official\">.hack//SIGN</title>\n",
    "</titles>\n",
    "<relatedanime>\n",
    "<anime id=\"222\" type=\"Sequel\">.hack//Liminality</anime>\n",
    "<anime id=\"7883\" type=\"Same Setting\">.hack//Quantum</anime>\n",
    "<anime id=\"447\" type=\"Same Setting\">.hack//Tasogare no Udewa Densetsu</anime>\n",
    "<anime id=\"4324\" type=\"Same Setting\">.hack//Roots</anime>\n",
    "<anime id=\"1135\" type=\"Side Story\">.hack//GIFT</anime>\n",
    "</relatedanime>\n",
    "<similaranime>\n",
    "<anime id=\"8692\" approval=\"150\" total=\"176\">Sword Art Online</anime>\n",
    "<anime id=\"13\" approval=\"4\" total=\"11\">Noir</anime>\n",
    "<anime id=\"1654\" approval=\"2\" total=\"12\">Madlax</anime>\n",
    "<anime id=\"4966\" approval=\"2\" total=\"9\">El Cazador de la Bruja</anime>\n",
    "<anime id=\"99\" approval=\"1\" total=\"8\">Serial Experiments Lain</anime>\n",
    "</similaranime>\n",
    "<recommendations total=\"12\">\n",
    "<recommendation type=\"For Fans\" uid=\"495882\">I personally love this anime, but I can`t help but feel that I only love it because of nostalgia factor alone. The soundtrack is the best soundtrack I`ve ever heard in an anime. Period. The anime as a whole is VERY original, but the story moves slow.</recommendation>\n",
    "<recommendation type=\"For Fans\" uid=\"371670\">This is a quality anime, certainly interesting for gamers but something kept me from giving it status \"recommended/must see\". I liked it a lot in the beginning, \"The World\" seemed very appealing, especially for me, a gamer familiar with RPG. However, the story progress is very and sometimes painfully slow. I truly enjoyed the soundtrack which is without doubt one of the best music background you can hear in anime. Sadly, the main character of Tsukasa is often irritating and indecision of other characters as well. As the story is gradually falling more and more into angst, I stopped to like it - I guess I just wanted some nice fantasy anime set in a virtual reality. Nevertheless, I rated quite high since Hack deserves it. You will either like it or not. ;)</recommendation>\n",
    "<recommendation type=\"Recommended\" uid=\"299048\">A rare digital plot that has no end to it :)</recommendation>\n",
    "<recommendation type=\"Recommended\" uid=\"43034\">If you have played some old-school MMORPGs and met new friends through them, you owe it to yourself to watch //SIGN.\n",
    "The Anime manages to capture some of the player interactions in those online worlds really well and touches on subjects like escapism, online vs. RL, anonymity and more. All the while a fantastic choral soundtrack accompanies the on-screen exposition.\n",
    "Watching this, I recalled many moments of me playing Lineage 2 and Guild Wars (1) and spending time with my friends online.\n",
    "\n",
    "The anime is definitely not for everyone though. The story is quite convoluted and there are quite a lot of uncertainties left at the end. If you`re looking for something more action orientated or fast paced, stay away from //SIGN or you`ll regret it. The exposition unravels reaaaaly slow and it`s very dialouge heavy. It focuses on the psychological and sociological aspects of MMOs, rather than their battles, quests or other gameplay elements.</recommendation>\n",
    "</recommendations>\n",
    "<url>http://www.beetrain.co.jp/contents/works/sign/</url>\n",
    "<creators>\n",
    "\n",
    "\n",
    "<name id=\"7851\" type=\"Character Design\">Oosawa Satoshi</name>\n",
    "<name id=\"2473\" type=\"Character Design\">Iwaoka Yuuko</name>\n",
    "<name id=\"2459\" type=\"Character Design\">Shiba Minako</name>\n",
    "<name id=\"3740\" type=\"Series Composition\">Itou Kazunori</name>\n",
    "<name id=\"749\" type=\"Work\">Bee Train</name>\n",
    "<name id=\"704\" type=\"Music\">Kajiura Yuki</name>\n",
    "</creators>\n",
    "<description>In the year 2005, a computer virus called Pluto Kiss completely shuts down and restricts the global Internet network. In 2007, after extensive rescinding of the network, an online network game (MMORPG) called The World is created and released.\n",
    "http://anidb.net/ch3547 [Tsukasa] suddenly awakens to find himself in The World, being able to feel, smell, touch, see and hear everything as if he was really there. He attempts to log out but fails to do so. Being unable to remember what has happened before he awoke, he wanders around aimlessly to find answers. While doing so, system moderators, the Scarlet Knights, suspect that he has been working with hackers, because of a tweaked cat-faced character he had been seen with. Tsukasa finds a magical item, that grants him the power to use the fearful Guardian that will protect him from any harm. To Tsukasa`s dismay it turns out that this guardian can not only easily defeat player characters in the game, but actually badly hurt players in the real world.\n",
    "On his search for truth, Tsukasa encounters the friendly and supportive http://anidb.net/ch3661 [Mimiru], the wise, fatherly http://anidb.net/ch9953 [Bear], the manipulative http://anidb.net/ch9957 [BT], the scrupulous http://anidb.net/ch9954 [Sora], the fun-loving http://anidb.net/ch9955 [Crim], and the mysterious http://anidb.net/ch9956 [Subaru], leader of the Scarlet Knights. When a mythical item called the Key of the Twilight turns out to be less of a myth, Tsukasa, questions whom he can really trust, and what the power to overcome The World`s system limitations actually entails...</description>\n",
    "<ratings>\n",
    "<permanent count=\"5514\">5.07</permanent>\n",
    "<temporary count=\"5639\">7.26</temporary>\n",
    "<review count=\"19\">8.06</review>\n",
    "</ratings>\n",
    "<picture>11739.jpg</picture>\n",
    "<categories>\n",
    "<category id=\"508\" parentid=\"7\" hentai=\"true\" weight=\"200\">\n",
    "<name>Desert</name>\n",
    "<description>Setting with vast amounts of sand, merciless high temperatures, and very little water.</description>\n",
    "</category>\n",
    "<category id=\"497\" parentid=\"317\" hentai=\"false\" weight=\"200\">\n",
    "<name>Friendship</name>\n",
    "<description>The feeling of trust, kindness, and friendship between a group of high school students for example, is a central theme of this anime.</description>\n",
    "</category>\n",
    "<category id=\"323\" parentid=\"317\" hentai=\"false\" weight=\"100\">\n",
    "<name>Law and Order</name>\n",
    "<description>Where there is \"wealth\", there are criminals. It is up to the civil law enforcement, i.e. detectives, Police or Special Squads, to keep the lawless activities in the real world or in cyberspace under control.&#13;\n",
    "&#13;\n",
    "Note: Do not confuse this with Military presence. </description>\n",
    "</category>\n",
    "<category id=\"230\" parentid=\"198\" hentai=\"false\" weight=\"100\">\n",
    "<name>Love Polygon</name>\n",
    "<description>A love polygon refers to a romantic relationship involving n people. Although a love triangle is not limited to just heterosexual relationships, in anime, it usually deals with two females liking one male and vice versa.</description>\n",
    "</category>\n",
    "<category id=\"252\" parentid=\"313\" hentai=\"false\" weight=\"200\">\n",
    "<name>Angst</name>\n",
    "<description>A feeling of general discomfort and uneasiness is present due to either trivial or more serious reasons, often accompanied by depression.&#13;\n",
    "&#13;\n",
    "Warning: may contain copious amounts of brooding and sighing.</description>\n",
    "</category>\n",
    "<category id=\"88\" parentid=\"83\" hentai=\"false\" weight=\"100\">\n",
    "<name>Nudity</name>\n",
    "<description>Nudity is the state of wearing no clothing and exposing the bare skin or intimate parts.\n",
    "\n",
    "Especially gratuitous fanservice shows tend to show their characters frequently without any clothes, though often hiding genitals through the means of additions like steam.</description>\n",
    "</category>\n",
    "<category id=\"489\" parentid=\"318\" hentai=\"false\" weight=\"200\">\n",
    "<name>Dark-skinned Girl</name>\n",
    "<description>The anime features a girl with dark skin. A fetish of sorts, since the other protagonists are usually as white-skinned as porcelain dolls.</description>\n",
    "</category>\n",
    "<category id=\"488\" parentid=\"175\" hentai=\"false\" weight=\"100\">\n",
    "<name>Spellcasting</name>\n",
    "<description>The magic version of “call your attacks”. The protagonist will explicitly call out the magical incantation for the spells.</description>\n",
    "</category>\n",
    "<category id=\"482\" parentid=\"175\" hentai=\"false\" weight=\"100\">\n",
    "<name>Magic Circles</name>\n",
    "<description>A circle used to contain magical energy and/or to provide magical protection. It can be drawn (with chalk etc.) or it can just spontaneously appear as part of the spell/ritual.</description>\n",
    "</category>\n",
    "<category id=\"151\" parentid=\"17\" hentai=\"false\" weight=\"100\">\n",
    "<name>Parody</name>\n",
    "<description>Anime that imitate other stories (can be from TV, film, books, historical events, ...) for comic effect by exaggerating the style and changing the content of the original. Also known as spoofs. It can also refer to when whole elements of one work are lifted out of their context and reused.</description>\n",
    "</category>\n",
    "<category id=\"18\" parentid=\"4\" hentai=\"false\" weight=\"400\">\n",
    "<name>Super Power</name>\n",
    "<description>Be it an ancient Greek Heracles, a cybernetic muscle-man, or a fourteen year-old girl in a mini-skirted sailor suit. As long as they have super powers, they`re in the show.</description>\n",
    "</category>\n",
    "<category id=\"130\" parentid=\"291\" hentai=\"false\" weight=\"600\">\n",
    "<name>Virtual Reality</name>\n",
    "<description>A virtual reality is a place where the character interacts with a computer (or some other device)-simulated environment, be it real or imagined. The condition for a virtual reality to exist is the existence of real world for the character. In some cases, a virtual reality where characters can get harmed physically is depicted.</description>\n",
    "</category>\n",
    "<category id=\"198\" parentid=\"313\" hentai=\"false\" weight=\"300\">\n",
    "<name>Romance</name>\n",
    "<description>Romance describes a story that deals with love between two or more characters typically also having an optimistic ending. Romance is also a difficulty encountered when creating a harem.</description>\n",
    "</category>\n",
    "<category id=\"127\" parentid=\"11\" hentai=\"false\" weight=\"400\">\n",
    "<name>Alternative Present</name>\n",
    "<description>Anime that fit in the alternative present category usually have technology and society that is very similar to ours, but with differences in both, history and culture, which sometimes are blatantly obvious, but sometimes harder to place; this one can at times be very subjective.</description>\n",
    "</category>\n",
    "<category id=\"15\" parentid=\"313\" hentai=\"false\" weight=\"200\">\n",
    "<name>Fantasy</name>\n",
    "<description>Imaginative or fanciful work, especially one dealing with supernatural elements and themes.</description>\n",
    "</category>\n",
    "<category id=\"173\" parentid=\"4\" hentai=\"false\" weight=\"100\">\n",
    "<name>Swordplay</name>\n",
    "<description>The act or art of using a sword or similar weapon skillfully.</description>\n",
    "</category>\n",
    "<category id=\"175\" parentid=\"15\" hentai=\"false\" weight=\"100\">\n",
    "<name>Magic</name>\n",
    "<description>In a traditional Fantasy anime with medieval setting, the lack of technology is \"compensated\" by the introduction of the supernatural, i.e. spell-casting, magic wands, and magic circles. &#13;\n",
    "&#13;\n",
    "In another setting long-lost technology may be so advanced that it is mistaken for magic (Arthur C. Clarke: \"Any sufficiently advanced technology is indistinguishable from magic\"). See also related tag: science and magic coexist.</description>\n",
    "</category>\n",
    "<category id=\"306\" parentid=\"313\" hentai=\"false\" weight=\"200\">\n",
    "<name>Adventure</name>\n",
    "<description>Adventures are exciting stories, with new experiences or exotic locales. Adventures are designed to provide an action-filled, energetic experience for the viewer. Rather than the predominant emphasis on violence and fighting that is found in pure action anime, however, the viewer of adventures can live vicariously through the travels, conquests, explorations, creation of empires, struggles and situations that confront the main characters, actual historical figures or protagonists. Under the category of adventures, we can include traditional swashbucklers, serialized films, and historical spectacles, searches or expeditions for lost continents, \"jungle\" and \"desert\" epics, treasure hunts and quests, disaster films, and heroic journeys or searches for the unknown. Adventure films are often set in an historical period, and may include adapted stories of historical or literary adventure heroes, kings, battles, rebellion, or piracy.</description>\n",
    "</category>\n",
    "<category id=\"84\" parentid=\"83\" hentai=\"false\" weight=\"100\">\n",
    "<name>Violence</name>\n",
    "<description>Physical force against self or other, compelling action against one`s will on pain of being hurt.</description>\n",
    "</category>\n",
    "<category id=\"22\" parentid=\"289\" hentai=\"false\" weight=\"100\">\n",
    "<name>Asia</name>\n",
    "<description>Asia is the world`s largest and most populous continent.</description>\n",
    "</category>\n",
    "<category id=\"23\" parentid=\"22\" hentai=\"false\" weight=\"100\">\n",
    "<name>Japan</name>\n",
    "<description>Last stronghold for humanity, if Tokyo falls, it`s all over. Tokyo Tower will undoubtedly fall anyway.</description>\n",
    "</category>\n",
    "<category id=\"233\" parentid=\"216\" hentai=\"false\" weight=\"300\">\n",
    "<name>Plot Continuity</name>\n",
    "<description>Consistency of the characteristics of persons, plot, objects, places and events seen by the viewer.&#13;\n",
    "&#13;\n",
    "A single linear focused plot is highly continuous.&#13;\n",
    "&#13;\n",
    "A truly random plot is highly discontinuous.</description>\n",
    "</category>\n",
    "<category id=\"275\" parentid=\"268\" hentai=\"false\" weight=\"600\">\n",
    "<name>New</name>\n",
    "<description>Not based on anything, the story is a new work, usually made up by the people involved in creating the anime. Generally if an original work (原作) credit is given, it will be to the studio, or director, or other members of the production team.</description>\n",
    "</category>\n",
    "<category id=\"278\" parentid=\"198\" hentai=\"false\" weight=\"100\">\n",
    "<name>Shoujo Ai</name>\n",
    "<description>Shoujo Ai means girls love, and as such it explores what happens when two girls (or women) fall in love. This is not to be mistaken for Yuri which is (or, at least, how this term is often used by the western audience) a hentai genre. This is not. Meaning no graphical sex.</description>\n",
    "</category>\n",
    "<category id=\"289\" parentid=\"7\" hentai=\"false\" weight=\"100\">\n",
    "<name>Earth</name>\n",
    "<description>The Earth is the third planet from the Sun. It is a ball of hot mud, but on the surface it`s cold enough, so most of us live on it (or are supposed to). To its inhabitants, our planet is their home, so, as a species, we cherish it to the point many cultures even to this day deify it. The Earth is the main setting of most fiction, but many titles are set in other places, such as unrelated fantasy worlds, and in a considerable number of fictional titles the Earth is actually destroyed by invaders.</description>\n",
    "</category>\n",
    "<category id=\"291\" parentid=\"7\" hentai=\"false\" weight=\"600\">\n",
    "<name>Fantasy World</name>\n",
    "<description>A fantasy world is a type of imaginary world, part of a fictional universe. Typical worlds involve, but are not limited to magic or magical abilities and a medieval theme. Some examples include: a parallel world tenuously connected to Earth via magical portals or items; a fictional Earth-like planet in the remote past or future; or an entirely independent world set in another universe. Many fantasy worlds draw heavily on real world history, geography and sociology, and also on folklore.</description>\n",
    "</category>\n",
    "<category id=\"4\" parentid=\"313\" hentai=\"false\" weight=\"200\">\n",
    "<name>Action</name>\n",
    "<description>Action anime usually involve a fairly straightforward story of good guys versus bad guys, where most disputes are resolved by using physical force. It often contains a lot of shooting, explosions and fighting. </description>\n",
    "</category>\n",
    "<category id=\"79\" parentid=\"3\" hentai=\"false\" weight=\"600\">\n",
    "<name>Seinen</name>\n",
    "<description>In the context of manga and associated media, the word seinen refers to a male audience roughly between the ages of 15 and 44. In Japanese, the word means simply \"young man\", and has no anime/manga-related connotations at all. It does not comprise a style or a genre per se, but rather indicates the publisher`s intended target demographic.</description>\n",
    "</category>\n",
    "<category id=\"459\" parentid=\"340\" hentai=\"false\" weight=\"200\">\n",
    "<name>Reverse Trap</name>\n",
    "<description>A girl who dresses in male clothing.</description>\n",
    "</category>\n",
    "</categories>\n",
    "<resources>\n",
    "<resource type=\"1\">\n",
    "<externalentity>\n",
    "<identifier>3770</identifier>\n",
    "</externalentity>\n",
    "<externalentity>\n",
    "<identifier>3532</identifier>\n",
    "</externalentity>\n",
    "<externalentity>\n",
    "<identifier>605</identifier>\n",
    "</externalentity>\n",
    "</resource>\n",
    "<resource type=\"2\">\n",
    "<externalentity>\n",
    "<identifier>1487</identifier>\n",
    "</externalentity>\n",
    "<externalentity>\n",
    "<identifier>48</identifier>\n",
    "</externalentity>\n",
    "<externalentity>\n",
    "<identifier>1143</identifier>\n",
    "</externalentity>\n",
    "</resource>\n",
    "<resource type=\"3\">\n",
    "<externalentity>\n",
    "<identifier>862</identifier>\n",
    "<identifier>hjhhmj</identifier>\n",
    "</externalentity>\n",
    "</resource>\n",
    "<resource type=\"4\">\n",
    "<externalentity>\n",
    "<url>http://www.beetrain.co.jp/contents/works/sign/</url>\n",
    "</externalentity>\n",
    "</resource>\n",
    "<resource type=\"6\">\n",
    "<externalentity>\n",
    "<identifier>.hack//Sign</identifier>\n",
    "</externalentity>\n",
    "</resource>\n",
    "<resource type=\"7\">\n",
    "<externalentity>\n",
    "<identifier>.hack//SIGN</identifier>\n",
    "</externalentity>\n",
    "</resource>\n",
    "<resource type=\"9\">\n",
    "<externalentity>\n",
    "<identifier>237599</identifier>\n",
    "</externalentity>\n",
    "</resource>\n",
    "</resources>\n",
    "<tags>\n",
    "<tag id=\"1326\" approval=\"6\" spoiler=\"false\" localspoiler=\"false\" globalspoiler=\"false\" update=\"2008-07-02\">\n",
    "<name>great OP and ED</name>\n",
    "<count>143</count>\n",
    "<description>The OP (opening) and ED (ending) sequences contain a strong sense of effort toward impressively utilizing visuals, instrumentals and vocals to captivate an audience.\n",
    "This has nothing to do with any karaoke effects and styling individual subbers may have added.</description>\n",
    "</tag>\n",
    "<tag id=\"381\" approval=\"5\" spoiler=\"false\" localspoiler=\"false\" globalspoiler=\"false\" update=\"2011-04-10\">\n",
    "<name>great character development</name>\n",
    "<count>81</count>\n",
    "<description>A great deal of focus is given to the characters as they develop and mature their personalities and who they are or may yet to become. The methods are strong and persuasive, quite possibly with the intent of moulding a certain view or feel of the characters by those watching.\n",
    "These developments commonly focus on how characters act when alone, how any single character responds towards certain other individuals or how any single individual or group of individuals act and react towards any other individual or group of individuals.</description>\n",
    "</tag>\n",
    "<tag id=\"3725\" approval=\"7\" spoiler=\"false\" localspoiler=\"false\" globalspoiler=\"false\" update=\"2011-04-18\">\n",
    "<name>dialogue driven</name>\n",
    "<count>76</count>\n",
    "<description>The plot of the anime is advanced by hopefully interesting and intriguing dialogues. Action is clearly of very much lower priority.</description>\n",
    "</tag>\n",
    "<tag id=\"2899\" approval=\"13\" spoiler=\"false\" localspoiler=\"false\" globalspoiler=\"false\" update=\"2013-03-07\">\n",
    "<name>preview before ED</name>\n",
    "<count>16</count>\n",
    "<description>Unlike most productions, where the next episode preview rolls *after* the ending with the production credits, this title does the reverse: preview the next episode *first*, then enjoy the ED (or skip it if you prefer, without missing the juicy preview details).</description>\n",
    "</tag>\n",
    "<tag id=\"655\" approval=\"9\" spoiler=\"false\" localspoiler=\"false\" globalspoiler=\"false\" update=\"2010-01-20\">\n",
    "<name>amnesia</name>\n",
    "<count>153</count>\n",
    "<description>Loss of memory.\n",
    "Used as story element, gradually revealing a protagonist`s past that had been forgotten. Usually revealing a terribly gruesome happening.</description>\n",
    "</tag>\n",
    "<tag id=\"1307\" approval=\"6\" spoiler=\"true\" localspoiler=\"true\" globalspoiler=\"true\" update=\"2008-06-30\">\n",
    "<name>inconclusive</name>\n",
    "<count>106</count>\n",
    "<description>The anime series or movie ends as it begins, nothing significant changed. Or the outcome is so vague and open-ended that a continuation would be possible. At times this is a sign for a continuation in the next season, or that the series was dropped and never continued. In any case there is always a sense of dissatisfaction for the viewer.</description>\n",
    "</tag>\n",
    "<tag id=\"2123\" approval=\"7\" spoiler=\"false\" localspoiler=\"false\" globalspoiler=\"false\" update=\"2009-06-22\">\n",
    "<name>awesome storyline</name>\n",
    "<count>115</count>\n",
    "<description>The storyline is intriguingly crafted: The suspense will keep you at the edge of your seat, the plot twists will very much surprise, the character development is both convincing, and entertaining.\n",
    "This is how anime should be!</description>\n",
    "</tag>\n",
    "<tag id=\"682\" approval=\"22\" spoiler=\"false\" localspoiler=\"false\" globalspoiler=\"false\" update=\"2008-06-06\">\n",
    "<name>great soundtrack</name>\n",
    "<count>332</count>\n",
    "<description>The anime soundtrack is noteworthy.</description>\n",
    "</tag>\n",
    "<tag id=\"2206\" approval=\"6\" spoiler=\"true\" localspoiler=\"true\" globalspoiler=\"true\" update=\"2009-10-14\">\n",
    "<name>open ended</name>\n",
    "<count>118</count>\n",
    "<description>The ending of this anime is left to the viewers imagination. There are no clear hints at a definite story outcome, just several possibilities are presented.</description>\n",
    "</tag>\n",
    "<tag id=\"3999\" approval=\"7\" spoiler=\"false\" localspoiler=\"false\" globalspoiler=\"false\" update=\"2009-10-12\">\n",
    "<name>seeking protagonist</name>\n",
    "<count>45</count>\n",
    "<description>The main character has a main objective that is referenced to through the whole series; he is in search of something, or someone\n",
    "Should it be treasure, friends, money, power or all of the above nothing will stop our lead character in his quest to find his passion</description>\n",
    "</tag>\n",
    "<tag id=\"3969\" approval=\"7\" spoiler=\"false\" localspoiler=\"false\" globalspoiler=\"false\" update=\"2009-05-25\">\n",
    "<name>levelling</name>\n",
    "<count>2</count>\n",
    "</tag>\n",
    "<tag id=\"5792\" approval=\"6\" spoiler=\"false\" localspoiler=\"false\" globalspoiler=\"false\" update=\"2012-10-21\">\n",
    "<name>avatar</name>\n",
    "<count>8</count>\n",
    "<description>An avatar is a computer user`s representation of himself/herself or alter ego, whether in the form of a three-dimensional model used in computer games, a two-dimensional icon (picture) or a one-dimensional username used on Internet forums and other communities, or a text construct found on early systems such as MUDs. \n",
    "It is an object representing the user. The term \"avatar\" can also refer to the personality connected with the screen name, or handle, of an Internet user. \n",
    "This sense of the word was coined by Neal Stephenson in 1992`s Snow Crash who co-opted it from the Sanskrit word avatāra which is a concept similar to that of incarnation.</description>\n",
    "</tag>\n",
    "<tag id=\"4552\" approval=\"23\" spoiler=\"false\" localspoiler=\"false\" globalspoiler=\"false\" update=\"2012-10-07\">\n",
    "<name>RPG elements</name>\n",
    "<count>37</count>\n",
    "<description>The anime shows elements of a `R`ole `P`laying `G`ame, either as part of a parody or because the anime is actually based on an RPG.\n",
    "Typical elements: When collecting items, beating opponents, or levelling up a distinct (often childishly sounding) sound cue is played. A HUD (`H`eads `U`p `D`isplay) may also be presenting in combat, showing vital player and \"enemy\" statistics.</description>\n",
    "</tag>\n",
    "<tag id=\"7064\" approval=\"4\" spoiler=\"false\" localspoiler=\"false\" globalspoiler=\"false\" update=\"2013-01-21\">\n",
    "<name>insanely powerful computer virus</name>\n",
    "<count>2</count>\n",
    "<description>The anime features an unrealistically powerful computer virus: \n",
    "It affects every existing operating system (Windows, Linux, Mac OS, everyone gets infected), any kind of electronic device (no matter whether you use a computer, a cellphone or an electronic toaster, it gets infected), wreaks extreme havoc (shutting down water, electricity and gas, makes nuclear power plants blow up, sends planes crashing, etc.) and is generally the harbinger of the apocalypse of the modern world (and, even more so, in a future world, where even more things are computerized and, most conveniently, connected to the Internet).</description>\n",
    "</tag>\n",
    "<tag id=\"426\" approval=\"3\" spoiler=\"false\" localspoiler=\"false\" globalspoiler=\"false\" update=\"2012-10-06\">\n",
    "<name>tsundere</name>\n",
    "<count>370</count>\n",
    "<description>A character type (usually female), who is often easily agitated or combative, but other times is quite kind and caring, especially in situations involving a person they are (knowingly or unknowingly) attracted to.</description>\n",
    "</tag>\n",
    "<tag id=\"254\" approval=\"3\" spoiler=\"false\" localspoiler=\"false\" globalspoiler=\"false\" update=\"2010-03-15\">\n",
    "<name>mystery</name>\n",
    "<count>118</count>\n",
    "<description>The mystery film is a sub-genre of the more general category of crime film. It focuses on the efforts of the detective, private investigator or amateur sleuth to solve the mysterious circumstances of a crime by means of clues, investigation, and clever deduction. (Source: Wikipedia)</description>\n",
    "</tag>\n",
    "<tag id=\"788\" approval=\"3\" spoiler=\"true\" localspoiler=\"true\" globalspoiler=\"false\" update=\"2010-04-10\">\n",
    "<name>child abuse</name>\n",
    "<count>18</count>\n",
    "<description>Story depicts child abuse, which is a very complex and dangerous set of problems that include child neglect and the physical, emotional, and sexual abuse of children.</description>\n",
    "</tag>\n",
    "<tag id=\"4098\" approval=\"3\" spoiler=\"false\" localspoiler=\"false\" globalspoiler=\"false\" update=\"2012-02-23\">\n",
    "<name>psychological manipulation</name>\n",
    "<count>35</count>\n",
    "<description>Psychological manipulation is a type of social influence that aims to change the perception or behaviour of others through underhanded, deceptive, or even abusive tactics. By advancing the interests of the manipulator, often at the other`s expense, such methods could be considered exploitative, abusive, devious, and deceptive. \n",
    "Social influence is not necessarily negative. For example, doctors can try to persuade patients to change unhealthy habits. Social influence is generally perceived to be harmless when it respects the right of the influenced to accept or reject it, and is not unduly coercive. Depending on the context and motivations, social influence may constitute underhanded manipulation.\n",
    "(Source: Wikipedia)</description>\n",
    "</tag>\n",
    "<tag id=\"6609\" approval=\"3\" spoiler=\"false\" localspoiler=\"false\" globalspoiler=\"false\" update=\"2011-07-06\">\n",
    "<name>teleportation</name>\n",
    "<count>18</count>\n",
    "<description>Teleportation is a term that refers to a number of theories and notions concerning the transfer of matter from one point to another without traversing the physical space between them, similar to the concept apport, an earlier word used in the context of spiritualism.\n",
    "(Source: Wikipedia)</description>\n",
    "</tag>\n",
    "<tag id=\"1994\" approval=\"3\" spoiler=\"false\" localspoiler=\"false\" globalspoiler=\"false\" update=\"2011-04-30\">\n",
    "<name>immature behaviour</name>\n",
    "<count>18</count>\n",
    "<description>Even though the characters are old enough to be treated as adults (or close enough, to expect them to behave as such), they show quite childish and immature behaviour.\n",
    "This may to a certain degree be seen as a comedy element with a degree of \"endearment\", but especially when they are parental figures it can become disturbing, when adult responsibilities are ignored.</description>\n",
    "</tag>\n",
    "<tag id=\"2083\" approval=\"3\" spoiler=\"true\" localspoiler=\"true\" globalspoiler=\"false\" update=\"2013-03-15\">\n",
    "<name>dysfunctional family</name>\n",
    "<count>14</count>\n",
    "<description>When the nuclear family (Mother, Father and child(ren)) goes boom due to conflicts between family members, sometimes resulting in the breakup of the family or even violence.</description>\n",
    "</tag>\n",
    "<tag id=\"5622\" approval=\"3\" spoiler=\"false\" localspoiler=\"false\" globalspoiler=\"false\" update=\"2012-04-21\">\n",
    "<name>ensemble cast</name>\n",
    "<count>19</count>\n",
    "<description>The plot focuses on a group of characters rather than a single one.</description>\n",
    "</tag>\n",
    "<tag id=\"5105\" approval=\"3\" spoiler=\"false\" localspoiler=\"false\" globalspoiler=\"false\" update=\"2009-06-09\">\n",
    "<name>regeneration from death</name>\n",
    "<count>18</count>\n",
    "</tag>\n",
    "<tag id=\"3841\" approval=\"3\" spoiler=\"false\" localspoiler=\"false\" globalspoiler=\"false\" update=\"2013-02-27\">\n",
    "<name>suffering protagonist</name>\n",
    "<count>41</count>\n",
    "<description>The protagonist suffers a lot in the anime and does not seem to be able to overcome it.</description>\n",
    "</tag>\n",
    "<tag id=\"6165\" approval=\"3\" spoiler=\"false\" localspoiler=\"false\" globalspoiler=\"false\" update=\"2013-02-26\">\n",
    "<name>jealousy</name>\n",
    "<count>34</count>\n",
    "<description>A character is jealous of another character either due to love, or power, or wealth.\n",
    "Can be an important element to the story.</description>\n",
    "</tag>\n",
    "<tag id=\"6338\" approval=\"3\" spoiler=\"true\" localspoiler=\"true\" globalspoiler=\"false\" update=\"2010-12-25\">\n",
    "<name>pseudo tentacle rape scene</name>\n",
    "<count>25</count>\n",
    "<description>If this was a hentai anime she would have even more fun!</description>\n",
    "</tag>\n",
    "<tag id=\"7106\" approval=\"3\" spoiler=\"false\" localspoiler=\"false\" globalspoiler=\"false\" update=\"2012-07-14\">\n",
    "<name>disguised social commentary</name>\n",
    "<count>3</count>\n",
    "</tag>\n",
    "<tag id=\"1271\" approval=\"3\" spoiler=\"false\" localspoiler=\"false\" globalspoiler=\"false\" update=\"2010-07-18\">\n",
    "<name>unrequited love</name>\n",
    "<count>71</count>\n",
    "<description>At least one character has a romantic interest in another one, but the feelings are not returned. \n",
    "This is the cornerstone of all love triangles or love polygons.</description>\n",
    "</tag>\n",
    "<tag id=\"4970\" approval=\"3\" spoiler=\"true\" localspoiler=\"true\" globalspoiler=\"false\" update=\"2009-05-06\">\n",
    "<name>implanted memories</name>\n",
    "<count>7</count>\n",
    "<description>The protagonist finds out that his/her cherished memories are actually fake and have been implanted.</description>\n",
    "</tag>\n",
    "<tag id=\"2660\" approval=\"3\" spoiler=\"false\" localspoiler=\"false\" globalspoiler=\"false\" update=\"2011-04-11\">\n",
    "<name>serious business</name>\n",
    "<count>23</count>\n",
    "<description>For some people it is just a card- or board game. For others it is not just a matter of life and death — it is much more important than that.\n",
    "Serious business basically describes a situation, when a show revolves around an activity where a sizeable portion of the in-series population takes it far more seriously than it should. If something`s popularity rivals that of Elvis, or if there are mainstream schools devoted to it instead of teaching reading, writing, and arithmetic; it is serious business.</description>\n",
    "</tag>\n",
    "<tag id=\"2365\" approval=\"3\" spoiler=\"false\" localspoiler=\"false\" globalspoiler=\"false\" update=\"2010-04-11\">\n",
    "<name>teamwork</name>\n",
    "<count>41</count>\n",
    "<description>A cooperative effort by the members of a group or team to achieve a common goal.</description>\n",
    "</tag>\n",
    "<tag id=\"3190\" approval=\"3\" spoiler=\"true\" localspoiler=\"true\" globalspoiler=\"true\" update=\"2012-04-05\">\n",
    "<name>heroic sacrifice</name>\n",
    "<count>55</count>\n",
    "<description>\"In order to save the many, the few will need to sacrifice their lives...\" or so this character may think. \n",
    "In a seemingly hopeless situation, against impossible odds, the character does not choose the path of the coward and run, he or she chooses to bravely face the enemy, fully aware that this will mean death.</description>\n",
    "</tag>\n",
    "<tag id=\"3840\" approval=\"3\" spoiler=\"false\" localspoiler=\"false\" globalspoiler=\"false\" update=\"2012-07-04\">\n",
    "<name>magic-using protagonist</name>\n",
    "<count>43</count>\n",
    "<description>One of the characters uses supernatural powers. These characters include magicians, witches, shamen, priests and shrine maidens.\n",
    "In action anime, these people typically use spells to battle their enemies, sometimes using a catch-phrase to release their incantations. Magic-using fighters, however, may simply channel their powers through their weapon.</description>\n",
    "</tag>\n",
    "<tag id=\"2975\" approval=\"3\" spoiler=\"false\" localspoiler=\"false\" globalspoiler=\"false\" update=\"2009-06-24\">\n",
    "<name>flashback</name>\n",
    "<count>313</count>\n",
    "<description>The characters remember things from their past triggering a flashback. The anime either repeats scenes from previous episodes (danger of too many \"fillers\"), or actually shows new footage from very old memories.</description>\n",
    "</tag>\n",
    "<tag id=\"890\" approval=\"3\" spoiler=\"false\" localspoiler=\"false\" globalspoiler=\"false\" update=\"2009-05-24\">\n",
    "<name>timeskip</name>\n",
    "<count>111</count>\n",
    "<description>The plot features at least one skip or jump in time.\n",
    "Example: A skip from the present into the past, or time skips in increments, e.g. every hour there is a timeskip by a day.</description>\n",
    "</tag>\n",
    "<tag id=\"6979\" approval=\"3\" spoiler=\"false\" localspoiler=\"false\" globalspoiler=\"false\" update=\"2013-01-14\">\n",
    "<name>crossover episodes</name>\n",
    "<count>2</count>\n",
    "</tag>\n",
    "<tag id=\"5807\" approval=\"3\" spoiler=\"false\" localspoiler=\"false\" globalspoiler=\"false\" update=\"2010-02-09\">\n",
    "<name>flashbacks everywhere</name>\n",
    "<count>10</count>\n",
    "<description>The anime is full of flashbacks. Sometimes one or more complete episodes are just one giant flashback. Often the same flashback is repeated over and over again. Such excessive amounts of recycled material clearly are used as \"fillers\" and cannot be interpreted as some sort of \"plot expansion\".\n",
    "Examples: Bleach or Tenjho Tenge.\n",
    "Tag should not be used for sporadic flashbacks.</description>\n",
    "</tag>\n",
    "<tag id=\"4537\" approval=\"3\" spoiler=\"false\" localspoiler=\"false\" globalspoiler=\"false\" update=\"2010-03-03\">\n",
    "<name>breathtaking vistas</name>\n",
    "<count>91</count>\n",
    "<description>An amazing view of nature, of artificially sculpted landscapes (i.e. gardens), or of a cityscape.</description>\n",
    "</tag>\n",
    "<tag id=\"4428\" approval=\"3\" spoiler=\"false\" localspoiler=\"false\" globalspoiler=\"false\" update=\"2009-02-03\">\n",
    "<name>sense of foreboding</name>\n",
    "<count>146</count>\n",
    "<description>The anime starts off quietly, everything seems to be fine, but from episode to episode the signs that something ominous is about to happen increase. E.g. a typical mystery setting.</description>\n",
    "</tag>\n",
    "<tag id=\"455\" approval=\"3\" spoiler=\"false\" localspoiler=\"false\" globalspoiler=\"false\" update=\"2012-03-22\">\n",
    "<name>slow-paced</name>\n",
    "<count>50</count>\n",
    "<description>The story — including its characters and events — develop slowly.\n",
    "May contain a weak continuity of plot and/or character development. \n",
    "Or may be a story telling device to increase the \"sense of foreboding\" in an anime with thriller or horror setting.</description>\n",
    "</tag>\n",
    "</tags>\n",
    "<characters>\n",
    "<character id=\"3547\" type=\"main character in\" update=\"2010-12-12\">\n",
    "<rating votes=\"9\">4.09</rating>\n",
    "<name>Tsukasa</name>\n",
    "<gender>male</gender>\n",
    "<charactertype id=\"1\">Character</charactertype>\n",
    "<description>Tsukasa was initially a cynical loner, and seemingly arrogant to the other players in The World. Tsukasa tended to avoid others as much as possible and didn`t take any enjoyment in leveling up or participating in events. In fact, his sole enjoyment seemed to come from defying the Crimson Knights. As Tsukasa was slowly befriended by Mimiru, Bear, and Subaru, he began to warm up to them, eventually seeking them out, as well as being sought out by Subaru who came to him for aid when she felt lost. By the end of the series, Tsukasa reveals the kind heart he had kept hidden for so long.</description>\n",
    "<picture>60665.jpg</picture>\n",
    "<seiyuu id=\"180\" picture=\"66228.jpg\">Saiga Mitsuki</seiyuu>\n",
    "</character>\n",
    "<character id=\"3661\" type=\"secondary cast in\" update=\"2009-02-23\">\n",
    "<rating votes=\"10\">5.88</rating>\n",
    "<name>Mimiru</name>\n",
    "<gender>female</gender>\n",
    "<charactertype id=\"1\">Character</charactertype>\n",
    "<description>Mimiru is a female Heavyblade who appears in .hack//Sign. Her avatar appears as a teenage girl dressed in an armored bikini top, and a short skirt, with large greaves on her legs. Mimiru plays as a \"tough-it-out-through-anything\" player, who is poor at planning things out and following through on them. She meets Tsukasa and soon becomes one of the few he trusts and he eventually sees her as a friend. She also teams up with Bear, who she refers to as an \"old man\", and spends considerable time in the series attempting to figure out what Bear`s career is in real life.</description>\n",
    "<picture>19519.jpg</picture>\n",
    "<seiyuu id=\"356\" picture=\"17197.jpg\">Toyoguchi Megumi</seiyuu>\n",
    "</character>\n",
    "<character id=\"8874\" type=\"appears in\" update=\"2010-03-24\">\n",
    "<rating votes=\"11\">6.45</rating>\n",
    "<name>Aura</name>\n",
    "<gender>female</gender>\n",
    "<charactertype id=\"1\">Character</charactertype>\n",
    "<picture>28257.jpg</picture>\n",
    "<seiyuu id=\"227\" picture=\"17046.jpg\">Sakamoto Maaya</seiyuu>\n",
    "</character>\n",
    "<character id=\"9953\" type=\"secondary cast in\" update=\"2009-06-27\">\n",
    "<rating votes=\"4\">4.55</rating>\n",
    "<name>Bear</name>\n",
    "<gender>male</gender>\n",
    "<charactertype id=\"1\">Character</charactertype>\n",
    "<picture>30100.jpg</picture>\n",
    "<seiyuu id=\"242\" picture=\"38156.jpg\">Nakata Kazuhiro</seiyuu>\n",
    "</character>\n",
    "<character id=\"9954\" type=\"secondary cast in\" update=\"2009-06-27\">\n",
    "<rating votes=\"5\">6.38</rating>\n",
    "<name>Sora</name>\n",
    "<gender>male</gender>\n",
    "<charactertype id=\"1\">Character</charactertype>\n",
    "<picture>30101.jpg</picture>\n",
    "<seiyuu id=\"2016\" picture=\"21318.jpg\">Yanaka Hiroshi</seiyuu>\n",
    "</character>\n",
    "<character id=\"9955\" type=\"secondary cast in\" update=\"2009-06-27\">\n",
    "<rating votes=\"6\">7.61</rating>\n",
    "<name>Crim</name>\n",
    "<gender>male</gender>\n",
    "<charactertype id=\"1\">Character</charactertype>\n",
    "<picture>30102.jpg</picture>\n",
    "<seiyuu id=\"233\" picture=\"17051.jpg\">Miki Shin`ichirou</seiyuu>\n",
    "</character>\n",
    "<character id=\"9956\" type=\"secondary cast in\" update=\"2009-06-27\">\n",
    "<rating votes=\"10\">5.13</rating>\n",
    "<name>Subaru</name>\n",
    "<gender>female</gender>\n",
    "<charactertype id=\"1\">Character</charactertype>\n",
    "<picture>30103.jpg</picture>\n",
    "<seiyuu id=\"308\" picture=\"44975.jpg\">Nazuka Kaori</seiyuu>\n",
    "</character>\n",
    "<character id=\"9957\" type=\"secondary cast in\" update=\"2009-06-27\">\n",
    "<rating votes=\"4\">7.83</rating>\n",
    "<name>BT</name>\n",
    "<gender>female</gender>\n",
    "<charactertype id=\"1\">Character</charactertype>\n",
    "<picture>30104.jpg</picture>\n",
    "<seiyuu id=\"692\" picture=\"18299.jpg\">Hiramatsu Akiko</seiyuu>\n",
    "</character>\n",
    "<character id=\"15313\" type=\"secondary cast in\" update=\"2010-02-27\">\n",
    "<rating votes=\"11\">2.56</rating>\n",
    "<name>Silver Knight</name>\n",
    "<gender>male</gender>\n",
    "<charactertype id=\"1\">Character</charactertype>\n",
    "<description>Silver Knight is second-in-command of the Crimson Knights. As described by Frank Ellis he possesses a strong sense of justice (becoming overzealous at times), but is extremely naive, leading him to end up as more of a tool to be used by whoever is in control. He is extremely overprotective of Subaru. Silver Knight`s PC is an edited version of the standard Crimson Knight design.\n",
    "Later in the series, he tells Mimiru that he is 23 and works in a video store.</description>\n",
    "<picture>43718.jpg</picture>\n",
    "<seiyuu id=\"1913\" picture=\"26099.jpg\">Chiba Isshin</seiyuu>\n",
    "</character>\n",
    "<character id=\"31939\" type=\"appears in\" update=\"2011-05-06\">\n",
    "<rating votes=\"2\">7.71</rating>\n",
    "<name>Shouji An</name>\n",
    "<gender>female</gender>\n",
    "<charactertype id=\"1\">Character</charactertype>\n",
    "<description>Shouji An is the real life player behind Tsukasa. She is actually female. An was raised by her father after the death of her mother, and was physically and mentally abused by him. His abusive behavior also distanced her from her gender: he treated her like a boy, refusing to allow her to use feminine products and basic hygiene products. There are also subtle hints that her father is an alcoholic. After awaking from her coma, Sakuma Ryo, the player behind Bear, becomes her legal guardian and allows her to go to a boarding school. She meets with Mariko, Subaru`s player, and the two begin a relationship.</description>\n",
    "<picture>71030.jpg</picture>\n",
    "<seiyuu id=\"180\" picture=\"66228.jpg\">Saiga Mitsuki</seiyuu>\n",
    "</character>\n",
    "<character id=\"31940\" type=\"appears in\" update=\"2011-05-06\">\n",
    "<rating votes=\"1\">6.09</rating>\n",
    "<name>Misono Mariko</name>\n",
    "<gender>female</gender>\n",
    "<charactertype id=\"1\">Character</charactertype>\n",
    "<description>Misono Mariko is the real life player behind Subaru. She is a paraplegic girl who spends so much time in The World because it is the only place where she can roam freely on her own. At the end of the series, she meets Shouji An, Tsukasa`s player, and the two begin a relationship.</description>\n",
    "<picture>71031.jpg</picture>\n",
    "<seiyuu id=\"308\" picture=\"44975.jpg\">Nazuka Kaori</seiyuu>\n",
    "</character>\n",
    "</characters>\n",
    "<episodes>\n",
    "<episode id=\"151\" update=\"2011-10-20\">\n",
    "<epno type=\"1\">1</epno>\n",
    "<length>25</length>\n",
    "<airdate>2002-04-04</airdate>\n",
    "<rating votes=\"20\">6.92</rating>\n",
    "<title xml:lang=\"ja\">Role Play</title>\n",
    "<title xml:lang=\"en\">Role Play</title>\n",
    "<title xml:lang=\"fr\">Jeux de rôle</title>\n",
    "<title xml:lang=\"x-jat\">Role Play</title>\n",
    "</episode>\n",
    "<episode id=\"253\" update=\"2011-10-20\">\n",
    "<epno type=\"1\">2</epno>\n",
    "<length>25</length>\n",
    "<airdate>2002-04-11</airdate>\n",
    "<rating votes=\"14\">6.94</rating>\n",
    "<title xml:lang=\"ja\">Guardian</title>\n",
    "<title xml:lang=\"en\">Guardian</title>\n",
    "<title xml:lang=\"fr\">L`ange gardien</title>\n",
    "<title xml:lang=\"x-jat\">Guardian</title>\n",
    "</episode>\n",
    "<episode id=\"254\" update=\"2011-10-20\">\n",
    "<epno type=\"1\">3</epno>\n",
    "<length>25</length>\n",
    "<airdate>2002-04-18</airdate>\n",
    "<rating votes=\"13\">4.78</rating>\n",
    "<title xml:lang=\"ja\">Folklore</title>\n",
    "<title xml:lang=\"en\">Folklore</title>\n",
    "<title xml:lang=\"fr\">Folklore</title>\n",
    "<title xml:lang=\"x-jat\">Folklore</title>\n",
    "</episode>\n",
    "<episode id=\"256\" update=\"2011-10-20\">\n",
    "<epno type=\"1\">4</epno>\n",
    "<length>25</length>\n",
    "<airdate>2002-04-25</airdate>\n",
    "<rating votes=\"12\">6.14</rating>\n",
    "<title xml:lang=\"ja\">Wanted</title>\n",
    "<title xml:lang=\"en\">Wanted</title>\n",
    "<title xml:lang=\"fr\">Avis de recherche</title>\n",
    "<title xml:lang=\"x-jat\">Wanted</title>\n",
    "</episode>\n",
    "<episode id=\"268\" update=\"2011-10-20\">\n",
    "<epno type=\"1\">5</epno>\n",
    "<length>25</length>\n",
    "<airdate>2002-05-02</airdate>\n",
    "<rating votes=\"13\">5.33</rating>\n",
    "<title xml:lang=\"ja\">Captured</title>\n",
    "<title xml:lang=\"en\">Captured</title>\n",
    "<title xml:lang=\"fr\">Capture</title>\n",
    "<title xml:lang=\"x-jat\">Captured</title>\n",
    "</episode>\n",
    "<episode id=\"509\" update=\"2013-03-18\">\n",
    "<epno type=\"1\">18</epno>\n",
    "<length>25</length>\n",
    "<airdate>2002-08-01</airdate>\n",
    "<rating votes=\"11\">5.69</rating>\n",
    "<title xml:lang=\"ja\">Declaration</title>\n",
    "<title xml:lang=\"en\">Declaration</title>\n",
    "<title xml:lang=\"fr\">La déclaration</title>\n",
    "<title xml:lang=\"x-jat\">Declaration</title>\n",
    "</episode>\n",
    "<episode id=\"668\" update=\"2011-10-20\">\n",
    "<epno type=\"1\">6</epno>\n",
    "<length>25</length>\n",
    "<airdate>2002-05-09</airdate>\n",
    "<rating votes=\"11\">5.27</rating>\n",
    "<title xml:lang=\"ja\">Encounter</title>\n",
    "<title xml:lang=\"en\">Encounter</title>\n",
    "<title xml:lang=\"fr\">La rencontre</title>\n",
    "<title xml:lang=\"x-jat\">Encounter</title>\n",
    "</episode>\n",
    "<episode id=\"669\" update=\"2011-10-20\">\n",
    "<epno type=\"1\">7</epno>\n",
    "<length>25</length>\n",
    "<airdate>2002-05-16</airdate>\n",
    "<rating votes=\"12\">5.97</rating>\n",
    "<title xml:lang=\"ja\">Reason</title>\n",
    "<title xml:lang=\"en\">Reason</title>\n",
    "<title xml:lang=\"fr\">Raison</title>\n",
    "<title xml:lang=\"x-jat\">Reason</title>\n",
    "</episode>\n",
    "<episode id=\"670\" update=\"2011-10-20\">\n",
    "<epno type=\"1\">8</epno>\n",
    "<length>25</length>\n",
    "<airdate>2002-05-23</airdate>\n",
    "<rating votes=\"12\">3.46</rating>\n",
    "<title xml:lang=\"ja\">Promise</title>\n",
    "<title xml:lang=\"en\">Promise</title>\n",
    "<title xml:lang=\"fr\">La promesse</title>\n",
    "<title xml:lang=\"x-jat\">Promise</title>\n",
    "</episode>\n",
    "<episode id=\"671\" update=\"2011-10-20\">\n",
    "<epno type=\"1\">9</epno>\n",
    "<length>25</length>\n",
    "<airdate>2002-05-30</airdate>\n",
    "<rating votes=\"11\">4.29</rating>\n",
    "<title xml:lang=\"ja\">Epitaph</title>\n",
    "<title xml:lang=\"en\">Epitaph</title>\n",
    "<title xml:lang=\"fr\">Épitaphe</title>\n",
    "<title xml:lang=\"x-jat\">Epitaph</title>\n",
    "</episode>\n",
    "<episode id=\"672\" update=\"2011-10-20\">\n",
    "<epno type=\"1\">10</epno>\n",
    "<length>25</length>\n",
    "<airdate>2002-06-06</airdate>\n",
    "<rating votes=\"12\">4.45</rating>\n",
    "<title xml:lang=\"ja\">Compensation</title>\n",
    "<title xml:lang=\"en\">Compensation</title>\n",
    "<title xml:lang=\"fr\">La compensation</title>\n",
    "<title xml:lang=\"x-jat\">Compensation</title>\n",
    "</episode>\n",
    "<episode id=\"673\" update=\"2011-10-20\">\n",
    "<epno type=\"1\">11</epno>\n",
    "<length>25</length>\n",
    "<airdate>2002-06-13</airdate>\n",
    "<rating votes=\"11\">5.17</rating>\n",
    "<title xml:lang=\"ja\">Party</title>\n",
    "<title xml:lang=\"en\">Party</title>\n",
    "<title xml:lang=\"fr\">Le défi</title>\n",
    "<title xml:lang=\"x-jat\">Party</title>\n",
    "</episode>\n",
    "<episode id=\"674\" update=\"2011-10-20\">\n",
    "<epno type=\"1\">12</epno>\n",
    "<length>25</length>\n",
    "<airdate>2002-06-20</airdate>\n",
    "<rating votes=\"11\">6.12</rating>\n",
    "<title xml:lang=\"ja\">Entanglement</title>\n",
    "<title xml:lang=\"en\">Entanglement</title>\n",
    "<title xml:lang=\"fr\">Enchevêtrement</title>\n",
    "<title xml:lang=\"x-jat\">Entanglement</title>\n",
    "</episode>\n",
    "<episode id=\"675\" update=\"2011-10-20\">\n",
    "<epno type=\"1\">13</epno>\n",
    "<length>25</length>\n",
    "<airdate>2002-06-27</airdate>\n",
    "<rating votes=\"10\">8.23</rating>\n",
    "<title xml:lang=\"ja\">Twilight Eye</title>\n",
    "<title xml:lang=\"en\">Twilight Eye</title>\n",
    "<title xml:lang=\"fr\">L`œil du crépuscule</title>\n",
    "<title xml:lang=\"x-jat\">Twilight Eye</title>\n",
    "</episode>\n",
    "<episode id=\"676\" update=\"2011-10-20\">\n",
    "<epno type=\"1\">14</epno>\n",
    "<length>25</length>\n",
    "<airdate>2002-07-04</airdate>\n",
    "<rating votes=\"11\">6.39</rating>\n",
    "<title xml:lang=\"ja\">Castle</title>\n",
    "<title xml:lang=\"en\">Castle</title>\n",
    "<title xml:lang=\"fr\">Le château</title>\n",
    "<title xml:lang=\"x-jat\">Castle</title>\n",
    "</episode>\n",
    "<episode id=\"677\" recap=\"true\" update=\"2013-03-18\">\n",
    "<epno type=\"1\">15</epno>\n",
    "<length>25</length>\n",
    "<airdate>2002-07-11</airdate>\n",
    "<rating votes=\"8\">4.99</rating>\n",
    "<title xml:lang=\"ja\">Evidence</title>\n",
    "<title xml:lang=\"en\">Evidence</title>\n",
    "<title xml:lang=\"fr\">La preuve</title>\n",
    "<title xml:lang=\"x-jat\">Evidence</title>\n",
    "</episode>\n",
    "<episode id=\"678\" update=\"2013-03-18\">\n",
    "<epno type=\"1\">16</epno>\n",
    "<length>25</length>\n",
    "<airdate>2002-07-18</airdate>\n",
    "<rating votes=\"11\">4.04</rating>\n",
    "<title xml:lang=\"ja\">Depth</title>\n",
    "<title xml:lang=\"en\">Depth</title>\n",
    "<title xml:lang=\"fr\">Abysse</title>\n",
    "<title xml:lang=\"x-jat\">Depth</title>\n",
    "</episode>\n",
    "<episode id=\"679\" update=\"2013-03-18\">\n",
    "<epno type=\"1\">17</epno>\n",
    "<length>25</length>\n",
    "<airdate>2002-07-25</airdate>\n",
    "<rating votes=\"11\">5.34</rating>\n",
    "<title xml:lang=\"ja\">Conflict</title>\n",
    "<title xml:lang=\"en\">Conflict</title>\n",
    "<title xml:lang=\"fr\">Le conflit</title>\n",
    "<title xml:lang=\"x-jat\">Conflict</title>\n",
    "</episode>\n",
    "<episode id=\"1648\" update=\"2013-03-18\">\n",
    "<epno type=\"1\">19</epno>\n",
    "<length>25</length>\n",
    "<airdate>2002-08-08</airdate>\n",
    "<rating votes=\"11\">6.83</rating>\n",
    "<title xml:lang=\"ja\">Recollection</title>\n",
    "<title xml:lang=\"en\">Recollection</title>\n",
    "<title xml:lang=\"fr\">Souvenir</title>\n",
    "<title xml:lang=\"x-jat\">Recollection</title>\n",
    "</episode>\n",
    "<episode id=\"1649\" update=\"2013-03-18\">\n",
    "<epno type=\"1\">20</epno>\n",
    "<length>25</length>\n",
    "<airdate>2002-08-15</airdate>\n",
    "<rating votes=\"11\">7.98</rating>\n",
    "<title xml:lang=\"ja\">Tempest</title>\n",
    "<title xml:lang=\"en\">Tempest</title>\n",
    "<title xml:lang=\"fr\">Tempête</title>\n",
    "<title xml:lang=\"x-jat\">Tempest</title>\n",
    "</episode>\n",
    "<episode id=\"2159\" update=\"2013-03-18\">\n",
    "<epno type=\"1\">22</epno>\n",
    "<length>25</length>\n",
    "<airdate>2002-08-29</airdate>\n",
    "<rating votes=\"9\">7.38</rating>\n",
    "<title xml:lang=\"ja\">Phantom</title>\n",
    "<title xml:lang=\"en\">Phantom</title>\n",
    "<title xml:lang=\"fr\">Le fantôme</title>\n",
    "<title xml:lang=\"x-jat\">Phantom</title>\n",
    "</episode>\n",
    "<episode id=\"2312\" update=\"2013-03-18\">\n",
    "<epno type=\"1\">23</epno>\n",
    "<length>25</length>\n",
    "<airdate>2002-09-05</airdate>\n",
    "<rating votes=\"9\">7.55</rating>\n",
    "<title xml:lang=\"ja\">The Eve</title>\n",
    "<title xml:lang=\"en\">The Eve</title>\n",
    "<title xml:lang=\"fr\">La veille</title>\n",
    "<title xml:lang=\"x-jat\">The Eve</title>\n",
    "</episode>\n",
    "<episode id=\"2313\" update=\"2013-03-21\">\n",
    "<epno type=\"1\">24</epno>\n",
    "<length>25</length>\n",
    "<airdate>2002-09-12</airdate>\n",
    "<rating votes=\"9\">8.94</rating>\n",
    "<title xml:lang=\"ja\">Net Slum</title>\n",
    "<title xml:lang=\"en\">Net Slum</title>\n",
    "<title xml:lang=\"fr\">Le cyber-sanctuaire</title>\n",
    "<title xml:lang=\"x-jat\">Net Slum</title>\n",
    "</episode>\n",
    "<episode id=\"2345\" update=\"2013-03-21\">\n",
    "<epno type=\"1\">25</epno>\n",
    "<length>25</length>\n",
    "<airdate>2002-09-19</airdate>\n",
    "<rating votes=\"9\">9.17</rating>\n",
    "<title xml:lang=\"ja\">Catastrophe</title>\n",
    "<title xml:lang=\"en\">Catastrophe</title>\n",
    "<title xml:lang=\"fr\">Catastrophe</title>\n",
    "<title xml:lang=\"x-jat\">Catastrophe</title>\n",
    "</episode>\n",
    "<episode id=\"2347\" update=\"2013-03-18\">\n",
    "<epno type=\"1\">26</epno>\n",
    "<length>25</length>\n",
    "<airdate>2002-09-26</airdate>\n",
    "<rating votes=\"14\">7.84</rating>\n",
    "<title xml:lang=\"ja\">Return</title>\n",
    "<title xml:lang=\"en\">Return</title>\n",
    "<title xml:lang=\"fr\">Le retour</title>\n",
    "<title xml:lang=\"x-jat\">Return</title>\n",
    "</episode>\n",
    "<episode id=\"3002\" update=\"2013-03-18\">\n",
    "<epno type=\"1\">21</epno>\n",
    "<length>25</length>\n",
    "<airdate>2002-08-22</airdate>\n",
    "<rating votes=\"10\">6.21</rating>\n",
    "<title xml:lang=\"ja\">Despair</title>\n",
    "<title xml:lang=\"en\">Despair</title>\n",
    "<title xml:lang=\"fr\">Désespoir</title>\n",
    "<title xml:lang=\"x-jat\">Despair</title>\n",
    "</episode>\n",
    "<episode id=\"7176\" update=\"2013-03-18\">\n",
    "<epno type=\"2\">S1</epno>\n",
    "<length>25</length>\n",
    "<airdate>2003-03-28</airdate>\n",
    "<rating votes=\"19\">7.28</rating>\n",
    "<title xml:lang=\"ja\">Intermezzo</title>\n",
    "<title xml:lang=\"en\">Intermezzo</title>\n",
    "<title xml:lang=\"fr\">Intermède</title>\n",
    "</episode>\n",
    "<episode id=\"11483\" update=\"2010-04-08\">\n",
    "<epno type=\"3\">C1</epno>\n",
    "<length>0</length>\n",
    "<title xml:lang=\"en\">Opening</title>\n",
    "</episode>\n",
    "<episode id=\"11484\" update=\"2010-04-08\">\n",
    "<epno type=\"3\">C2</epno>\n",
    "<length>0</length>\n",
    "<title xml:lang=\"en\">Ending</title>\n",
    "</episode>\n",
    "<episode id=\"12820\" update=\"2011-10-20\">\n",
    "<epno type=\"2\">S2</epno>\n",
    "<length>25</length>\n",
    "<airdate>2003-10-24</airdate>\n",
    "<rating votes=\"15\">8.02</rating>\n",
    "<title xml:lang=\"en\">Unison</title>\n",
    "<title xml:lang=\"fr\">En chœur</title>\n",
    "</episode>\n",
    "</episodes>\n",
    "</anime>\n",
    "\n",
    "\"\"\""
   ]
  },
  {
   "cell_type": "code",
   "execution_count": 2,
   "metadata": {
    "collapsed": true
   },
   "outputs": [
    {
     "data": {
      "text/plain": [
       "<anime id=\"24\" restricted=\"false\">\n",
       "<type>TV Series</type>\n",
       "<episodecount>26</episodecount>\n",
       "<startdate>2002-04-04</startdate>\n",
       "<enddate>2002-09-26</enddate>\n",
       "<titles>\n",
       "<title type=\"main\" xml:lang=\"x-jat\">.hack//SIGN</title>\n",
       "<title type=\"synonym\" xml:lang=\"en\">dot hack sign</title>\n",
       "<title type=\"official\" xml:lang=\"en\">dot hack sign</title>\n",
       "<title type=\"synonym\" xml:lang=\"ro\">.hack//SIGN</title>\n",
       "<title type=\"synonym\" xml:lang=\"bg\">Хак//Симбол</title>\n",
       "<title type=\"synonym\" xml:lang=\"x-jat\">dot hack</title>\n",
       "<title type=\"synonym\" xml:lang=\"x-jat\">hack sign</title>\n",
       "<title type=\"synonym\" xml:lang=\"x-jat\">hack//SIGN</title>\n",
       "<title type=\"short\" xml:lang=\"bg\">Хак</title>\n",
       "<title type=\"short\" xml:lang=\"x-jat\">hack</title>\n",
       "<title type=\"short\" xml:lang=\"x-jat\">sign</title>\n",
       "<title type=\"short\" xml:lang=\"x-jat\">hackSIGN</title>\n",
       "<title type=\"official\" xml:lang=\"ja\">.hack//SIGN</title>\n",
       "<title type=\"official\" xml:lang=\"de\">.hack//SIGN</title>\n",
       "<title type=\"official\" xml:lang=\"fr\">.hack//SIGN</title>\n",
       "<title type=\"official\" xml:lang=\"pt-BR\">.hack//SIGN</title>\n",
       "</titles>\n",
       "<relatedanime>\n",
       "<anime id=\"222\" type=\"Sequel\">.hack//Liminality</anime>\n",
       "<anime id=\"7883\" type=\"Same Setting\">.hack//Quantum</anime>\n",
       "<anime id=\"447\" type=\"Same Setting\">.hack//Tasogare no Udewa Densetsu</anime>\n",
       "<anime id=\"4324\" type=\"Same Setting\">.hack//Roots</anime>\n",
       "<anime id=\"1135\" type=\"Side Story\">.hack//GIFT</anime>\n",
       "</relatedanime>\n",
       "<similaranime>\n",
       "<anime approval=\"150\" id=\"8692\" total=\"176\">Sword Art Online</anime>\n",
       "<anime approval=\"4\" id=\"13\" total=\"11\">Noir</anime>\n",
       "<anime approval=\"2\" id=\"1654\" total=\"12\">Madlax</anime>\n",
       "<anime approval=\"2\" id=\"4966\" total=\"9\">El Cazador de la Bruja</anime>\n",
       "<anime approval=\"1\" id=\"99\" total=\"8\">Serial Experiments Lain</anime>\n",
       "</similaranime>\n",
       "<recommendations total=\"12\">\n",
       "<recommendation type=\"For Fans\" uid=\"495882\">I personally love this anime, but I can`t help but feel that I only love it because of nostalgia factor alone. The soundtrack is the best soundtrack I`ve ever heard in an anime. Period. The anime as a whole is VERY original, but the story moves slow.</recommendation>\n",
       "<recommendation type=\"For Fans\" uid=\"371670\">This is a quality anime, certainly interesting for gamers but something kept me from giving it status \"recommended/must see\". I liked it a lot in the beginning, \"The World\" seemed very appealing, especially for me, a gamer familiar with RPG. However, the story progress is very and sometimes painfully slow. I truly enjoyed the soundtrack which is without doubt one of the best music background you can hear in anime. Sadly, the main character of Tsukasa is often irritating and indecision of other characters as well. As the story is gradually falling more and more into angst, I stopped to like it - I guess I just wanted some nice fantasy anime set in a virtual reality. Nevertheless, I rated quite high since Hack deserves it. You will either like it or not. ;)</recommendation>\n",
       "<recommendation type=\"Recommended\" uid=\"299048\">A rare digital plot that has no end to it :)</recommendation>\n",
       "<recommendation type=\"Recommended\" uid=\"43034\">If you have played some old-school MMORPGs and met new friends through them, you owe it to yourself to watch //SIGN.\n",
       "The Anime manages to capture some of the player interactions in those online worlds really well and touches on subjects like escapism, online vs. RL, anonymity and more. All the while a fantastic choral soundtrack accompanies the on-screen exposition.\n",
       "Watching this, I recalled many moments of me playing Lineage 2 and Guild Wars (1) and spending time with my friends online.\n",
       "\n",
       "The anime is definitely not for everyone though. The story is quite convoluted and there are quite a lot of uncertainties left at the end. If you`re looking for something more action orientated or fast paced, stay away from //SIGN or you`ll regret it. The exposition unravels reaaaaly slow and it`s very dialouge heavy. It focuses on the psychological and sociological aspects of MMOs, rather than their battles, quests or other gameplay elements.</recommendation>\n",
       "</recommendations>\n",
       "<url>http://www.beetrain.co.jp/contents/works/sign/</url>\n",
       "<creators>\n",
       "<name id=\"7851\" type=\"Character Design\">Oosawa Satoshi</name>\n",
       "<name id=\"2473\" type=\"Character Design\">Iwaoka Yuuko</name>\n",
       "<name id=\"2459\" type=\"Character Design\">Shiba Minako</name>\n",
       "<name id=\"3740\" type=\"Series Composition\">Itou Kazunori</name>\n",
       "<name id=\"749\" type=\"Work\">Bee Train</name>\n",
       "<name id=\"704\" type=\"Music\">Kajiura Yuki</name>\n",
       "</creators>\n",
       "<description>In the year 2005, a computer virus called Pluto Kiss completely shuts down and restricts the global Internet network. In 2007, after extensive rescinding of the network, an online network game (MMORPG) called The World is created and released.\n",
       "http://anidb.net/ch3547 [Tsukasa] suddenly awakens to find himself in The World, being able to feel, smell, touch, see and hear everything as if he was really there. He attempts to log out but fails to do so. Being unable to remember what has happened before he awoke, he wanders around aimlessly to find answers. While doing so, system moderators, the Scarlet Knights, suspect that he has been working with hackers, because of a tweaked cat-faced character he had been seen with. Tsukasa finds a magical item, that grants him the power to use the fearful Guardian that will protect him from any harm. To Tsukasa`s dismay it turns out that this guardian can not only easily defeat player characters in the game, but actually badly hurt players in the real world.\n",
       "On his search for truth, Tsukasa encounters the friendly and supportive http://anidb.net/ch3661 [Mimiru], the wise, fatherly http://anidb.net/ch9953 [Bear], the manipulative http://anidb.net/ch9957 [BT], the scrupulous http://anidb.net/ch9954 [Sora], the fun-loving http://anidb.net/ch9955 [Crim], and the mysterious http://anidb.net/ch9956 [Subaru], leader of the Scarlet Knights. When a mythical item called the Key of the Twilight turns out to be less of a myth, Tsukasa, questions whom he can really trust, and what the power to overcome The World`s system limitations actually entails...</description>\n",
       "<ratings>\n",
       "<permanent count=\"5514\">5.07</permanent>\n",
       "<temporary count=\"5639\">7.26</temporary>\n",
       "<review count=\"19\">8.06</review>\n",
       "</ratings>\n",
       "<picture>11739.jpg</picture>\n",
       "<categories>\n",
       "<category hentai=\"true\" id=\"508\" parentid=\"7\" weight=\"200\">\n",
       "<name>Desert</name>\n",
       "<description>Setting with vast amounts of sand, merciless high temperatures, and very little water.</description>\n",
       "</category>\n",
       "<category hentai=\"false\" id=\"497\" parentid=\"317\" weight=\"200\">\n",
       "<name>Friendship</name>\n",
       "<description>The feeling of trust, kindness, and friendship between a group of high school students for example, is a central theme of this anime.</description>\n",
       "</category>\n",
       "<category hentai=\"false\" id=\"323\" parentid=\"317\" weight=\"100\">\n",
       "<name>Law and Order</name>\n",
       "<description>Where there is \"wealth\", there are criminals. It is up to the civil law enforcement, i.e. detectives, Police or Special Squads, to keep the lawless activities in the real world or in cyberspace under control.\n",
       "\n",
       "Note: Do not confuse this with Military presence. </description>\n",
       "</category>\n",
       "<category hentai=\"false\" id=\"230\" parentid=\"198\" weight=\"100\">\n",
       "<name>Love Polygon</name>\n",
       "<description>A love polygon refers to a romantic relationship involving n people. Although a love triangle is not limited to just heterosexual relationships, in anime, it usually deals with two females liking one male and vice versa.</description>\n",
       "</category>\n",
       "<category hentai=\"false\" id=\"252\" parentid=\"313\" weight=\"200\">\n",
       "<name>Angst</name>\n",
       "<description>A feeling of general discomfort and uneasiness is present due to either trivial or more serious reasons, often accompanied by depression.\n",
       "\n",
       "Warning: may contain copious amounts of brooding and sighing.</description>\n",
       "</category>\n",
       "<category hentai=\"false\" id=\"88\" parentid=\"83\" weight=\"100\">\n",
       "<name>Nudity</name>\n",
       "<description>Nudity is the state of wearing no clothing and exposing the bare skin or intimate parts.\n",
       "\n",
       "Especially gratuitous fanservice shows tend to show their characters frequently without any clothes, though often hiding genitals through the means of additions like steam.</description>\n",
       "</category>\n",
       "<category hentai=\"false\" id=\"489\" parentid=\"318\" weight=\"200\">\n",
       "<name>Dark-skinned Girl</name>\n",
       "<description>The anime features a girl with dark skin. A fetish of sorts, since the other protagonists are usually as white-skinned as porcelain dolls.</description>\n",
       "</category>\n",
       "<category hentai=\"false\" id=\"488\" parentid=\"175\" weight=\"100\">\n",
       "<name>Spellcasting</name>\n",
       "<description>The magic version of “call your attacks”. The protagonist will explicitly call out the magical incantation for the spells.</description>\n",
       "</category>\n",
       "<category hentai=\"false\" id=\"482\" parentid=\"175\" weight=\"100\">\n",
       "<name>Magic Circles</name>\n",
       "<description>A circle used to contain magical energy and/or to provide magical protection. It can be drawn (with chalk etc.) or it can just spontaneously appear as part of the spell/ritual.</description>\n",
       "</category>\n",
       "<category hentai=\"false\" id=\"151\" parentid=\"17\" weight=\"100\">\n",
       "<name>Parody</name>\n",
       "<description>Anime that imitate other stories (can be from TV, film, books, historical events, ...) for comic effect by exaggerating the style and changing the content of the original. Also known as spoofs. It can also refer to when whole elements of one work are lifted out of their context and reused.</description>\n",
       "</category>\n",
       "<category hentai=\"false\" id=\"18\" parentid=\"4\" weight=\"400\">\n",
       "<name>Super Power</name>\n",
       "<description>Be it an ancient Greek Heracles, a cybernetic muscle-man, or a fourteen year-old girl in a mini-skirted sailor suit. As long as they have super powers, they`re in the show.</description>\n",
       "</category>\n",
       "<category hentai=\"false\" id=\"130\" parentid=\"291\" weight=\"600\">\n",
       "<name>Virtual Reality</name>\n",
       "<description>A virtual reality is a place where the character interacts with a computer (or some other device)-simulated environment, be it real or imagined. The condition for a virtual reality to exist is the existence of real world for the character. In some cases, a virtual reality where characters can get harmed physically is depicted.</description>\n",
       "</category>\n",
       "<category hentai=\"false\" id=\"198\" parentid=\"313\" weight=\"300\">\n",
       "<name>Romance</name>\n",
       "<description>Romance describes a story that deals with love between two or more characters typically also having an optimistic ending. Romance is also a difficulty encountered when creating a harem.</description>\n",
       "</category>\n",
       "<category hentai=\"false\" id=\"127\" parentid=\"11\" weight=\"400\">\n",
       "<name>Alternative Present</name>\n",
       "<description>Anime that fit in the alternative present category usually have technology and society that is very similar to ours, but with differences in both, history and culture, which sometimes are blatantly obvious, but sometimes harder to place; this one can at times be very subjective.</description>\n",
       "</category>\n",
       "<category hentai=\"false\" id=\"15\" parentid=\"313\" weight=\"200\">\n",
       "<name>Fantasy</name>\n",
       "<description>Imaginative or fanciful work, especially one dealing with supernatural elements and themes.</description>\n",
       "</category>\n",
       "<category hentai=\"false\" id=\"173\" parentid=\"4\" weight=\"100\">\n",
       "<name>Swordplay</name>\n",
       "<description>The act or art of using a sword or similar weapon skillfully.</description>\n",
       "</category>\n",
       "<category hentai=\"false\" id=\"175\" parentid=\"15\" weight=\"100\">\n",
       "<name>Magic</name>\n",
       "<description>In a traditional Fantasy anime with medieval setting, the lack of technology is \"compensated\" by the introduction of the supernatural, i.e. spell-casting, magic wands, and magic circles. \n",
       "\n",
       "In another setting long-lost technology may be so advanced that it is mistaken for magic (Arthur C. Clarke: \"Any sufficiently advanced technology is indistinguishable from magic\"). See also related tag: science and magic coexist.</description>\n",
       "</category>\n",
       "<category hentai=\"false\" id=\"306\" parentid=\"313\" weight=\"200\">\n",
       "<name>Adventure</name>\n",
       "<description>Adventures are exciting stories, with new experiences or exotic locales. Adventures are designed to provide an action-filled, energetic experience for the viewer. Rather than the predominant emphasis on violence and fighting that is found in pure action anime, however, the viewer of adventures can live vicariously through the travels, conquests, explorations, creation of empires, struggles and situations that confront the main characters, actual historical figures or protagonists. Under the category of adventures, we can include traditional swashbucklers, serialized films, and historical spectacles, searches or expeditions for lost continents, \"jungle\" and \"desert\" epics, treasure hunts and quests, disaster films, and heroic journeys or searches for the unknown. Adventure films are often set in an historical period, and may include adapted stories of historical or literary adventure heroes, kings, battles, rebellion, or piracy.</description>\n",
       "</category>\n",
       "<category hentai=\"false\" id=\"84\" parentid=\"83\" weight=\"100\">\n",
       "<name>Violence</name>\n",
       "<description>Physical force against self or other, compelling action against one`s will on pain of being hurt.</description>\n",
       "</category>\n",
       "<category hentai=\"false\" id=\"22\" parentid=\"289\" weight=\"100\">\n",
       "<name>Asia</name>\n",
       "<description>Asia is the world`s largest and most populous continent.</description>\n",
       "</category>\n",
       "<category hentai=\"false\" id=\"23\" parentid=\"22\" weight=\"100\">\n",
       "<name>Japan</name>\n",
       "<description>Last stronghold for humanity, if Tokyo falls, it`s all over. Tokyo Tower will undoubtedly fall anyway.</description>\n",
       "</category>\n",
       "<category hentai=\"false\" id=\"233\" parentid=\"216\" weight=\"300\">\n",
       "<name>Plot Continuity</name>\n",
       "<description>Consistency of the characteristics of persons, plot, objects, places and events seen by the viewer.\n",
       "\n",
       "A single linear focused plot is highly continuous.\n",
       "\n",
       "A truly random plot is highly discontinuous.</description>\n",
       "</category>\n",
       "<category hentai=\"false\" id=\"275\" parentid=\"268\" weight=\"600\">\n",
       "<name>New</name>\n",
       "<description>Not based on anything, the story is a new work, usually made up by the people involved in creating the anime. Generally if an original work (原作) credit is given, it will be to the studio, or director, or other members of the production team.</description>\n",
       "</category>\n",
       "<category hentai=\"false\" id=\"278\" parentid=\"198\" weight=\"100\">\n",
       "<name>Shoujo Ai</name>\n",
       "<description>Shoujo Ai means girls love, and as such it explores what happens when two girls (or women) fall in love. This is not to be mistaken for Yuri which is (or, at least, how this term is often used by the western audience) a hentai genre. This is not. Meaning no graphical sex.</description>\n",
       "</category>\n",
       "<category hentai=\"false\" id=\"289\" parentid=\"7\" weight=\"100\">\n",
       "<name>Earth</name>\n",
       "<description>The Earth is the third planet from the Sun. It is a ball of hot mud, but on the surface it`s cold enough, so most of us live on it (or are supposed to). To its inhabitants, our planet is their home, so, as a species, we cherish it to the point many cultures even to this day deify it. The Earth is the main setting of most fiction, but many titles are set in other places, such as unrelated fantasy worlds, and in a considerable number of fictional titles the Earth is actually destroyed by invaders.</description>\n",
       "</category>\n",
       "<category hentai=\"false\" id=\"291\" parentid=\"7\" weight=\"600\">\n",
       "<name>Fantasy World</name>\n",
       "<description>A fantasy world is a type of imaginary world, part of a fictional universe. Typical worlds involve, but are not limited to magic or magical abilities and a medieval theme. Some examples include: a parallel world tenuously connected to Earth via magical portals or items; a fictional Earth-like planet in the remote past or future; or an entirely independent world set in another universe. Many fantasy worlds draw heavily on real world history, geography and sociology, and also on folklore.</description>\n",
       "</category>\n",
       "<category hentai=\"false\" id=\"4\" parentid=\"313\" weight=\"200\">\n",
       "<name>Action</name>\n",
       "<description>Action anime usually involve a fairly straightforward story of good guys versus bad guys, where most disputes are resolved by using physical force. It often contains a lot of shooting, explosions and fighting. </description>\n",
       "</category>\n",
       "<category hentai=\"false\" id=\"79\" parentid=\"3\" weight=\"600\">\n",
       "<name>Seinen</name>\n",
       "<description>In the context of manga and associated media, the word seinen refers to a male audience roughly between the ages of 15 and 44. In Japanese, the word means simply \"young man\", and has no anime/manga-related connotations at all. It does not comprise a style or a genre per se, but rather indicates the publisher`s intended target demographic.</description>\n",
       "</category>\n",
       "<category hentai=\"false\" id=\"459\" parentid=\"340\" weight=\"200\">\n",
       "<name>Reverse Trap</name>\n",
       "<description>A girl who dresses in male clothing.</description>\n",
       "</category>\n",
       "</categories>\n",
       "<resources>\n",
       "<resource type=\"1\">\n",
       "<externalentity>\n",
       "<identifier>3770</identifier>\n",
       "</externalentity>\n",
       "<externalentity>\n",
       "<identifier>3532</identifier>\n",
       "</externalentity>\n",
       "<externalentity>\n",
       "<identifier>605</identifier>\n",
       "</externalentity>\n",
       "</resource>\n",
       "<resource type=\"2\">\n",
       "<externalentity>\n",
       "<identifier>1487</identifier>\n",
       "</externalentity>\n",
       "<externalentity>\n",
       "<identifier>48</identifier>\n",
       "</externalentity>\n",
       "<externalentity>\n",
       "<identifier>1143</identifier>\n",
       "</externalentity>\n",
       "</resource>\n",
       "<resource type=\"3\">\n",
       "<externalentity>\n",
       "<identifier>862</identifier>\n",
       "<identifier>hjhhmj</identifier>\n",
       "</externalentity>\n",
       "</resource>\n",
       "<resource type=\"4\">\n",
       "<externalentity>\n",
       "<url>http://www.beetrain.co.jp/contents/works/sign/</url>\n",
       "</externalentity>\n",
       "</resource>\n",
       "<resource type=\"6\">\n",
       "<externalentity>\n",
       "<identifier>.hack//Sign</identifier>\n",
       "</externalentity>\n",
       "</resource>\n",
       "<resource type=\"7\">\n",
       "<externalentity>\n",
       "<identifier>.hack//SIGN</identifier>\n",
       "</externalentity>\n",
       "</resource>\n",
       "<resource type=\"9\">\n",
       "<externalentity>\n",
       "<identifier>237599</identifier>\n",
       "</externalentity>\n",
       "</resource>\n",
       "</resources>\n",
       "<tags>\n",
       "<tag approval=\"6\" globalspoiler=\"false\" id=\"1326\" localspoiler=\"false\" spoiler=\"false\" update=\"2008-07-02\">\n",
       "<name>great OP and ED</name>\n",
       "<count>143</count>\n",
       "<description>The OP (opening) and ED (ending) sequences contain a strong sense of effort toward impressively utilizing visuals, instrumentals and vocals to captivate an audience.\n",
       "This has nothing to do with any karaoke effects and styling individual subbers may have added.</description>\n",
       "</tag>\n",
       "<tag approval=\"5\" globalspoiler=\"false\" id=\"381\" localspoiler=\"false\" spoiler=\"false\" update=\"2011-04-10\">\n",
       "<name>great character development</name>\n",
       "<count>81</count>\n",
       "<description>A great deal of focus is given to the characters as they develop and mature their personalities and who they are or may yet to become. The methods are strong and persuasive, quite possibly with the intent of moulding a certain view or feel of the characters by those watching.\n",
       "These developments commonly focus on how characters act when alone, how any single character responds towards certain other individuals or how any single individual or group of individuals act and react towards any other individual or group of individuals.</description>\n",
       "</tag>\n",
       "<tag approval=\"7\" globalspoiler=\"false\" id=\"3725\" localspoiler=\"false\" spoiler=\"false\" update=\"2011-04-18\">\n",
       "<name>dialogue driven</name>\n",
       "<count>76</count>\n",
       "<description>The plot of the anime is advanced by hopefully interesting and intriguing dialogues. Action is clearly of very much lower priority.</description>\n",
       "</tag>\n",
       "<tag approval=\"13\" globalspoiler=\"false\" id=\"2899\" localspoiler=\"false\" spoiler=\"false\" update=\"2013-03-07\">\n",
       "<name>preview before ED</name>\n",
       "<count>16</count>\n",
       "<description>Unlike most productions, where the next episode preview rolls *after* the ending with the production credits, this title does the reverse: preview the next episode *first*, then enjoy the ED (or skip it if you prefer, without missing the juicy preview details).</description>\n",
       "</tag>\n",
       "<tag approval=\"9\" globalspoiler=\"false\" id=\"655\" localspoiler=\"false\" spoiler=\"false\" update=\"2010-01-20\">\n",
       "<name>amnesia</name>\n",
       "<count>153</count>\n",
       "<description>Loss of memory.\n",
       "Used as story element, gradually revealing a protagonist`s past that had been forgotten. Usually revealing a terribly gruesome happening.</description>\n",
       "</tag>\n",
       "<tag approval=\"6\" globalspoiler=\"true\" id=\"1307\" localspoiler=\"true\" spoiler=\"true\" update=\"2008-06-30\">\n",
       "<name>inconclusive</name>\n",
       "<count>106</count>\n",
       "<description>The anime series or movie ends as it begins, nothing significant changed. Or the outcome is so vague and open-ended that a continuation would be possible. At times this is a sign for a continuation in the next season, or that the series was dropped and never continued. In any case there is always a sense of dissatisfaction for the viewer.</description>\n",
       "</tag>\n",
       "<tag approval=\"7\" globalspoiler=\"false\" id=\"2123\" localspoiler=\"false\" spoiler=\"false\" update=\"2009-06-22\">\n",
       "<name>awesome storyline</name>\n",
       "<count>115</count>\n",
       "<description>The storyline is intriguingly crafted: The suspense will keep you at the edge of your seat, the plot twists will very much surprise, the character development is both convincing, and entertaining.\n",
       "This is how anime should be!</description>\n",
       "</tag>\n",
       "<tag approval=\"22\" globalspoiler=\"false\" id=\"682\" localspoiler=\"false\" spoiler=\"false\" update=\"2008-06-06\">\n",
       "<name>great soundtrack</name>\n",
       "<count>332</count>\n",
       "<description>The anime soundtrack is noteworthy.</description>\n",
       "</tag>\n",
       "<tag approval=\"6\" globalspoiler=\"true\" id=\"2206\" localspoiler=\"true\" spoiler=\"true\" update=\"2009-10-14\">\n",
       "<name>open ended</name>\n",
       "<count>118</count>\n",
       "<description>The ending of this anime is left to the viewers imagination. There are no clear hints at a definite story outcome, just several possibilities are presented.</description>\n",
       "</tag>\n",
       "<tag approval=\"7\" globalspoiler=\"false\" id=\"3999\" localspoiler=\"false\" spoiler=\"false\" update=\"2009-10-12\">\n",
       "<name>seeking protagonist</name>\n",
       "<count>45</count>\n",
       "<description>The main character has a main objective that is referenced to through the whole series; he is in search of something, or someone\n",
       "Should it be treasure, friends, money, power or all of the above nothing will stop our lead character in his quest to find his passion</description>\n",
       "</tag>\n",
       "<tag approval=\"7\" globalspoiler=\"false\" id=\"3969\" localspoiler=\"false\" spoiler=\"false\" update=\"2009-05-25\">\n",
       "<name>levelling</name>\n",
       "<count>2</count>\n",
       "</tag>\n",
       "<tag approval=\"6\" globalspoiler=\"false\" id=\"5792\" localspoiler=\"false\" spoiler=\"false\" update=\"2012-10-21\">\n",
       "<name>avatar</name>\n",
       "<count>8</count>\n",
       "<description>An avatar is a computer user`s representation of himself/herself or alter ego, whether in the form of a three-dimensional model used in computer games, a two-dimensional icon (picture) or a one-dimensional username used on Internet forums and other communities, or a text construct found on early systems such as MUDs. \n",
       "It is an object representing the user. The term \"avatar\" can also refer to the personality connected with the screen name, or handle, of an Internet user. \n",
       "This sense of the word was coined by Neal Stephenson in 1992`s Snow Crash who co-opted it from the Sanskrit word avatāra which is a concept similar to that of incarnation.</description>\n",
       "</tag>\n",
       "<tag approval=\"23\" globalspoiler=\"false\" id=\"4552\" localspoiler=\"false\" spoiler=\"false\" update=\"2012-10-07\">\n",
       "<name>RPG elements</name>\n",
       "<count>37</count>\n",
       "<description>The anime shows elements of a `R`ole `P`laying `G`ame, either as part of a parody or because the anime is actually based on an RPG.\n",
       "Typical elements: When collecting items, beating opponents, or levelling up a distinct (often childishly sounding) sound cue is played. A HUD (`H`eads `U`p `D`isplay) may also be presenting in combat, showing vital player and \"enemy\" statistics.</description>\n",
       "</tag>\n",
       "<tag approval=\"4\" globalspoiler=\"false\" id=\"7064\" localspoiler=\"false\" spoiler=\"false\" update=\"2013-01-21\">\n",
       "<name>insanely powerful computer virus</name>\n",
       "<count>2</count>\n",
       "<description>The anime features an unrealistically powerful computer virus: \n",
       "It affects every existing operating system (Windows, Linux, Mac OS, everyone gets infected), any kind of electronic device (no matter whether you use a computer, a cellphone or an electronic toaster, it gets infected), wreaks extreme havoc (shutting down water, electricity and gas, makes nuclear power plants blow up, sends planes crashing, etc.) and is generally the harbinger of the apocalypse of the modern world (and, even more so, in a future world, where even more things are computerized and, most conveniently, connected to the Internet).</description>\n",
       "</tag>\n",
       "<tag approval=\"3\" globalspoiler=\"false\" id=\"426\" localspoiler=\"false\" spoiler=\"false\" update=\"2012-10-06\">\n",
       "<name>tsundere</name>\n",
       "<count>370</count>\n",
       "<description>A character type (usually female), who is often easily agitated or combative, but other times is quite kind and caring, especially in situations involving a person they are (knowingly or unknowingly) attracted to.</description>\n",
       "</tag>\n",
       "<tag approval=\"3\" globalspoiler=\"false\" id=\"254\" localspoiler=\"false\" spoiler=\"false\" update=\"2010-03-15\">\n",
       "<name>mystery</name>\n",
       "<count>118</count>\n",
       "<description>The mystery film is a sub-genre of the more general category of crime film. It focuses on the efforts of the detective, private investigator or amateur sleuth to solve the mysterious circumstances of a crime by means of clues, investigation, and clever deduction. (Source: Wikipedia)</description>\n",
       "</tag>\n",
       "<tag approval=\"3\" globalspoiler=\"false\" id=\"788\" localspoiler=\"true\" spoiler=\"true\" update=\"2010-04-10\">\n",
       "<name>child abuse</name>\n",
       "<count>18</count>\n",
       "<description>Story depicts child abuse, which is a very complex and dangerous set of problems that include child neglect and the physical, emotional, and sexual abuse of children.</description>\n",
       "</tag>\n",
       "<tag approval=\"3\" globalspoiler=\"false\" id=\"4098\" localspoiler=\"false\" spoiler=\"false\" update=\"2012-02-23\">\n",
       "<name>psychological manipulation</name>\n",
       "<count>35</count>\n",
       "<description>Psychological manipulation is a type of social influence that aims to change the perception or behaviour of others through underhanded, deceptive, or even abusive tactics. By advancing the interests of the manipulator, often at the other`s expense, such methods could be considered exploitative, abusive, devious, and deceptive. \n",
       "Social influence is not necessarily negative. For example, doctors can try to persuade patients to change unhealthy habits. Social influence is generally perceived to be harmless when it respects the right of the influenced to accept or reject it, and is not unduly coercive. Depending on the context and motivations, social influence may constitute underhanded manipulation.\n",
       "(Source: Wikipedia)</description>\n",
       "</tag>\n",
       "<tag approval=\"3\" globalspoiler=\"false\" id=\"6609\" localspoiler=\"false\" spoiler=\"false\" update=\"2011-07-06\">\n",
       "<name>teleportation</name>\n",
       "<count>18</count>\n",
       "<description>Teleportation is a term that refers to a number of theories and notions concerning the transfer of matter from one point to another without traversing the physical space between them, similar to the concept apport, an earlier word used in the context of spiritualism.\n",
       "(Source: Wikipedia)</description>\n",
       "</tag>\n",
       "<tag approval=\"3\" globalspoiler=\"false\" id=\"1994\" localspoiler=\"false\" spoiler=\"false\" update=\"2011-04-30\">\n",
       "<name>immature behaviour</name>\n",
       "<count>18</count>\n",
       "<description>Even though the characters are old enough to be treated as adults (or close enough, to expect them to behave as such), they show quite childish and immature behaviour.\n",
       "This may to a certain degree be seen as a comedy element with a degree of \"endearment\", but especially when they are parental figures it can become disturbing, when adult responsibilities are ignored.</description>\n",
       "</tag>\n",
       "<tag approval=\"3\" globalspoiler=\"false\" id=\"2083\" localspoiler=\"true\" spoiler=\"true\" update=\"2013-03-15\">\n",
       "<name>dysfunctional family</name>\n",
       "<count>14</count>\n",
       "<description>When the nuclear family (Mother, Father and child(ren)) goes boom due to conflicts between family members, sometimes resulting in the breakup of the family or even violence.</description>\n",
       "</tag>\n",
       "<tag approval=\"3\" globalspoiler=\"false\" id=\"5622\" localspoiler=\"false\" spoiler=\"false\" update=\"2012-04-21\">\n",
       "<name>ensemble cast</name>\n",
       "<count>19</count>\n",
       "<description>The plot focuses on a group of characters rather than a single one.</description>\n",
       "</tag>\n",
       "<tag approval=\"3\" globalspoiler=\"false\" id=\"5105\" localspoiler=\"false\" spoiler=\"false\" update=\"2009-06-09\">\n",
       "<name>regeneration from death</name>\n",
       "<count>18</count>\n",
       "</tag>\n",
       "<tag approval=\"3\" globalspoiler=\"false\" id=\"3841\" localspoiler=\"false\" spoiler=\"false\" update=\"2013-02-27\">\n",
       "<name>suffering protagonist</name>\n",
       "<count>41</count>\n",
       "<description>The protagonist suffers a lot in the anime and does not seem to be able to overcome it.</description>\n",
       "</tag>\n",
       "<tag approval=\"3\" globalspoiler=\"false\" id=\"6165\" localspoiler=\"false\" spoiler=\"false\" update=\"2013-02-26\">\n",
       "<name>jealousy</name>\n",
       "<count>34</count>\n",
       "<description>A character is jealous of another character either due to love, or power, or wealth.\n",
       "Can be an important element to the story.</description>\n",
       "</tag>\n",
       "<tag approval=\"3\" globalspoiler=\"false\" id=\"6338\" localspoiler=\"true\" spoiler=\"true\" update=\"2010-12-25\">\n",
       "<name>pseudo tentacle rape scene</name>\n",
       "<count>25</count>\n",
       "<description>If this was a hentai anime she would have even more fun!</description>\n",
       "</tag>\n",
       "<tag approval=\"3\" globalspoiler=\"false\" id=\"7106\" localspoiler=\"false\" spoiler=\"false\" update=\"2012-07-14\">\n",
       "<name>disguised social commentary</name>\n",
       "<count>3</count>\n",
       "</tag>\n",
       "<tag approval=\"3\" globalspoiler=\"false\" id=\"1271\" localspoiler=\"false\" spoiler=\"false\" update=\"2010-07-18\">\n",
       "<name>unrequited love</name>\n",
       "<count>71</count>\n",
       "<description>At least one character has a romantic interest in another one, but the feelings are not returned. \n",
       "This is the cornerstone of all love triangles or love polygons.</description>\n",
       "</tag>\n",
       "<tag approval=\"3\" globalspoiler=\"false\" id=\"4970\" localspoiler=\"true\" spoiler=\"true\" update=\"2009-05-06\">\n",
       "<name>implanted memories</name>\n",
       "<count>7</count>\n",
       "<description>The protagonist finds out that his/her cherished memories are actually fake and have been implanted.</description>\n",
       "</tag>\n",
       "<tag approval=\"3\" globalspoiler=\"false\" id=\"2660\" localspoiler=\"false\" spoiler=\"false\" update=\"2011-04-11\">\n",
       "<name>serious business</name>\n",
       "<count>23</count>\n",
       "<description>For some people it is just a card- or board game. For others it is not just a matter of life and death — it is much more important than that.\n",
       "Serious business basically describes a situation, when a show revolves around an activity where a sizeable portion of the in-series population takes it far more seriously than it should. If something`s popularity rivals that of Elvis, or if there are mainstream schools devoted to it instead of teaching reading, writing, and arithmetic; it is serious business.</description>\n",
       "</tag>\n",
       "<tag approval=\"3\" globalspoiler=\"false\" id=\"2365\" localspoiler=\"false\" spoiler=\"false\" update=\"2010-04-11\">\n",
       "<name>teamwork</name>\n",
       "<count>41</count>\n",
       "<description>A cooperative effort by the members of a group or team to achieve a common goal.</description>\n",
       "</tag>\n",
       "<tag approval=\"3\" globalspoiler=\"true\" id=\"3190\" localspoiler=\"true\" spoiler=\"true\" update=\"2012-04-05\">\n",
       "<name>heroic sacrifice</name>\n",
       "<count>55</count>\n",
       "<description>\"In order to save the many, the few will need to sacrifice their lives...\" or so this character may think. \n",
       "In a seemingly hopeless situation, against impossible odds, the character does not choose the path of the coward and run, he or she chooses to bravely face the enemy, fully aware that this will mean death.</description>\n",
       "</tag>\n",
       "<tag approval=\"3\" globalspoiler=\"false\" id=\"3840\" localspoiler=\"false\" spoiler=\"false\" update=\"2012-07-04\">\n",
       "<name>magic-using protagonist</name>\n",
       "<count>43</count>\n",
       "<description>One of the characters uses supernatural powers. These characters include magicians, witches, shamen, priests and shrine maidens.\n",
       "In action anime, these people typically use spells to battle their enemies, sometimes using a catch-phrase to release their incantations. Magic-using fighters, however, may simply channel their powers through their weapon.</description>\n",
       "</tag>\n",
       "<tag approval=\"3\" globalspoiler=\"false\" id=\"2975\" localspoiler=\"false\" spoiler=\"false\" update=\"2009-06-24\">\n",
       "<name>flashback</name>\n",
       "<count>313</count>\n",
       "<description>The characters remember things from their past triggering a flashback. The anime either repeats scenes from previous episodes (danger of too many \"fillers\"), or actually shows new footage from very old memories.</description>\n",
       "</tag>\n",
       "<tag approval=\"3\" globalspoiler=\"false\" id=\"890\" localspoiler=\"false\" spoiler=\"false\" update=\"2009-05-24\">\n",
       "<name>timeskip</name>\n",
       "<count>111</count>\n",
       "<description>The plot features at least one skip or jump in time.\n",
       "Example: A skip from the present into the past, or time skips in increments, e.g. every hour there is a timeskip by a day.</description>\n",
       "</tag>\n",
       "<tag approval=\"3\" globalspoiler=\"false\" id=\"6979\" localspoiler=\"false\" spoiler=\"false\" update=\"2013-01-14\">\n",
       "<name>crossover episodes</name>\n",
       "<count>2</count>\n",
       "</tag>\n",
       "<tag approval=\"3\" globalspoiler=\"false\" id=\"5807\" localspoiler=\"false\" spoiler=\"false\" update=\"2010-02-09\">\n",
       "<name>flashbacks everywhere</name>\n",
       "<count>10</count>\n",
       "<description>The anime is full of flashbacks. Sometimes one or more complete episodes are just one giant flashback. Often the same flashback is repeated over and over again. Such excessive amounts of recycled material clearly are used as \"fillers\" and cannot be interpreted as some sort of \"plot expansion\".\n",
       "Examples: Bleach or Tenjho Tenge.\n",
       "Tag should not be used for sporadic flashbacks.</description>\n",
       "</tag>\n",
       "<tag approval=\"3\" globalspoiler=\"false\" id=\"4537\" localspoiler=\"false\" spoiler=\"false\" update=\"2010-03-03\">\n",
       "<name>breathtaking vistas</name>\n",
       "<count>91</count>\n",
       "<description>An amazing view of nature, of artificially sculpted landscapes (i.e. gardens), or of a cityscape.</description>\n",
       "</tag>\n",
       "<tag approval=\"3\" globalspoiler=\"false\" id=\"4428\" localspoiler=\"false\" spoiler=\"false\" update=\"2009-02-03\">\n",
       "<name>sense of foreboding</name>\n",
       "<count>146</count>\n",
       "<description>The anime starts off quietly, everything seems to be fine, but from episode to episode the signs that something ominous is about to happen increase. E.g. a typical mystery setting.</description>\n",
       "</tag>\n",
       "<tag approval=\"3\" globalspoiler=\"false\" id=\"455\" localspoiler=\"false\" spoiler=\"false\" update=\"2012-03-22\">\n",
       "<name>slow-paced</name>\n",
       "<count>50</count>\n",
       "<description>The story — including its characters and events — develop slowly.\n",
       "May contain a weak continuity of plot and/or character development. \n",
       "Or may be a story telling device to increase the \"sense of foreboding\" in an anime with thriller or horror setting.</description>\n",
       "</tag>\n",
       "</tags>\n",
       "<characters>\n",
       "<character id=\"3547\" type=\"main character in\" update=\"2010-12-12\">\n",
       "<rating votes=\"9\">4.09</rating>\n",
       "<name>Tsukasa</name>\n",
       "<gender>male</gender>\n",
       "<charactertype id=\"1\">Character</charactertype>\n",
       "<description>Tsukasa was initially a cynical loner, and seemingly arrogant to the other players in The World. Tsukasa tended to avoid others as much as possible and didn`t take any enjoyment in leveling up or participating in events. In fact, his sole enjoyment seemed to come from defying the Crimson Knights. As Tsukasa was slowly befriended by Mimiru, Bear, and Subaru, he began to warm up to them, eventually seeking them out, as well as being sought out by Subaru who came to him for aid when she felt lost. By the end of the series, Tsukasa reveals the kind heart he had kept hidden for so long.</description>\n",
       "<picture>60665.jpg</picture>\n",
       "<seiyuu id=\"180\" picture=\"66228.jpg\">Saiga Mitsuki</seiyuu>\n",
       "</character>\n",
       "<character id=\"3661\" type=\"secondary cast in\" update=\"2009-02-23\">\n",
       "<rating votes=\"10\">5.88</rating>\n",
       "<name>Mimiru</name>\n",
       "<gender>female</gender>\n",
       "<charactertype id=\"1\">Character</charactertype>\n",
       "<description>Mimiru is a female Heavyblade who appears in .hack//Sign. Her avatar appears as a teenage girl dressed in an armored bikini top, and a short skirt, with large greaves on her legs. Mimiru plays as a \"tough-it-out-through-anything\" player, who is poor at planning things out and following through on them. She meets Tsukasa and soon becomes one of the few he trusts and he eventually sees her as a friend. She also teams up with Bear, who she refers to as an \"old man\", and spends considerable time in the series attempting to figure out what Bear`s career is in real life.</description>\n",
       "<picture>19519.jpg</picture>\n",
       "<seiyuu id=\"356\" picture=\"17197.jpg\">Toyoguchi Megumi</seiyuu>\n",
       "</character>\n",
       "<character id=\"8874\" type=\"appears in\" update=\"2010-03-24\">\n",
       "<rating votes=\"11\">6.45</rating>\n",
       "<name>Aura</name>\n",
       "<gender>female</gender>\n",
       "<charactertype id=\"1\">Character</charactertype>\n",
       "<picture>28257.jpg</picture>\n",
       "<seiyuu id=\"227\" picture=\"17046.jpg\">Sakamoto Maaya</seiyuu>\n",
       "</character>\n",
       "<character id=\"9953\" type=\"secondary cast in\" update=\"2009-06-27\">\n",
       "<rating votes=\"4\">4.55</rating>\n",
       "<name>Bear</name>\n",
       "<gender>male</gender>\n",
       "<charactertype id=\"1\">Character</charactertype>\n",
       "<picture>30100.jpg</picture>\n",
       "<seiyuu id=\"242\" picture=\"38156.jpg\">Nakata Kazuhiro</seiyuu>\n",
       "</character>\n",
       "<character id=\"9954\" type=\"secondary cast in\" update=\"2009-06-27\">\n",
       "<rating votes=\"5\">6.38</rating>\n",
       "<name>Sora</name>\n",
       "<gender>male</gender>\n",
       "<charactertype id=\"1\">Character</charactertype>\n",
       "<picture>30101.jpg</picture>\n",
       "<seiyuu id=\"2016\" picture=\"21318.jpg\">Yanaka Hiroshi</seiyuu>\n",
       "</character>\n",
       "<character id=\"9955\" type=\"secondary cast in\" update=\"2009-06-27\">\n",
       "<rating votes=\"6\">7.61</rating>\n",
       "<name>Crim</name>\n",
       "<gender>male</gender>\n",
       "<charactertype id=\"1\">Character</charactertype>\n",
       "<picture>30102.jpg</picture>\n",
       "<seiyuu id=\"233\" picture=\"17051.jpg\">Miki Shin`ichirou</seiyuu>\n",
       "</character>\n",
       "<character id=\"9956\" type=\"secondary cast in\" update=\"2009-06-27\">\n",
       "<rating votes=\"10\">5.13</rating>\n",
       "<name>Subaru</name>\n",
       "<gender>female</gender>\n",
       "<charactertype id=\"1\">Character</charactertype>\n",
       "<picture>30103.jpg</picture>\n",
       "<seiyuu id=\"308\" picture=\"44975.jpg\">Nazuka Kaori</seiyuu>\n",
       "</character>\n",
       "<character id=\"9957\" type=\"secondary cast in\" update=\"2009-06-27\">\n",
       "<rating votes=\"4\">7.83</rating>\n",
       "<name>BT</name>\n",
       "<gender>female</gender>\n",
       "<charactertype id=\"1\">Character</charactertype>\n",
       "<picture>30104.jpg</picture>\n",
       "<seiyuu id=\"692\" picture=\"18299.jpg\">Hiramatsu Akiko</seiyuu>\n",
       "</character>\n",
       "<character id=\"15313\" type=\"secondary cast in\" update=\"2010-02-27\">\n",
       "<rating votes=\"11\">2.56</rating>\n",
       "<name>Silver Knight</name>\n",
       "<gender>male</gender>\n",
       "<charactertype id=\"1\">Character</charactertype>\n",
       "<description>Silver Knight is second-in-command of the Crimson Knights. As described by Frank Ellis he possesses a strong sense of justice (becoming overzealous at times), but is extremely naive, leading him to end up as more of a tool to be used by whoever is in control. He is extremely overprotective of Subaru. Silver Knight`s PC is an edited version of the standard Crimson Knight design.\n",
       "Later in the series, he tells Mimiru that he is 23 and works in a video store.</description>\n",
       "<picture>43718.jpg</picture>\n",
       "<seiyuu id=\"1913\" picture=\"26099.jpg\">Chiba Isshin</seiyuu>\n",
       "</character>\n",
       "<character id=\"31939\" type=\"appears in\" update=\"2011-05-06\">\n",
       "<rating votes=\"2\">7.71</rating>\n",
       "<name>Shouji An</name>\n",
       "<gender>female</gender>\n",
       "<charactertype id=\"1\">Character</charactertype>\n",
       "<description>Shouji An is the real life player behind Tsukasa. She is actually female. An was raised by her father after the death of her mother, and was physically and mentally abused by him. His abusive behavior also distanced her from her gender: he treated her like a boy, refusing to allow her to use feminine products and basic hygiene products. There are also subtle hints that her father is an alcoholic. After awaking from her coma, Sakuma Ryo, the player behind Bear, becomes her legal guardian and allows her to go to a boarding school. She meets with Mariko, Subaru`s player, and the two begin a relationship.</description>\n",
       "<picture>71030.jpg</picture>\n",
       "<seiyuu id=\"180\" picture=\"66228.jpg\">Saiga Mitsuki</seiyuu>\n",
       "</character>\n",
       "<character id=\"31940\" type=\"appears in\" update=\"2011-05-06\">\n",
       "<rating votes=\"1\">6.09</rating>\n",
       "<name>Misono Mariko</name>\n",
       "<gender>female</gender>\n",
       "<charactertype id=\"1\">Character</charactertype>\n",
       "<description>Misono Mariko is the real life player behind Subaru. She is a paraplegic girl who spends so much time in The World because it is the only place where she can roam freely on her own. At the end of the series, she meets Shouji An, Tsukasa`s player, and the two begin a relationship.</description>\n",
       "<picture>71031.jpg</picture>\n",
       "<seiyuu id=\"308\" picture=\"44975.jpg\">Nazuka Kaori</seiyuu>\n",
       "</character>\n",
       "</characters>\n",
       "<episodes>\n",
       "<episode id=\"151\" update=\"2011-10-20\">\n",
       "<epno type=\"1\">1</epno>\n",
       "<length>25</length>\n",
       "<airdate>2002-04-04</airdate>\n",
       "<rating votes=\"20\">6.92</rating>\n",
       "<title xml:lang=\"ja\">Role Play</title>\n",
       "<title xml:lang=\"en\">Role Play</title>\n",
       "<title xml:lang=\"fr\">Jeux de rôle</title>\n",
       "<title xml:lang=\"x-jat\">Role Play</title>\n",
       "</episode>\n",
       "<episode id=\"253\" update=\"2011-10-20\">\n",
       "<epno type=\"1\">2</epno>\n",
       "<length>25</length>\n",
       "<airdate>2002-04-11</airdate>\n",
       "<rating votes=\"14\">6.94</rating>\n",
       "<title xml:lang=\"ja\">Guardian</title>\n",
       "<title xml:lang=\"en\">Guardian</title>\n",
       "<title xml:lang=\"fr\">L`ange gardien</title>\n",
       "<title xml:lang=\"x-jat\">Guardian</title>\n",
       "</episode>\n",
       "<episode id=\"254\" update=\"2011-10-20\">\n",
       "<epno type=\"1\">3</epno>\n",
       "<length>25</length>\n",
       "<airdate>2002-04-18</airdate>\n",
       "<rating votes=\"13\">4.78</rating>\n",
       "<title xml:lang=\"ja\">Folklore</title>\n",
       "<title xml:lang=\"en\">Folklore</title>\n",
       "<title xml:lang=\"fr\">Folklore</title>\n",
       "<title xml:lang=\"x-jat\">Folklore</title>\n",
       "</episode>\n",
       "<episode id=\"256\" update=\"2011-10-20\">\n",
       "<epno type=\"1\">4</epno>\n",
       "<length>25</length>\n",
       "<airdate>2002-04-25</airdate>\n",
       "<rating votes=\"12\">6.14</rating>\n",
       "<title xml:lang=\"ja\">Wanted</title>\n",
       "<title xml:lang=\"en\">Wanted</title>\n",
       "<title xml:lang=\"fr\">Avis de recherche</title>\n",
       "<title xml:lang=\"x-jat\">Wanted</title>\n",
       "</episode>\n",
       "<episode id=\"268\" update=\"2011-10-20\">\n",
       "<epno type=\"1\">5</epno>\n",
       "<length>25</length>\n",
       "<airdate>2002-05-02</airdate>\n",
       "<rating votes=\"13\">5.33</rating>\n",
       "<title xml:lang=\"ja\">Captured</title>\n",
       "<title xml:lang=\"en\">Captured</title>\n",
       "<title xml:lang=\"fr\">Capture</title>\n",
       "<title xml:lang=\"x-jat\">Captured</title>\n",
       "</episode>\n",
       "<episode id=\"509\" update=\"2013-03-18\">\n",
       "<epno type=\"1\">18</epno>\n",
       "<length>25</length>\n",
       "<airdate>2002-08-01</airdate>\n",
       "<rating votes=\"11\">5.69</rating>\n",
       "<title xml:lang=\"ja\">Declaration</title>\n",
       "<title xml:lang=\"en\">Declaration</title>\n",
       "<title xml:lang=\"fr\">La déclaration</title>\n",
       "<title xml:lang=\"x-jat\">Declaration</title>\n",
       "</episode>\n",
       "<episode id=\"668\" update=\"2011-10-20\">\n",
       "<epno type=\"1\">6</epno>\n",
       "<length>25</length>\n",
       "<airdate>2002-05-09</airdate>\n",
       "<rating votes=\"11\">5.27</rating>\n",
       "<title xml:lang=\"ja\">Encounter</title>\n",
       "<title xml:lang=\"en\">Encounter</title>\n",
       "<title xml:lang=\"fr\">La rencontre</title>\n",
       "<title xml:lang=\"x-jat\">Encounter</title>\n",
       "</episode>\n",
       "<episode id=\"669\" update=\"2011-10-20\">\n",
       "<epno type=\"1\">7</epno>\n",
       "<length>25</length>\n",
       "<airdate>2002-05-16</airdate>\n",
       "<rating votes=\"12\">5.97</rating>\n",
       "<title xml:lang=\"ja\">Reason</title>\n",
       "<title xml:lang=\"en\">Reason</title>\n",
       "<title xml:lang=\"fr\">Raison</title>\n",
       "<title xml:lang=\"x-jat\">Reason</title>\n",
       "</episode>\n",
       "<episode id=\"670\" update=\"2011-10-20\">\n",
       "<epno type=\"1\">8</epno>\n",
       "<length>25</length>\n",
       "<airdate>2002-05-23</airdate>\n",
       "<rating votes=\"12\">3.46</rating>\n",
       "<title xml:lang=\"ja\">Promise</title>\n",
       "<title xml:lang=\"en\">Promise</title>\n",
       "<title xml:lang=\"fr\">La promesse</title>\n",
       "<title xml:lang=\"x-jat\">Promise</title>\n",
       "</episode>\n",
       "<episode id=\"671\" update=\"2011-10-20\">\n",
       "<epno type=\"1\">9</epno>\n",
       "<length>25</length>\n",
       "<airdate>2002-05-30</airdate>\n",
       "<rating votes=\"11\">4.29</rating>\n",
       "<title xml:lang=\"ja\">Epitaph</title>\n",
       "<title xml:lang=\"en\">Epitaph</title>\n",
       "<title xml:lang=\"fr\">Épitaphe</title>\n",
       "<title xml:lang=\"x-jat\">Epitaph</title>\n",
       "</episode>\n",
       "<episode id=\"672\" update=\"2011-10-20\">\n",
       "<epno type=\"1\">10</epno>\n",
       "<length>25</length>\n",
       "<airdate>2002-06-06</airdate>\n",
       "<rating votes=\"12\">4.45</rating>\n",
       "<title xml:lang=\"ja\">Compensation</title>\n",
       "<title xml:lang=\"en\">Compensation</title>\n",
       "<title xml:lang=\"fr\">La compensation</title>\n",
       "<title xml:lang=\"x-jat\">Compensation</title>\n",
       "</episode>\n",
       "<episode id=\"673\" update=\"2011-10-20\">\n",
       "<epno type=\"1\">11</epno>\n",
       "<length>25</length>\n",
       "<airdate>2002-06-13</airdate>\n",
       "<rating votes=\"11\">5.17</rating>\n",
       "<title xml:lang=\"ja\">Party</title>\n",
       "<title xml:lang=\"en\">Party</title>\n",
       "<title xml:lang=\"fr\">Le défi</title>\n",
       "<title xml:lang=\"x-jat\">Party</title>\n",
       "</episode>\n",
       "<episode id=\"674\" update=\"2011-10-20\">\n",
       "<epno type=\"1\">12</epno>\n",
       "<length>25</length>\n",
       "<airdate>2002-06-20</airdate>\n",
       "<rating votes=\"11\">6.12</rating>\n",
       "<title xml:lang=\"ja\">Entanglement</title>\n",
       "<title xml:lang=\"en\">Entanglement</title>\n",
       "<title xml:lang=\"fr\">Enchevêtrement</title>\n",
       "<title xml:lang=\"x-jat\">Entanglement</title>\n",
       "</episode>\n",
       "<episode id=\"675\" update=\"2011-10-20\">\n",
       "<epno type=\"1\">13</epno>\n",
       "<length>25</length>\n",
       "<airdate>2002-06-27</airdate>\n",
       "<rating votes=\"10\">8.23</rating>\n",
       "<title xml:lang=\"ja\">Twilight Eye</title>\n",
       "<title xml:lang=\"en\">Twilight Eye</title>\n",
       "<title xml:lang=\"fr\">L`œil du crépuscule</title>\n",
       "<title xml:lang=\"x-jat\">Twilight Eye</title>\n",
       "</episode>\n",
       "<episode id=\"676\" update=\"2011-10-20\">\n",
       "<epno type=\"1\">14</epno>\n",
       "<length>25</length>\n",
       "<airdate>2002-07-04</airdate>\n",
       "<rating votes=\"11\">6.39</rating>\n",
       "<title xml:lang=\"ja\">Castle</title>\n",
       "<title xml:lang=\"en\">Castle</title>\n",
       "<title xml:lang=\"fr\">Le château</title>\n",
       "<title xml:lang=\"x-jat\">Castle</title>\n",
       "</episode>\n",
       "<episode id=\"677\" recap=\"true\" update=\"2013-03-18\">\n",
       "<epno type=\"1\">15</epno>\n",
       "<length>25</length>\n",
       "<airdate>2002-07-11</airdate>\n",
       "<rating votes=\"8\">4.99</rating>\n",
       "<title xml:lang=\"ja\">Evidence</title>\n",
       "<title xml:lang=\"en\">Evidence</title>\n",
       "<title xml:lang=\"fr\">La preuve</title>\n",
       "<title xml:lang=\"x-jat\">Evidence</title>\n",
       "</episode>\n",
       "<episode id=\"678\" update=\"2013-03-18\">\n",
       "<epno type=\"1\">16</epno>\n",
       "<length>25</length>\n",
       "<airdate>2002-07-18</airdate>\n",
       "<rating votes=\"11\">4.04</rating>\n",
       "<title xml:lang=\"ja\">Depth</title>\n",
       "<title xml:lang=\"en\">Depth</title>\n",
       "<title xml:lang=\"fr\">Abysse</title>\n",
       "<title xml:lang=\"x-jat\">Depth</title>\n",
       "</episode>\n",
       "<episode id=\"679\" update=\"2013-03-18\">\n",
       "<epno type=\"1\">17</epno>\n",
       "<length>25</length>\n",
       "<airdate>2002-07-25</airdate>\n",
       "<rating votes=\"11\">5.34</rating>\n",
       "<title xml:lang=\"ja\">Conflict</title>\n",
       "<title xml:lang=\"en\">Conflict</title>\n",
       "<title xml:lang=\"fr\">Le conflit</title>\n",
       "<title xml:lang=\"x-jat\">Conflict</title>\n",
       "</episode>\n",
       "<episode id=\"1648\" update=\"2013-03-18\">\n",
       "<epno type=\"1\">19</epno>\n",
       "<length>25</length>\n",
       "<airdate>2002-08-08</airdate>\n",
       "<rating votes=\"11\">6.83</rating>\n",
       "<title xml:lang=\"ja\">Recollection</title>\n",
       "<title xml:lang=\"en\">Recollection</title>\n",
       "<title xml:lang=\"fr\">Souvenir</title>\n",
       "<title xml:lang=\"x-jat\">Recollection</title>\n",
       "</episode>\n",
       "<episode id=\"1649\" update=\"2013-03-18\">\n",
       "<epno type=\"1\">20</epno>\n",
       "<length>25</length>\n",
       "<airdate>2002-08-15</airdate>\n",
       "<rating votes=\"11\">7.98</rating>\n",
       "<title xml:lang=\"ja\">Tempest</title>\n",
       "<title xml:lang=\"en\">Tempest</title>\n",
       "<title xml:lang=\"fr\">Tempête</title>\n",
       "<title xml:lang=\"x-jat\">Tempest</title>\n",
       "</episode>\n",
       "<episode id=\"2159\" update=\"2013-03-18\">\n",
       "<epno type=\"1\">22</epno>\n",
       "<length>25</length>\n",
       "<airdate>2002-08-29</airdate>\n",
       "<rating votes=\"9\">7.38</rating>\n",
       "<title xml:lang=\"ja\">Phantom</title>\n",
       "<title xml:lang=\"en\">Phantom</title>\n",
       "<title xml:lang=\"fr\">Le fantôme</title>\n",
       "<title xml:lang=\"x-jat\">Phantom</title>\n",
       "</episode>\n",
       "<episode id=\"2312\" update=\"2013-03-18\">\n",
       "<epno type=\"1\">23</epno>\n",
       "<length>25</length>\n",
       "<airdate>2002-09-05</airdate>\n",
       "<rating votes=\"9\">7.55</rating>\n",
       "<title xml:lang=\"ja\">The Eve</title>\n",
       "<title xml:lang=\"en\">The Eve</title>\n",
       "<title xml:lang=\"fr\">La veille</title>\n",
       "<title xml:lang=\"x-jat\">The Eve</title>\n",
       "</episode>\n",
       "<episode id=\"2313\" update=\"2013-03-21\">\n",
       "<epno type=\"1\">24</epno>\n",
       "<length>25</length>\n",
       "<airdate>2002-09-12</airdate>\n",
       "<rating votes=\"9\">8.94</rating>\n",
       "<title xml:lang=\"ja\">Net Slum</title>\n",
       "<title xml:lang=\"en\">Net Slum</title>\n",
       "<title xml:lang=\"fr\">Le cyber-sanctuaire</title>\n",
       "<title xml:lang=\"x-jat\">Net Slum</title>\n",
       "</episode>\n",
       "<episode id=\"2345\" update=\"2013-03-21\">\n",
       "<epno type=\"1\">25</epno>\n",
       "<length>25</length>\n",
       "<airdate>2002-09-19</airdate>\n",
       "<rating votes=\"9\">9.17</rating>\n",
       "<title xml:lang=\"ja\">Catastrophe</title>\n",
       "<title xml:lang=\"en\">Catastrophe</title>\n",
       "<title xml:lang=\"fr\">Catastrophe</title>\n",
       "<title xml:lang=\"x-jat\">Catastrophe</title>\n",
       "</episode>\n",
       "<episode id=\"2347\" update=\"2013-03-18\">\n",
       "<epno type=\"1\">26</epno>\n",
       "<length>25</length>\n",
       "<airdate>2002-09-26</airdate>\n",
       "<rating votes=\"14\">7.84</rating>\n",
       "<title xml:lang=\"ja\">Return</title>\n",
       "<title xml:lang=\"en\">Return</title>\n",
       "<title xml:lang=\"fr\">Le retour</title>\n",
       "<title xml:lang=\"x-jat\">Return</title>\n",
       "</episode>\n",
       "<episode id=\"3002\" update=\"2013-03-18\">\n",
       "<epno type=\"1\">21</epno>\n",
       "<length>25</length>\n",
       "<airdate>2002-08-22</airdate>\n",
       "<rating votes=\"10\">6.21</rating>\n",
       "<title xml:lang=\"ja\">Despair</title>\n",
       "<title xml:lang=\"en\">Despair</title>\n",
       "<title xml:lang=\"fr\">Désespoir</title>\n",
       "<title xml:lang=\"x-jat\">Despair</title>\n",
       "</episode>\n",
       "<episode id=\"7176\" update=\"2013-03-18\">\n",
       "<epno type=\"2\">S1</epno>\n",
       "<length>25</length>\n",
       "<airdate>2003-03-28</airdate>\n",
       "<rating votes=\"19\">7.28</rating>\n",
       "<title xml:lang=\"ja\">Intermezzo</title>\n",
       "<title xml:lang=\"en\">Intermezzo</title>\n",
       "<title xml:lang=\"fr\">Intermède</title>\n",
       "</episode>\n",
       "<episode id=\"11483\" update=\"2010-04-08\">\n",
       "<epno type=\"3\">C1</epno>\n",
       "<length>0</length>\n",
       "<title xml:lang=\"en\">Opening</title>\n",
       "</episode>\n",
       "<episode id=\"11484\" update=\"2010-04-08\">\n",
       "<epno type=\"3\">C2</epno>\n",
       "<length>0</length>\n",
       "<title xml:lang=\"en\">Ending</title>\n",
       "</episode>\n",
       "<episode id=\"12820\" update=\"2011-10-20\">\n",
       "<epno type=\"2\">S2</epno>\n",
       "<length>25</length>\n",
       "<airdate>2003-10-24</airdate>\n",
       "<rating votes=\"15\">8.02</rating>\n",
       "<title xml:lang=\"en\">Unison</title>\n",
       "<title xml:lang=\"fr\">En chœur</title>\n",
       "</episode>\n",
       "</episodes>\n",
       "</anime>"
      ]
     },
     "execution_count": 2,
     "metadata": {},
     "output_type": "execute_result"
    }
   ],
   "source": [
    "from bs4 import BeautifulSoup\n",
    "from datetime import datetime\n",
    "\n",
    "soup = BeautifulSoup(text, 'xml')  # http://stackoverflow.com/questions/31126831/beautifulsoup-with-xml-fails-to-parse-full-unicode-strings#comment50430922_31146912\n",
    "\"\"\"with open('backup.xml', 'w') as f:\n",
    "f.write(r.text)\"\"\"\n",
    "if soup.error is not None:\n",
    "    raise Exception(soup.error.string)\n",
    "\n",
    "anime = soup.anime\n",
    "anime\n"
   ]
  },
  {
   "cell_type": "code",
   "execution_count": 6,
   "metadata": {
    "collapsed": false
   },
   "outputs": [],
   "source": [
    "worktitles=[(title.string, title['type'], 'en') for title in anime.find_all('title') if (title.parent.name==\"titles\" and title['type'] != \"short\" and title['xml:lang']==\"en\")] + [(title.string, title['type'], 'fr') for title in anime.find_all('title') if (title.parent.name==\"titles\" and title['type'] != \"short\" and title['xml:lang']==\"fr\")] + [(title.string, title['type'], 'ja') for title in anime.find_all('title') if (title.parent.name==\"titles\" and title['type'] != \"short\" and title['xml:lang']==\"x-jat\")]\n",
    "worktitles\n",
    "\n",
    "a=Work.objects.get(id=7689)\n",
    "\n",
    "for i in range(len(worktitles)):\n",
    "                WorkTitle.objects.get_or_create(work=a, title=worktitles[i][0], language=worktitles[i][2], specific_type=worktitles[i][1])\n",
    "       "
   ]
  },
  {
   "cell_type": "code",
   "execution_count": null,
   "metadata": {
    "collapsed": true
   },
   "outputs": [],
   "source": []
  },
  {
   "cell_type": "code",
   "execution_count": 11,
   "metadata": {
    "collapsed": false
   },
   "outputs": [],
   "source": [
    "mapping = {'fr':'fr', 'en': 'en', 'x-jat': 'ja'}\n",
    "worktitles = [(title.string, title['type'], mapping[title['xml:lang']])\n",
    "                      for title in anime.titles.find_all('title')\n",
    "                      if title['type'] != 'short' and title['xml:lang'] in mapping]\n",
    "\n",
    "worktitles\n",
    "\n",
    "a=Work.objects.get(id=7690)\n",
    "a\n",
    "\n",
    "for i in range(len(worktitles)):\n",
    "                WorkTitle.objects.get_or_create(work=a, title=worktitles[i][0], language=worktitles[i][2], specific_type=worktitles[i][1])\n",
    "       "
   ]
  },
  {
   "cell_type": "code",
   "execution_count": null,
   "metadata": {
    "collapsed": true
   },
   "outputs": [],
   "source": []
  },
  {
   "cell_type": "code",
   "execution_count": 3,
   "metadata": {
    "collapsed": false
   },
   "outputs": [
    {
     "name": "stdout",
     "output_type": "stream",
     "text": [
      "I don't now Oosawa Satoshi (yet). Link to another artist? Type their name: Oosawa Satoshi\n"
     ]
    }
   ],
   "source": [
    "a=Work.objects.get(id=7690)\n",
    "\n",
    "def get_or_create_artist(name, creator_id):\n",
    "    try:\n",
    "        return Artist.objects.get(name=name, creator_id=creator_id)\n",
    "    except Artist.DoesNotExist:\n",
    "        pass\n",
    "    try:\n",
    "        return ArtistSpelling.objects.select_related('artist').get(was=name).artist\n",
    "    except ArtistSpelling.DoesNotExist:\n",
    "        pass\n",
    "    # FIXME consider trigram search to find similar artists in Artist, ArtistSpelling\n",
    "    true_name = input('I don\\'t now %s (yet). Link to another artist? Type their name: ' % name)\n",
    "    artist, _ = Artist.objects.get_or_create(name=true_name, creator_id=creator_id)\n",
    "    ArtistSpelling(was=name, artist=artist).save()\n",
    "    return artist\n",
    "\n",
    "creators = anime.creators\n",
    "staff_map = dict(Role.objects.filter(slug__in=['author', 'director', 'composer']).values_list('slug', 'pk'))\n",
    "            \n",
    "for creator in creators.findAll('name'):\n",
    "    artist = get_or_create_artist(creator.string, creator['id'])\n",
    "    if creator['type'] == 'Direction':\n",
    "        staff_id = 'director'\n",
    "    elif creator['type'] == 'Music':\n",
    "        staff_id = 'composer'\n",
    "    elif creator['type'] == 'Original Work' or creator['type'] == 'Story Composition':\n",
    "        staff_id = 'author'\n",
    "    else:\n",
    "        staff_id = None\n",
    "    if staff_id is not None:\n",
    "        Staff.objects.get_or_create(work=a, role_id=staff_map[staff_id], artist=artist)\n",
    "    a.save()\n",
    "    "
   ]
  },
  {
   "cell_type": "code",
   "execution_count": null,
   "metadata": {
    "collapsed": true
   },
   "outputs": [],
   "source": []
  },
  {
   "cell_type": "code",
   "execution_count": null,
   "metadata": {
    "collapsed": true
   },
   "outputs": [],
   "source": []
  },
  {
   "cell_type": "code",
   "execution_count": null,
   "metadata": {
    "collapsed": true
   },
   "outputs": [],
   "source": []
  },
  {
   "cell_type": "code",
   "execution_count": null,
   "metadata": {
    "collapsed": true
   },
   "outputs": [],
   "source": []
  },
  {
   "cell_type": "code",
   "execution_count": null,
   "metadata": {
    "collapsed": true
   },
   "outputs": [],
   "source": []
  },
  {
   "cell_type": "code",
   "execution_count": null,
   "metadata": {
    "collapsed": true
   },
   "outputs": [],
   "source": []
  },
  {
   "cell_type": "code",
   "execution_count": null,
   "metadata": {
    "collapsed": true
   },
   "outputs": [],
   "source": []
  },
  {
   "cell_type": "code",
   "execution_count": null,
   "metadata": {
    "collapsed": true
   },
   "outputs": [],
   "source": []
  },
  {
   "cell_type": "code",
   "execution_count": 3,
   "metadata": {
    "collapsed": false,
    "scrolled": true
   },
   "outputs": [
    {
     "data": {
      "text/plain": [
       "2"
      ]
     },
     "execution_count": 3,
     "metadata": {},
     "output_type": "execute_result"
    }
   ],
   "source": [
    "#alternative_title=str(titles.find('title', attrs={'xml:lang': \"fr\"}).string)\n",
    "\n",
    "b=[(title.string, title['xml:lang']) for title in anime.find_all('title') if (title.parent.name==\"titles\" and title['xml:lang']==\"ja\")]\n",
    "c=[(title.string, title['xml:lang']) for title in anime.find_all('title') if (title.parent.name==\"titles\" and title['xml:lang']==\"fr\")]\n",
    "d=b+c  \n",
    "#a=[title.string for title in a]\n",
    "d\n",
    "len(d)\n",
    "#a=Work.objects.filter(id=1)[0]\n",
    "#WorkTitle.objects.update_or_create(work=a, title=d[0][0], language=d[0][1])"
   ]
  },
  {
   "cell_type": "code",
   "execution_count": 189,
   "metadata": {
    "collapsed": false
   },
   "outputs": [
    {
     "data": {
      "text/plain": [
       "[('.hack//SIGN', 'fr')]"
      ]
     },
     "execution_count": 189,
     "metadata": {},
     "output_type": "execute_result"
    }
   ],
   "source": [
    "b=[(title.string, title['xml:lang']) for title in anime.find_all('title') if (title.parent.name==\"titles\" and title['xml:lang']==\"en\")]+[(title.string, title['xml:lang']) for title in anime.find_all('title') if (title.parent.name==\"titles\" and title['xml:lang']==\"fr\")]\n",
    "b\n"
   ]
  },
  {
   "cell_type": "markdown",
   "metadata": {},
   "source": [
    "Existence d'un attribut "
   ]
  },
  {
   "cell_type": "code",
   "execution_count": 214,
   "metadata": {
    "collapsed": false
   },
   "outputs": [
    {
     "data": {
      "text/plain": [
       "'true'"
      ]
     },
     "execution_count": 214,
     "metadata": {},
     "output_type": "execute_result"
    }
   ],
   "source": [
    "a=anime.categories\n",
    "a == None\n",
    "is_hentai = anime.category.get(\"hentai\")  if anime.categories != None else 'dontknow'\n",
    "is_hentai"
   ]
  },
  {
   "cell_type": "code",
   "execution_count": 23,
   "metadata": {
    "collapsed": false
   },
   "outputs": [],
   "source": [
    "from mangaki.models import Work, Tag\n",
    "#category, tag\n",
    "#if anime.categories != None :\n",
    "#    a=[(genre.string, genre.parent['weight']) for genre in anime.find_all('name') if genre.parent.name==\"category\"]\n",
    "b = [(genre.string, genre.parent.get('weight')) for genre in anime.find_all('name') if genre.parent.name==\"category\"]\n",
    "#anime.category.get(\"hentai\")\n",
    "b\n",
    "#Work.objects.tags_set.get_or_create(title=b[0][0], weight=b[0][1])\n",
    "work=Work.objects.get(id=1)\n",
    "for i in range(len(b)):\n",
    "    tag=Tag.objects.get_or_create( title=b[i][0], weight=b[i][1])[0]\n",
    "    Work.objects.get(id=7689).tags.add(tag)\n",
    "tag1=Tag.objects.get_or_create( title='blabla', weight=30)[0]\n",
    "Work.objects.get(id=7689).tags.add(tag1)\n",
    "\n"
   ]
  },
  {
   "cell_type": "code",
   "execution_count": null,
   "metadata": {
    "collapsed": true
   },
   "outputs": [],
   "source": [
    "#contrôler les tags, brouillon depuis artist\n",
    "\n",
    "\n",
    "for i in range(len(b)):\n",
    "    tag=Tag.objects.get_or_create( title=b[i][0], weight=b[i][1])[0]\n",
    "    if tag in Work.objects.get(id=7689).tags\n",
    "    Work.objects.get(id=7689).tags.add(tag)\n",
    "\n",
    "    Work.objects.get(id=7689).tags.add(tag)\n",
    "\n",
    "    try:\n",
    "        return Artist.objects.get(name=name)\n",
    "    except Artist.DoesNotExist:\n",
    "        pass\n",
    "    try:\n",
    "        return ArtistSpelling.objects.select_related('artist').get(was=name).artist\n",
    "    except ArtistSpelling.DoesNotExist:\n",
    "        pass\n",
    "    # FIXME consider trigram search to find similar artists in Artist, ArtistSpelling\n",
    "    true_name = input('I don\\'t now %s (yet). Link to another artist? Type their name: ' % name)\n",
    "    artist, _ = Artist.objects.get_or_create(name=true_name)\n",
    "    ArtistSpelling(was=name, artist=artist).save()\n",
    "    return artist"
   ]
  },
  {
   "cell_type": "code",
   "execution_count": 16,
   "metadata": {
    "collapsed": false
   },
   "outputs": [
    {
     "data": {
      "text/plain": [
       "{'blab': 100, 'blabla': 5, 'ok': 100}"
      ]
     },
     "execution_count": 16,
     "metadata": {},
     "output_type": "execute_result"
    }
   ],
   "source": [
    "\"\"\"\n",
    "brouillon\n",
    "#Avoir les nouveaux tags et les anciens tags\n",
    "\n",
    "new_tags=dict() # sera du type {tag.name:tag.weight)\n",
    "\n",
    "unchanged_tags=dict()\n",
    "\"\"\"\n",
    "current_work = Work.objects.get(id=1)\n",
    "\n",
    "#ici on rentre ds la boucle for des work (animeds anidb.py iirc) \n",
    "#all_tags={tag.title: tag.weight for tag in current_work.tags.all()}\n",
    "#all_tags"
   ]
  },
  {
   "cell_type": "code",
   "execution_count": 23,
   "metadata": {
    "collapsed": false
   },
   "outputs": [
    {
     "data": {
      "text/plain": [
       "<Tag: bleu 30>"
      ]
     },
     "execution_count": 23,
     "metadata": {},
     "output_type": "execute_result"
    }
   ],
   "source": [
    "object_current_tags= current_work.tags.all()\n",
    "list_object_new_tags = []\n",
    "#object_old_tags = []\n",
    "current_tags = {tag.title: tag.weight for tag in object_current_tags}\n",
    "real_new_tags = dict()\n",
    "new_tags = dict() #{new title : new weight}\n",
    "old_tags = dict()\n",
    "modified_tags = dict()\n",
    "#ici on rentre ds la boucle for des tags, ex avec un seul tour avec tag1\n",
    "tag1=Tag.objects.get_or_create( title='bleu', weight=30)[0]\n",
    "tag1"
   ]
  },
  {
   "cell_type": "code",
   "execution_count": 25,
   "metadata": {
    "collapsed": false
   },
   "outputs": [
    {
     "ename": "KeyError",
     "evalue": "'bleu'",
     "output_type": "error",
     "traceback": [
      "\u001b[1;31m---------------------------------------------------------------------------\u001b[0m",
      "\u001b[1;31mKeyError\u001b[0m                                  Traceback (most recent call last)",
      "\u001b[1;32m<ipython-input-25-fcfebf9da44e>\u001b[0m in \u001b[0;36m<module>\u001b[1;34m()\u001b[0m\n\u001b[0;32m      5\u001b[0m \u001b[1;32mif\u001b[0m \u001b[0mtag1\u001b[0m \u001b[1;32mnot\u001b[0m \u001b[1;32min\u001b[0m \u001b[0mobject_current_tags\u001b[0m \u001b[1;33m:\u001b[0m\u001b[1;33m\u001b[0m\u001b[0m\n\u001b[0;32m      6\u001b[0m     \u001b[0mnew_tags\u001b[0m\u001b[1;33m[\u001b[0m\u001b[0mtag1\u001b[0m\u001b[1;33m.\u001b[0m\u001b[0mtitle\u001b[0m\u001b[1;33m]\u001b[0m\u001b[1;33m=\u001b[0m\u001b[0mtag1\u001b[0m\u001b[1;33m.\u001b[0m\u001b[0mweight\u001b[0m\u001b[1;33m\u001b[0m\u001b[0m\n\u001b[1;32m----> 7\u001b[1;33m     \u001b[0ma\u001b[0m\u001b[1;33m=\u001b[0m\u001b[0mold_tags_current_work\u001b[0m\u001b[1;33m.\u001b[0m\u001b[0mpop\u001b[0m\u001b[1;33m(\u001b[0m\u001b[0mtag1\u001b[0m\u001b[1;33m.\u001b[0m\u001b[0mtitle\u001b[0m\u001b[1;33m)\u001b[0m\u001b[1;33m\u001b[0m\u001b[0m\n\u001b[0m\u001b[0;32m      8\u001b[0m \u001b[1;33m\u001b[0m\u001b[0m\n",
      "\u001b[1;31mKeyError\u001b[0m: 'bleu'"
     ]
    }
   ],
   "source": [
    "object_current_tags = current_work.tags.all()\n",
    "\n",
    "\"\"\"\n",
    "old_tags = current_tags.copy() \n",
    "moified_tags = current_tags.copy()\n",
    "non_modified = current_tags.copy()\n",
    "\"\"\"\n",
    "if tag1 not in object_current_tags :\n",
    "    if tag1.title in current_tags.keys() :\n",
    "        old_tags[tag1.title]=current_tags[tag1.title]\n",
    "        modified_tags[tag1.title]=[current_tags[tag1.title], tag1.weight]\n",
    "    else :\n",
    "        real_new_tags[tag1.title]=tag1.weight\n",
    "    new_tags[tag1.title] = tag1.weight\n",
    "    list_object_new_tags.append(tag1)\n",
    "else :\n",
    "    unmodified[tag1.title] = tag1.weight\n",
    "#ici on sort de la boucle  \n",
    "print(current_work+\":\")\n",
    "print(\"\\nLes tags enlevés sont :\")\n",
    "print(old_tags)\n",
    "print(\"\\nLes tags vraiment nouveaux (pas juste le weight) sont :\")\n",
    "print(real_new_tags)\n",
    "print(\"\\nLes tags ayant un nouveau weight sont :\")\n",
    "print(new_tags)\n",
    "print(\"\\nLes tags modifiés sont ([ancien weight, nouveau weight]) :\")\n",
    "print(modified_tags)\n",
    "print(\"\\nLes tags non modifiés sont :\")\n",
    "print(unmodified_tags)\n",
    "choice  = input(\"Voulez-vous réaliser ces changements [y/n] : \")\n",
    "if choice == 'y':\n",
    "    print(\"\\n Ok, aucun changement ne va être fait\")\n",
    "else :\n",
    "    #création\n",
    "    #rétrospectivement, directement le faire avec le bon dict devrait marcher comme pr la suppression\n",
    "    for  tag in list_object_new_tags:\n",
    "        current_work.tags.add(tag)\n",
    "    \n",
    "    #suppression\n",
    "    #parcourir le dico old_tag\n",
    "    for title, weight in old_tags :\n",
    "        \n",
    "        if Tag.objects.filter(title=title, weight=weight).count()!=1:\n",
    "            #ds ce cas, on delete tag ds le work voulu : remove \n",
    "            tag = Tag.objects.filter(title=title, weight=weight)\n",
    "            \n",
    "            current_work.tags.remove(tag)\n",
    "        else:\n",
    "            \n",
    "            Tag.objects.filter(title=title, weight=weight).delete()\n",
    "            \n",
    "#on passe au work après current_work\n",
    "    \n",
    "    \n",
    "    \n",
    "        \n",
    "    \n",
    "        \n",
    "#plus d'options ? Genre récupérer les anciens tags quelque part ou d'autres infos avec les créations\n",
    "\"\"\"\n",
    "print le work puis print :\n",
    "- les tags supprimés\n",
    "- les tags ajoutés\n",
    "- les tags changés : ancien et nouveau weight\n",
    "- les non modifiés\n",
    "\"\"\"\n",
    "\n",
    "\n",
    "Nouveuax tags\n",
    "tags modifiés\n",
    "tags supprimés\n",
    "tags existants\n"
   ]
  },
  {
   "cell_type": "code",
   "execution_count": 4,
   "metadata": {
    "collapsed": false
   },
   "outputs": [
    {
     "ename": "SyntaxError",
     "evalue": "invalid syntax (<ipython-input-4-a8e62191ed42>, line 12)",
     "output_type": "error",
     "traceback": [
      "\u001b[1;36m  File \u001b[1;32m\"<ipython-input-4-a8e62191ed42>\"\u001b[1;36m, line \u001b[1;32m12\u001b[0m\n\u001b[1;33m    all_tags={tag.name : tag.weight for tag in current_work.tags.all()]}\u001b[0m\n\u001b[1;37m                                                                      ^\u001b[0m\n\u001b[1;31mSyntaxError\u001b[0m\u001b[1;31m:\u001b[0m invalid syntax\n"
     ]
    }
   ],
   "source": [
    "#suppression\n",
    "\n",
    "# /!\\ si doublons\n",
    "\n",
    "if Tag.objects.filter(title=tag1.title, weight=tag1.weight).count()!=1:\n",
    "    \n",
    "    #delete tags ds le work voulu : remove \n",
    "\n",
    "else:\n",
    "    Tag.objects.filter(title=tag1.title, weight=tag1.weight).delete()\n",
    "\n",
    "    #delete le tag en entier car de tte façon il n'est rattaché qu'à un work\n",
    "\"\"\""
   ]
  },
  {
   "cell_type": "code",
   "execution_count": 55,
   "metadata": {
    "collapsed": false,
    "scrolled": true
   },
   "outputs": [
    {
     "data": {
      "text/plain": [
       "[<Tag: Law and Order 100>, <Tag: Love Polygon 100>, <Tag: Angst 200>, <Tag: Nudity 100>, <Tag: Dark-skinned Girl 200>, <Tag: Spellcasting 100>, <Tag: Magic Circles 100>, <Tag: Parody 100>, <Tag: Super Power 400>, <Tag: Virtual Reality 600>, <Tag: Romance 300>, <Tag: Alternative Present 400>, <Tag: Fantasy 200>, <Tag: Swordplay 100>, <Tag: Magic 100>, <Tag: Adventure 200>, <Tag: Violence 100>, <Tag: Asia 100>, <Tag: Japan 100>, <Tag: Plot Continuity 300>, '...(remaining elements truncated)...']"
      ]
     },
     "execution_count": 55,
     "metadata": {},
     "output_type": "execute_result"
    }
   ],
   "source": [
    "first_tag_to_delete = Work.objects.get(id=7689).tags.all()[0]\n",
    "first_tag_to_delete\n",
    "Work.objects.get(id=7689).tags.remove(first_tag_to_delete)\n",
    "Work.objects.get(id=7689).tags.all()\n",
    "\n"
   ]
  },
  {
   "cell_type": "code",
   "execution_count": null,
   "metadata": {
    "collapsed": false
   },
   "outputs": [],
   "source": []
  },
  {
   "cell_type": "code",
   "execution_count": null,
   "metadata": {
    "collapsed": true
   },
   "outputs": [],
   "source": []
  },
  {
   "cell_type": "markdown",
   "metadata": {
    "collapsed": true
   },
   "source": [
    "Vérifier l'existence d'un tag \"category\"\n",
    "\n"
   ]
  },
  {
   "cell_type": "code",
   "execution_count": null,
   "metadata": {
    "collapsed": true
   },
   "outputs": [],
   "source": [
    "Différence entre tag/catégorie"
   ]
  },
  {
   "cell_type": "code",
   "execution_count": null,
   "metadata": {
    "collapsed": true
   },
   "outputs": [],
   "source": [
    "parfois catégorie n'existe plus \n",
    "du coup plus d'attribut hentai"
   ]
  },
  {
   "cell_type": "code",
   "execution_count": 2,
   "metadata": {
    "collapsed": false
   },
   "outputs": [
    {
     "ename": "SyntaxError",
     "evalue": "invalid syntax (<ipython-input-2-391bf755f41b>, line 1)",
     "output_type": "error",
     "traceback": [
      "\u001b[1;36m  File \u001b[1;32m\"<ipython-input-2-391bf755f41b>\"\u001b[1;36m, line \u001b[1;32m1\u001b[0m\n\u001b[1;33m    A vérifier :\u001b[0m\n\u001b[1;37m             ^\u001b[0m\n\u001b[1;31mSyntaxError\u001b[0m\u001b[1;31m:\u001b[0m invalid syntax\n"
     ]
    }
   ],
   "source": [
    "A vérifier : \n",
    "-official ds les worktitle\n",
    "-existence tjrs de \"fr\", en et ja"
   ]
  },
  {
   "cell_type": "code",
   "execution_count": null,
   "metadata": {
    "collapsed": true
   },
   "outputs": [],
   "source": []
  },
  {
   "cell_type": "code",
   "execution_count": null,
   "metadata": {
    "collapsed": true
   },
   "outputs": [],
   "source": []
  },
  {
   "cell_type": "code",
   "execution_count": null,
   "metadata": {
    "collapsed": true
   },
   "outputs": [],
   "source": []
  },
  {
   "cell_type": "code",
   "execution_count": null,
   "metadata": {
    "collapsed": true
   },
   "outputs": [],
   "source": []
  },
  {
   "cell_type": "code",
   "execution_count": null,
   "metadata": {
    "collapsed": true
   },
   "outputs": [],
   "source": []
  },
  {
   "cell_type": "code",
   "execution_count": null,
   "metadata": {
    "collapsed": true
   },
   "outputs": [],
   "source": []
  },
  {
   "cell_type": "code",
   "execution_count": null,
   "metadata": {
    "collapsed": true
   },
   "outputs": [],
   "source": []
  },
  {
   "cell_type": "markdown",
   "metadata": {},
   "source": [
    "Récupérer l'id d'anidb d'un anime"
   ]
  },
  {
   "cell_type": "code",
   "execution_count": 58,
   "metadata": {
    "collapsed": false
   },
   "outputs": [
    {
     "data": {
      "text/plain": [
       "[<Work: usogui>]"
      ]
     },
     "execution_count": 58,
     "metadata": {},
     "output_type": "execute_result"
    }
   ],
   "source": [
    "from mangaki.models import Work\n",
    "Work.objects.filter(id=7683)"
   ]
  },
  {
   "cell_type": "code",
   "execution_count": 40,
   "metadata": {
    "collapsed": false
   },
   "outputs": [
    {
     "data": {
      "text/plain": [
       "[<Anime 9069 \"嘘喰い\">]"
      ]
     },
     "execution_count": 40,
     "metadata": {},
     "output_type": "execute_result"
    }
   ],
   "source": [
    "from mangaki.models import Work\n",
    "from mangaki.utils.anidb import AniDB\n",
    "a = AniDB('mangakihttp', 1)\n",
    "result=a.search(Work.objects.filter(id=7683))\n",
    "result\n",
    "#Work.objects.filter(id=6595)"
   ]
  },
  {
   "cell_type": "code",
   "execution_count": 164,
   "metadata": {
    "collapsed": false
   },
   "outputs": [
    {
     "data": {
      "text/plain": [
       "9069"
      ]
     },
     "execution_count": 164,
     "metadata": {},
     "output_type": "execute_result"
    }
   ],
   "source": [
    "result[0].id"
   ]
  },
  {
   "cell_type": "code",
   "execution_count": 172,
   "metadata": {
    "collapsed": false
   },
   "outputs": [],
   "source": [
    "#Work.objects.get_or_create(category=Category.objects.get(slug='anime'), title=Work.objects.get(id=7683).title,nsfw=True)"
   ]
  },
  {
   "cell_type": "code",
   "execution_count": 187,
   "metadata": {
    "collapsed": false
   },
   "outputs": [],
   "source": [
    "work_usogui=Work.objects.get(id=7683)\n",
    "work_usogui.anidb_aid=result[0].id\n",
    "work_usogui.save()"
   ]
  },
  {
   "cell_type": "code",
   "execution_count": 244,
   "metadata": {
    "collapsed": false
   },
   "outputs": [
    {
     "data": {
      "text/plain": [
       "9069"
      ]
     },
     "execution_count": 244,
     "metadata": {},
     "output_type": "execute_result"
    }
   ],
   "source": [
    "work_usogui.anidb_aid"
   ]
  },
  {
   "cell_type": "code",
   "execution_count": null,
   "metadata": {
    "collapsed": true
   },
   "outputs": [],
   "source": []
  },
  {
   "cell_type": "code",
   "execution_count": null,
   "metadata": {
    "collapsed": true
   },
   "outputs": [],
   "source": []
  },
  {
   "cell_type": "code",
   "execution_count": null,
   "metadata": {
    "collapsed": true
   },
   "outputs": [],
   "source": []
  },
  {
   "cell_type": "markdown",
   "metadata": {},
   "source": [
    "Related_anime"
   ]
  },
  {
   "cell_type": "code",
   "execution_count": null,
   "metadata": {
    "collapsed": true
   },
   "outputs": [],
   "source": []
  },
  {
   "cell_type": "code",
   "execution_count": null,
   "metadata": {
    "collapsed": true
   },
   "outputs": [],
   "source": []
  },
  {
   "cell_type": "code",
   "execution_count": null,
   "metadata": {
    "collapsed": true
   },
   "outputs": [],
   "source": []
  },
  {
   "cell_type": "code",
   "execution_count": null,
   "metadata": {
    "collapsed": true
   },
   "outputs": [],
   "source": []
  },
  {
   "cell_type": "code",
   "execution_count": null,
   "metadata": {
    "collapsed": true
   },
   "outputs": [],
   "source": []
  },
  {
   "cell_type": "markdown",
   "metadata": {},
   "source": [
    "Parcourir un dict"
   ]
  },
  {
   "cell_type": "code",
   "execution_count": 27,
   "metadata": {
    "collapsed": false
   },
   "outputs": [
    {
     "data": {
      "text/plain": [
       "{0: 0, 1: 1, 2: 4, 3: 9, 4: 16, 5: 25, 6: 36, 7: 49, 8: 64, 9: 81}"
      ]
     },
     "execution_count": 27,
     "metadata": {},
     "output_type": "execute_result"
    }
   ],
   "source": [
    "a={i:i**2 for i in range(10)}\n",
    "a"
   ]
  },
  {
   "cell_type": "code",
   "execution_count": null,
   "metadata": {
    "collapsed": true
   },
   "outputs": [],
   "source": [
    "\"\"\"\n",
    "for i in a:\n",
    "\"\"\""
   ]
  },
  {
   "cell_type": "code",
   "execution_count": 1,
   "metadata": {
    "collapsed": false
   },
   "outputs": [
    {
     "ename": "NameError",
     "evalue": "name 'a' is not defined",
     "output_type": "error",
     "traceback": [
      "\u001b[1;31m---------------------------------------------------------------------------\u001b[0m",
      "\u001b[1;31mNameError\u001b[0m                                 Traceback (most recent call last)",
      "\u001b[1;32m<ipython-input-1-6024b788f762>\u001b[0m in \u001b[0;36m<module>\u001b[1;34m()\u001b[0m\n\u001b[1;32m----> 1\u001b[1;33m \u001b[1;32mfor\u001b[0m \u001b[0mkey\u001b[0m\u001b[1;33m,\u001b[0m \u001b[0mvalue\u001b[0m \u001b[1;32min\u001b[0m \u001b[0ma\u001b[0m\u001b[1;33m.\u001b[0m\u001b[0mitems\u001b[0m\u001b[1;33m(\u001b[0m\u001b[1;33m)\u001b[0m\u001b[1;33m:\u001b[0m\u001b[1;33m\u001b[0m\u001b[0m\n\u001b[0m\u001b[0;32m      2\u001b[0m     \u001b[0mprint\u001b[0m\u001b[1;33m(\u001b[0m\u001b[0mkey\u001b[0m\u001b[1;33m)\u001b[0m\u001b[1;33m\u001b[0m\u001b[0m\n\u001b[0;32m      3\u001b[0m     \u001b[0mprint\u001b[0m\u001b[1;33m(\u001b[0m\u001b[0mvalue\u001b[0m\u001b[1;33m)\u001b[0m\u001b[1;33m\u001b[0m\u001b[0m\n\u001b[0;32m      4\u001b[0m     \u001b[0mprint\u001b[0m\u001b[1;33m(\u001b[0m\u001b[1;33m)\u001b[0m\u001b[1;33m\u001b[0m\u001b[0m\n",
      "\u001b[1;31mNameError\u001b[0m: name 'a' is not defined"
     ]
    }
   ],
   "source": [
    "for key, value in a.items():\n",
    "    print(key)\n",
    "    print(value)\n",
    "    print()"
   ]
  },
  {
   "cell_type": "code",
   "execution_count": null,
   "metadata": {
    "collapsed": true
   },
   "outputs": [],
   "source": []
  },
  {
   "cell_type": "code",
   "execution_count": null,
   "metadata": {
    "collapsed": true
   },
   "outputs": [],
   "source": []
  },
  {
   "cell_type": "code",
   "execution_count": null,
   "metadata": {
    "collapsed": true
   },
   "outputs": [],
   "source": []
  },
  {
   "cell_type": "markdown",
   "metadata": {},
   "source": [
    "    récupération des tags, dire ce qu'il y a de vieux, de nouveaux AVEC sets elarnon"
   ]
  },
  {
   "cell_type": "code",
   "execution_count": null,
   "metadata": {
    "collapsed": true
   },
   "outputs": [],
   "source": [
    "current_tags = {tag.title : tag.weight for tag in Work.tags.all()}\n",
    "deleted_tags = current_tags.keys()-anidb_tags.keys()\n",
    "added_tags = anidb_tags.keys() - current_tags.keys()\n",
    "remaining_tags = anidb_tags.keys() & current_tags.keys()\n",
    "updated_tags = {title : (current_tags[title], anidb_tags[title]) for title in remaining_tags} #si différents\n",
    "kept_tags  #pareil que updated_tags mais si tags exactement pareil\n",
    "\n",
    "\"\"\"\"\n",
    "Work : itéré sur dict\n",
    "for tag, weight in .....items :\n",
    "    {tag }:{weight ancien} -> {weight nouveau}\n",
    "    \n",
    "\n",
    "In [24]: print('Tags de Jill-Jenn a la plage :')\n",
    "   ...: for tag, weight in updated_tags.items():\n",
    "   ...:     print('  {}: {} -> {}'.format(tag, weight[0], weight[1])\n",
    "\"\"\"\n"
   ]
  },
  {
   "cell_type": "code",
   "execution_count": null,
   "metadata": {
    "collapsed": true
   },
   "outputs": [],
   "source": [
    "object_current_tags = current_work.tags.all()\n",
    "\n",
    "\"\"\"\n",
    "old_tags = current_tags.copy() \n",
    "moified_tags = current_tags.copy()\n",
    "non_modified = current_tags.copy()\n",
    "\"\"\"\n",
    "if tag1 not in object_current_tags :\n",
    "    if tag1.title in current_tags.keys() :\n",
    "        old_tags[tag1.title]=current_tags[tag1.title]\n",
    "        modified_tags[tag1.title]=[current_tags[tag1.title], tag1.weight]\n",
    "    else :\n",
    "        real_new_tags[tag1.title]=tag1.weight\n",
    "    new_tags[tag1.title] = tag1.weight\n",
    "    list_object_new_tags.append(tag1)\n",
    "else :\n",
    "    unmodified[tag1.title] = tag1.weight\n",
    "#ici on sort de la boucle  \n",
    "print(current_work+\":\")\n",
    "print(\"\\nLes tags enlevés sont :\")\n",
    "print(old_tags)\n",
    "print(\"\\nLes tags vraiment nouveaux (pas juste le weight) sont :\")\n",
    "print(real_new_tags)\n",
    "print(\"\\nLes tags ayant un nouveau weight sont :\")\n",
    "print(new_tags)\n",
    "print(\"\\nLes tags modifiés sont ([ancien weight, nouveau weight]) :\")\n",
    "print(modified_tags)\n",
    "print(\"\\nLes tags non modifiés sont :\")\n",
    "print(unmodified_tags)\n",
    "choice  = input(\"Voulez-vous réaliser ces changements [y/n] : \")\n",
    "if choice == 'y':\n",
    "    print(\"\\n Ok, aucun changement ne va être fait\")\n",
    "else :\n",
    "    #création\n",
    "    #rétrospectivement, directement le faire avec le bon dict devrait marcher comme pr la suppression\n",
    "    for  tag in list_object_new_tags:\n",
    "        current_work.tags.add(tag)\n",
    "    \n",
    "    #suppression\n",
    "    #parcourir le dico old_tag\n",
    "    for title, weight in old_tags :\n",
    "        \n",
    "        if Tag.objects.filter(title=title, weight=weight).count()!=1:\n",
    "            #ds ce cas, on delete tag ds le work voulu : remove \n",
    "            tag = Tag.objects.filter(title=title, weight=weight)\n",
    "            \n",
    "            current_work.tags.remove(tag)\n",
    "        else:\n",
    "            \n",
    "            Tag.objects.filter(title=title, weight=weight).delete()\n",
    "            "
   ]
  },
  {
   "cell_type": "code",
   "execution_count": null,
   "metadata": {
    "collapsed": true
   },
   "outputs": [],
   "source": []
  },
  {
   "cell_type": "code",
   "execution_count": null,
   "metadata": {
    "collapsed": true
   },
   "outputs": [],
   "source": []
  },
  {
   "cell_type": "code",
   "execution_count": null,
   "metadata": {
    "collapsed": true
   },
   "outputs": [],
   "source": []
  },
  {
   "cell_type": "code",
   "execution_count": null,
   "metadata": {
    "collapsed": true
   },
   "outputs": [],
   "source": []
  },
  {
   "cell_type": "code",
   "execution_count": null,
   "metadata": {
    "collapsed": true
   },
   "outputs": [],
   "source": []
  },
  {
   "cell_type": "code",
   "execution_count": null,
   "metadata": {
    "collapsed": true
   },
   "outputs": [],
   "source": []
  },
  {
   "cell_type": "code",
   "execution_count": null,
   "metadata": {
    "collapsed": true
   },
   "outputs": [],
   "source": []
  },
  {
   "cell_type": "code",
   "execution_count": 9,
   "metadata": {
    "collapsed": false
   },
   "outputs": [],
   "source": [
    "from mangaki.models import *\n",
    "tag=Tag.objects.update_or_create(title='shonen')\n",
    "tag=Tag.objects.update_or_create(title='dark shonen')\n",
    "tag=Tag.objects.update_or_create(title='seinen')\n",
    "tag=Tag.objects.update_or_create(title='ecchi')\n",
    "\n",
    "#tag\n",
    "work = Work.objects.get(id=1)\n",
    "work\n",
    "tag = Tag.objects.create(title='survival')\n",
    "tag_work = TaggedWork(tag=tag, work=work, weight=50).save()\n"
   ]
  },
  {
   "cell_type": "code",
   "execution_count": 12,
   "metadata": {
    "collapsed": false
   },
   "outputs": [],
   "source": [
    "work = Work.objects.get(id=2)\n",
    "#work\n",
    "tag = Tag.objects.get(title='survival')\n",
    "tag\n",
    "\n",
    "TaggedWork(tag=tag, work=work, weight=60).save()"
   ]
  },
  {
   "cell_type": "code",
   "execution_count": 23,
   "metadata": {
    "collapsed": false
   },
   "outputs": [
    {
     "data": {
      "text/plain": [
       "(1, {'mangaki.TaggedWork': 1})"
      ]
     },
     "execution_count": 23,
     "metadata": {},
     "output_type": "execute_result"
    }
   ],
   "source": [
    "tagwork = TaggedWork.objects.get(weight=60)\n",
    "tagwork.delete()\n",
    "#Province.user.through.objects.get(province__id=3, user__id=4).delete()\n"
   ]
  },
  {
   "cell_type": "code",
   "execution_count": 26,
   "metadata": {
    "collapsed": false
   },
   "outputs": [
    {
     "data": {
      "text/plain": [
       "{'Americas': 0,\n",
       " 'Asia': 600,\n",
       " 'Earth': 600,\n",
       " 'Japan': 600,\n",
       " 'TO BE MOVED TO CHARACTER': 0,\n",
       " 'United States': 200,\n",
       " 'Weekly Shounen Jump': 0,\n",
       " 'adults are useless': 0,\n",
       " 'alternative present': 600,\n",
       " 'antihero': 0,\n",
       " 'battle of wits': 0,\n",
       " 'bishounen': 100,\n",
       " 'cast': 0,\n",
       " 'character related tags which need deleting or merging': 0,\n",
       " 'contemporary fantasy': 400,\n",
       " 'contractor': 0,\n",
       " 'cops': 200,\n",
       " 'creepy laugh': 0,\n",
       " 'dark': 0,\n",
       " 'death': 0,\n",
       " 'deception': 0,\n",
       " 'detective': 400,\n",
       " 'dynamic': 0,\n",
       " 'elements': 0,\n",
       " 'everybody dies': 0,\n",
       " 'fanatic protagonist': 0,\n",
       " 'fantasy': 300,\n",
       " 'fetishes': 0,\n",
       " 'following one`s dream': 0,\n",
       " 'grail in the garbage': 0,\n",
       " 'insane': 0,\n",
       " 'jdrama adaption': 0,\n",
       " 'just as planned': 0,\n",
       " 'killing - murdering protagonist': 0,\n",
       " 'killing criminals': 0,\n",
       " 'law and order': 200,\n",
       " 'main character dies': 0,\n",
       " 'makes you wonder who the real villain is': 0,\n",
       " 'manga': 0,\n",
       " 'manipulation': 0,\n",
       " 'meta tags': 0,\n",
       " 'mind games': 0,\n",
       " 'mundane made awesome': 0,\n",
       " 'murder': 0,\n",
       " 'mystery': 0,\n",
       " 'old animetags': 0,\n",
       " 'original work': 0,\n",
       " 'place': 0,\n",
       " 'plot continuity': 600,\n",
       " 'police are useless': 0,\n",
       " 'predominantly adult cast': 0,\n",
       " 'present': 600,\n",
       " 'psycho faces': 0,\n",
       " 'psychological': 0,\n",
       " 'psychological thriller': 0,\n",
       " 'real-world location': 0,\n",
       " 'rivalry': 300,\n",
       " 'romance': 200,\n",
       " 'school life': 0,\n",
       " 'secret identity': 0,\n",
       " 'setting': 0,\n",
       " 'shounen': 0,\n",
       " 'strategy': 0,\n",
       " 'target audience': 0,\n",
       " 'technical aspects': 0,\n",
       " 'the power of the media': 0,\n",
       " 'themes': 0,\n",
       " 'thriller': 600,\n",
       " 'time': 0,\n",
       " 'time skip': 0,\n",
       " 'tropes': 0,\n",
       " 'university': 200,\n",
       " 'unusual weapons': 0,\n",
       " 'vile protagonist': 0,\n",
       " 'world domination': 0}"
      ]
     },
     "execution_count": 26,
     "metadata": {},
     "output_type": "execute_result"
    }
   ],
   "source": [
    "current_work = Work.objects.get(id=1)\n",
    "tag_work=TaggedWork.objects.filter(work=current_work)\n",
    "a=dict((tagwork.tag.title, tagwork.weight) for tagwork in tag_work)\n",
    "a"
   ]
  },
  {
   "cell_type": "code",
   "execution_count": 28,
   "metadata": {
    "collapsed": false
   },
   "outputs": [
    {
     "data": {
      "text/plain": [
       "{'world domination': 0}"
      ]
     },
     "execution_count": 28,
     "metadata": {},
     "output_type": "execute_result"
    }
   ],
   "source": [
    "tag_work=TaggedWork.objects.filter(work=current_work)\n",
    "current_tags = {tagwork.tag.title : tagwork.weight for tagwork in tag_work}\n",
    "current_tags \n",
    "anidb_tags = {'world domination':0, 'ecchi': 30, 'meca':300 }\n",
    "anidb_tags\n",
    "deleted_tags_keys = current_tags.keys()-anidb_tags.keys()\n",
    "deleted_tags = dict((key, current_tags[key])for key in deleted_tags_keys)\n",
    "added_tags_keys = anidb_tags.keys() - current_tags.keys()\n",
    "added_tags = dict((key, anidb_tags[key])for key in added_tags_keys)\n",
    "\n",
    "remaining_tags_keys = anidb_tags.keys() & current_tags.keys()\n",
    "remaining_tags = dict((key, current_tags[key])for key in remaining_tags_keys)\n",
    "updated_tags = {title : (current_tags[title], anidb_tags[title]) for title in remaining_tags if current_tags[title] != anidb_tags[title]} #si différents\n",
    "updated_tags\n",
    "kept_tags = {title : current_tags[title] for title in remaining_tags if current_tags[title] == anidb_tags[title]}\n",
    "kept_tags \n",
    "\n",
    "\n",
    "#kept_tags  #pareil que updated_tags mais si tags exactement pareil"
   ]
  },
  {
   "cell_type": "code",
   "execution_count": 29,
   "metadata": {
    "collapsed": false
   },
   "outputs": [
    {
     "ename": "SyntaxError",
     "evalue": "invalid syntax (<ipython-input-29-2154584a98d8>, line 8)",
     "output_type": "error",
     "traceback": [
      "\u001b[1;36m  File \u001b[1;32m\"<ipython-input-29-2154584a98d8>\"\u001b[1;36m, line \u001b[1;32m8\u001b[0m\n\u001b[1;33m    -\u001b[0m\n\u001b[1;37m     ^\u001b[0m\n\u001b[1;31mSyntaxError\u001b[0m\u001b[1;31m:\u001b[0m invalid syntax\n"
     ]
    }
   ],
   "source": [
    "#Affichage :\n",
    "\"\"\"\n",
    "print(':')\n",
    "for tag, weight in updated_tags.items():\n",
    "    print('{}: {} -> {}'.format(tag, weight[0], weight[1])\n",
    "\"\"\"  \n",
    "          \n",
    "print(current_work.title+\":\")\n",
    "print(\"\\n\\tLes tags enlevés sont :\")\n",
    "for tag, weight in deleted_tags.items():\n",
    "    print('\\t\\t{}: {} '.format(tag, weight))\n",
    "\n",
    "print(\"\\n\\tLes tags totalement nouveaux sont :\")\n",
    "for tag, weight in added_tags.items():\n",
    "    print('\\t\\t{}: {} '.format(tag, weight))\n",
    "    \n",
    "print(\"\\n\\tLes tags modifiés sont :\")\n",
    "for tag, weight in updated_tags.items():\n",
    "    print('\\t\\t{}: {} -> {}'.format(tag, weight[0], weight[1]))  \n",
    "  \n",
    "print(\"\\n\\tLes tags non modifiés/restés identiques sont :\")\n",
    "for tag, weight in kept_tags.items():\n",
    "    print('\\t\\t{}: {} '.format(tag, weight))  \n",
    "\n",
    "    \n",
    "\n",
    "choice  = input(\"Voulez-vous réaliser ces changements [y/n] : \")\n",
    "if choice == 'n':\n",
    "    print(\"\\nOk, aucun changement ne va être fait\")\n",
    "elif choice =='y' :\n",
    "    #création\n",
    "    #rétrospectivement, directement le faire avec le bon dict devrait marcher comme pr la suppression\n",
    "    for  title, weight in added_tags.items():\n",
    "        current_tag = Tag.objects.update_or_create(title=title)[0]\n",
    "        TaggedWork(tag=current_tag, work=current_work, weight=weight).save()\n",
    "    for title, weight in updated_tags.items():\n",
    "        current_tag = Tag.objects.filter(title=title)[0]\n",
    "        tag_work = TaggedWork.objects.get(tag=current_tag, work=current_work, weight=weight[0])\n",
    "        tag_work.delete()\n",
    "        #TaggedWork(tag=current_tag, work=current_work, weight=weight[0]).delete()\n",
    "        TaggedWork(tag=current_tag, work=current_work, weight=weight[1]).save()\n",
    "        \n",
    "    #suppression\n",
    "    #parcourir le dico old_tag\n",
    "    for title, weight in deleted_tags.items() :\n",
    "        current_tag = Tag.objects.get(title=title)\n",
    "        TaggedWork.objects.get(tag=current_tag, work=current_work, weight=weight).delete()\n",
    "        \n",
    "        \n",
    "        "
   ]
  },
  {
   "cell_type": "code",
   "execution_count": 17,
   "metadata": {
    "collapsed": false
   },
   "outputs": [
    {
     "data": {
      "text/plain": [
       "[<TaggedWork: Death Note shonen 50>, <TaggedWork: Death Note meca 300>, <TaggedWork: Death Note ecchi 30>]"
      ]
     },
     "execution_count": 17,
     "metadata": {},
     "output_type": "execute_result"
    }
   ],
   "source": [
    "TaggedWork.objects.all()"
   ]
  },
  {
   "cell_type": "code",
   "execution_count": null,
   "metadata": {
    "collapsed": true
   },
   "outputs": [],
   "source": [
    "current_tag = Tag.objects.create(title=title)\n",
    "TaggedWork.objects.get(tag=current_tag, work=current_work, weight=weight).delete()\n",
    "        "
   ]
  },
  {
   "cell_type": "code",
   "execution_count": 35,
   "metadata": {
    "collapsed": false
   },
   "outputs": [
    {
     "ename": "SyntaxError",
     "evalue": "invalid syntax (<ipython-input-35-4394888be319>, line 48)",
     "output_type": "error",
     "traceback": [
      "\u001b[1;36m  File \u001b[1;32m\"<ipython-input-35-4394888be319>\"\u001b[1;36m, line \u001b[1;32m48\u001b[0m\n\u001b[1;33m    \"\"\"\u001b[0m\n\u001b[1;37m       \n^\u001b[0m\n\u001b[1;31mSyntaxError\u001b[0m\u001b[1;31m:\u001b[0m invalid syntax\n"
     ]
    }
   ],
   "source": [
    "\"\"\"\n",
    "print(\"\\nLes tags vraiment nouveaux (pas juste le weight) sont :\")\n",
    "print(real_new_tags)\n",
    "for tag, weight in updated_tags.items():\n",
    "    print('  {}: {} -> {}'.format(tag, weight[0], weight[1])\n",
    "          \n",
    "print(\"\\nLes tags ayant un nouveau weight sont :\")\n",
    "print(new_tags)\n",
    "          \n",
    "print(\"\\nLes tags modifiés sont ([ancien weight, nouveau weight]) :\")\n",
    "print(modified_tags)\n",
    "          \n",
    "print(\"\\nLes tags non modifiés sont :\")\n",
    "print(unmodified_tags)\n",
    "          \n",
    "choice  = input(\"Voulez-vous réaliser ces changements [y/n] : \")\n",
    "if choice == 'y':\n",
    "    print(\"\\n Ok, aucun changement ne va être fait\")\n",
    "else :\n",
    "    #création\n",
    "    #rétrospectivement, directement le faire avec le bon dict devrait marcher comme pr la suppression\n",
    "    for  tag in list_object_new_tags:\n",
    "        current_work.tags.add(tag)\n",
    "    \n",
    "    #suppression\n",
    "    #parcourir le dico old_tag\n",
    "    for title, weight in old_tags :\n",
    "        \n",
    "        if Tag.objects.filter(title=title, weight=weight).count()!=1:\n",
    "            #ds ce cas, on delete tag ds le work voulu : remove \n",
    "            tag = Tag.objects.filter(title=title, weight=weight)\n",
    "            \n",
    "            current_work.tags.remove(tag)\n",
    "        else:\n",
    "            \n",
    "            Tag.objects.filter(title=title, weight=weight).delete()\n",
    "\"\"\""
   ]
  },
  {
   "cell_type": "code",
   "execution_count": null,
   "metadata": {
    "collapsed": true
   },
   "outputs": [],
   "source": []
  },
  {
   "cell_type": "code",
   "execution_count": 12,
   "metadata": {
    "collapsed": false
   },
   "outputs": [
    {
     "ename": "AttributeError",
     "evalue": "'QuerySet' object has no attribute 'tag'",
     "output_type": "error",
     "traceback": [
      "\u001b[1;31m---------------------------------------------------------------------------\u001b[0m",
      "\u001b[1;31mAttributeError\u001b[0m                            Traceback (most recent call last)",
      "\u001b[1;32m<ipython-input-12-9ba908d35eb3>\u001b[0m in \u001b[0;36m<module>\u001b[1;34m()\u001b[0m\n\u001b[1;32m----> 1\u001b[1;33m \u001b[0mTaggedWork\u001b[0m\u001b[1;33m.\u001b[0m\u001b[0mobjects\u001b[0m\u001b[1;33m.\u001b[0m\u001b[0mfilter\u001b[0m\u001b[1;33m(\u001b[0m\u001b[0mwork\u001b[0m\u001b[1;33m=\u001b[0m\u001b[0mcurrent_work\u001b[0m\u001b[1;33m)\u001b[0m\u001b[1;33m.\u001b[0m\u001b[0mtag\u001b[0m\u001b[1;33m\u001b[0m\u001b[0m\n\u001b[0m",
      "\u001b[1;31mAttributeError\u001b[0m: 'QuerySet' object has no attribute 'tag'"
     ]
    }
   ],
   "source": [
    "TaggedWork.objects.filter(work=current_work).tag\n"
   ]
  },
  {
   "cell_type": "code",
   "execution_count": null,
   "metadata": {
    "collapsed": true
   },
   "outputs": [],
   "source": []
  },
  {
   "cell_type": "code",
   "execution_count": null,
   "metadata": {
    "collapsed": true
   },
   "outputs": [],
   "source": []
  },
  {
   "cell_type": "code",
   "execution_count": null,
   "metadata": {
    "collapsed": true
   },
   "outputs": [],
   "source": []
  },
  {
   "cell_type": "code",
   "execution_count": 12,
   "metadata": {
    "collapsed": false
   },
   "outputs": [
    {
     "name": "stdout",
     "output_type": "stream",
     "text": [
      "0\n"
     ]
    }
   ],
   "source": [
    "tag=Tag.objects.get(title=\"survival\")\n",
    "a = 0\n",
    "for tag_work in TaggedWork.objects.all():\n",
    "    if tag_work == tag_work.tag :\n",
    "        a = a + 1\n",
    "print(a)\n"
   ]
  },
  {
   "cell_type": "code",
   "execution_count": 12,
   "metadata": {
    "collapsed": false
   },
   "outputs": [
    {
     "data": {
      "text/plain": [
       "1"
      ]
     },
     "execution_count": 12,
     "metadata": {},
     "output_type": "execute_result"
    }
   ],
   "source": [
    "nb = TaggedWork.objects.filter(tag=tag).count()\n",
    "Tag.objects.filter(title=tag.title).update(nb_works_linked=nb)"
   ]
  },
  {
   "cell_type": "code",
   "execution_count": null,
   "metadata": {
    "collapsed": true
   },
   "outputs": [],
   "source": []
  },
  {
   "cell_type": "code",
   "execution_count": null,
   "metadata": {
    "collapsed": true
   },
   "outputs": [],
   "source": []
  },
  {
   "cell_type": "code",
   "execution_count": null,
   "metadata": {
    "collapsed": true
   },
   "outputs": [],
   "source": []
  },
  {
   "cell_type": "code",
   "execution_count": 1,
   "metadata": {
    "collapsed": false
   },
   "outputs": [],
   "source": [
    "from mangaki.views import *\n",
    "update_nb_works_linked_all_tags()"
   ]
  },
  {
   "cell_type": "code",
   "execution_count": null,
   "metadata": {
    "collapsed": true
   },
   "outputs": [],
   "source": []
  },
  {
   "cell_type": "markdown",
   "metadata": {
    "collapsed": true
   },
   "source": [
    "# NMF\n"
   ]
  },
  {
   "cell_type": "code",
   "execution_count": null,
   "metadata": {
    "collapsed": true
   },
   "outputs": [],
   "source": []
  },
  {
   "cell_type": "code",
   "execution_count": null,
   "metadata": {
    "collapsed": true
   },
   "outputs": [],
   "source": [
    "\n",
    "\n"
   ]
  },
  {
   "cell_type": "code",
   "execution_count": null,
   "metadata": {
    "collapsed": true
   },
   "outputs": [],
   "source": []
  },
  {
   "cell_type": "code",
   "execution_count": 3,
   "metadata": {
    "collapsed": true
   },
   "outputs": [
    {
     "data": {
      "text/plain": [
       "[<Work_Deferred_anidb_aid_anime_type_catalog_numbed4f5e4baf77e8e29672d99d2e939e59c: Death Note>, <Work_Deferred_anidb_aid_anime_type_catalog_numbed4f5e4baf77e8e29672d99d2e939e59c: L'Attaque des Titans>, <Work_Deferred_anidb_aid_anime_type_catalog_numbed4f5e4baf77e8e29672d99d2e939e59c: Le Voyage de Chihiro>, <Work_Deferred_anidb_aid_anime_type_catalog_numbed4f5e4baf77e8e29672d99d2e939e59c: Princesse Mononoké>, <Work_Deferred_anidb_aid_anime_type_catalog_numbed4f5e4baf77e8e29672d99d2e939e59c: Naruto>, <Work_Deferred_anidb_aid_anime_type_catalog_numbed4f5e4baf77e8e29672d99d2e939e59c: Fullmetal Alchemist: Brotherhood>, <Work_Deferred_anidb_aid_anime_type_catalog_numbed4f5e4baf77e8e29672d99d2e939e59c: Sword Art Online>, <Work_Deferred_anidb_aid_anime_type_catalog_numbed4f5e4baf77e8e29672d99d2e939e59c: Naruto: Shippuuden>, <Work_Deferred_anidb_aid_anime_type_catalog_numbed4f5e4baf77e8e29672d99d2e939e59c: Fullmetal Alchemist>, <Work_Deferred_anidb_aid_anime_type_catalog_numbed4f5e4baf77e8e29672d99d2e939e59c: Mon voisin Totoro>, <Work_Deferred_anidb_aid_anime_type_catalog_numbed4f5e4baf77e8e29672d99d2e939e59c: Fairy Tail>, <Work_Deferred_anidb_aid_anime_type_catalog_numbed4f5e4baf77e8e29672d99d2e939e59c: Bleach>, <Work_Deferred_anidb_aid_anime_type_catalog_numbed4f5e4baf77e8e29672d99d2e939e59c: Les Enfants Loups : Ame & Yuki>, <Work_Deferred_anidb_aid_anime_type_catalog_numbed4f5e4baf77e8e29672d99d2e939e59c: Code Geass: Hangyaku no Lelouch>, <Work_Deferred_anidb_aid_anime_type_catalog_numbed4f5e4baf77e8e29672d99d2e939e59c: Le Château ambulant>, <Work_Deferred_anidb_aid_anime_type_catalog_numbed4f5e4baf77e8e29672d99d2e939e59c: Le Château dans le ciel>, <Work_Deferred_anidb_aid_anime_type_catalog_numbed4f5e4baf77e8e29672d99d2e939e59c: Steins;Gate>, <Work_Deferred_anidb_aid_anime_type_catalog_numbed4f5e4baf77e8e29672d99d2e939e59c: Nausicaä of the Valley of the Wind>, <Work_Deferred_anidb_aid_anime_type_catalog_numbed4f5e4baf77e8e29672d99d2e939e59c: No Game No Life>, <Work_Deferred_anidb_aid_anime_type_catalog_numbed4f5e4baf77e8e29672d99d2e939e59c: Code Geass: Hangyaku no Lelouch R2>]"
      ]
     },
     "execution_count": 3,
     "metadata": {},
     "output_type": "execute_result"
    }
   ],
   "source": [
    "from mangaki.models import *\n",
    "category='anime'\n",
    "Work.objects.only('pk', 'title', 'poster', 'nsfw').annotate(rating_count=Count('rating')).filter(category__slug=category, rating_count__gte=6).exclude(anidb_aid=0).order_by('-rating_count')\n",
    "\n"
   ]
  },
  {
   "cell_type": "code",
   "execution_count": 18,
   "metadata": {
    "collapsed": false
   },
   "outputs": [
    {
     "name": "stdout",
     "output_type": "stream",
     "text": [
      "L'Attaque des Titans:\n",
      "\n",
      "\tLes tags totalement nouveaux sont :\n",
      "\t\tcast: 0 \n",
      "\t\talternative history: 400 \n",
      "\t\tdespair: 0 \n",
      "\t\tthick line animation: 0 \n",
      "\t\ttropes: 0 \n",
      "\t\tmedieval: 0 \n",
      "\t\tmanga: 0 \n",
      "\t\tthemes: 0 \n",
      "\t\ttime: 0 \n",
      "\t\tensemble cast: 0 \n",
      "\t\telements: 0 \n",
      "\t\tshounen: 0 \n",
      "\t\tdrastic change of life: 0 \n",
      "\t\tviolence: 600 \n",
      "\t\toriginal work: 0 \n",
      "\t\tsetting: 0 \n",
      "\t\tdisaster: 0 \n",
      "\t\tchild soldier: 0 \n",
      "\t\tTO BE MOVED TO CHARACTER: 0 \n",
      "\t\tpast: 0 \n",
      "\t\tfantasy: 400 \n",
      "\t\thidden power: 0 \n",
      "\t\tmilitary: 400 \n",
      "\t\tsuicide: 0 \n",
      "\t\tcollateral damage: 0 \n",
      "\t\tEuropean stylised: 0 \n",
      "\t\tdisturbing: 0 \n",
      "\t\tnearly almighty protagonist: 0 \n",
      "\t\ttragic beginning: 0 \n",
      "\t\tgiant: 0 \n",
      "\t\tfighting: 0 \n",
      "\t\tTO BE MOVED TO EPISODE: 0 \n",
      "\t\ttechnical aspects: 0 \n",
      "\t\theroic sacrifice: 0 \n",
      "\t\tflashback: 0 \n",
      "\t\tstrong male lead: 0 \n",
      "\t\tmeta tags: 0 \n",
      "\t\tcontent indicators: 0 \n",
      "\t\tcharacter driven: 0 \n",
      "\t\thorror: 400 \n",
      "\t\tdaikaiju: 0 \n",
      "\t\ttime skip: 0 \n",
      "\t\ttragedy: 600 \n",
      "\t\trevenge: 200 \n",
      "\t\tmassacre: 0 \n",
      "\t\taction: 500 \n",
      "\t\tdynamic: 0 \n",
      "\t\tsteampunk: 200 \n",
      "\t\tending tags that need merging: 0 \n",
      "\t\tgore: 0 \n",
      "\t\tnon-blood-related siblings: 0 \n",
      "\t\told animetags: 0 \n",
      "\t\tdeath: 0 \n",
      "\t\thuman enhancement: 200 \n",
      "\t\tmurder: 0 \n",
      "\t\tscience fiction: 0 \n",
      "\t\tstrong female lead: 0 \n",
      "\t\tsurvival: 300 \n",
      "\t\twar-zone realities: 0 \n",
      "\t\ttarget audience: 0 \n",
      "\t\tangst: 400 \n",
      "\t\tparadise lost: 0 \n",
      "\t\tincomplete story: 0 \n",
      "\t\tadventure: 400 \n",
      "\t\tpost-apocalypse: 600 \n",
      "\t\twar: 0 \n"
     ]
    }
   ],
   "source": [
    "from django.core.management.base import BaseCommand, CommandError\n",
    "from mangaki.utils.anidb import AniDB\n",
    "from mangaki.models import Artist, Tag, TaggedWork, Role, Staff, Work, WorkTitle, ArtistSpelling\n",
    "from django.db.models import Count\n",
    "from urllib.parse import urlparse, parse_qs\n",
    "import sys\n",
    "\n",
    "category='anime'\n",
    "todo = Work.objects.only('pk', 'title', 'poster', 'nsfw').annotate(rating_count=Count('rating')).filter(category__slug=category, rating_count__gte=6).exclude(anidb_aid=0).order_by('-rating_count')\n",
    "anime = todo[1]\n",
    "\n",
    "\n",
    "a = AniDB('mangakihttp', 1)\n",
    "\n",
    "anidb_tags_list = a.get(anime.anidb_aid).tags\n",
    "            \n",
    "anidb_tags = dict((tag[0], int(tag[1])) for tag in anidb_tags_list)\n",
    "            \n",
    "            \n",
    "tag_work = TaggedWork.objects.filter(work=anime)\n",
    "current_tags = {tagwork.tag.title : tagwork.weight for tagwork in tag_work}\n",
    "deleted_tags_keys = current_tags.keys()-anidb_tags.keys()\n",
    "deleted_tags = dict((key, current_tags[key])for key in deleted_tags_keys)\n",
    "added_tags_keys = anidb_tags.keys() - current_tags.keys()\n",
    "added_tags = dict((key, anidb_tags[key])for key in added_tags_keys)\n",
    "\n",
    "remaining_tags_keys = anidb_tags.keys() & current_tags.keys()\n",
    "remaining_tags = dict((key, current_tags[key])for key in remaining_tags_keys)\n",
    "updated_tags = {title : (current_tags[title], anidb_tags[title]) for title in remaining_tags if current_tags[title] != anidb_tags[title]} #si différents\n",
    "\n",
    "kept_tags = {title : current_tags[title] for title in remaining_tags if current_tags[title] == anidb_tags[title]}\n",
    "\n",
    "\n",
    "\n",
    "\n",
    "print(anime.title+\":\")\n",
    "if deleted_tags != {} :\n",
    "    print(\"\\n\\tLes tags enlevés sont:\")\n",
    "    for tag, weight in deleted_tags.items():\n",
    "        print('\\t\\t{}: {} '.format(tag, weight))\n",
    "\n",
    "if added_tags != {} :\n",
    "    print(\"\\n\\tLes tags totalement nouveaux sont :\")\n",
    "    for tag, weight in added_tags.items():\n",
    "        print('\\t\\t{}: {} '.format(tag, weight))\n",
    "    \n",
    "if updated_tags != {} :\n",
    "    print(\"\\n\\tLes tags modifiés sont :\")\n",
    "    for tag, weight in updated_tags.items():\n",
    "        print('\\t\\t{}: {} -> {}'.format(tag, weight[0], weight[1]))  \n",
    "  \n",
    "if kept_tags != {} :\n",
    "    print(\"\\n\\tLes tags non modifiés/restés identiques sont :\")\n",
    "    for tag, weight in kept_tags.items():\n",
    "        print('\\t\\t{}: {} '.format(tag, weight))  \n",
    "\n",
    "    \n",
    "\n"
   ]
  },
  {
   "cell_type": "code",
   "execution_count": 16,
   "metadata": {
    "collapsed": false
   },
   "outputs": [
    {
     "data": {
      "text/plain": [
       "9541"
      ]
     },
     "execution_count": 16,
     "metadata": {},
     "output_type": "execute_result"
    }
   ],
   "source": [
    "todo = Work.objects.only('pk', 'title', 'poster', 'nsfw').annotate(rating_count=Count('rating')).filter(category__slug=category, rating_count__gte=6).exclude(anidb_aid=0).order_by('-rating_count')\n",
    "anime = todo[1]\n",
    "anime\n",
    "anime.anidb_aid"
   ]
  }
 ],
 "metadata": {
  "kernelspec": {
   "display_name": "Django Shell-Plus",
   "language": "python",
   "name": "django_extensions"
  },
  "language_info": {
   "codemirror_mode": {
    "name": "ipython",
    "version": 3
   },
   "file_extension": ".py",
   "mimetype": "text/x-python",
   "name": "python",
   "nbconvert_exporter": "python",
   "pygments_lexer": "ipython3",
   "version": "3.4.3"
  }
 },
 "nbformat": 4,
 "nbformat_minor": 0
}

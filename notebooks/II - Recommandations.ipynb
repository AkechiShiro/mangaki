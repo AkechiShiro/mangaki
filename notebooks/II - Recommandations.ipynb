{
 "cells": [
  {
   "cell_type": "markdown",
   "metadata": {},
   "source": [
    "# II - Recommandations"
   ]
  },
  {
   "cell_type": "code",
   "execution_count": 19,
   "metadata": {
    "collapsed": false
   },
   "outputs": [
    {
     "data": {
      "text/plain": [
       "[{'profile__is_shared': True}, {'profile__is_shared': True}, {'profile__is_shared': True}]"
      ]
     },
     "execution_count": 19,
     "metadata": {},
     "output_type": "execute_result"
    }
   ],
   "source": [
    "pigs = ['jj', 'Maduesu', 'É']\n",
    "User.objects.filter(username__in=pigs).values('profile__is_shared')"
   ]
  },
  {
   "cell_type": "code",
   "execution_count": 2,
   "metadata": {
    "collapsed": false
   },
   "outputs": [],
   "source": [
    "from mangaki.utils.knn import MangakiKNN\n",
    "knn = MangakiKNN(NB_NEIGHBORS=5)\n",
    "knn.fit(all_dataset=True)"
   ]
  },
  {
   "cell_type": "markdown",
   "metadata": {},
   "source": [
    "## Sans normalisation"
   ]
  },
  {
   "cell_type": "code",
   "execution_count": 3,
   "metadata": {
    "collapsed": false
   },
   "outputs": [
    {
     "name": "stdout",
     "output_type": "stream",
     "text": [
      "Voisins de jj : ['linkmauve', 'Soubi', 'Yuuan', 'Melloe', 'Tapas']\n",
      "Voisins de Maduesu : ['TomiDJtal', 'linkmauve', 'Soubi', 'jj', 'creatinator']\n",
      "Voisins de É : ['linkmauve', 'Uaethar', 'Sedeto', 'Kuroneko', 'jj']\n"
     ]
    }
   ],
   "source": [
    "for pig in pigs:\n",
    "    my_user_id = User.objects.get(username=pig).id\n",
    "    print('Voisins de {} :'.format(pig), knn.get_neighbors(my_user_id))"
   ]
  },
  {
   "cell_type": "code",
   "execution_count": 8,
   "metadata": {
    "collapsed": false
   },
   "outputs": [
    {
     "name": "stdout",
     "output_type": "stream",
     "text": [
      "Strongly agree: (over 299 positive products)\n",
      "1. Kaiba 4 4 = 16\n",
      "2. Card Captor Sakura 4 4 = 16\n",
      "3. Millennium Actress 4 4 = 16\n",
      "4. Puella Magi Madoka Magica the Movie Part III: Rebellion 4 4 = 16\n",
      "5. Le Voyage de Chihiro 4 4 = 16\n",
      "6. Nagi no Asukara 2 4 = 8\n",
      "7. A Certain Scientific Railgun S 2 4 = 8\n",
      "8. Nausicaa 2 4 = 8\n",
      "9. Noein: To Your Other Self 2 4 = 8\n",
      "10. Canaan 2 4 = 8\n",
      "11. Le Château dans le ciel 2 4 = 8\n",
      "12. Nausicaä of the Valley of the Wind 2 4 = 8\n",
      "13. The Tale of The Princess Kaguya 2 4 = 8\n",
      "14. Patema Inverted: Beginning of the Day 2 4 = 8\n",
      "15. Ghost in the Shell 2: Innocence 4 2 = 8\n",
      "16. .hack//Sign 2 4 = 8\n",
      "17. Paprika 4 2 = 8\n",
      "18. Puella Magi Madoka Magica the Movie Part II: Eternal 2 4 = 8\n",
      "19. Puella Magi Madoka Magica the Movie Part I: Beginnings 2 4 = 8\n",
      "20. Pokemon 2 4 = 8\n",
      "21. Suzumiya Haruhi no Shoushitsu 4 2 = 8\n",
      "22. Princesse Mononoké 4 2 = 8\n",
      "23. Mahou Shoujo Madoka★Magica 2 4 = 8\n",
      "24. Clannad: After Story 2 4 = 8\n",
      "25. Cowboy Bebop 4 2 = 8\n",
      "26. Suzumiya Haruhi no Yuuutsu 4 2 = 8\n",
      "27. Durarara!! 2 4 = 8\n",
      "28. Steins;Gate 4 2 = 8\n",
      "29. Clannad 2 4 = 8\n",
      "30. Whisper of the Heart 2 2 = 4\n",
      "31. On Your Mark 2 2 = 4\n",
      "32. Pale Cocoon 2 2 = 4\n",
      "33. Contes de Terremer 2 2 = 4\n",
      "34. The Garden of Words 2 2 = 4\n",
      "35. Voices of a Distant Star 2 2 = 4\n",
      "36. The Place Promised in Our Early Days 2 2 = 4\n",
      "37. Ponyo sur la falaise 2 2 = 4\n",
      "38. Final Fantasy: The Spirits Within 2 2 = 4\n",
      "39. Hotarubi no Mori e 2 2 = 4\n",
      "40. Time of Eve (Movie) 2 2 = 4\n",
      "41. Time of Eve 2 2 = 4\n",
      "42. Patema Inverted 2 2 = 4\n",
      "43. Ghost in the Shell 2 2 = 4\n",
      "44. Perfect Blue 2 2 = 4\n",
      "45. Pokemon: The Movie 2000 2 2 = 4\n",
      "46. Pokemon: The First Movie 2 2 = 4\n",
      "47. Clannad: Another World, Tomoyo Chapter 2 2 = 4\n",
      "48. The Tatami Galaxy 2 2 = 4\n",
      "49. Serial Experiments Lain 2 2 = 4\n",
      "50. Shinsekai yori 2 2 = 4\n",
      "51. Summer Wars 2 2 = 4\n",
      "52. Suzumiya Haruhi no Yuuutsu (2009) 2 2 = 4\n",
      "53. Toki wo Kakeru Shoujo 2 2 = 4\n",
      "54. NHK ni Youkoso! 2 2 = 4\n",
      "55. 5 centimètres par seconde 2 2 = 4\n",
      "56. Le Château ambulant 2 2 = 4\n",
      "57. Samurai Champloo 2 2 = 4\n",
      "58. Code Geass: Hangyaku no Lelouch R2 2 2 = 4\n",
      "59. Death Note 2 2 = 4\n",
      "Strongly disagree: (over 98 negative products)\n",
      "1. Mawaru Penguindrum -2 2 = -4\n",
      "2. Evangelion: 2.0 You Can (Not) Advance -2 2 = -4\n"
     ]
    }
   ],
   "source": [
    "knn.get_common_traits('jj', 'linkmauve')"
   ]
  },
  {
   "cell_type": "code",
   "execution_count": 10,
   "metadata": {
    "collapsed": false
   },
   "outputs": [
    {
     "name": "stdout",
     "output_type": "stream",
     "text": [
      "Strongly agree: (over 336 positive products)\n",
      "1. Les Enfants Loups : Ame & Yuki 4 4 = 16\n",
      "2. Paprika 4 4 = 16\n",
      "3. Princesse Mononoké 4 4 = 16\n",
      "4. Nausicaa 2 4 = 8\n",
      "5. On Your Mark 2 4 = 8\n",
      "6. Kaiba 4 2 = 8\n",
      "7. Le Château dans le ciel 2 4 = 8\n",
      "8. Nausicaä of the Valley of the Wind 2 4 = 8\n",
      "9. Redline 4 2 = 8\n",
      "10. Le Vent se lève 4 2 = 8\n",
      "11. The Tale of The Princess Kaguya 2 4 = 8\n",
      "12. Card Captor Sakura 4 2 = 8\n",
      "13. Ghost in the Shell 2: Innocence 4 2 = 8\n",
      "14. Ghost in the Shell 2 4 = 8\n",
      "15. Porco Rosso 4 2 = 8\n",
      "16. Perfect Blue 2 4 = 8\n",
      "17. Millennium Actress 4 2 = 8\n",
      "18. Terror in Resonance 4 2 = 8\n",
      "19. No Game No Life 4 2 = 8\n",
      "20. Le Voyage de Chihiro 4 2 = 8\n",
      "21. Cowboy Bebop 4 2 = 8\n",
      "22. Suzumiya Haruhi no Yuuutsu 4 2 = 8\n",
      "23. Steins;Gate 4 2 = 8\n",
      "24. Le Garçon et la Bête 2 2 = 4\n",
      "25. Interstella5555: The 5tory of The 5ecret 5tar 5ystem 2 2 = 4\n",
      "26. Nagi no Asukara 2 2 = 4\n",
      "27. A Certain Scientific Railgun S 2 2 = 4\n",
      "28. The Princess and the Pilot 2 2 = 4\n",
      "29. Whisper of the Heart 2 2 = 4\n",
      "30. La Colline aux coquelicots 2 2 = 4\n",
      "31. Zetman 2 2 = 4\n",
      "32. I''s 2 2 = 4\n",
      "33. Homunculus 2 2 = 4\n",
      "34. Death note 2 2 = 4\n",
      "35. Card Captor Sakura 2 2 = 4\n",
      "36. Bakuman 2 2 = 4\n",
      "37. Your Lie in April 2 2 = 4\n",
      "38. Noein: To Your Other Self 2 2 = 4\n",
      "39. Cowboy Bebop: Knockin' on Heaven's Door 2 2 = 4\n",
      "40. Pale Cocoon 2 2 = 4\n",
      "41. Akira 2 2 = 4\n",
      "42. Tekkon Kinkreet 2 2 = 4\n",
      "43. Baccano! Specials 2 2 = 4\n",
      "44. The Melancholy of Haruhi-chan Suzumiya 2 2 = 4\n",
      "45. Steins;Gate: Egoistic Poriomania 2 2 = 4\n",
      "46. The Garden of Words 2 2 = 4\n",
      "47. Voices of a Distant Star 2 2 = 4\n",
      "48. The Place Promised in Our Early Days 2 2 = 4\n",
      "49. Grave of the Fireflies 2 2 = 4\n",
      "50. Ponyo sur la falaise 2 2 = 4\n",
      "51. Final Fantasy: The Spirits Within 2 2 = 4\n",
      "52. Jin-Roh: The Wolf Brigade 2 2 = 4\n",
      "53. Hotarubi no Mori e 2 2 = 4\n",
      "54. Cardcaptor Sakura: Leave It to Kero-chan 2 2 = 4\n",
      "55. Patema Inverted: Beginning of the Day 2 2 = 4\n",
      "56. Patema Inverted 2 2 = 4\n",
      "57. Ghost in the Shell: Stand Alone Complex - The Laughing Man 2 2 = 4\n",
      "58. Sword of the Stranger 2 2 = 4\n",
      "59. Kids on the Slope 2 2 = 4\n",
      "60. .hack//Sign 2 2 = 4\n",
      "61. Tokyo Godfathers 2 2 = 4\n",
      "62. Digimon Adventure 2 2 = 4\n",
      "63. Puella Magi Madoka Magica the Movie Part II: Eternal 2 2 = 4\n",
      "64. Puella Magi Madoka Magica the Movie Part I: Beginnings 2 2 = 4\n",
      "65. Serial Experiments Lain 2 2 = 4\n",
      "66. Shinsekai yori 2 2 = 4\n",
      "67. Summer Wars 2 2 = 4\n",
      "68. Suzumiya Haruhi no Yuuutsu (2009) 2 2 = 4\n",
      "69. Toki wo Kakeru Shoujo 2 2 = 4\n",
      "70. Le Château ambulant 2 2 = 4\n",
      "71. Baccano! 2 2 = 4\n",
      "72. Mahou Shoujo Madoka★Magica 2 2 = 4\n",
      "73. Durarara!! 2 2 = 4\n",
      "74. Code Geass: Hangyaku no Lelouch R2 2 2 = 4\n",
      "Strongly disagree: (over 102 negative products)\n",
      "1. Mawaru Penguindrum -2 2 = -4\n",
      "2. Vampire Hunter D -2 2 = -4\n",
      "3. Evangelion: 2.0 You Can (Not) Advance -2 2 = -4\n",
      "4. Digimon: The Movie -2 2 = -4\n"
     ]
    }
   ],
   "source": [
    "knn.get_common_traits('jj', 'Soubi')"
   ]
  },
  {
   "cell_type": "code",
   "execution_count": 15,
   "metadata": {
    "collapsed": false
   },
   "outputs": [
    {
     "name": "stdout",
     "output_type": "stream",
     "text": [
      "Strongly agree: (over 48 positive products)\n",
      "1. Le Château dans le ciel 4 4 = 16\n",
      "2. No Game No Life 4 4 = 16\n",
      "3. Mahou Shoujo Madoka★Magica 4 4 = 16\n",
      "4. Durarara!! 4 4 = 16\n",
      "5. Steins;Gate 4 4 = 16\n",
      "6. L'Attaque des Titans 4 4 = 16\n",
      "7. Nausicaä of the Valley of the Wind 2 4 = 8\n",
      "8. Suzumiya Haruhi no Yuuutsu (2009) 2 4 = 8\n",
      "9. Log Horizon 2 4 = 8\n",
      "10. Hataraku Maou-sama! 2 4 = 8\n",
      "11. Fate/Zero 2 4 = 8\n",
      "12. Fate/stay night 2 4 = 8\n",
      "13. Shingeki no Kyojin OVA 2 2 = 4\n",
      "14. Arrietty, le petit monde des chapardeurs 2 2 = 4\n",
      "15. Porco Rosso 2 2 = 4\n",
      "16. Accel World 2 2 = 4\n",
      "17. Princesse Mononoké 2 2 = 4\n",
      "18. Le Château ambulant 2 2 = 4\n",
      "19. Le Voyage de Chihiro 2 2 = 4\n",
      "20. Suzumiya Haruhi no Yuuutsu 2 2 = 4\n",
      "21. Death Note 2 2 = 4\n",
      "Strongly disagree: (over 3 negative products)\n"
     ]
    }
   ],
   "source": [
    "knn.get_common_traits('Maduesu', 'TomiDJtal')"
   ]
  },
  {
   "cell_type": "code",
   "execution_count": 16,
   "metadata": {
    "collapsed": false
   },
   "outputs": [
    {
     "name": "stdout",
     "output_type": "stream",
     "text": [
      "Strongly agree: (over 136 positive products)\n",
      "1. Millennium Actress 4 4 = 16\n",
      "2. Puella Magi Madoka Magica the Movie Part II: Eternal 4 4 = 16\n",
      "3. Puella Magi Madoka Magica the Movie Part I: Beginnings 4 4 = 16\n",
      "4. Puella Magi Madoka Magica the Movie Part III: Rebellion 4 4 = 16\n",
      "5. Mahou Shoujo Madoka★Magica 4 4 = 16\n",
      "6. My Ordinary Life 2 4 = 8\n",
      "7. Monogatari Series: Second Season 2 4 = 8\n",
      "8. Saki 2 4 = 8\n",
      "9. The Tale of The Princess Kaguya 2 4 = 8\n",
      "10. Sayonara Zetsubou Sensei 2 4 = 8\n",
      "11. The Tatami Galaxy 4 2 = 8\n",
      "12. 5 centimètres par seconde 4 2 = 8\n",
      "13. Higurashi no Naku Koro ni 2 4 = 8\n",
      "14. Ano Hi Mita Hana no Namae wo Bokutachi wa Mada Shiranai. 2 4 = 8\n",
      "15. Clannad: After Story 2 4 = 8\n",
      "16. Bakemonogatari 2 4 = 8\n",
      "17. Nekomonogatari Black: Tsubasa Family 2 2 = 4\n",
      "18. Lucky☆Star: Original na Visual to Animation 2 2 = 4\n",
      "19. The Garden of Words 2 2 = 4\n",
      "20. K-ON! The Movie 2 2 = 4\n",
      "21. Hanamonogatari 2 2 = 4\n",
      "22. Saki Achiga-hen: Episode of Side-A 2 2 = 4\n",
      "23. Tsukimonogatari 2 2 = 4\n",
      "24. Kokoro Connect: Michi Random 2 2 = 4\n",
      "25. Paprika 2 2 = 4\n",
      "26. Sasami-san@Ganbaranai 2 2 = 4\n",
      "27. Neon Genesis Evangelion: The End of Evangelion 2 2 = 4\n",
      "28. Kokoro Connect 2 2 = 4\n",
      "29. Nisemonogatari 2 2 = 4\n",
      "30. Higurashi no Naku Koro ni Kai 2 2 = 4\n",
      "31. Suzumiya Haruhi no Shoushitsu 2 2 = 4\n",
      "32. Suzumiya Haruhi no Yuuutsu (2009) 2 2 = 4\n",
      "33. Toki wo Kakeru Shoujo 2 2 = 4\n",
      "34. Hyouka 2 2 = 4\n",
      "35. Lucky☆Star 2 2 = 4\n",
      "36. K-On! 2 2 = 4\n",
      "37. Suzumiya Haruhi no Yuuutsu 2 2 = 4\n",
      "38. Steins;Gate 2 2 = 4\n",
      "Strongly disagree: (over 45 negative products)\n",
      "1. Code Geass: Hangyaku no Lelouch -2 2 = -4\n",
      "2. Angel Beats! -2 2 = -4\n",
      "3. Tengen Toppa Gurren Lagann -2 2 = -4\n",
      "4. Ore no Imouto ga Konnani Kawaii Wake ga Nai -2 2 = -4\n",
      "5. Spice & Wolf -2 2 = -4\n",
      "6. FLCL -2 2 = -4\n",
      "7. Black Lagoon -2 2 = -4\n",
      "8. Full Metal Panic! -2 2 = -4\n",
      "9. NHK ni Youkoso! -2 2 = -4\n",
      "10. Black Lagoon: The Second Barrage -2 2 = -4\n",
      "11. Angel Beats!: Another Epilogue -2 2 = -4\n",
      "12. Red Data Girl -2 2 = -4\n",
      "13. ef ~ A Tale of Melodies -2 2 = -4\n"
     ]
    }
   ],
   "source": [
    "knn.get_common_traits('É', 'linkmauve')"
   ]
  },
  {
   "cell_type": "markdown",
   "metadata": {},
   "source": [
    "## Avec normalisation"
   ]
  },
  {
   "cell_type": "code",
   "execution_count": 7,
   "metadata": {
    "collapsed": false
   },
   "outputs": [
    {
     "name": "stdout",
     "output_type": "stream",
     "text": [
      "Voisins de jj : ['MaxaoH', 'Soubi', 'linkmauve', 'Yuuan', 'Tapas']\n",
      "Voisins de Maduesu : ['nijibakurei', 'Benku', 'Nekokoro', 'jj', 'Soubi']\n",
      "Voisins de É : ['wincested_naked_loli', 'Uaethar', 'linkmauve', 'Sedeto', 'Luttii']\n"
     ]
    }
   ],
   "source": [
    "for pig in pigs:\n",
    "    my_user_id = User.objects.get(username=pig).id\n",
    "    print('Voisins de {} :'.format(pig), knn.get_neighbors(my_user_id, normalized=True))"
   ]
  },
  {
   "cell_type": "markdown",
   "metadata": {},
   "source": [
    "Première chose bizarre : on n'a aucun favori en commun."
   ]
  },
  {
   "cell_type": "code",
   "execution_count": 13,
   "metadata": {
    "collapsed": false
   },
   "outputs": [
    {
     "name": "stdout",
     "output_type": "stream",
     "text": [
      "Strongly agree: (over 123 positive products)\n",
      "1. GTO - Great Teacher Onizuka 4 2 = 8\n",
      "2. Kaiba 4 2 = 8\n",
      "3. Redline 4 2 = 8\n",
      "4. Le Vent se lève 4 2 = 8\n",
      "5. Ghost in the Shell 2: Innocence 4 2 = 8\n",
      "6. Les Enfants Loups : Ame & Yuki 4 2 = 8\n",
      "7. Porco Rosso 4 2 = 8\n",
      "8. Millennium Actress 4 2 = 8\n",
      "9. Paprika 4 2 = 8\n",
      "10. Puella Magi Madoka Magica the Movie Part III: Rebellion 4 2 = 8\n",
      "11. Princesse Mononoké 4 2 = 8\n",
      "12. No Game No Life 4 2 = 8\n",
      "13. Le Voyage de Chihiro 4 2 = 8\n",
      "14. Cowboy Bebop 4 2 = 8\n",
      "15. Steins;Gate 4 2 = 8\n",
      "16. Colorful ~ The Motion Picture 2 2 = 4\n",
      "17. Interstella5555: The 5tory of The 5ecret 5tar 5ystem 2 2 = 4\n",
      "18. Whisper of the Heart 2 2 = 4\n",
      "19. La Colline aux coquelicots 2 2 = 4\n",
      "20. Death note 2 2 = 4\n",
      "21. Bakuman 2 2 = 4\n",
      "22. On Your Mark 2 2 = 4\n",
      "23. Cowboy Bebop: Knockin' on Heaven's Door 2 2 = 4\n",
      "24. Le Royaume des chats 2 2 = 4\n",
      "25. Pale Cocoon 2 2 = 4\n",
      "26. Le Château dans le ciel 2 2 = 4\n",
      "27. Steins;Gate: Egoistic Poriomania 2 2 = 4\n",
      "28. The Garden of Words 2 2 = 4\n",
      "29. Voices of a Distant Star 2 2 = 4\n",
      "30. The Place Promised in Our Early Days 2 2 = 4\n",
      "31. Pom Poko 2 2 = 4\n",
      "32. Grave of the Fireflies 2 2 = 4\n",
      "33. Nausicaä of the Valley of the Wind 2 2 = 4\n",
      "34. Ping Pong The Animation 2 2 = 4\n",
      "35. Kiki la petite sorcière 2 2 = 4\n",
      "36. Jin-Roh: The Wolf Brigade 2 2 = 4\n",
      "37. The Tale of The Princess Kaguya 2 2 = 4\n",
      "38. Hotarubi no Mori e 2 2 = 4\n",
      "39. Time of Eve (Movie) 2 2 = 4\n",
      "40. Time of Eve 2 2 = 4\n",
      "41. Patema Inverted 2 2 = 4\n",
      "42. Ghost in the Shell 2 2 = 4\n",
      "43. Kids on the Slope 2 2 = 4\n",
      "44. Tokyo Godfathers 2 2 = 4\n",
      "45. Perfect Blue 2 2 = 4\n",
      "46. Summer Wars 2 2 = 4\n",
      "47. Toki wo Kakeru Shoujo 2 2 = 4\n",
      "48. NHK ni Youkoso! 2 2 = 4\n",
      "49. 5 centimètres par seconde 2 2 = 4\n",
      "50. Le Château ambulant 2 2 = 4\n",
      "51. Baccano! 2 2 = 4\n",
      "52. Samurai Champloo 2 2 = 4\n",
      "53. Mahou Shoujo Madoka★Magica 2 2 = 4\n",
      "54. Durarara!! 2 2 = 4\n",
      "55. Death Note 2 2 = 4\n",
      "Strongly disagree: (over 22 negative products)\n",
      "1. Great Teacher Onizuka -2 2 = -4\n",
      "2. Evangelion: 2.0 You Can (Not) Advance -2 2 = -4\n"
     ]
    }
   ],
   "source": [
    "knn.get_common_traits('jj', 'MaxaoH')"
   ]
  },
  {
   "cell_type": "code",
   "execution_count": 14,
   "metadata": {
    "collapsed": false
   },
   "outputs": [
    {
     "name": "stdout",
     "output_type": "stream",
     "text": [
      "Strongly agree: (over 38 positive products)\n",
      "1. Le Château dans le ciel 4 2 = 8\n",
      "2. Zetsuen no Tempest 4 2 = 8\n",
      "3. No Game No Life 4 2 = 8\n",
      "4. Mahou Shoujo Madoka★Magica 4 2 = 8\n",
      "5. Durarara!! 4 2 = 8\n",
      "6. Steins;Gate 4 2 = 8\n",
      "7. L'Attaque des Titans 4 2 = 8\n",
      "8. Arrietty, le petit monde des chapardeurs 2 2 = 4\n",
      "9. Nausicaä of the Valley of the Wind 2 2 = 4\n",
      "10. Wolf's Rain 2 2 = 4\n",
      "11. Porco Rosso 2 2 = 4\n",
      "12. Paprika 2 2 = 4\n",
      "13. Mon voisin Totoro 2 2 = 4\n",
      "14. Hataraku Maou-sama! 2 2 = 4\n",
      "15. Princesse Mononoké 2 2 = 4\n",
      "16. Le Château ambulant 2 2 = 4\n",
      "17. Fate/Zero 2 2 = 4\n",
      "18. Le Voyage de Chihiro 2 2 = 4\n",
      "19. Suzumiya Haruhi no Yuuutsu 2 2 = 4\n",
      "20. Death Note 2 2 = 4\n",
      "Strongly disagree: (over 1 negative products)\n"
     ]
    }
   ],
   "source": [
    "knn.get_common_traits('Maduesu', 'nijibakurei')"
   ]
  },
  {
   "cell_type": "code",
   "execution_count": 18,
   "metadata": {
    "collapsed": false
   },
   "outputs": [
    {
     "name": "stdout",
     "output_type": "stream",
     "text": [
      "Strongly agree: (over 54 positive products)\n",
      "1. 5 centimètres par seconde 4 2 = 8\n",
      "2. Mahou Shoujo Madoka★Magica 4 2 = 8\n",
      "3. Neon Genesis Evangelion: The End of Evangelion 2 2 = 4\n",
      "4. Fullmetal Alchemist: The Conqueror of Shamballa -2 -2 = 4\n",
      "5. Kokoro Connect 2 2 = 4\n",
      "6. Vampire Knight Guilty -2 -2 = 4\n",
      "7. Nisemonogatari 2 2 = 4\n",
      "8. Higurashi no Naku Koro ni Kai 2 2 = 4\n",
      "9. Suzumiya Haruhi no Shoushitsu 2 2 = 4\n",
      "10. Ergo Proxy -2 -2 = 4\n",
      "11. Suzumiya Haruhi no Yuuutsu (2009) 2 2 = 4\n",
      "12. Hyouka 2 2 = 4\n",
      "13. Vampire Knight -2 -2 = 4\n",
      "14. No Game No Life 2 2 = 4\n",
      "15. Claymore -2 -2 = 4\n",
      "16. Lucky☆Star 2 2 = 4\n",
      "17. Higurashi no Naku Koro ni 2 2 = 4\n",
      "18. Black Butler -2 -2 = 4\n",
      "19. K-On! 2 2 = 4\n",
      "20. Clannad: After Story 2 2 = 4\n",
      "21. Bakemonogatari 2 2 = 4\n",
      "22. Suzumiya Haruhi no Yuuutsu 2 2 = 4\n",
      "23. Tengen Toppa Gurren Lagann -2 -2 = 4\n",
      "24. Angel Beats! -2 -2 = 4\n",
      "25. Fullmetal Alchemist -2 -2 = 4\n",
      "26. Fullmetal Alchemist: Brotherhood -2 -2 = 4\n",
      "27. Code Geass: Hangyaku no Lelouch -2 -2 = 4\n",
      "Strongly disagree: (over 9 negative products)\n"
     ]
    }
   ],
   "source": [
    "knn.get_common_traits('É', 'wincested_naked_loli')"
   ]
  },
  {
   "cell_type": "markdown",
   "metadata": {},
   "source": [
    "C'est intéressant parce que là, ils semblent être d'accord sur les likes et sur les dislikes."
   ]
  }
 ],
 "metadata": {
  "kernelspec": {
   "display_name": "Django Shell-Plus",
   "language": "python",
   "name": "django_extensions"
  },
  "language_info": {
   "codemirror_mode": {
    "name": "ipython",
    "version": 3
   },
   "file_extension": ".py",
   "mimetype": "text/x-python",
   "name": "python",
   "nbconvert_exporter": "python",
   "pygments_lexer": "ipython3",
   "version": "3.4.1"
  }
 },
 "nbformat": 4,
 "nbformat_minor": 0
}

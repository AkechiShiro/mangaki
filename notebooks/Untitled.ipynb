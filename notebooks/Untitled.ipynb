{
 "cells": [
  {
   "cell_type": "code",
   "execution_count": 5,
   "metadata": {
    "collapsed": false
   },
   "outputs": [
    {
     "data": {
      "text/plain": [
       "{'action': 600,\n",
       " 'adventure': 600,\n",
       " 'battle royale': 200,\n",
       " 'comedy': 400,\n",
       " 'dragon': 200,\n",
       " 'ecchi': 300,\n",
       " 'fantasy': 600,\n",
       " 'fantasy world': 600,\n",
       " 'friendship': 500,\n",
       " 'large breasts': 100,\n",
       " 'magic': 600,\n",
       " 'maid': 100,\n",
       " 'parental abandonment': 100,\n",
       " 'slapstick': 200,\n",
       " 'stereotypes': 200,\n",
       " 'super deformed': 100}"
      ]
     },
     "execution_count": 5,
     "metadata": {},
     "output_type": "execute_result"
    }
   ],
   "source": [
    "from mangaki.models import *\n",
    "current_work = Work.objects.get(id=18)\n",
    "current_work\n",
    "tag_work = TaggedWork.objects.filter(work=current_work)\n",
    "current_tags = {tagwork.tag.title : tagwork.weight for tagwork in tag_work}\n",
    "current_tags"
   ]
  },
  {
   "cell_type": "code",
   "execution_count": null,
   "metadata": {
    "collapsed": true
   },
   "outputs": [],
   "source": []
  },
  {
   "cell_type": "code",
   "execution_count": 9,
   "metadata": {
    "collapsed": false
   },
   "outputs": [
    {
     "data": {
      "text/plain": [
       "{'action': 600,\n",
       " 'adventure': 600,\n",
       " 'battle royale': 200,\n",
       " 'comedy': 400,\n",
       " 'dragon': 200,\n",
       " 'ecchi': 300,\n",
       " 'fantasy': 600,\n",
       " 'fantasy world': 600,\n",
       " 'friendship': 500,\n",
       " 'large breasts': 100,\n",
       " 'magic': 600,\n",
       " 'maid': 100,\n",
       " 'parental abandonment': 100,\n",
       " 'slapstick': 200,\n",
       " 'stereotypes': 200,\n",
       " 'super deformed': 100}"
      ]
     },
     "execution_count": 9,
     "metadata": {},
     "output_type": "execute_result"
    }
   ],
   "source": [
    "anidb_tags = current_tags.copy()\n",
    "remaining_tags_keys = anidb_tags.keys() & current_tags.keys()\n",
    "remaining_tags = dict((key, current_tags[key])for key in remaining_tags_keys)\n",
    "        \n",
    "updated_tags = {title : (current_tags[title], anidb_tags[title]) for title in remaining_tags if current_tags[title] != anidb_tags[title]} \n",
    "kept_tags = {title : current_tags[title] for title in remaining_tags if current_tags[title] == anidb_tags[title]}\n",
    "remaining_tags\n",
    "updated_tags\n",
    "kept_tags\n"
   ]
  },
  {
   "cell_type": "code",
   "execution_count": null,
   "metadata": {
    "collapsed": true
   },
   "outputs": [],
   "source": []
  },
  {
   "cell_type": "code",
   "execution_count": 13,
   "metadata": {
    "collapsed": true
   },
   "outputs": [],
   "source": [
    "from mangaki.models import *\n",
    "for work in Work.objects.all():\n",
    "    work.check_having_anidb_aid()\n"
   ]
  },
  {
   "cell_type": "code",
   "execution_count": 11,
   "metadata": {
    "collapsed": false
   },
   "outputs": [
    {
     "name": "stdout",
     "output_type": "stream",
     "text": [
      "hey\n"
     ]
    }
   ],
   "source": [
    "work = Work.objects.get(id=3)\n",
    "if work.anidb_aid != 0:\n",
    "    work.have_anidb_aid = True\n",
    "    work.save()\n",
    "    print(\"hey\")\n",
    "            \n",
    "else :\n",
    "    work.have_anidb_aid = False\n",
    "    print(\"bof\")"
   ]
  },
  {
   "cell_type": "code",
   "execution_count": 12,
   "metadata": {
    "collapsed": false
   },
   "outputs": [
    {
     "data": {
      "text/plain": [
       "True"
      ]
     },
     "execution_count": 12,
     "metadata": {},
     "output_type": "execute_result"
    }
   ],
   "source": [
    "Work.objects.get(id=3).have_anidb_aid"
   ]
  },
  {
   "cell_type": "code",
   "execution_count": 15,
   "metadata": {
    "collapsed": true
   },
   "outputs": [],
   "source": [
    "work = Work.objects.get(id=5)\n",
    "work.check_having_anidb_aid()"
   ]
  },
  {
   "cell_type": "code",
   "execution_count": 17,
   "metadata": {
    "collapsed": false
   },
   "outputs": [
    {
     "data": {
      "text/plain": [
       "False"
      ]
     },
     "execution_count": 17,
     "metadata": {},
     "output_type": "execute_result"
    }
   ],
   "source": [
    "Work.objects.get(id=5).have_anidb_aid"
   ]
  },
  {
   "cell_type": "code",
   "execution_count": null,
   "metadata": {
    "collapsed": true
   },
   "outputs": [],
   "source": []
  },
  {
   "cell_type": "code",
   "execution_count": 19,
   "metadata": {
    "collapsed": false
   },
   "outputs": [
    {
     "name": "stdout",
     "output_type": "stream",
     "text": [
      "hey\n"
     ]
    }
   ],
   "source": [
    "work = Work.objects.get(id=5)\n",
    "if work.anidb_aid != 0:\n",
    "    work.have_anidb_aid = True\n",
    "    work.save()\n",
    "    print(\"hey\")\n",
    "            \n",
    "else :\n",
    "    work.have_anidb_aid = False\n",
    "    print(\"bof\")"
   ]
  },
  {
   "cell_type": "code",
   "execution_count": 22,
   "metadata": {
    "collapsed": false
   },
   "outputs": [
    {
     "data": {
      "text/plain": [
       "True"
      ]
     },
     "execution_count": 22,
     "metadata": {},
     "output_type": "execute_result"
    }
   ],
   "source": [
    "work.have_anidb_aid\n"
   ]
  },
  {
   "cell_type": "code",
   "execution_count": null,
   "metadata": {
    "collapsed": true
   },
   "outputs": [],
   "source": []
  },
  {
   "cell_type": "code",
   "execution_count": 24,
   "metadata": {
    "collapsed": false
   },
   "outputs": [
    {
     "ename": "NameError",
     "evalue": "name 'update_works_having_anidb_aid' is not defined",
     "output_type": "error",
     "traceback": [
      "\u001b[1;31m---------------------------------------------------------------------------\u001b[0m",
      "\u001b[1;31mNameError\u001b[0m                                 Traceback (most recent call last)",
      "\u001b[1;32m<ipython-input-24-ddce46c450bb>\u001b[0m in \u001b[0;36m<module>\u001b[1;34m()\u001b[0m\n\u001b[0;32m      1\u001b[0m \u001b[1;32mfrom\u001b[0m \u001b[0mmangaki\u001b[0m\u001b[1;33m.\u001b[0m\u001b[0mviews\u001b[0m \u001b[1;32mimport\u001b[0m \u001b[1;33m*\u001b[0m\u001b[1;33m\u001b[0m\u001b[0m\n\u001b[1;32m----> 2\u001b[1;33m \u001b[0mupdate_works_having_anidb_aid\u001b[0m\u001b[1;33m(\u001b[0m\u001b[1;33m)\u001b[0m\u001b[1;33m\u001b[0m\u001b[0m\n\u001b[0m",
      "\u001b[1;31mNameError\u001b[0m: name 'update_works_having_anidb_aid' is not defined"
     ]
    }
   ],
   "source": [
    "from mangaki.views import *\n",
    "update_works_having_anidb_aid()"
   ]
  }
 ],
 "metadata": {
  "kernelspec": {
   "display_name": "Django Shell-Plus",
   "language": "python",
   "name": "django_extensions"
  },
  "language_info": {
   "codemirror_mode": {
    "name": "ipython",
    "version": 3
   },
   "file_extension": ".py",
   "mimetype": "text/x-python",
   "name": "python",
   "nbconvert_exporter": "python",
   "pygments_lexer": "ipython3",
   "version": "3.4.3"
  }
 },
 "nbformat": 4,
 "nbformat_minor": 0
}

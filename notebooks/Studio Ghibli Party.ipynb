{
 "cells": [
  {
   "cell_type": "code",
   "execution_count": 1,
   "metadata": {
    "collapsed": false
   },
   "outputs": [],
   "source": [
    "programmation = ['ARRIETTY, LE PETIT MONDE DES CHAPARDEURS',\n",
    " 'LA COLLINE AUX COQUELICOTS',\n",
    " 'LES CONTES DE TERREMER',\n",
    " 'LE CHÂTEAU AMBULANT',\n",
    " 'LE VENT SE LEVE',\n",
    " 'LE VOYAGE DE CHIHIRO',\n",
    " 'PONYO SUR LA FALAISE',\n",
    " 'PORCO ROSSO',\n",
    " 'PRINCESSE MONONOKE',\n",
    " 'LE ROYAUME DES CHATS',\n",
    " 'MES VOISINS LES YAMADA',\n",
    " 'MON VOISIN TOTORO.']"
   ]
  },
  {
   "cell_type": "code",
   "execution_count": 2,
   "metadata": {
    "collapsed": false
   },
   "outputs": [],
   "source": [
    "keywords = {'ARRIETTY, LE PETIT MONDE DES CHAPARDEURS': 'arrietty',\n",
    " 'LA COLLINE AUX COQUELICOTS': 'poppy',\n",
    " 'LE CHÂTEAU AMBULANT': 'howl',\n",
    " 'LE ROYAUME DES CHATS': 'cat returns',\n",
    " 'LE VENT SE LEVE': 'wind rises',\n",
    " 'LE VOYAGE DE CHIHIRO': 'chihiro',\n",
    " 'LES CONTES DE TERREMER': 'earthsea',\n",
    " 'MES VOISINS LES YAMADA': 'neighbors',\n",
    " 'MON VOISIN TOTORO.': 'totoro',\n",
    " 'PONYO SUR LA FALAISE': 'ponyo',\n",
    " 'PORCO ROSSO': 'porco rosso',\n",
    " 'PRINCESSE MONONOKE': 'mononoke'}"
   ]
  },
  {
   "cell_type": "code",
   "execution_count": 3,
   "metadata": {
    "collapsed": false
   },
   "outputs": [
    {
     "name": "stdout",
     "output_type": "stream",
     "text": [
      "ARRIETTY, LE PETIT MONDE DES CHAPARDEURS\n",
      "========================================\n",
      "Key: arrietty\n",
      "[<Anime: [2591] The Secret World of Arrietty>, <Anime: [13456] The Secret World of Arrietty>]\n",
      "\n",
      "LA COLLINE AUX COQUELICOTS\n",
      "==========================\n",
      "Key: poppy\n",
      "[<Anime: [8153] From Up on Poppy Hill>]\n",
      "\n",
      "LES CONTES DE TERREMER\n",
      "======================\n",
      "Key: earthsea\n",
      "[<Anime: [10167] Tales from Earthsea>, <Anime: [2461] Tales from Earthsea>]\n",
      "\n",
      "LE CHÂTEAU AMBULANT\n",
      "===================\n",
      "Key: howl\n",
      "[<Anime: [13239] Howl's Moving Castle>, <Anime: [13489] Howl's Moving Castle>, <Anime: [1252] Call of the Wild: Howl, Buck>, <Anime: [53] Howl no Ugoku Shiro>]\n",
      "\n",
      "LE VENT SE LEVE\n",
      "===============\n",
      "Key: wind rises\n",
      "[<Anime: [958] The Wind Rises>]\n",
      "\n",
      "LE VOYAGE DE CHIHIRO\n",
      "====================\n",
      "Key: chihiro\n",
      "[<Anime: [30] Sen to Chihiro no Kamikakushi>]\n",
      "\n",
      "PONYO SUR LA FALAISE\n",
      "====================\n",
      "Key: ponyo\n",
      "[<Anime: [1563] Ponyo>]\n",
      "\n",
      "PORCO ROSSO\n",
      "===========\n",
      "Key: porco rosso\n",
      "[<Anime: [410] Porco Rosso>]\n",
      "\n",
      "PRINCESSE MONONOKE\n",
      "==================\n",
      "Key: mononoke\n",
      "[<Anime: [8175] Mononoke>, <Anime: [8177] Mononoke Dance>, <Anime: [13510] Princess Mononoke>, <Anime: [13511] Mononoke Dance>, <Anime: [60] Mononoke Hime>]\n",
      "\n",
      "LE ROYAUME DES CHATS\n",
      "====================\n",
      "Key: cat returns\n",
      "[<Anime: [3315] The Cat Returns>]\n",
      "\n",
      "MES VOISINS LES YAMADA\n",
      "======================\n",
      "Key: neighbors\n",
      "[<Anime: [13448] My Neighbors the Yamadas>, <Anime: [3177] My Neighbors the Yamadas>]\n",
      "\n",
      "MON VOISIN TOTORO.\n",
      "==================\n",
      "Key: totoro\n",
      "[<Anime: [106] Tonari no Totoro>, <Anime: [13546] My Neighbor Totoro>]\n",
      "\n",
      "{'PORCO ROSSO': 'porco rosso', 'LE VENT SE LEVE': 'wind rises', 'LES CONTES DE TERREMER': 'earthsea', 'PONYO SUR LA FALAISE': 'ponyo', 'MON VOISIN TOTORO.': 'totoro', 'LA COLLINE AUX COQUELICOTS': 'poppy', 'LE VOYAGE DE CHIHIRO': 'chihiro', 'LE ROYAUME DES CHATS': 'cat returns', 'PRINCESSE MONONOKE': 'mononoke', 'MES VOISINS LES YAMADA': 'neighbors', 'LE CHÂTEAU AMBULANT': 'howl', 'ARRIETTY, LE PETIT MONDE DES CHAPARDEURS': 'arrietty'}\n"
     ]
    }
   ],
   "source": [
    "for film in programmation:\n",
    "    keyword = keywords[film] if film in keywords else film.lower()\n",
    "    while keyword:\n",
    "        bundle = Anime.objects.filter(title__icontains=keyword)\n",
    "        if not bundle.count():\n",
    "            keyword = input('Didn\\'t found %s. New keyword? ' % keyword)\n",
    "            continue\n",
    "        keywords[film] = keyword\n",
    "        print(film)\n",
    "        print('=' * len(film))\n",
    "        print('Key:', keyword)\n",
    "        print(bundle)\n",
    "        print()\n",
    "        break\n",
    "print(keywords)"
   ]
  },
  {
   "cell_type": "code",
   "execution_count": null,
   "metadata": {
    "collapsed": true
   },
   "outputs": [],
   "source": []
  }
 ],
 "metadata": {
  "kernelspec": {
   "display_name": "Django Shell-Plus",
   "language": "python",
   "name": "django_extensions"
  },
  "language_info": {
   "codemirror_mode": {
    "name": "ipython",
    "version": 3
   },
   "file_extension": ".py",
   "mimetype": "text/x-python",
   "name": "python",
   "nbconvert_exporter": "python",
   "pygments_lexer": "ipython3",
   "version": "3.4.1"
  }
 },
 "nbformat": 4,
 "nbformat_minor": 0
}

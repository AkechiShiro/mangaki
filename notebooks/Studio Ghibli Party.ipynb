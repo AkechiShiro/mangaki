{
 "cells": [
  {
   "cell_type": "code",
   "execution_count": 18,
   "metadata": {
    "collapsed": false
   },
   "outputs": [],
   "source": [
    "programmation = ['ARRIETTY, LE PETIT MONDE DES CHAPARDEURS',\n",
    " 'LA COLLINE AUX COQUELICOTS',\n",
    " 'LES CONTES DE TERREMER',\n",
    " 'LE CHÂTEAU AMBULANT',\n",
    " 'LE VENT SE LEVE',\n",
    " 'LE VOYAGE DE CHIHIRO',\n",
    " 'PONYO SUR LA FALAISE',\n",
    " 'PORCO ROSSO',\n",
    " 'PRINCESSE MONONOKE',\n",
    " 'LE ROYAUME DES CHATS',\n",
    " 'MES VOISINS LES YAMADA',\n",
    " 'MON VOISIN TOTORO.']"
   ]
  },
  {
   "cell_type": "code",
   "execution_count": 23,
   "metadata": {
    "collapsed": false
   },
   "outputs": [],
   "source": [
    "keywords = {'ARRIETTY, LE PETIT MONDE DES CHAPARDEURS': 'arrietty',\n",
    " 'LA COLLINE AUX COQUELICOTS': 'zaka',\n",
    " 'LE CHÂTEAU AMBULANT': 'ugoku',\n",
    " 'LE ROYAUME DES CHATS': 'cat returns',\n",
    " 'LE VENT SE LEVE': 'wind rises',\n",
    " 'LE VOYAGE DE CHIHIRO': 'chihiro',\n",
    " 'LES CONTES DE TERREMER': 'earthsea',\n",
    " 'MES VOISINS LES YAMADA': 'yamada',\n",
    " 'MON VOISIN TOTORO.': 'totoro',\n",
    " 'PONYO SUR LA FALAISE': 'ponyo',\n",
    " 'PORCO ROSSO': 'porco rosso',\n",
    " 'PRINCESSE MONONOKE': 'mononoke'}"
   ]
  },
  {
   "cell_type": "code",
   "execution_count": 33,
   "metadata": {
    "collapsed": false
   },
   "outputs": [
    {
     "name": "stdout",
     "output_type": "stream",
     "text": [
      "ARRIETTY, LE PETIT MONDE DES CHAPARDEURS\n",
      "========================================\n",
      "Key: arrietty\n",
      "[<Anime: The Secret World of Arrietty>, <Anime: The Secret World of Arrietty>]\n",
      "\n",
      "LA COLLINE AUX COQUELICOTS\n",
      "==========================\n",
      "Key: zaka\n",
      "[<Anime: Haruka Nogizaka's Secret>, <Anime: Nogizaka Haruka no Himitsu: Purezza>, <Anime: Haruka Nogizaka's Secret: Finale>, <Anime: Nogizaka Haruka no Himitsu: Purezza>, <Anime: Haruka Nogizaka's Secret: Finale>]\n",
      "\n",
      "LES CONTES DE TERREMER\n",
      "======================\n",
      "Key: earthsea\n",
      "[<Anime: Tales from Earthsea>, <Anime: Tales from Earthsea>]\n",
      "\n",
      "LE CHÂTEAU AMBULANT\n",
      "===================\n",
      "Key: ugoku\n",
      "[<Anime: Sinbad: Mahou no Lamp to Ugoku Shima>, <Anime: Howl no Ugoku Shiro>]\n",
      "\n",
      "LE VENT SE LEVE\n",
      "===============\n",
      "Key: wind rises\n",
      "[<Anime: The Wind Rises>]\n",
      "\n",
      "LE VOYAGE DE CHIHIRO\n",
      "====================\n",
      "Key: chihiro\n",
      "[<Anime: Sen to Chihiro no Kamikakushi>]\n",
      "\n",
      "PONYO SUR LA FALAISE\n",
      "====================\n",
      "Key: ponyo\n",
      "[<Anime: Ponyo>]\n",
      "\n",
      "PORCO ROSSO\n",
      "===========\n",
      "Key: porco rosso\n",
      "[<Anime: Porco Rosso>]\n",
      "\n",
      "PRINCESSE MONONOKE\n",
      "==================\n",
      "Key: mononoke\n",
      "[<Anime: Mononoke>, <Anime: Mononoke Dance>, <Anime: Princess Mononoke>, <Anime: Mononoke Dance>, <Anime: Mononoke Hime>]\n",
      "\n",
      "LE ROYAUME DES CHATS\n",
      "====================\n",
      "Key: cat returns\n",
      "[<Anime: The Cat Returns>]\n",
      "\n",
      "MES VOISINS LES YAMADA\n",
      "======================\n",
      "Key: yamada\n",
      "[<Anime: B Gata H Kei: Yamada's First Time>, <Anime: B Gata H Kei: Yamada's First Time>, <Anime: Yamada-kun to 7-nin no Majo>, <Anime: Yamada-kun to 7-nin no Majo (OVA)>, <Anime: Yamada-kun to 7-nin no Majo (TV)>, <Anime: Ojamanga Yamada-kun>, <Anime: Ojamanga Yamada-kun (Movie)>, <Anime: Yamada-kun and the Seven Witches>, <Anime: Yankee-kun na Yamada-kun to Megane-chan to Majo>, <Anime: My Neighbors the Yamadas>, <Anime: My Neighbors the Yamadas>]\n",
      "\n",
      "MON VOISIN TOTORO.\n",
      "==================\n",
      "Key: totoro\n",
      "[<Anime: Tonari no Totoro>, <Anime: My Neighbor Totoro>]\n",
      "\n",
      "{'PORCO ROSSO': 'porco rosso', 'MES VOISINS LES YAMADA': 'yamada', 'LE ROYAUME DES CHATS': 'cat returns', 'LES CONTES DE TERREMER': 'earthsea', 'LE VENT SE LEVE': 'wind rises', 'LE VOYAGE DE CHIHIRO': 'chihiro', 'ARRIETTY, LE PETIT MONDE DES CHAPARDEURS': 'arrietty', 'LA COLLINE AUX COQUELICOTS': 'zaka', 'PONYO SUR LA FALAISE': 'ponyo', 'LE CHÂTEAU AMBULANT': 'ugoku', 'MON VOISIN TOTORO.': 'totoro', 'PRINCESSE MONONOKE': 'mononoke'}\n"
     ]
    }
   ],
   "source": [
    "for film in programmation:\n",
    "    keyword = keywords[film] if film in keywords else film.lower()\n",
    "    while keyword:\n",
    "        bundle = Anime.objects.filter(title__icontains=keyword)\n",
    "        if not bundle.count():\n",
    "            keyword = input('Didn\\'t found %s. New keyword? ' % keyword)\n",
    "            continue\n",
    "        keywords[film] = keyword\n",
    "        print(film)\n",
    "        print('=' * len(film))\n",
    "        print('Key:', keyword)\n",
    "        print(bundle)\n",
    "        print()\n",
    "        break\n",
    "print(keywords)"
   ]
  }
 ],
 "metadata": {
  "kernelspec": {
   "display_name": "Django Shell-Plus",
   "language": "python",
   "name": "django_extensions"
  },
  "language_info": {
   "codemirror_mode": {
    "name": "ipython",
    "version": 3
   },
   "file_extension": ".py",
   "mimetype": "text/x-python",
   "name": "python",
   "nbconvert_exporter": "python",
   "pygments_lexer": "ipython3",
   "version": "3.4.1"
  }
 },
 "nbformat": 4,
 "nbformat_minor": 0
}

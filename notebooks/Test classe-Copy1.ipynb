{
 "cells": [
  {
   "cell_type": "code",
   "execution_count": 53,
   "metadata": {
    "collapsed": true
   },
   "outputs": [],
   "source": [
    "\"\"\"\n",
    "#remettre le all_dataset\n",
    "from scipy.sparse import csc_matrix\n",
    "from scipy.spatial.distance import pdist, squareform\n",
    "from mangaki.utils.svd import MangakiSVD\n",
    "from mangaki.utils.values import rating_values\n",
    "from mangaki.models import Rating\n",
    "import pandas, random\n",
    "import numpy as np\n",
    "\n",
    "#source : from 'csv' or 'database' ?\n",
    "\n",
    "#from csv\n",
    "\"\"\"\n",
    "#ratings = pandas.read_csv('../data/ratings.csv', header=None).as_matrix()\t\n",
    "#nb_users = ratings[:,0].max()+1\n",
    "#nb_items = ratings[:,1].max()+1\n",
    "#items = range(0,nb_items)\n",
    "\n",
    "\"\"\"\n",
    "\n",
    "#from database\n",
    "A, B = [], []\n",
    "for user_id, work_id, choice in Rating.objects.values_list('user_id', 'work_id', 'choice'):\n",
    "\tA.append([user_id, work_id])\n",
    "\tB.append(rating_values[choice])\n",
    "\n",
    "nb_users = np.asarray(A)[:,0].max()+1\n",
    "nb_items = np.asarray(A)[:,1].max()+1\n",
    "items = range(0,nb_items)\n",
    "\n",
    "\n",
    "\n",
    "#2 fonctions donnant une matrice de départ user*item\n",
    "\"\"\"\n",
    "#récupérer une matrice users*items avec les 1er nb_ratings de ratings.csv\n",
    "#-soit SVD ayant pour rang rank\t\n",
    "#-soit matrice creuse ayant pour coeff les ratings (creuse[i][j]=rating de l'utilisateur i pour l'oeuvre j)\n",
    "\"\"\"\n",
    "def get_matrix_svd(rank, nb_ratings):\n",
    "\tX = ratings[:nb_ratings,0:2]\n",
    "\tY = [rating_values[rating] for rating in ratings[:nb_ratings,2]]\n",
    "\tsvd = MangakiSVD(rank) \n",
    "\tsvd.set_parameters(nb_users,nb_items)\n",
    "\tsvd.fit(X,Y)\n",
    "\treturn svd.VT\n",
    "\n",
    "\n",
    "\n",
    "def get_matrix_csc(nb_ratings): \n",
    "\t\trow = ratings[:,0]\n",
    "\t\tcol = ratings[:,1]\n",
    "\t\tdata = np.array([rating_values[rating] for rating in ratings[:,2]])\n",
    "\t\tcreux = csc_matrix((data, (row, col)), shape=(nb_users, nb_items))\n",
    "\t\tcreuse = creux.toarray()\n",
    "\t\treturn creuse     \n",
    "\n",
    "\n",
    "#2 fonctions calculant des matrices de similarité\n",
    "\n",
    "#prendre en argument une metric car pas très intéressant car déjà tt fait en Python\n",
    "\n",
    "#option = 'cosine' pr 'jaccard'\n",
    "def similarity(matrix, option): # matrix: dimension nb_users x dimension nb_works\n",
    "    return 1 - squareform(pdist(matrix, metric=option))\n",
    "\t\n",
    "class MangakiUniform(object):\n",
    "\t\n",
    "\tdef __init__(self, nb_points):\n",
    "\t\tself.nb_points = nb_points\n",
    "\n",
    "\n",
    "\tdef sample_k(self,matrix_similarity):\n",
    "\t\tuniform_items = list(range(matrix_similarity.shape[0]))\n",
    "\t\trandom.shuffle(uniform_items)\n",
    "\t\treturn uniform_items[:self.nb_points]\n",
    "    \t\n",
    "\tdef __str__(self):\n",
    "\t\treturn 'uniform list, nb_points=%d' % self.nb_points\n",
    "\n",
    "class MangakiDPP(object):\n",
    "\n",
    "\tdef __init__(self, nb_points):\n",
    "\t\tself.nb_points = nb_points\n",
    "\t\t\n",
    "\n",
    "\t#n'a pas d'intérêt au final\n",
    "    #TODO : delete\n",
    "\t#similarity_fn='jaccard' or 'coisine'\n",
    "\t#def fit(self, matrix, all_dataset=False): #obtention de la matrice de similarité\n",
    "\t#\tmatrix_fit=similarity(matrix, similarity_fn)\n",
    "\t#\treturn matrix_fit\n",
    "    \n",
    "    #thanks to mehdidc on github\n",
    "      # tirer au hasard des points\n",
    "    #def sample_k(items, similiarity, k, max_nb_iterations=1000, rng=np.random):\n",
    "\tdef sample_k(items, L, k, max_nb_iterations=1000, rng=np.random):\n",
    "\t\n",
    "\t#Sample a list of k items from a DPP defined\n",
    "\t#by the similarity matrix L. The algorithm\n",
    "\t#is iterative and runs for max_nb_iterations.\n",
    "\t#The algorithm used is from\n",
    "\t#(Fast Determinantal Point Process Sampling withw\n",
    "\t#Application to Clustering, Byungkon Kang, NIPS 2013)\n",
    "\t\n",
    "\t\tinitial = rng.choice(range(len(items)), size=k, replace=False)\n",
    "\t\tX = [False] * len(items)\n",
    "\t\tfor i in initial:\n",
    "\t\t\tX[i] = True\n",
    "\t\tX = np.array(X)\n",
    "\t\tfor i in range(max_nb_iterations):\n",
    "\t\t\tu = rng.choice(np.arange(len(items))[X])\n",
    "\t\t\tv = rng.choice(np.arange(len(items))[~X])\n",
    "\t\t\tY = X.copy()\n",
    "\t\t\tY[u] = False\n",
    "\t\t\tL_Y = L[Y, :]\n",
    "\t\t\tL_Y = L_Y[:, Y]\n",
    "\t\t\tL_Y_inv = np.linalg.inv(L_Y)\n",
    "\n",
    "\t\t\tc_v = L[v:v+1, :]\n",
    "\t\t\tc_v = c_v[:, v:v+1]\n",
    "\t\t\tb_v = L[Y, :]\n",
    "\t\t\tb_v = b_v[:, v:v+1]\n",
    "\t\t\tc_u = L[u:u+1, :]\n",
    "\t\t\tc_u = c_u[:, u:u+1]\n",
    "\t\t\tb_u = L[Y, :]\n",
    "\t\t\tb_u = b_u[:, u:u+1]\n",
    "\n",
    "\t\t\tp = min(1, c_v - np.dot(np.dot(b_v.T, L_Y_inv), b_v) /\n",
    "\t              (c_u - np.dot(np.dot(b_u.T, L_Y_inv.T), b_u)))\n",
    "\t\t\tif rng.uniform() <= p:\n",
    "\t\t\t\tX = Y[:]\n",
    "\t\t\t\tX[v] = True\n",
    "\t\t\treturn np.array(items)[X]\n",
    "      \n",
    "\tdef __str__(self):\n",
    "\t\treturn 'sample dpp list, nb_points=%d' % self.nb_points\n",
    "   \n",
    "\n",
    "# comparer : regarder la distance moyenne entre deux points, mesures de dispersion. Avoir un truc qui permet de faire le fit + lancer quelques milliers de samples et regarder la dispersion moyenne\n",
    "#ajouter des options : quels para de comparaison utilisés ? Diamètre d'ordre r (1 ou 0 ? ), somme de pdist, déterminant du squareform(pdsit) ?\n",
    "\n",
    "\n",
    "#(pdist(svd.VT[:,sampled_items].T)).sum()\n",
    "\n",
    "\"\"\"\n",
    "\"\"\"\"\"\"\n",
    "#distance_sample = []\n",
    "#distance_uniform = []\n",
    "#et ds la boucle : \n",
    "#distance_sample.append((pdist(svd.VT[:,sampled_items].T)).sum())\n",
    "#distance_uniform.append((pdist(svd.VT[:,uniform_items].T)).sum())\n",
    "#puis comparaison entre les deux listes d'une manière ou d'une autre\n",
    "\"\"\"\"\"\"\n",
    "\"\"\"\n",
    "\"\"\"\"\"\"\n",
    "\n",
    "#det de pdist : np.linalg.det(squareform(pdist(svd.VT[:,uniform_items].T, metric='cosine')))\n",
    "\n",
    "#diamètre d'ordre r : (ici 1 pr l'instant) \n",
    "\"\"\"\n",
    "#n = len(sampled_items)\n",
    "#coefficient_sample = 2/(n*(n-1))*(pdist(svd.VT[:,sampled_items].T).sum())\n",
    "\"\"\"\n",
    "\n",
    "\n",
    "\n",
    "\n",
    "def compare(type_get_matrix, nb_points, nb_iterations, nb_ratings):\n",
    "\tresults_uniform, results_sample_dpp=[], []\n",
    "\tif type_get_matrix=='svd':\n",
    "\n",
    "\t\tmatrix = get_matrix_svd(10, nb_ratings)\n",
    "\telse :\n",
    "\t\tmatrix = get_matrix_svd(10, nb_ratings)\n",
    "\tuniform = MangakiUniform(nb_points)\n",
    "\tdpp = MangakiDDP(matrix, similarity_fn='cosine')\n",
    "\tsimilarity = dpp.fit(matrix)\n",
    "\tindicateur = 0\n",
    "\tpb = 0\n",
    "\twhile indicateur != nb_iterations:\n",
    "    \n",
    "\t\ttry:\n",
    "\t\t\tsampled_items = dpp.sample_k(items, similarity, nb_points)\n",
    "        \n",
    "\n",
    "\t\texcept np.linalg.linalg.LinAlgError as err:\n",
    "\t\t\tpb = 1\n",
    "\t\tif pb==0:\n",
    "\t\t\tindicateur = indicateur+1\n",
    "        # cas où tt se passe bien, bloc où l'on exécute la comparaison\n",
    "\t\t\tuniform_items = uniform.sample_k(items, similarity, nb_points)\n",
    "        \t\n",
    "\t\t\tdet_uni=np.linalg.det(squareform(pdist(svd.VT[:,uniform_items].T, metric='cosine')))\n",
    "\t\t\tdet_dpp=np.linalg.det(squareform(pdist(svd.VT[:,sampled_items].T, metric='cosine')))\n",
    "        \t\n",
    "\t\t\tdiam_uni = 2/(nb_points*(nb_points-1))*(pdist(svd.VT[:,uniform_items].T).sum())\n",
    "\t\t\tdiam_dpp = 2/(nb_points*(nb_points-1))*(pdist(svd.VT[:,sampled_items].T).sum())\n",
    "\n",
    "\t\t\tresults_uniform.append([det_uni, diam_uni]) #à compléter : det et diamètre d'ordre r\n",
    "\t\t\tresults_sample_dpp.append([det_dpp, diam_dpp]) #à compléter : det et diamètre d'ordre r\n",
    "\t\telse :\n",
    "\t\t\tpb = 0\n",
    "            \n",
    "\"\"\"\""
   ]
  },
  {
   "cell_type": "code",
   "execution_count": 8,
   "metadata": {
    "collapsed": false
   },
   "outputs": [],
   "source": [
    "#A\n",
    "#B\n",
    "#nb_users\n",
    "#nb_items\n"
   ]
  },
  {
   "cell_type": "code",
   "execution_count": null,
   "metadata": {
    "collapsed": true
   },
   "outputs": [],
   "source": []
  },
  {
   "cell_type": "code",
   "execution_count": null,
   "metadata": {
    "collapsed": true
   },
   "outputs": [],
   "source": []
  },
  {
   "cell_type": "code",
   "execution_count": null,
   "metadata": {
    "collapsed": true
   },
   "outputs": [],
   "source": []
  },
  {
   "cell_type": "code",
   "execution_count": null,
   "metadata": {
    "collapsed": true
   },
   "outputs": [],
   "source": []
  },
  {
   "cell_type": "code",
   "execution_count": 4,
   "metadata": {
    "collapsed": false
   },
   "outputs": [],
   "source": [
    "#remettre le all_dataset\n",
    "from scipy.sparse import csc_matrix\n",
    "from scipy.spatial.distance import pdist, squareform\n",
    "from mangaki.utils.svd import MangakiSVD\n",
    "from mangaki.utils.values import rating_values\n",
    "from mangaki.models import Rating\n",
    "import pandas, random\n",
    "import numpy as np\n",
    "\n",
    "#source : from 'csv' or 'database' ?\n",
    "\n",
    "#from csv\n",
    "\"\"\"\n",
    "ratings = pandas.read_csv('../data/ratings.csv', header=None).as_matrix()\t\n",
    "nb_users = ratings[:,0].max()+1\n",
    "nb_items = ratings[:,1].max()+1\n",
    "items = range(0,nb_items)\n",
    "\n",
    "\"\"\"\n",
    "\n",
    "#from database\n",
    "X, Y = [], []\n",
    "for user_id, work_id, choice in Rating.objects.values_list('user_id', 'work_id', 'choice'):\n",
    "\tX.append([user_id, work_id])\n",
    "\tY.append(rating_values[choice])\n",
    "X=np.asarray(X)\n",
    "nb_users = np.asarray(X)[:,0].max()+1\n",
    "nb_items = np.asarray(X)[:,1].max()+1\n",
    "items = range(0,nb_items)\n",
    "\n",
    "\n",
    "\n",
    "#2 fonctions donnant une matrice de départ user*item\n",
    "\"\"\"\n",
    "récupérer une matrice users*items avec les 1er nb_ratings de ratings.csv\n",
    "-soit SVD ayant pour rang rank\t\n",
    "-soit matrice creuse ayant pour coeff les ratings (creuse[i][j]=rating de l'utilisateur i pour l'oeuvre j)\n",
    "\"\"\"\n",
    "def get_matrix_svd(rank, nb_ratings):\n",
    "\tXpr = X[:nb_ratings,0:2]\n",
    "\tYpr = Y[:nb_ratings]\n",
    "\tsvd = MangakiSVD(rank) \n",
    "\tsvd.set_parameters(nb_users,nb_items)\n",
    "\tsvd.fit(Xpr,Ypr)\n",
    "\treturn svd.VT\n",
    "\n",
    "\n",
    "\n",
    "def get_matrix_csc(nb_ratings): \n",
    "\t\trow = X[:nb_ratings,0]\n",
    "\t\tcol = X[:nb_ratings,1]\n",
    "\t\tdata = np.array(Y[:nb_ratings])\n",
    "\t\tcreux = csc_matrix((data, (row, col)), shape=(nb_users, nb_items))\n",
    "\t\tcreuse = creux.toarray()\n",
    "\t\treturn creuse     \n",
    "\n",
    "\n",
    "#2 fonctions calculant des matrices de similarité\n",
    "\n",
    "#prendre en argument une metric car pas très intéressant car déjà tt fait en Python\n",
    "\n",
    "#option = 'cosine' pr 'jaccard'\n",
    "def similarity(matrix, option): # matrix: dimension nb_users x dimension nb_works\n",
    "    return 1 - squareform(pdist(matrix.T, metric=option))\n",
    "\t\n",
    "class MangakiUniform(object):\n",
    "\t\n",
    "\tdef __init__(self, nb_points):\n",
    "\t\tself.nb_points = nb_points\n",
    "\n",
    "\n",
    "\tdef sample_k(self,matrix_similarity):\n",
    "\t\tuniform_items = list(range(matrix_similarity.shape[0]))\n",
    "\t\trandom.shuffle(uniform_items)\n",
    "\t\treturn uniform_items[:self.nb_points]\n",
    "    \t\n",
    "\tdef __str__(self):\n",
    "\t\treturn 'uniform list, nb_points=%d' % self.nb_points\n",
    "\n",
    "class MangakiDPP(object):\n",
    "\n",
    "\tdef __init__(self, nb_points):\n",
    "\t\tself.nb_points = nb_points\n",
    "\n",
    "\n",
    "#n'a pas d'intérêt au final\n",
    "#TODO : delete\n",
    "#similarity_fn='jaccard' or 'coisine'\n",
    "#def fit(self, matrix, all_dataset=False): #obtention de la matrice de similarité\n",
    "#\tmatrix_fit=similarity(matrix, similarity_fn)\n",
    "#\treturn matrix_fit\n",
    "    \n",
    "#thanks to mehdidc on github\n",
    "# tirer au hasard des points\n",
    "#def sample_k(items, similiarity, k, max_nb_iterations=1000, rng=np.random):\n",
    "       #def sample_k(items, similiarity, k, max_nb_iterations=1000, rng=np.random):\n",
    "\tdef sample_k(self, items, L, k, max_nb_iterations=1000, rng=np.random):\n",
    "\t\n",
    "\t#Sample a list of k items from a DPP defined\n",
    "\t#by the similarity matrix L. The algorithm\n",
    "\t#is iterative and runs for max_nb_iterations.\n",
    "\t#The algorithm used is from\n",
    "\t#(Fast Determinantal Point Process Sampling withw\n",
    "\t#Application to Clustering, Byungkon Kang, NIPS 2013)\n",
    "\t\n",
    "\t\tinitial = rng.choice(range(len(items)), size=k, replace=False)\n",
    "\t\tX = [False] * len(items)\n",
    "\t\tfor i in initial:\n",
    "\t\t\tX[i] = True\n",
    "\t\tX = np.array(X)\n",
    "\t\tfor i in range(max_nb_iterations):\n",
    "\t\t\tu = rng.choice(np.arange(len(items))[X])\n",
    "\t\t\tv = rng.choice(np.arange(len(items))[~X])\n",
    "\t\t\tY = X.copy()\n",
    "\t\t\tY[u] = False\n",
    "\t\t\tL_Y = L[Y, :]\n",
    "\t\t\tL_Y = L_Y[:, Y]\n",
    "\t\t\tL_Y_inv = np.linalg.inv(L_Y)\n",
    "\n",
    "\t\t\tc_v = L[v:v+1, :]\n",
    "\t\t\tc_v = c_v[:, v:v+1]\n",
    "\t\t\tb_v = L[Y, :]\n",
    "\t\t\tb_v = b_v[:, v:v+1]\n",
    "\t\t\tc_u = L[u:u+1, :]\n",
    "\t\t\tc_u = c_u[:, u:u+1]\n",
    "\t\t\tb_u = L[Y, :]\n",
    "\t\t\tb_u = b_u[:, u:u+1]\n",
    "\n",
    "\t\t\tp = min(1, c_v - np.dot(np.dot(b_v.T, L_Y_inv), b_v) /\n",
    "\t              (c_u - np.dot(np.dot(b_u.T, L_Y_inv.T), b_u)))\n",
    "\t\t\tif rng.uniform() <= p:\n",
    "\t\t\t\tX = Y[:]\n",
    "\t\t\t\tX[v] = True\n",
    "\t\t\treturn np.array(items)[X]\n",
    "      \n",
    "    \n",
    "\tdef __str__(self):\n",
    "\t\treturn 'sample dpp list, nb_points=%d' % self.nb_points\n",
    "   \n",
    "\n",
    "# comparer : regarder la distance moyenne entre deux points, mesures de dispersion. Avoir un truc qui permet de faire le fit + lancer quelques milliers de samples et regarder la dispersion moyenne\n",
    "#ajouter des options : quels para de comparaison utilisés ? Diamètre d'ordre r (1 ou 0 ? ), somme de pdist, déterminant du squareform(pdsit) ?\n",
    "\n",
    "\n",
    "#(pdist(svd.VT[:,sampled_items].T)).sum()\n",
    "\n",
    "\"\"\"\n",
    "distance_sample = []\n",
    "distance_uniform = []\n",
    "et ds la boucle : \n",
    "distance_sample.append((pdist(svd.VT[:,sampled_items].T)).sum())\n",
    "distance_uniform.append((pdist(svd.VT[:,uniform_items].T)).sum())\n",
    "puis comparaison entre les deux listes d'une manière ou d'une autre\n",
    "\"\"\"\n",
    "\n",
    "\n",
    "#det de pdist : np.linalg.det(squareform(pdist(svd.VT[:,uniform_items].T, metric='cosine')))\n",
    "\n",
    "#diamètre d'ordre r : (ici 1 pr l'instant) \n",
    "\"\"\"\n",
    "n = len(sampled_items)\n",
    "coefficient_sample = 2/(n*(n-1))*(pdist(svd.VT[:,sampled_items].T).sum())\n",
    "\"\"\"\n",
    "\n",
    "\n",
    "\n",
    "\n",
    "def compare(type_get_matrix, nb_points, nb_iterations, nb_ratings):\n",
    "\tresults_uniform, results_sample_dpp=[], []\n",
    "\tif type_get_matrix=='svd':\n",
    "\n",
    "\t\tmatrix = get_matrix_svd(10, nb_ratings)\n",
    "\telse :\n",
    "\t\tmatrix = get_matrix_svd(10, nb_ratings)\n",
    "\tuniform = MangakiUniform(nb_points)\n",
    "\tdpp = MangakiDDP(matrix, similarity_fn='cosine')\n",
    "\tsimilarity = dpp.fit(matrix)\n",
    "\tindicateur = 0\n",
    "\tpb = 0\n",
    "\twhile indicateur != nb_iterations:\n",
    "    \n",
    "\t\ttry:\n",
    "\t\t\tsampled_items = dpp.sample_k(items, similarity, nb_points)\n",
    "        \n",
    "\n",
    "\t\texcept np.linalg.linalg.LinAlgError as err:\n",
    "\t\t\tpb = 1\n",
    "\t\tif pb==0:\n",
    "\t\t\tindicateur = indicateur+1\n",
    "        # cas où tt se passe bien, bloc où l'on exécute la comparaison\n",
    "\t\t\tuniform_items = uniform.sample_k(items, similarity, nb_points)\n",
    "        \t\n",
    "\t\t\tdet_uni=np.linalg.det(squareform(pdist(svd.VT[:,uniform_items].T, metric='cosine')))\n",
    "\t\t\tdet_dpp=np.linalg.det(squareform(pdist(svd.VT[:,sampled_items].T, metric='cosine')))\n",
    "        \t\n",
    "\t\t\tdiam_uni = 2/(nb_points*(nb_points-1))*(pdist(svd.VT[:,uniform_items].T).sum())\n",
    "\t\t\tdiam_dpp = 2/(nb_points*(nb_points-1))*(pdist(svd.VT[:,sampled_items].T).sum())\n",
    "\n",
    "\t\t\tresults_uniform.append([det_uni, diam_uni]) #à compléter : det et diamètre d'ordre r\n",
    "\t\t\tresults_sample_dpp.append([det_dpp, diam_dpp]) #à compléter : det et diamètre d'ordre r\n",
    "\t\telse :\n",
    "\t\t\tpb = 0"
   ]
  },
  {
   "cell_type": "code",
   "execution_count": 2,
   "metadata": {
    "collapsed": false
   },
   "outputs": [
    {
     "data": {
      "text/plain": [
       "array([[2087,    1],\n",
       "       [1994,    2],\n",
       "       [1994,    3],\n",
       "       ..., \n",
       "       [2026, 1384],\n",
       "       [2026, 9013],\n",
       "       [2026, 2257]])"
      ]
     },
     "execution_count": 2,
     "metadata": {},
     "output_type": "execute_result"
    }
   ],
   "source": [
    "X"
   ]
  },
  {
   "cell_type": "code",
   "execution_count": 4,
   "metadata": {
    "collapsed": false
   },
   "outputs": [],
   "source": [
    "#Y"
   ]
  },
  {
   "cell_type": "code",
   "execution_count": 3,
   "metadata": {
    "collapsed": false
   },
   "outputs": [
    {
     "data": {
      "text/plain": [
       "2100"
      ]
     },
     "execution_count": 3,
     "metadata": {},
     "output_type": "execute_result"
    }
   ],
   "source": [
    "nb_users"
   ]
  },
  {
   "cell_type": "code",
   "execution_count": 4,
   "metadata": {
    "collapsed": false
   },
   "outputs": [
    {
     "data": {
      "text/plain": [
       "14416"
      ]
     },
     "execution_count": 4,
     "metadata": {},
     "output_type": "execute_result"
    }
   ],
   "source": [
    "nb_items"
   ]
  },
  {
   "cell_type": "code",
   "execution_count": 6,
   "metadata": {
    "collapsed": false
   },
   "outputs": [
    {
     "name": "stdout",
     "output_type": "stream",
     "text": [
      "Computing M: (2100 × 14416)\n",
      "fill and center matrix [349 ms]\n",
      "Shapes (2100, 10) (10,) (10, 14416)\n",
      "factor matrix [64325 ms]\n"
     ]
    },
    {
     "data": {
      "text/plain": [
       "array([[ -4.76171693e-16,   1.01020483e-01,   5.93017784e-02, ...,\n",
       "         -0.00000000e+00,  -9.44467650e-05,  -1.60743802e-04],\n",
       "       [ -4.68550127e-15,  -1.83381462e-02,  -7.07910668e-03, ...,\n",
       "         -0.00000000e+00,  -1.13539014e-05,  -2.08125466e-03],\n",
       "       [  8.86429943e-14,  -9.75645378e-02,  -2.02313541e-03, ...,\n",
       "          0.00000000e+00,   1.00975773e-04,  -2.50413527e-03],\n",
       "       ..., \n",
       "       [ -9.62286895e-11,   9.94452876e-03,   4.81962899e-02, ...,\n",
       "          0.00000000e+00,   1.33213309e-04,   1.70693862e-02],\n",
       "       [ -2.70149909e-12,   4.34641981e-02,  -6.43504981e-02, ...,\n",
       "         -0.00000000e+00,  -2.40416928e-04,  -2.28896131e-03],\n",
       "       [  4.08080827e-10,   1.52707993e-02,   1.04863916e-01, ...,\n",
       "          0.00000000e+00,   3.21102824e-04,  -6.47039993e-03]])"
      ]
     },
     "execution_count": 6,
     "metadata": {},
     "output_type": "execute_result"
    }
   ],
   "source": [
    "matrix=get_matrix_svd(10)\n",
    "matrix"
   ]
  },
  {
   "cell_type": "code",
   "execution_count": 21,
   "metadata": {
    "collapsed": false
   },
   "outputs": [
    {
     "ename": "TypeError",
     "evalue": "get_matrix_csc() takes 0 positional arguments but 1 was given",
     "output_type": "error",
     "traceback": [
      "\u001b[1;31m---------------------------------------------------------------------------\u001b[0m",
      "\u001b[1;31mTypeError\u001b[0m                                 Traceback (most recent call last)",
      "\u001b[1;32m<ipython-input-21-e778761f8274>\u001b[0m in \u001b[0;36m<module>\u001b[1;34m()\u001b[0m\n\u001b[1;32m----> 1\u001b[1;33m \u001b[0mmatrix2\u001b[0m\u001b[1;33m=\u001b[0m\u001b[0mget_matrix_csc\u001b[0m\u001b[1;33m(\u001b[0m\u001b[0mlen\u001b[0m\u001b[1;33m(\u001b[0m\u001b[0mY\u001b[0m\u001b[1;33m)\u001b[0m\u001b[1;33m)\u001b[0m\u001b[1;33m\u001b[0m\u001b[0m\n\u001b[0m\u001b[0;32m      2\u001b[0m \u001b[0mget_matrix_csc\u001b[0m\u001b[1;33m(\u001b[0m\u001b[0mlen\u001b[0m\u001b[1;33m(\u001b[0m\u001b[0mY\u001b[0m\u001b[1;33m)\u001b[0m\u001b[1;33m)\u001b[0m\u001b[1;33m\u001b[0m\u001b[0m\n",
      "\u001b[1;31mTypeError\u001b[0m: get_matrix_csc() takes 0 positional arguments but 1 was given"
     ]
    }
   ],
   "source": [
    "matrix2=get_matrix_csc(len(Y))\n",
    "get_matrix_csc(len(Y))"
   ]
  },
  {
   "cell_type": "code",
   "execution_count": 22,
   "metadata": {
    "collapsed": false
   },
   "outputs": [
    {
     "data": {
      "text/plain": [
       "(10, 14416)"
      ]
     },
     "execution_count": 22,
     "metadata": {},
     "output_type": "execute_result"
    }
   ],
   "source": [
    "np.shape(matrix)"
   ]
  },
  {
   "cell_type": "code",
   "execution_count": 20,
   "metadata": {
    "collapsed": false
   },
   "outputs": [
    {
     "data": {
      "text/plain": [
       "(10, 10)"
      ]
     },
     "execution_count": 20,
     "metadata": {},
     "output_type": "execute_result"
    }
   ],
   "source": [
    "similarity1=similarity(matrix,'cosine')\n",
    "similarity1\n",
    "np.shape(similarity1)"
   ]
  },
  {
   "cell_type": "code",
   "execution_count": 10,
   "metadata": {
    "collapsed": false
   },
   "outputs": [
    {
     "data": {
      "text/plain": [
       "array([[ 1.        ,         nan,         nan, ...,         nan,\n",
       "                nan,         nan],\n",
       "       [        nan,  1.        ,         nan, ...,         nan,\n",
       "                nan,         nan],\n",
       "       [        nan,         nan,  1.        , ...,         nan,\n",
       "                nan,         nan],\n",
       "       ..., \n",
       "       [        nan,         nan,         nan, ...,  1.        ,\n",
       "         0.31942857,  0.48542846],\n",
       "       [        nan,         nan,         nan, ...,  0.31942857,\n",
       "         1.        ,  0.31879469],\n",
       "       [        nan,         nan,         nan, ...,  0.48542846,\n",
       "         0.31879469,  1.        ]])"
      ]
     },
     "execution_count": 10,
     "metadata": {},
     "output_type": "execute_result"
    }
   ],
   "source": [
    "#nan ...\n",
    "similarity(matrix2,'cosine')"
   ]
  },
  {
   "cell_type": "code",
   "execution_count": 98,
   "metadata": {
    "collapsed": false
   },
   "outputs": [
    {
     "data": {
      "text/plain": [
       "array([[ 1.,  0.,  0.,  0.,  0.,  0.,  0.,  0.,  0.,  0.],\n",
       "       [ 0.,  1.,  0.,  0.,  0.,  0.,  0.,  0.,  0.,  0.],\n",
       "       [ 0.,  0.,  1.,  0.,  0.,  0.,  0.,  0.,  0.,  0.],\n",
       "       [ 0.,  0.,  0.,  1.,  0.,  0.,  0.,  0.,  0.,  0.],\n",
       "       [ 0.,  0.,  0.,  0.,  1.,  0.,  0.,  0.,  0.,  0.],\n",
       "       [ 0.,  0.,  0.,  0.,  0.,  1.,  0.,  0.,  0.,  0.],\n",
       "       [ 0.,  0.,  0.,  0.,  0.,  0.,  1.,  0.,  0.,  0.],\n",
       "       [ 0.,  0.,  0.,  0.,  0.,  0.,  0.,  1.,  0.,  0.],\n",
       "       [ 0.,  0.,  0.,  0.,  0.,  0.,  0.,  0.,  1.,  0.],\n",
       "       [ 0.,  0.,  0.,  0.,  0.,  0.,  0.,  0.,  0.,  1.]])"
      ]
     },
     "execution_count": 98,
     "metadata": {},
     "output_type": "execute_result"
    }
   ],
   "source": [
    "similarity(matrix,'jaccard')#pb avec les ratings_values \n",
    "#à corriger ............"
   ]
  },
  {
   "cell_type": "code",
   "execution_count": null,
   "metadata": {
    "collapsed": true
   },
   "outputs": [],
   "source": [
    "#mauvaise idée\n",
    "#similarity(matrix2,'jaccard')"
   ]
  },
  {
   "cell_type": "code",
   "execution_count": 29,
   "metadata": {
    "collapsed": false
   },
   "outputs": [
    {
     "data": {
      "text/plain": [
       "[3648, 2514, 8126, 3155, 5299, 3170, 467, 3329, 4357, 167]"
      ]
     },
     "execution_count": 29,
     "metadata": {},
     "output_type": "execute_result"
    }
   ],
   "source": [
    "uniform_test=MangakiUniform(10)\n",
    "uniform_test.sample_k(similarity1)\n"
   ]
  },
  {
   "cell_type": "code",
   "execution_count": 17,
   "metadata": {
    "collapsed": false
   },
   "outputs": [
    {
     "name": "stderr",
     "output_type": "stream",
     "text": [
      "/home/voisin/mangaki/venv/lib/python3.4/site-packages/ipykernel/__main__.py:116: VisibleDeprecationWarning: boolean index did not match indexed array along dimension 0; dimension is 10 but corresponding boolean dimension is 14416\n",
      "\n"
     ]
    },
    {
     "ename": "IndexError",
     "evalue": "index 660 is out of bounds for axis 0 with size 10",
     "output_type": "error",
     "traceback": [
      "\u001b[1;31m---------------------------------------------------------------------------\u001b[0m",
      "\u001b[1;31mIndexError\u001b[0m                                Traceback (most recent call last)",
      "\u001b[1;32m<ipython-input-17-3eb26e8a5dc3>\u001b[0m in \u001b[0;36m<module>\u001b[1;34m()\u001b[0m\n\u001b[0;32m      1\u001b[0m \u001b[0mitems\u001b[0m \u001b[1;33m=\u001b[0m \u001b[0mrange\u001b[0m\u001b[1;33m(\u001b[0m\u001b[1;36m0\u001b[0m\u001b[1;33m,\u001b[0m\u001b[0mnb_items\u001b[0m\u001b[1;33m)\u001b[0m\u001b[1;33m\u001b[0m\u001b[0m\n\u001b[0;32m      2\u001b[0m \u001b[0mdpp_test\u001b[0m\u001b[1;33m=\u001b[0m\u001b[0mMangakiDPP\u001b[0m\u001b[1;33m(\u001b[0m\u001b[1;36m10\u001b[0m\u001b[1;33m)\u001b[0m\u001b[1;33m\u001b[0m\u001b[0m\n\u001b[1;32m----> 3\u001b[1;33m \u001b[0mdpp_test\u001b[0m\u001b[1;33m.\u001b[0m\u001b[0msample_k\u001b[0m\u001b[1;33m(\u001b[0m\u001b[0mitems\u001b[0m\u001b[1;33m,\u001b[0m\u001b[0msimilarity1\u001b[0m\u001b[1;33m,\u001b[0m\u001b[1;36m10\u001b[0m\u001b[1;33m)\u001b[0m\u001b[1;33m\u001b[0m\u001b[0m\n\u001b[0m",
      "\u001b[1;32m<ipython-input-1-6407b6f316b8>\u001b[0m in \u001b[0;36msample_k\u001b[1;34m(self, items, L, k, max_nb_iterations, rng)\u001b[0m\n\u001b[0;32m    114\u001b[0m                         \u001b[0mY\u001b[0m \u001b[1;33m=\u001b[0m \u001b[0mX\u001b[0m\u001b[1;33m.\u001b[0m\u001b[0mcopy\u001b[0m\u001b[1;33m(\u001b[0m\u001b[1;33m)\u001b[0m\u001b[1;33m\u001b[0m\u001b[0m\n\u001b[0;32m    115\u001b[0m                         \u001b[0mY\u001b[0m\u001b[1;33m[\u001b[0m\u001b[0mu\u001b[0m\u001b[1;33m]\u001b[0m \u001b[1;33m=\u001b[0m \u001b[1;32mFalse\u001b[0m\u001b[1;33m\u001b[0m\u001b[0m\n\u001b[1;32m--> 116\u001b[1;33m                         \u001b[0mL_Y\u001b[0m \u001b[1;33m=\u001b[0m \u001b[0mL\u001b[0m\u001b[1;33m[\u001b[0m\u001b[0mY\u001b[0m\u001b[1;33m,\u001b[0m \u001b[1;33m:\u001b[0m\u001b[1;33m]\u001b[0m\u001b[1;33m\u001b[0m\u001b[0m\n\u001b[0m\u001b[0;32m    117\u001b[0m                         \u001b[0mL_Y\u001b[0m \u001b[1;33m=\u001b[0m \u001b[0mL_Y\u001b[0m\u001b[1;33m[\u001b[0m\u001b[1;33m:\u001b[0m\u001b[1;33m,\u001b[0m \u001b[0mY\u001b[0m\u001b[1;33m]\u001b[0m\u001b[1;33m\u001b[0m\u001b[0m\n\u001b[0;32m    118\u001b[0m                         \u001b[0mL_Y_inv\u001b[0m \u001b[1;33m=\u001b[0m \u001b[0mnp\u001b[0m\u001b[1;33m.\u001b[0m\u001b[0mlinalg\u001b[0m\u001b[1;33m.\u001b[0m\u001b[0minv\u001b[0m\u001b[1;33m(\u001b[0m\u001b[0mL_Y\u001b[0m\u001b[1;33m)\u001b[0m\u001b[1;33m\u001b[0m\u001b[0m\n",
      "\u001b[1;31mIndexError\u001b[0m: index 660 is out of bounds for axis 0 with size 10"
     ]
    }
   ],
   "source": [
    "items = range(0,nb_items)\n",
    "dpp_test=MangakiDPP(10)\n",
    "dpp_test.sample_k(items,similarity1,10)"
   ]
  },
  {
   "cell_type": "code",
   "execution_count": null,
   "metadata": {
    "collapsed": true
   },
   "outputs": [],
   "source": []
  },
  {
   "cell_type": "code",
   "execution_count": null,
   "metadata": {
    "collapsed": true
   },
   "outputs": [],
   "source": []
  },
  {
   "cell_type": "code",
   "execution_count": null,
   "metadata": {
    "collapsed": true
   },
   "outputs": [],
   "source": []
  },
  {
   "cell_type": "code",
   "execution_count": null,
   "metadata": {
    "collapsed": true
   },
   "outputs": [],
   "source": []
  },
  {
   "cell_type": "code",
   "execution_count": null,
   "metadata": {
    "collapsed": true
   },
   "outputs": [],
   "source": []
  },
  {
   "cell_type": "code",
   "execution_count": null,
   "metadata": {
    "collapsed": true
   },
   "outputs": [],
   "source": []
  },
  {
   "cell_type": "code",
   "execution_count": 108,
   "metadata": {
    "collapsed": false
   },
   "outputs": [
    {
     "ename": "NameError",
     "evalue": "name 'svd' is not defined",
     "output_type": "error",
     "traceback": [
      "\u001b[1;31m---------------------------------------------------------------------------\u001b[0m",
      "\u001b[1;31mNameError\u001b[0m                                 Traceback (most recent call last)",
      "\u001b[1;32m<ipython-input-108-9a12c7633cb5>\u001b[0m in \u001b[0;36m<module>\u001b[1;34m()\u001b[0m\n\u001b[0;32m      4\u001b[0m     \u001b[1;32mreturn\u001b[0m \u001b[1;36m1\u001b[0m \u001b[1;33m-\u001b[0m \u001b[0msquareform\u001b[0m\u001b[1;33m(\u001b[0m\u001b[0mpdist\u001b[0m\u001b[1;33m(\u001b[0m\u001b[0mSVD\u001b[0m\u001b[1;33m.\u001b[0m\u001b[0mT\u001b[0m\u001b[1;33m,\u001b[0m \u001b[0mmetric\u001b[0m\u001b[1;33m=\u001b[0m\u001b[1;34m'cosine'\u001b[0m\u001b[1;33m)\u001b[0m\u001b[1;33m)\u001b[0m\u001b[1;33m\u001b[0m\u001b[0m\n\u001b[0;32m      5\u001b[0m \u001b[1;33m\u001b[0m\u001b[0m\n\u001b[1;32m----> 6\u001b[1;33m \u001b[0msimilarity\u001b[0m\u001b[1;33m=\u001b[0m\u001b[0mcompute_similarity_coisine\u001b[0m\u001b[1;33m(\u001b[0m\u001b[0msvd\u001b[0m\u001b[1;33m.\u001b[0m\u001b[0mVT\u001b[0m\u001b[1;33m)\u001b[0m\u001b[1;33m\u001b[0m\u001b[0m\n\u001b[0m",
      "\u001b[1;31mNameError\u001b[0m: name 'svd' is not defined"
     ]
    }
   ],
   "source": [
    "from scipy.spatial.distance import pdist, squareform\n",
    "\n",
    "def compute_similarity_coisine(SVD):\n",
    "    return 1 - squareform(pdist(SVD.T, metric='cosine'))\n",
    "\n",
    "similarity=compute_similarity_coisine()"
   ]
  },
  {
   "cell_type": "code",
   "execution_count": 105,
   "metadata": {
    "collapsed": true
   },
   "outputs": [],
   "source": [
    "def sample_k(items, L, k, max_nb_iterations=1000, rng=np.random):\n",
    "    \"\"\"\n",
    "    Sample a list of k items from a DPP defined\n",
    "    by the similarity matrix L. The algorithm\n",
    "    is iterative and runs for max_nb_iterations.\n",
    "    The algorithm used is from\n",
    "    (Fast Determinantal Point Process Sampling withw\n",
    "    Application to Clustering, Byungkon Kang, NIPS 2013)\n",
    "    \"\"\"\n",
    "    initial = rng.choice(range(len(items)), size=k, replace=False)\n",
    "    X = [False] * len(items)\n",
    "    for i in initial:\n",
    "        X[i] = True\n",
    "    X = np.array(X)\n",
    "    for i in range(max_nb_iterations):\n",
    "        u = rng.choice(np.arange(len(items))[X])\n",
    "        v = rng.choice(np.arange(len(items))[~X])\n",
    "        Y = X.copy()\n",
    "        Y[u] = False\n",
    "        L_Y = L[Y, :]\n",
    "        L_Y = L_Y[:, Y]\n",
    "        L_Y_inv = np.linalg.inv(L_Y)\n",
    "\n",
    "        c_v = L[v:v+1, :]\n",
    "        c_v = c_v[:, v:v+1]\n",
    "        b_v = L[Y, :]\n",
    "        b_v = b_v[:, v:v+1]\n",
    "        c_u = L[u:u+1, :]\n",
    "        c_u = c_u[:, u:u+1]\n",
    "        b_u = L[Y, :]\n",
    "        b_u = b_u[:, u:u+1]\n",
    "\n",
    "        p = min(1, c_v - np.dot(np.dot(b_v.T, L_Y_inv), b_v) /\n",
    "                (c_u - np.dot(np.dot(b_u.T, L_Y_inv.T), b_u)))\n",
    "        if rng.uniform() <= p:\n",
    "            X = Y[:]\n",
    "            X[v] = True\n",
    "    return np.array(items)[X]"
   ]
  },
  {
   "cell_type": "code",
   "execution_count": 1,
   "metadata": {
    "collapsed": false
   },
   "outputs": [
    {
     "ename": "NameError",
     "evalue": "name 'sample_k' is not defined",
     "output_type": "error",
     "traceback": [
      "\u001b[1;31m---------------------------------------------------------------------------\u001b[0m",
      "\u001b[1;31mNameError\u001b[0m                                 Traceback (most recent call last)",
      "\u001b[1;32m<ipython-input-1-78b8a778e9e6>\u001b[0m in \u001b[0;36m<module>\u001b[1;34m()\u001b[0m\n\u001b[1;32m----> 1\u001b[1;33m \u001b[0msample_k\u001b[0m\u001b[1;33m(\u001b[0m\u001b[0mitems\u001b[0m\u001b[1;33m,\u001b[0m\u001b[0msimilarity1\u001b[0m\u001b[1;33m,\u001b[0m\u001b[1;36m10\u001b[0m\u001b[1;33m)\u001b[0m\u001b[1;33m\u001b[0m\u001b[0m\n\u001b[0m",
      "\u001b[1;31mNameError\u001b[0m: name 'sample_k' is not defined"
     ]
    }
   ],
   "source": [
    "sample_k(items,similarity1,10)\n"
   ]
  },
  {
   "cell_type": "code",
   "execution_count": null,
   "metadata": {
    "collapsed": true
   },
   "outputs": [],
   "source": []
  },
  {
   "cell_type": "code",
   "execution_count": null,
   "metadata": {
    "collapsed": true
   },
   "outputs": [],
   "source": []
  },
  {
   "cell_type": "code",
   "execution_count": null,
   "metadata": {
    "collapsed": true
   },
   "outputs": [],
   "source": []
  },
  {
   "cell_type": "code",
   "execution_count": null,
   "metadata": {
    "collapsed": true
   },
   "outputs": [],
   "source": []
  },
  {
   "cell_type": "code",
   "execution_count": 21,
   "metadata": {
    "collapsed": false
   },
   "outputs": [
    {
     "data": {
      "text/plain": [
       "range(0, 8347)"
      ]
     },
     "execution_count": 21,
     "metadata": {},
     "output_type": "execute_result"
    }
   ],
   "source": [
    "from mangaki.utils.svd import MangakiSVD\n",
    "import numpy as np\n",
    "import pandas \n",
    "from mangaki.utils.values import rating_values\n",
    "ratings = pandas.read_csv('../data/ratings.csv', header=None).as_matrix()\t\n",
    "nb_users = ratings[:,0].max()+1\n",
    "nb_items = ratings[:,1].max()+1\n",
    "items = range(0,nb_items)\n",
    "items\n"
   ]
  },
  {
   "cell_type": "code",
   "execution_count": 19,
   "metadata": {
    "collapsed": false
   },
   "outputs": [
    {
     "name": "stdout",
     "output_type": "stream",
     "text": [
      "Computing M: (1710 × 8347)\n",
      "fill and center matrix [1223 ms]\n",
      "Shapes (1710, 10) (10,) (10, 8347)\n",
      "factor matrix [28501 ms]\n"
     ]
    }
   ],
   "source": [
    "svd =MangakiSVD(10)\n",
    "X=ratings[:,0:2]\n",
    "Y=[rating_values[rating] for rating in ratings[:,2]]\n",
    "nb_users=X[:,0].max()+1\n",
    "nb_items=X[:,1].max()+1\n",
    "svd.set_parameters(nb_users,nb_items)\n",
    "svd.fit(X,Y)"
   ]
  },
  {
   "cell_type": "code",
   "execution_count": null,
   "metadata": {
    "collapsed": true
   },
   "outputs": [],
   "source": []
  },
  {
   "cell_type": "code",
   "execution_count": 16,
   "metadata": {
    "collapsed": false
   },
   "outputs": [
    {
     "data": {
      "text/plain": [
       "(8347, 8347)"
      ]
     },
     "execution_count": 16,
     "metadata": {},
     "output_type": "execute_result"
    }
   ],
   "source": [
    "matrix=svd.VT\n",
    "similarity1=similarity(matrix,'cosine')\n",
    "similarity1\n",
    "np.shape(similarity1)"
   ]
  },
  {
   "cell_type": "code",
   "execution_count": null,
   "metadata": {
    "collapsed": true
   },
   "outputs": [],
   "source": [
    "similarity"
   ]
  },
  {
   "cell_type": "code",
   "execution_count": 17,
   "metadata": {
    "collapsed": false
   },
   "outputs": [
    {
     "data": {
      "text/plain": [
       "[1002, 6276, 3214, 749, 479, 7350, 8194, 880, 1092, 5265]"
      ]
     },
     "execution_count": 17,
     "metadata": {},
     "output_type": "execute_result"
    }
   ],
   "source": [
    "uniform_test=MangakiUniform(10)\n",
    "uniform_test.sample_k(similarity1)"
   ]
  },
  {
   "cell_type": "code",
   "execution_count": 23,
   "metadata": {
    "collapsed": false
   },
   "outputs": [
    {
     "data": {
      "text/plain": [
       "array([  13,  677,  886, 2217, 5185, 5411, 5592, 6072, 6292, 7165])"
      ]
     },
     "execution_count": 23,
     "metadata": {},
     "output_type": "execute_result"
    }
   ],
   "source": [
    "items = range(0,nb_items)\n",
    "dpp_test=MangakiDPP(10)\n",
    "dpp_test.sample_k(items,similarity1,10)\n"
   ]
  },
  {
   "cell_type": "code",
   "execution_count": 34,
   "metadata": {
    "collapsed": false
   },
   "outputs": [],
   "source": [
    "results_uniform, results_sample_dpp=[], []\n",
    "\n",
    "nb_iterations=1000\n",
    "nb_points=10\n",
    "\n",
    "indicateur = 0\n",
    "pb = 0\n",
    "while indicateur != nb_iterations:\n",
    "    \n",
    "\ttry:\n",
    "\t\tsampled_items = dpp_test.sample_k(items, similarity1, nb_points)\n",
    "        \n",
    "\n",
    "\texcept np.linalg.linalg.LinAlgError as err:\n",
    "\t\tpb = 1\n",
    "\tif pb==0:\n",
    "\t\tindicateur = indicateur+1\n",
    "        # cas où tt se passe bien, bloc où l'on exécute la comparaison\n",
    "\t\tuniform_items = uniform_test.sample_k(similarity1)\n",
    "        \t\n",
    "\t\tdet_uni=np.linalg.det(squareform(pdist(svd.VT[:,uniform_items].T, metric='cosine')))\n",
    "\t\tdet_dpp=np.linalg.det(squareform(pdist(svd.VT[:,sampled_items].T, metric='cosine')))\n",
    "        \t\n",
    "\t\tdiam_uni = 2/(nb_points*(nb_points-1))*(pdist(svd.VT[:,uniform_items].T).sum())\n",
    "\t\tdiam_dpp = 2/(nb_points*(nb_points-1))*(pdist(svd.VT[:,sampled_items].T).sum())\n",
    "\n",
    "\t\tresults_uniform.append([det_uni, diam_uni]) #à compléter : det et diamètre d'ordre r\n",
    "\t\tresults_sample_dpp.append([det_dpp, diam_dpp]) #à compléter : det et diamètre d'ordre r\n",
    "\telse :\n",
    "\t\tpb = 0\n",
    "    "
   ]
  },
  {
   "cell_type": "code",
   "execution_count": 36,
   "metadata": {
    "collapsed": false
   },
   "outputs": [
    {
     "data": {
      "text/plain": [
       "[[-0.0010697073094202299, 0.019985279712718632],\n",
       " [0.0, 0.017093562650982972],\n",
       " [0.0, 0.014194468949938026],\n",
       " [-0.00050062360734603887, 0.052535853203791602],\n",
       " [-0.012483029388253493, 0.026240200979621077],\n",
       " [-0.019438381268891358, 0.047878581984790239],\n",
       " [0.0, 0.033863021726689729],\n",
       " [-6.5012795131765482e-07, 0.027729163930426928],\n",
       " [nan, 0.017394497854456716],\n",
       " [-0.00086948202085870212, 0.035598514641724276]]"
      ]
     },
     "execution_count": 36,
     "metadata": {},
     "output_type": "execute_result"
    }
   ],
   "source": [
    "results_uniform[:10]\n",
    "\n"
   ]
  },
  {
   "cell_type": "code",
   "execution_count": 38,
   "metadata": {
    "collapsed": false
   },
   "outputs": [
    {
     "data": {
      "text/plain": [
       "[[1.5447003990362022e-23, 0.01491703199029361],\n",
       " [-0.00063782807716318871, 0.018012786525769924],\n",
       " [-1.6328876558204219e-05, 0.017274596818214524],\n",
       " [-0.00090210557893651369, 0.013842650166151079],\n",
       " [-0.00034127366989724213, 0.030563847391876245],\n",
       " [-3.4092771508284516e-05, 0.024015104831022475],\n",
       " [-0.00031771831225448506, 0.01962054171020635],\n",
       " [-8.2099903564533512e-05, 0.0066761355590561388],\n",
       " [-0.00040741906229073356, 0.022249292971728788],\n",
       " [-1.1577956828292742e-09, 0.015735837614340119]]"
      ]
     },
     "execution_count": 38,
     "metadata": {},
     "output_type": "execute_result"
    }
   ],
   "source": [
    "results_sample_dpp[:10]"
   ]
  },
  {
   "cell_type": "code",
   "execution_count": 47,
   "metadata": {
    "collapsed": false
   },
   "outputs": [
    {
     "data": {
      "text/plain": [
       "1.5447003990362022e-23"
      ]
     },
     "execution_count": 47,
     "metadata": {},
     "output_type": "execute_result"
    }
   ],
   "source": [
    "np.asarray(results_sample_dpp)[:10,0]\n",
    "np.asarray(results_sample_dpp)[0,0]"
   ]
  },
  {
   "cell_type": "code",
   "execution_count": 49,
   "metadata": {
    "collapsed": false
   },
   "outputs": [
    {
     "data": {
      "text/plain": [
       "nan"
      ]
     },
     "execution_count": 49,
     "metadata": {},
     "output_type": "execute_result"
    }
   ],
   "source": [
    "sum_det_sample=0\n",
    "for i in range(0,nb_iterations):\n",
    "    sum_det_sample=sum_det_sample+np.asarray(results_sample_dpp)[i,0]\n",
    "sum_det_sample"
   ]
  },
  {
   "cell_type": "code",
   "execution_count": 50,
   "metadata": {
    "collapsed": false
   },
   "outputs": [
    {
     "data": {
      "text/plain": [
       "nan"
      ]
     },
     "execution_count": 50,
     "metadata": {},
     "output_type": "execute_result"
    }
   ],
   "source": [
    "sum_det_uni=0\n",
    "for i in range(0,nb_iterations):\n",
    "    sum_det_uni=sum_det_uni+np.asarray(results_uniform)[i,0]\n",
    "\n",
    "sum_det_uni"
   ]
  },
  {
   "cell_type": "code",
   "execution_count": 52,
   "metadata": {
    "collapsed": false
   },
   "outputs": [
    {
     "data": {
      "text/plain": [
       "31.155883169098693"
      ]
     },
     "execution_count": 52,
     "metadata": {},
     "output_type": "execute_result"
    }
   ],
   "source": [
    "sum_diam_sample=0\n",
    "for i in range(0,nb_iterations):\n",
    "    sum_diam_sample=sum_diam_sample+np.asarray(results_sample_dpp)[i,1]\n",
    "sum_diam_sample"
   ]
  },
  {
   "cell_type": "code",
   "execution_count": 55,
   "metadata": {
    "collapsed": false
   },
   "outputs": [
    {
     "data": {
      "text/plain": [
       "30.124278998810983"
      ]
     },
     "execution_count": 55,
     "metadata": {},
     "output_type": "execute_result"
    }
   ],
   "source": [
    "sum_diam_uni=0\n",
    "for i in range(0,nb_iterations):\n",
    "    sum_diam_uni=sum_diam_uni+np.asarray(results_uniform)[i,1]\n",
    "\n",
    "sum_diam_uni"
   ]
  },
  {
   "cell_type": "code",
   "execution_count": 57,
   "metadata": {
    "collapsed": true
   },
   "outputs": [],
   "source": [
    "#vérif bien le bon nombre d'itérations \n",
    "results_uniform, results_sample_dpp=[], []\n",
    "\n",
    "nb_iterations=5\n",
    "nb_points=10\n",
    "\n",
    "indicateur = 0\n",
    "pb = 0\n",
    "while indicateur != nb_iterations:\n",
    "    \n",
    "\ttry:\n",
    "\t\tsampled_items = dpp_test.sample_k(items, similarity1, nb_points)\n",
    "        \n",
    "\n",
    "\texcept np.linalg.linalg.LinAlgError as err:\n",
    "\t\tpb = 1\n",
    "\tif pb==0:\n",
    "\t\tindicateur = indicateur+1\n",
    "        # cas où tt se passe bien, bloc où l'on exécute la comparaison\n",
    "\t\tuniform_items = uniform_test.sample_k(similarity1)\n",
    "        \t\n",
    "\t\tdet_uni=np.linalg.det(squareform(pdist(svd.VT[:,uniform_items].T, metric='cosine')))\n",
    "\t\tdet_dpp=np.linalg.det(squareform(pdist(svd.VT[:,sampled_items].T, metric='cosine')))\n",
    "        \t\n",
    "\t\tdiam_uni = 2/(nb_points*(nb_points-1))*(pdist(svd.VT[:,uniform_items].T).sum())\n",
    "\t\tdiam_dpp = 2/(nb_points*(nb_points-1))*(pdist(svd.VT[:,sampled_items].T).sum())\n",
    "\n",
    "\t\tresults_uniform.append([det_uni, diam_uni]) #à compléter : det et diamètre d'ordre r\n",
    "\t\tresults_sample_dpp.append([det_dpp, diam_dpp]) #à compléter : det et diamètre d'ordre r\n",
    "\telse :\n",
    "\t\tpb = 0\n",
    "    "
   ]
  },
  {
   "cell_type": "code",
   "execution_count": 59,
   "metadata": {
    "collapsed": false
   },
   "outputs": [
    {
     "data": {
      "text/plain": [
       "[[-0.0027586541846090946, 0.060292799006848224],\n",
       " [-4.5460223621872059e-05, 0.037927712594586639],\n",
       " [-0.049792730748434391, 0.047527250550762144],\n",
       " [-1.3064415931875985e-05, 0.02791814545724362],\n",
       " [nan, 0.016465710002629003]]"
      ]
     },
     "execution_count": 59,
     "metadata": {},
     "output_type": "execute_result"
    }
   ],
   "source": [
    "results_uniform\n"
   ]
  },
  {
   "cell_type": "code",
   "execution_count": 60,
   "metadata": {
    "collapsed": false
   },
   "outputs": [
    {
     "data": {
      "text/plain": [
       "[[-3.3195959025805404e-06, 0.040052104648133892],\n",
       " [-0.0046955933288646652, 0.027094018270038822],\n",
       " [-6.9400692878438767e-05, 0.022760504324026567],\n",
       " [-0.0027175927281073839, 0.023634232419756818],\n",
       " [-0.0001888625200747879, 0.054839556397156999]]"
      ]
     },
     "execution_count": 60,
     "metadata": {},
     "output_type": "execute_result"
    }
   ],
   "source": [
    "results_sample_dpp"
   ]
  }
 ],
 "metadata": {
  "kernelspec": {
   "display_name": "Django Shell-Plus",
   "language": "python",
   "name": "django_extensions"
  },
  "language_info": {
   "codemirror_mode": {
    "name": "ipython",
    "version": 3
   },
   "file_extension": ".py",
   "mimetype": "text/x-python",
   "name": "python",
   "nbconvert_exporter": "python",
   "pygments_lexer": "ipython3",
   "version": "3.4.3"
  }
 },
 "nbformat": 4,
 "nbformat_minor": 0
}

{
 "cells": [
  {
   "cell_type": "code",
   "execution_count": 2,
   "metadata": {
    "collapsed": true
   },
   "outputs": [],
   "source": [
    "from scipy.sparse import csc_matrix\n",
    "from scipy.spatial.distance import pdist, squareform\n",
    "from mangaki.utils.svd import MangakiSVD\n",
    "from mangaki.utils.values import rating_values\n",
    "from mangaki.models import Rating\n",
    "import pandas, random\n",
    "import numpy as np"
   ]
  },
  {
   "cell_type": "code",
   "execution_count": 4,
   "metadata": {
    "collapsed": false
   },
   "outputs": [
    {
     "data": {
      "text/plain": [
       "2100"
      ]
     },
     "execution_count": 4,
     "metadata": {},
     "output_type": "execute_result"
    }
   ],
   "source": [
    "#si l'on veut sauvegarder les données et connaître le nbre de users et d'items\n",
    "################################################ tests en gros qui m'ont permis de faire des vérifications\n",
    "new_file = open(\"../data/ratings_essai.csv\",\"w\")\n",
    "for user_id, work_id, choice in Rating.objects.values_list('user_id', 'work_id', 'choice'):\n",
    "    new_file.write(\"%d,%d,%s\\n\" %(user_id, work_id, choice))\n",
    "\n",
    "new_file.close()\n",
    "from mangaki.utils.svd import MangakiSVD\n",
    "import numpy as np\n",
    "import pandas \n",
    "from mangaki.utils.values import rating_values\n",
    "\n",
    "ratings = pandas.read_csv('../data/ratings_essai.csv', header=None).as_matrix()\n",
    "X=ratings[:,0:2]\n",
    "nb_users=X[:,0].max()+1\n",
    "nb_items=X[:,1].max()+1\n",
    "nb_items\n",
    "nb_users\n"
   ]
  },
  {
   "cell_type": "code",
   "execution_count": 153,
   "metadata": {
    "collapsed": false
   },
   "outputs": [],
   "source": [
    "class SimilarityMatrix(object):\n",
    "\t#def __init__(self):\n",
    "\t#\tpass\n",
    "\n",
    "#à changer ds dpp.py : chemin d'accès pr ratings.csv\n",
    "#option nb_ratins, nb_user ou nb_items ? \n",
    "#option : 'csv' or 'database'\n",
    "\tdef make_matrix(self, option_data):\n",
    "\t\t\n",
    "        \n",
    "        \n",
    "    #def make_matrix(self, option_data, nb_users, nb_items, nb_ratings):\n",
    "#\t\tself.nb_users = nb_users\n",
    "#\t\tself.nb_items = nb_items\n",
    "#\t\tself.nb_ratings=nb_ratings\n",
    "\t\tif option_data=='database':\n",
    "\t\t\tcontent=Rating.objects.values_list('user_id', 'work_id', 'choice')\n",
    "\t\t\tuser_items=[(content[i][0], content[i][1]) for i in range(len(content))]\n",
    "\t\t\tuser_set, item_set=set(), set()\n",
    "\t\t\tfor user_id, item_id in Rating.objects.values_list('user_id', 'work_id'):\n",
    "\t\t\t\tuser_set.add(user_id)\n",
    "\t\t\t\titem_set.add(item_id) \n",
    "\t\telse :\n",
    "\t\t\tcontent = pandas.read_csv('../data/ratings.csv', header=None).as_matrix()\n",
    "            #user_items=[content\n",
    "\t\t\t#nb_users_csv = content[:,0].max()+1\n",
    "\t\t\t#nb_items_csv = content[:,1].max()+1\n",
    "\t\t\tuser_set, item_set=set(), set()\n",
    "\t\t\tfor user_id, item_id in content[:,0:2]:\n",
    "\t\t\t\tuser_set.add(user_id)\n",
    "\t\t\t\titem_set.add(item_id) \n",
    "\t\t\n",
    "\t\tuser_dict= {v:k for k,v in enumerate(user_set)}\n",
    "        \n",
    "\n",
    "\t\titem_dict= {v:k for k,v in enumerate(item_set)}\n",
    "\t\tmatrix = np.zeros((len(user_set), len(item_set)), dtype=np.float64)\n",
    "\t\tfor user_id, item_id, choice in content:\n",
    "\t\t\tmatrix[user_dict[user_id], item_dict[item_id]] = rating_values[choice]\n",
    "               \n",
    "        \n",
    "\t\tself.user_dict = user_dict\n",
    "\t\tself.item_dict = item_dict\n",
    "        \n",
    "\t\tself.matrix = matrix\n",
    "\t\t\n",
    "        \n",
    "    #option='cosine', voir fonctions de dpp.py\n",
    "\tdef make_similarity_matrix(self, option):\n",
    "\t\tpass\n",
    "\n",
    "\t#def __str__(self):\n",
    "\t#\treturn ''\n",
    "\n",
    "    \n",
    "    \n",
    "    \n",
    "#items = range(0,nb_works)"
   ]
  },
  {
   "cell_type": "code",
   "execution_count": 126,
   "metadata": {
    "collapsed": true
   },
   "outputs": [],
   "source": [
    "a=SimilarityMatrix()"
   ]
  },
  {
   "cell_type": "code",
   "execution_count": 132,
   "metadata": {
    "collapsed": false
   },
   "outputs": [
    {
     "data": {
      "text/plain": [
       "(182, 4271)"
      ]
     },
     "execution_count": 132,
     "metadata": {},
     "output_type": "execute_result"
    }
   ],
   "source": [
    "#modif à faire ...\n",
    "a.make_matrix('database')\n",
    "np.shape(a.matrix)\n",
    "#a.matrix\n",
    "np.shape(a.matrix)\n",
    "#a.item_dict\n",
    "#a.user_dict"
   ]
  },
  {
   "cell_type": "code",
   "execution_count": 162,
   "metadata": {
    "collapsed": false
   },
   "outputs": [
    {
     "ename": "UnboundLocalError",
     "evalue": "local variable 'content' referenced before assignment",
     "output_type": "error",
     "traceback": [
      "\u001b[1;31m---------------------------------------------------------------------------\u001b[0m",
      "\u001b[1;31mUnboundLocalError\u001b[0m                         Traceback (most recent call last)",
      "\u001b[1;32m<ipython-input-162-4eef26db23b8>\u001b[0m in \u001b[0;36m<module>\u001b[1;34m()\u001b[0m\n\u001b[0;32m      1\u001b[0m \u001b[0ma\u001b[0m\u001b[1;33m=\u001b[0m\u001b[0mSimilarityMatrix\u001b[0m\u001b[1;33m(\u001b[0m\u001b[1;33m)\u001b[0m\u001b[1;33m\u001b[0m\u001b[0m\n\u001b[1;32m----> 2\u001b[1;33m \u001b[0ma\u001b[0m\u001b[1;33m.\u001b[0m\u001b[0mmake_matrix\u001b[0m\u001b[1;33m(\u001b[0m\u001b[1;34m'ratings'\u001b[0m\u001b[1;33m)\u001b[0m\u001b[1;33m\u001b[0m\u001b[0m\n\u001b[0m\u001b[0;32m      3\u001b[0m \u001b[0mnp\u001b[0m\u001b[1;33m.\u001b[0m\u001b[0mshape\u001b[0m\u001b[1;33m(\u001b[0m\u001b[0ma\u001b[0m\u001b[1;33m.\u001b[0m\u001b[0mmatrix\u001b[0m\u001b[1;33m)\u001b[0m\u001b[1;33m\u001b[0m\u001b[0m\n\u001b[0;32m      4\u001b[0m \u001b[1;31m#a.matrix\u001b[0m\u001b[1;33m\u001b[0m\u001b[1;33m\u001b[0m\u001b[0m\n\u001b[0;32m      5\u001b[0m \u001b[1;31m#a.item_dict\u001b[0m\u001b[1;33m\u001b[0m\u001b[1;33m\u001b[0m\u001b[0m\n",
      "\u001b[1;32m<ipython-input-161-6e96ccb9f5d4>\u001b[0m in \u001b[0;36mmake_matrix\u001b[1;34m(self, option_data)\u001b[0m\n\u001b[0;32m     29\u001b[0m                 \u001b[0mitem_dict\u001b[0m\u001b[1;33m=\u001b[0m \u001b[1;33m{\u001b[0m\u001b[0mv\u001b[0m\u001b[1;33m:\u001b[0m\u001b[0mk\u001b[0m \u001b[1;32mfor\u001b[0m \u001b[0mk\u001b[0m\u001b[1;33m,\u001b[0m\u001b[0mv\u001b[0m \u001b[1;32min\u001b[0m \u001b[0menumerate\u001b[0m\u001b[1;33m(\u001b[0m\u001b[0mitem_set\u001b[0m\u001b[1;33m)\u001b[0m\u001b[1;33m}\u001b[0m\u001b[1;33m\u001b[0m\u001b[0m\n\u001b[0;32m     30\u001b[0m                 \u001b[0mmatrix\u001b[0m \u001b[1;33m=\u001b[0m \u001b[0mnp\u001b[0m\u001b[1;33m.\u001b[0m\u001b[0mzeros\u001b[0m\u001b[1;33m(\u001b[0m\u001b[1;33m(\u001b[0m\u001b[0mlen\u001b[0m\u001b[1;33m(\u001b[0m\u001b[0muser_set\u001b[0m\u001b[1;33m)\u001b[0m\u001b[1;33m,\u001b[0m \u001b[0mlen\u001b[0m\u001b[1;33m(\u001b[0m\u001b[0mitem_set\u001b[0m\u001b[1;33m)\u001b[0m\u001b[1;33m)\u001b[0m\u001b[1;33m,\u001b[0m \u001b[0mdtype\u001b[0m\u001b[1;33m=\u001b[0m\u001b[0mnp\u001b[0m\u001b[1;33m.\u001b[0m\u001b[0mfloat64\u001b[0m\u001b[1;33m)\u001b[0m\u001b[1;33m\u001b[0m\u001b[0m\n\u001b[1;32m---> 31\u001b[1;33m                 \u001b[1;32mfor\u001b[0m \u001b[0muser_id\u001b[0m\u001b[1;33m,\u001b[0m \u001b[0mitem_id\u001b[0m\u001b[1;33m,\u001b[0m \u001b[0mchoice\u001b[0m \u001b[1;32min\u001b[0m \u001b[0mcontent\u001b[0m\u001b[1;33m:\u001b[0m\u001b[1;33m\u001b[0m\u001b[0m\n\u001b[0m\u001b[0;32m     32\u001b[0m                         \u001b[0mmatrix\u001b[0m\u001b[1;33m[\u001b[0m\u001b[0muser_dict\u001b[0m\u001b[1;33m[\u001b[0m\u001b[0muser_id\u001b[0m\u001b[1;33m]\u001b[0m\u001b[1;33m,\u001b[0m \u001b[0mitem_dict\u001b[0m\u001b[1;33m[\u001b[0m\u001b[0mitem_id\u001b[0m\u001b[1;33m]\u001b[0m\u001b[1;33m]\u001b[0m \u001b[1;33m=\u001b[0m \u001b[0mrating_values\u001b[0m\u001b[1;33m[\u001b[0m\u001b[0mchoice\u001b[0m\u001b[1;33m]\u001b[0m\u001b[1;33m\u001b[0m\u001b[0m\n\u001b[0;32m     33\u001b[0m                 \u001b[0mself\u001b[0m\u001b[1;33m.\u001b[0m\u001b[0muser_dict\u001b[0m \u001b[1;33m=\u001b[0m \u001b[0muser_dict\u001b[0m\u001b[1;33m\u001b[0m\u001b[0m\n",
      "\u001b[1;31mUnboundLocalError\u001b[0m: local variable 'content' referenced before assignment"
     ]
    }
   ],
   "source": [
    "a=SimilarityMatrix()\n",
    "a.make_matrix('ratings')\n",
    "np.shape(a.matrix)\n",
    "#a.matrix\n",
    "#a.item_dict\n",
    "#a.user_dict"
   ]
  },
  {
   "cell_type": "code",
   "execution_count": null,
   "metadata": {
    "collapsed": true
   },
   "outputs": [],
   "source": []
  },
  {
   "cell_type": "code",
   "execution_count": null,
   "metadata": {
    "collapsed": true
   },
   "outputs": [],
   "source": []
  },
  {
   "cell_type": "code",
   "execution_count": null,
   "metadata": {
    "collapsed": true
   },
   "outputs": [],
   "source": []
  },
  {
   "cell_type": "code",
   "execution_count": 22,
   "metadata": {
    "collapsed": false
   },
   "outputs": [
    {
     "data": {
      "text/plain": [
       "(1710, 8347)"
      ]
     },
     "execution_count": 22,
     "metadata": {},
     "output_type": "execute_result"
    }
   ],
   "source": [
    "#ok, marche\n",
    "a.make_matrix('csv')\n",
    "np.shape(a.matrix)"
   ]
  },
  {
   "cell_type": "code",
   "execution_count": 2,
   "metadata": {
    "collapsed": false
   },
   "outputs": [
    {
     "ename": "NameError",
     "evalue": "name 'a' is not defined",
     "output_type": "error",
     "traceback": [
      "\u001b[1;31m---------------------------------------------------------------------------\u001b[0m",
      "\u001b[1;31mNameError\u001b[0m                                 Traceback (most recent call last)",
      "\u001b[1;32m<ipython-input-2-8fb60f84b961>\u001b[0m in \u001b[0;36m<module>\u001b[1;34m()\u001b[0m\n\u001b[1;32m----> 1\u001b[1;33m \u001b[0ma\u001b[0m\u001b[1;33m.\u001b[0m\u001b[0mmatrix\u001b[0m\u001b[1;33m\u001b[0m\u001b[0m\n\u001b[0m\u001b[0;32m      2\u001b[0m \u001b[0ma\u001b[0m\u001b[1;33m.\u001b[0m\u001b[0mmatrix\u001b[0m\u001b[1;33m[\u001b[0m\u001b[1;36m784\u001b[0m\u001b[1;33m,\u001b[0m\u001b[1;36m5471\u001b[0m\u001b[1;33m]\u001b[0m\u001b[1;33m\u001b[0m\u001b[0m\n",
      "\u001b[1;31mNameError\u001b[0m: name 'a' is not defined"
     ]
    }
   ],
   "source": [
    "a.matrix\n",
    "a.matrix[784,5471]"
   ]
  },
  {
   "cell_type": "code",
   "execution_count": null,
   "metadata": {
    "collapsed": true
   },
   "outputs": [],
   "source": []
  },
  {
   "cell_type": "code",
   "execution_count": null,
   "metadata": {
    "collapsed": true
   },
   "outputs": [],
   "source": []
  },
  {
   "cell_type": "code",
   "execution_count": null,
   "metadata": {
    "collapsed": true
   },
   "outputs": [],
   "source": []
  },
  {
   "cell_type": "code",
   "execution_count": null,
   "metadata": {
    "collapsed": true
   },
   "outputs": [],
   "source": []
  },
  {
   "cell_type": "code",
   "execution_count": null,
   "metadata": {
    "collapsed": true
   },
   "outputs": [],
   "source": []
  },
  {
   "cell_type": "code",
   "execution_count": null,
   "metadata": {
    "collapsed": true
   },
   "outputs": [],
   "source": []
  },
  {
   "cell_type": "code",
   "execution_count": null,
   "metadata": {
    "collapsed": true
   },
   "outputs": [],
   "source": [
    "\"\"\"\"           \n",
    "set={userid}\n",
    "mapping ids_set\n",
    "enumerate de ça\n",
    "enumerate(id_set)\n",
    "id_list : list de ces ids et énumération\n",
    "dico={k:v for k, v in enumerate ids_set}\n",
    "            \n",
    "\"\"\"\""
   ]
  },
  {
   "cell_type": "code",
   "execution_count": 197,
   "metadata": {
    "collapsed": false
   },
   "outputs": [
    {
     "ename": "TypeError",
     "evalue": "'list' object is not callable",
     "output_type": "error",
     "traceback": [
      "\u001b[1;31m---------------------------------------------------------------------------\u001b[0m",
      "\u001b[1;31mTypeError\u001b[0m                                 Traceback (most recent call last)",
      "\u001b[1;32m<ipython-input-197-762a4f02a41d>\u001b[0m in \u001b[0;36m<module>\u001b[1;34m()\u001b[0m\n\u001b[0;32m      6\u001b[0m \u001b[0mens\u001b[0m\u001b[1;33m.\u001b[0m\u001b[0madd\u001b[0m\u001b[1;33m(\u001b[0m\u001b[1;36m72\u001b[0m\u001b[1;33m)\u001b[0m\u001b[1;33m\u001b[0m\u001b[0m\n\u001b[0;32m      7\u001b[0m \u001b[0mens\u001b[0m\u001b[1;33m.\u001b[0m\u001b[0madd\u001b[0m\u001b[1;33m(\u001b[0m\u001b[1;36m86\u001b[0m\u001b[1;33m)\u001b[0m\u001b[1;33m\u001b[0m\u001b[0m\n\u001b[1;32m----> 8\u001b[1;33m \u001b[0mens2\u001b[0m\u001b[1;33m=\u001b[0m\u001b[0mlist\u001b[0m\u001b[1;33m(\u001b[0m\u001b[0mens\u001b[0m\u001b[1;33m)\u001b[0m\u001b[1;33m\u001b[0m\u001b[0m\n\u001b[0m\u001b[0;32m      9\u001b[0m \u001b[0mdico\u001b[0m\u001b[1;33m=\u001b[0m\u001b[1;33m{\u001b[0m\u001b[0mv\u001b[0m\u001b[1;33m:\u001b[0m \u001b[0mk\u001b[0m \u001b[1;32mfor\u001b[0m \u001b[0mk\u001b[0m\u001b[1;33m,\u001b[0m \u001b[0mv\u001b[0m \u001b[1;32min\u001b[0m \u001b[0menumerate\u001b[0m\u001b[1;33m(\u001b[0m\u001b[0mens2\u001b[0m\u001b[1;33m)\u001b[0m\u001b[1;33m}\u001b[0m\u001b[1;33m\u001b[0m\u001b[0m\n\u001b[0;32m     10\u001b[0m \u001b[1;33m\u001b[0m\u001b[0m\n",
      "\u001b[1;31mTypeError\u001b[0m: 'list' object is not callable"
     ]
    }
   ],
   "source": [
    "\n",
    "ens=set()\n",
    "ens.add(75)\n",
    "ens.add(76)\n",
    "ens.add(74)\n",
    "ens.add(72)\n",
    "ens.add(86)\n",
    "ens2=list(ens)\n",
    "dico={v: k for k, v in enumerate(ens2)}\n",
    "\n",
    "dico\n",
    "ens2\n",
    "\n",
    "\n",
    "\n",
    "\n",
    "\n",
    "\n",
    "\n",
    "\n"
   ]
  },
  {
   "cell_type": "code",
   "execution_count": 19,
   "metadata": {
    "collapsed": false
   },
   "outputs": [
    {
     "ename": "IndentationError",
     "evalue": "unexpected indent (<ipython-input-19-d5ccb09b749b>, line 5)",
     "output_type": "error",
     "traceback": [
      "\u001b[1;36m  File \u001b[1;32m\"<ipython-input-19-d5ccb09b749b>\"\u001b[1;36m, line \u001b[1;32m5\u001b[0m\n\u001b[1;33m    set_user_id=set()\u001b[0m\n\u001b[1;37m    ^\u001b[0m\n\u001b[1;31mIndentationError\u001b[0m\u001b[1;31m:\u001b[0m unexpected indent\n"
     ]
    }
   ],
   "source": [
    "matrix = np.zeros((nb_users, nb_items), dtype=np.float64)\n",
    "            \n",
    "\n",
    "        \n",
    "\t\tset_user_id=set()\n",
    "\t\tset_item_id=set()\n",
    "        dico_user_id={}\n",
    "        dico_item_id={}\n",
    "        \n",
    "        \n",
    "\t\tfor user_id, work_id, choice in content:\n",
    "#####################\n",
    "            if user_id not in dico_user_id:\n",
    "                \n",
    "                \n",
    "\t\t\t\tset_user_id.add(user_id)\n",
    "                dico_user_id[user_id]=len(set_user_id)-1\n",
    "                if work_id not in dico_item_id:\n",
    "                    \n",
    "                    set_item_id.add(work_id)\n",
    "                    dico_item_id[work_id]=len(set_item_id)-1\n",
    "                    #matrix[,]=rating_value[choice]\n",
    "                else:\n",
    "                    #matrix[,]rating_value[choice]\n",
    "            else:\n",
    "            \n",
    "                if work_id not in dico_item_id:\n",
    "                    j=j+1\n",
    "                    liste_item_id.add(work_id)\n",
    "                    dico_item_id[work_id]=j\n",
    "                    #matrix[,]rating_value[choice]\n",
    "                else:\n",
    "                    #matrix[,]rating_value[choice]\n",
    "                \n",
    "\t\t\t#matrix[i,j] = rating_values[choice]\n",
    "            #matrix[dico_user_id[user_id], dico_item_id[work_id]=rating_values[choice]\n",
    "            #i=i+1 au bon endroit suivant appartenance\n",
    "            #j=j+1 au bon endroit suivant appartenance\n",
    "\t\t\t\n",
    "            "
   ]
  },
  {
   "cell_type": "code",
   "execution_count": 49,
   "metadata": {
    "collapsed": false
   },
   "outputs": [
    {
     "data": {
      "text/plain": [
       "{0: 100, 1: 78, 2: 110, 3: 86, 4: 87, 5: 95}"
      ]
     },
     "execution_count": 49,
     "metadata": {},
     "output_type": "execute_result"
    }
   ],
   "source": [
    "a=set()\n",
    "a.add(95)\n",
    "a.add(86)\n",
    "a.add(100)\n",
    "a.add(87)\n",
    "a.add(78)\n",
    "a.add(110)\n",
    "a.add(86)\n",
    "dico={k:v for k, v in enumerate(a)}\n",
    "dico\n"
   ]
  },
  {
   "cell_type": "code",
   "execution_count": 1,
   "metadata": {
    "collapsed": false
   },
   "outputs": [
    {
     "data": {
      "text/plain": [
       "{78: 1, 86: 3, 87: 4, 95: 5, 100: 0, 110: 2}"
      ]
     },
     "execution_count": 1,
     "metadata": {},
     "output_type": "execute_result"
    }
   ],
   "source": [
    "a=set()\n",
    "a.add(95)\n",
    "a.add(86)\n",
    "a.add(100)\n",
    "a.add(87)\n",
    "a.add(78)\n",
    "a.add(110)\n",
    "a.add(86)\n",
    "dico={v:k for k, v in enumerate(a)}\n",
    "dico"
   ]
  },
  {
   "cell_type": "code",
   "execution_count": 18,
   "metadata": {
    "collapsed": false
   },
   "outputs": [
    {
     "data": {
      "text/plain": [
       "{5, 6, 15, 20, 78, 85, 95}"
      ]
     },
     "execution_count": 18,
     "metadata": {},
     "output_type": "execute_result"
    }
   ],
   "source": [
    "from mangaki.models import Rating\n",
    "\n",
    "#Rating.objects.values_list('user_id', 'work_id', 'choice')\n",
    "#for user_id, work_id in Rating.objects.values_list('user_id', 'work_id'):\n",
    "#        print (\"%d %d \\n\" %(user_id,work_id))\n",
    "a={user_id for user_id in Rating.objects.values_list('user_id') }\n",
    "#list2=[work_id for user_id in Rating.objects.values_list('work_id') ]\n",
    "#list1\n",
    "#for user_id in Rating.objects.values_list('user_id')\n",
    "a=set('abcdefraaaaaaaaaaaaa')\n",
    "liste=[5,6,15,20,78,95,85,6,95]\n",
    "a={liste[i] for i in range(len(liste))}\n",
    "a\n"
   ]
  },
  {
   "cell_type": "code",
   "execution_count": 22,
   "metadata": {
    "collapsed": false
   },
   "outputs": [
    {
     "data": {
      "text/plain": [
       "182"
      ]
     },
     "execution_count": 22,
     "metadata": {},
     "output_type": "execute_result"
    }
   ],
   "source": [
    "a={user_id for user_id in Rating.objects.values_list('user_id') }\n",
    "a\n",
    "len(a)"
   ]
  },
  {
   "cell_type": "code",
   "execution_count": 25,
   "metadata": {
    "collapsed": false
   },
   "outputs": [
    {
     "data": {
      "text/plain": [
       "201"
      ]
     },
     "execution_count": 25,
     "metadata": {},
     "output_type": "execute_result"
    }
   ],
   "source": [
    "User.objects.count()\n"
   ]
  },
  {
   "cell_type": "code",
   "execution_count": 43,
   "metadata": {
    "collapsed": false
   },
   "outputs": [
    {
     "data": {
      "text/plain": [
       "4271"
      ]
     },
     "execution_count": 43,
     "metadata": {},
     "output_type": "execute_result"
    }
   ],
   "source": [
    "a, b=set(), set()\n",
    "for user_id, item_id in Rating.objects.values_list('user_id', 'work_id'):\n",
    "        a.add(user_id)\n",
    "        b.add(item_id)\n",
    "a\n",
    "len (b)"
   ]
  },
  {
   "cell_type": "code",
   "execution_count": null,
   "metadata": {
    "collapsed": true
   },
   "outputs": [],
   "source": []
  },
  {
   "cell_type": "code",
   "execution_count": null,
   "metadata": {
    "collapsed": true
   },
   "outputs": [],
   "source": []
  },
  {
   "cell_type": "code",
   "execution_count": null,
   "metadata": {
    "collapsed": true
   },
   "outputs": [],
   "source": []
  },
  {
   "cell_type": "code",
   "execution_count": null,
   "metadata": {
    "collapsed": true
   },
   "outputs": [],
   "source": []
  },
  {
   "cell_type": "code",
   "execution_count": null,
   "metadata": {
    "collapsed": true
   },
   "outputs": [],
   "source": []
  },
  {
   "cell_type": "code",
   "execution_count": null,
   "metadata": {
    "collapsed": true
   },
   "outputs": [],
   "source": []
  },
  {
   "cell_type": "code",
   "execution_count": 61,
   "metadata": {
    "collapsed": false
   },
   "outputs": [
    {
     "data": {
      "text/plain": [
       "(182, 4271)"
      ]
     },
     "execution_count": 61,
     "metadata": {},
     "output_type": "execute_result"
    }
   ],
   "source": [
    "import numpy as np\n",
    "\n",
    "user_set, item_set=set(), set()\n",
    "for user_id, item_id in Rating.objects.values_list('user_id', 'work_id'):\n",
    "\tuser_set.add(user_id)\n",
    "\titem_set.add(item_id)  \n",
    "user_dict= {v:k for k,v in enumerate(user_set)}\n",
    "item_dict= {v:k for k,v in enumerate(item_set)}\n",
    "        \n",
    "nb_users = len(user_set)\n",
    "nb_items = len(item_set)\n",
    "matrix = np.zeros((len(user_set), len(item_set)), dtype=np.float64)\n",
    "        \n",
    "        \n",
    "for user_id, item_id, choice in Rating.objects.values_list('user_id', 'work_id', 'choice'):\n",
    "\tmatrix[user_dict[user_id], item_dict[item_id]] = rating_values[choice]\n",
    "matrix\n",
    "np.shape(matrix)"
   ]
  },
  {
   "cell_type": "code",
   "execution_count": 108,
   "metadata": {
    "collapsed": false
   },
   "outputs": [],
   "source": [
    "content=Rating.objects.values_list('user_id', 'work_id', 'choice')\n",
    "#content=[(content[i][0], content[i][1], content[i][2]) for i in range(len(content))]\n",
    "#content=np.asarray(content)\n",
    "#content=[]\n",
    "\n",
    "content\n",
    "user_items=[(content[i][0], content[i][1]) for i in range(len(content))]\n",
    "#user_items"
   ]
  },
  {
   "cell_type": "code",
   "execution_count": 109,
   "metadata": {
    "collapsed": false
   },
   "outputs": [
    {
     "data": {
      "text/plain": [
       "array([[2087, 1, 'like'],\n",
       "       [1994, 2, 'willsee'],\n",
       "       [1994, 3, 'neutral'],\n",
       "       ..., \n",
       "       [2026, 1384, 'willsee'],\n",
       "       [2026, 9013, 'favorite'],\n",
       "       [2026, 2257, 'willsee']], dtype=object)"
      ]
     },
     "execution_count": 109,
     "metadata": {},
     "output_type": "execute_result"
    }
   ],
   "source": [
    "import pandas\n",
    "\n",
    "ratings = pandas.read_csv('../data/ratings_essai.csv', header=None).as_matrix()\n",
    "ratings"
   ]
  },
  {
   "cell_type": "code",
   "execution_count": null,
   "metadata": {
    "collapsed": true
   },
   "outputs": [],
   "source": [
    "\n",
    "\n",
    "\n",
    "\n",
    "\n"
   ]
  },
  {
   "cell_type": "code",
   "execution_count": null,
   "metadata": {
    "collapsed": true
   },
   "outputs": [],
   "source": []
  },
  {
   "cell_type": "code",
   "execution_count": null,
   "metadata": {
    "collapsed": true
   },
   "outputs": [],
   "source": []
  },
  {
   "cell_type": "code",
   "execution_count": null,
   "metadata": {
    "collapsed": true
   },
   "outputs": [],
   "source": []
  },
  {
   "cell_type": "code",
   "execution_count": null,
   "metadata": {
    "collapsed": true
   },
   "outputs": [],
   "source": []
  },
  {
   "cell_type": "code",
   "execution_count": null,
   "metadata": {
    "collapsed": true
   },
   "outputs": [],
   "source": []
  },
  {
   "cell_type": "code",
   "execution_count": null,
   "metadata": {
    "collapsed": true
   },
   "outputs": [],
   "source": []
  },
  {
   "cell_type": "code",
   "execution_count": null,
   "metadata": {
    "collapsed": true
   },
   "outputs": [],
   "source": []
  },
  {
   "cell_type": "code",
   "execution_count": 148,
   "metadata": {
    "collapsed": false
   },
   "outputs": [],
   "source": [
    "content = pandas.read_csv('../data/ratings.csv', header=None).as_matrix()\n",
    "            #user_items=[content\n",
    "\t\t\t#nb_users_csv = content[:,0].max()+1\n",
    "\t\t\t#nb_items_csv = content[:,1].max()+1\n",
    "user_set, item_set=set(), set()\n",
    "for user_id, item_id in content[:,0:2]:\n",
    "\t#print(user_id)\n",
    "\tuser_set.add(user_id)\n",
    "\titem_set.add(item_id) \n",
    "#user_set\n"
   ]
  },
  {
   "cell_type": "code",
   "execution_count": null,
   "metadata": {
    "collapsed": true
   },
   "outputs": [],
   "source": []
  },
  {
   "cell_type": "code",
   "execution_count": null,
   "metadata": {
    "collapsed": true
   },
   "outputs": [],
   "source": []
  },
  {
   "cell_type": "code",
   "execution_count": null,
   "metadata": {
    "collapsed": true
   },
   "outputs": [],
   "source": []
  },
  {
   "cell_type": "code",
   "execution_count": 157,
   "metadata": {
    "collapsed": false
   },
   "outputs": [
    {
     "data": {
      "text/plain": [
       "\"\\ncontent = pandas.read_csv('../data/ratings_mini.csv', header=None).as_matrix()\\n            #user_items=[content\\n\\t\\t\\t#nb_users_csv = content[:,0].max()+1\\n\\t\\t\\t#nb_items_csv = content[:,1].max()+1\\nuser_set, item_set=set(), set()\\nfor user_id, item_id in content[:,0:2]:\\n\\tuser_set.add(user_id)\\n\\titem_set.add(item_id) \\nuser_set\\n\""
      ]
     },
     "execution_count": 157,
     "metadata": {},
     "output_type": "execute_result"
    }
   ],
   "source": [
    "\"\"\"\n",
    "content = pandas.read_csv('../data/ratings_mini.csv', header=None).as_matrix()\n",
    "            #user_items=[content\n",
    "\t\t\t#nb_users_csv = content[:,0].max()+1\n",
    "\t\t\t#nb_items_csv = content[:,1].max()+1\n",
    "user_set, item_set=set(), set()\n",
    "for user_id, item_id in content[:,0:2]:\n",
    "\tuser_set.add(user_id)\n",
    "\titem_set.add(item_id) \n",
    "user_set\n",
    "\"\"\""
   ]
  },
  {
   "cell_type": "code",
   "execution_count": null,
   "metadata": {
    "collapsed": true
   },
   "outputs": [],
   "source": []
  },
  {
   "cell_type": "code",
   "execution_count": null,
   "metadata": {
    "collapsed": true
   },
   "outputs": [],
   "source": []
  },
  {
   "cell_type": "code",
   "execution_count": null,
   "metadata": {
    "collapsed": true
   },
   "outputs": [],
   "source": []
  },
  {
   "cell_type": "code",
   "execution_count": null,
   "metadata": {
    "collapsed": true
   },
   "outputs": [],
   "source": []
  },
  {
   "cell_type": "code",
   "execution_count": null,
   "metadata": {
    "collapsed": true
   },
   "outputs": [],
   "source": []
  },
  {
   "cell_type": "code",
   "execution_count": null,
   "metadata": {
    "collapsed": true
   },
   "outputs": [],
   "source": []
  },
  {
   "cell_type": "code",
   "execution_count": null,
   "metadata": {
    "collapsed": true
   },
   "outputs": [],
   "source": []
  },
  {
   "cell_type": "code",
   "execution_count": null,
   "metadata": {
    "collapsed": true
   },
   "outputs": [],
   "source": []
  },
  {
   "cell_type": "code",
   "execution_count": null,
   "metadata": {
    "collapsed": true
   },
   "outputs": [],
   "source": []
  },
  {
   "cell_type": "code",
   "execution_count": null,
   "metadata": {
    "collapsed": true
   },
   "outputs": [],
   "source": []
  },
  {
   "cell_type": "code",
   "execution_count": null,
   "metadata": {
    "collapsed": true
   },
   "outputs": [],
   "source": []
  },
  {
   "cell_type": "code",
   "execution_count": null,
   "metadata": {
    "collapsed": true
   },
   "outputs": [],
   "source": []
  },
  {
   "cell_type": "code",
   "execution_count": null,
   "metadata": {
    "collapsed": true
   },
   "outputs": [],
   "source": []
  },
  {
   "cell_type": "code",
   "execution_count": null,
   "metadata": {
    "collapsed": true
   },
   "outputs": [],
   "source": []
  },
  {
   "cell_type": "code",
   "execution_count": null,
   "metadata": {
    "collapsed": true
   },
   "outputs": [],
   "source": []
  },
  {
   "cell_type": "code",
   "execution_count": null,
   "metadata": {
    "collapsed": true
   },
   "outputs": [],
   "source": []
  },
  {
   "cell_type": "code",
   "execution_count": null,
   "metadata": {
    "collapsed": true
   },
   "outputs": [],
   "source": []
  },
  {
   "cell_type": "code",
   "execution_count": null,
   "metadata": {
    "collapsed": true
   },
   "outputs": [],
   "source": []
  },
  {
   "cell_type": "code",
   "execution_count": null,
   "metadata": {
    "collapsed": true
   },
   "outputs": [],
   "source": []
  },
  {
   "cell_type": "code",
   "execution_count": null,
   "metadata": {
    "collapsed": true
   },
   "outputs": [],
   "source": []
  },
  {
   "cell_type": "code",
   "execution_count": null,
   "metadata": {
    "collapsed": true
   },
   "outputs": [],
   "source": []
  },
  {
   "cell_type": "code",
   "execution_count": null,
   "metadata": {
    "collapsed": true
   },
   "outputs": [],
   "source": []
  },
  {
   "cell_type": "code",
   "execution_count": null,
   "metadata": {
    "collapsed": true
   },
   "outputs": [],
   "source": []
  },
  {
   "cell_type": "code",
   "execution_count": null,
   "metadata": {
    "collapsed": true
   },
   "outputs": [],
   "source": []
  },
  {
   "cell_type": "code",
   "execution_count": null,
   "metadata": {
    "collapsed": true
   },
   "outputs": [],
   "source": []
  },
  {
   "cell_type": "code",
   "execution_count": null,
   "metadata": {
    "collapsed": true
   },
   "outputs": [],
   "source": []
  },
  {
   "cell_type": "code",
   "execution_count": null,
   "metadata": {
    "collapsed": true
   },
   "outputs": [],
   "source": []
  },
  {
   "cell_type": "code",
   "execution_count": null,
   "metadata": {
    "collapsed": true
   },
   "outputs": [],
   "source": []
  },
  {
   "cell_type": "code",
   "execution_count": null,
   "metadata": {
    "collapsed": true
   },
   "outputs": [],
   "source": []
  },
  {
   "cell_type": "code",
   "execution_count": null,
   "metadata": {
    "collapsed": true
   },
   "outputs": [],
   "source": []
  },
  {
   "cell_type": "code",
   "execution_count": null,
   "metadata": {
    "collapsed": true
   },
   "outputs": [],
   "source": []
  },
  {
   "cell_type": "code",
   "execution_count": null,
   "metadata": {
    "collapsed": true
   },
   "outputs": [],
   "source": [
    "\n"
   ]
  },
  {
   "cell_type": "code",
   "execution_count": null,
   "metadata": {
    "collapsed": true
   },
   "outputs": [],
   "source": []
  },
  {
   "cell_type": "code",
   "execution_count": null,
   "metadata": {
    "collapsed": true
   },
   "outputs": [],
   "source": []
  },
  {
   "cell_type": "markdown",
   "metadata": {
    "collapsed": true
   },
   "source": [
    "# Test \"final\" de dpp.py"
   ]
  },
  {
   "cell_type": "code",
   "execution_count": 4,
   "metadata": {
    "collapsed": false
   },
   "outputs": [],
   "source": [
    "from sklearn.utils.extmath import randomized_svd\n",
    "from scipy.spatial.distance import pdist, squareform\n",
    "from mangaki.utils.svd import MangakiSVD\n",
    "from mangaki.utils.values import rating_values\n",
    "from mangaki.models import Rating\n",
    "import pandas, random\n",
    "import numpy as np\n",
    "\n",
    "class SimilarityMatrix(object):\n",
    "\t\n",
    "#option à rajouter : nb_ratins, nb_user ou nb_items ? \n",
    "\t#option : database' or 'csv'\n",
    "\tdef make_matrix(self, option_data):\n",
    "\t\tuser_set, item_set=set(), set()\n",
    "\t\tif option_data=='database':\n",
    "\t\t\tcontent=Rating.objects.values_list('user_id', 'work_id', 'choice')\n",
    "\t\t\t\n",
    "\t\t\t#user_items=[(content[i][0], content[i][1]) for i in range(len(content))]\n",
    "\t\t\tfor user_id, item_id in Rating.objects.values_list('user_id', 'work_id'):\n",
    "\t\t\t\tuser_set.add(user_id)\n",
    "\t\t\t\titem_set.add(item_id) \n",
    "\t\telif option_data=='csv':\n",
    "\t\t\tcontent = pandas.read_csv('../data/ratings.csv', header=None).as_matrix()\n",
    "\t\t\tfor user_id, item_id in content[:,0:2]:\n",
    "\t\t\t\tuser_set.add(user_id)\n",
    "\t\t\t\titem_set.add(item_id) \n",
    "\t\telse:\n",
    "\t\t\treturn \"Erreur : les options sont 'database' ou 'csv'\"           \n",
    "        \n",
    "\t\tuser_dict= {v:k for k,v in enumerate(user_set)}\n",
    "\t\titem_dict= {v:k for k,v in enumerate(item_set)}\n",
    "\t\tmatrix = np.zeros((len(user_set), len(item_set)), dtype=np.float64)\n",
    "\t\tfor user_id, item_id, choice in content:\n",
    "\t\t\tmatrix[user_dict[user_id], item_dict[item_id]] = rating_values[choice]\n",
    "\t\tself.user_dict = user_dict\n",
    "\t\tself.item_dict = item_dict\n",
    "\t\tself.user_set=user_set\n",
    "\t\tself.item_set=item_set\n",
    "\t\tself.matrix = matrix\n",
    "\n",
    "\n",
    "\tdef make_svd_matrix(matrix):\n",
    "\t\tself.U, self.sigma, self.VT = randomized_svd(matrix,10, 10, random_state=42)\n",
    "\n",
    "    #option='cosine', voir fonctions de dpp.py\n",
    "\tdef make_similarity_matrix(self, option):\n",
    "\t\treturn 1 - squareform(pdist(self.matrix.T, metric=option))\n",
    "\n",
    "\t#def __str__(self):\n",
    "\t#\treturn ''\n",
    "\n",
    "\n",
    "\t\n",
    "class MangakiUniform(object):\n",
    "\t\n",
    "\tdef __init__(self, nb_points):\n",
    "\t\tself.nb_points = nb_points\n",
    "\n",
    "\n",
    "\tdef sample_k(self,items, matrix_similarity):\n",
    "\t\tuniform_items = items\n",
    "\t\trandom.shuffle(uniform_items)\n",
    "\t\treturn uniform_items[:self.nb_points]\n",
    "    \t\n",
    "\tdef __str__(self):\n",
    "\t\treturn 'uniform list, nb_points=%d' % self.nb_points\n",
    "\n",
    "class MangakiDPP(object):\n",
    "\n",
    "\tdef __init__(self, nb_points):\n",
    "\t\tself.nb_points = nb_points\n",
    "\n",
    "\n",
    "#n'a pas d'intérêt au final\n",
    "#TODO : delete\n",
    "#similarity_fn='jaccard' or 'coisine'\n",
    "#def fit(self, matrix, all_dataset=False): #obtention de la matrice de similarité\n",
    "#\tmatrix_fit=similarity(matrix, similarity_fn)\n",
    "#\treturn matrix_fit\n",
    "    \n",
    "#thanks to mehdidc on github\n",
    "# tirer au hasard des points\n",
    "#def sample_k(items, similiarity, k, max_nb_iterations=1000, rng=np.random):\n",
    "       #def sample_k(items, similiarity, k, max_nb_iterations=1000, rng=np.random):\n",
    "\tdef sample_k(self, items, L, k, max_nb_iterations=1000, rng=np.random):\n",
    "\t\n",
    "\t#Sample a list of k items from a DPP defined\n",
    "\t#by the similarity matrix L. The algorithm\n",
    "\t#is iterative and runs for max_nb_iterations.\n",
    "\t#The algorithm used is from\n",
    "\t#(Fast Determinantal Point Process Sampling withw\n",
    "\t#Application to Clustering, Byungkon Kang, NIPS 2013)\n",
    "\t\n",
    "\t\tinitial = rng.choice(range(len(items)), size=k, replace=False)\n",
    "\t\tX = [False] * len(items)\n",
    "\t\tfor i in initial:\n",
    "\t\t\tX[i] = True\n",
    "\t\tX = np.array(X)\n",
    "\t\tfor i in range(max_nb_iterations):\n",
    "\t\t\tu = rng.choice(np.arange(len(items))[X])\n",
    "\t\t\tv = rng.choice(np.arange(len(items))[~X])\n",
    "\t\t\tY = X.copy()\n",
    "\t\t\tY[u] = False\n",
    "\t\t\tL_Y = L[Y, :]\n",
    "\t\t\tL_Y = L_Y[:, Y]\n",
    "\t\t\tL_Y_inv = np.linalg.inv(L_Y)\n",
    "\n",
    "\t\t\tc_v = L[v:v+1, :]\n",
    "\t\t\tc_v = c_v[:, v:v+1]\n",
    "\t\t\tb_v = L[Y, :]\n",
    "\t\t\tb_v = b_v[:, v:v+1]\n",
    "\t\t\tc_u = L[u:u+1, :]\n",
    "\t\t\tc_u = c_u[:, u:u+1]\n",
    "\t\t\tb_u = L[Y, :]\n",
    "\t\t\tb_u = b_u[:, u:u+1]\n",
    "\n",
    "\t\t\tp = min(1, c_v - np.dot(np.dot(b_v.T, L_Y_inv), b_v) /\n",
    "\t              (c_u - np.dot(np.dot(b_u.T, L_Y_inv.T), b_u)))\n",
    "\t\t\tif rng.uniform() <= p:\n",
    "\t\t\t\tX = Y[:]\n",
    "\t\t\t\tX[v] = True\n",
    "\t\t\treturn np.array(items)[X]\n",
    "      \n",
    "    \n",
    "\tdef __str__(self):\n",
    "\t\treturn 'sample dpp list, nb_points=%d' % self.nb_points\n",
    "   \n",
    "\n",
    "# comparer : regarder la distance moyenne entre deux points, mesures de dispersion. Avoir un truc qui permet de faire le fit + lancer quelques milliers de samples et regarder la dispersion moyenne\n",
    "#ajouter des options : quels para de comparaison utilisés ? Diamètre d'ordre r (1 ou 0 ? ), somme de pdist, déterminant du squareform(pdsit) ?\n",
    "\n",
    "\n",
    "#(pdist(svd.VT[:,sampled_items].T)).sum()\n",
    "\n",
    "\"\"\"\n",
    "distance_sample = []\n",
    "distance_uniform = []\n",
    "et ds la boucle : \n",
    "distance_sample.append((pdist(svd.VT[:,sampled_items].T)).sum())\n",
    "distance_uniform.append((pdist(svd.VT[:,uniform_items].T)).sum())\n",
    "puis comparaison entre les deux listes d'une manière ou d'une autre\n",
    "\"\"\"\n",
    "\n",
    "\n",
    "#det de pdist : np.linalg.det(squareform(pdist(svd.VT[:,uniform_items].T, metric='cosine')))\n",
    "\n",
    "#diamètre d'ordre r : (ici 1 pr l'instant) \n",
    "\"\"\"\n",
    "n = len(sampled_items)\n",
    "coefficient_sample = 2/(n*(n-1))*(pdist(svd.VT[:,sampled_items].T).sum())\n",
    "\"\"\"\n",
    "\n",
    "\n",
    "\n",
    "\n",
    "def compare(type_get_matrix, nb_points, nb_iterations, nb_ratings):\n",
    "\tresults_uniform, results_sample_dpp=[], []\n",
    "\tif type_get_matrix=='svd':\n",
    "\n",
    "\t\tmatrix = get_matrix_svd(10, nb_ratings)\n",
    "\telse :\n",
    "\t\tmatrix = get_matrix_csc(10, nb_ratings)\n",
    "\tuniform = MangakiUniform(nb_points)\n",
    "\tdpp = MangakiDDP(10)#nb_points ne sert à rien \n",
    "\tsimilarity1=similarity(matrix,'cosine')\n",
    "\tindicateur = 0\n",
    "\tpb = 0\n",
    "\twhile indicateur != nb_iterations:\n",
    "    \n",
    "\t\ttry:\n",
    "\t\t\tsampled_items = dpp.sample_k(items, similarity, nb_points)\n",
    "        \n",
    "\n",
    "\t\texcept np.linalg.linalg.LinAlgError as err:\n",
    "\t\t\tpb = 1\n",
    "\t\tif pb==0:\n",
    "\t\t\tindicateur = indicateur+1\n",
    "        # cas où tt se passe bien, bloc où l'on exécute la comparaison\n",
    "\t\t\tuniform_items = uniform.sample_k(similarity)\n",
    "        \t\n",
    "\t\t\tdet_uni=np.linalg.det(squareform(pdist(svd.VT[:,uniform_items].T, metric='cosine')))\n",
    "\t\t\tdet_dpp=np.linalg.det(squareform(pdist(svd.VT[:,sampled_items].T, metric='cosine')))\n",
    "        \t\n",
    "\t\t\tdiam_uni = 2/(nb_points*(nb_points-1))*(pdist(svd.VT[:,uniform_items].T).sum())\n",
    "\t\t\tdiam_dpp = 2/(nb_points*(nb_points-1))*(pdist(svd.VT[:,sampled_items].T).sum())\n",
    "\n",
    "\t\t\tresults_uniform.append([det_uni, diam_uni]) #à compléter : det et diamètre d'ordre r\n",
    "\t\t\tresults_sample_dpp.append([det_dpp, diam_dpp]) #à compléter : det et diamètre d'ordre r\n",
    "\t\telse :\n",
    "\t\t\tpb = 0\n",
    "\n",
    "\n"
   ]
  },
  {
   "cell_type": "code",
   "execution_count": 5,
   "metadata": {
    "collapsed": false
   },
   "outputs": [
    {
     "data": {
      "text/plain": [
       "array([[ 0.,  0.,  0., ...,  0.,  0.,  0.],\n",
       "       [ 0.,  0.,  0., ...,  0.,  0.,  0.],\n",
       "       [ 0.,  0.,  0., ...,  0.,  0.,  0.],\n",
       "       ..., \n",
       "       [ 0.,  0.,  0., ...,  0.,  0.,  0.],\n",
       "       [ 0.,  0.,  0., ...,  0.,  0.,  0.],\n",
       "       [ 0.,  0.,  0., ...,  0.,  0.,  0.]])"
      ]
     },
     "execution_count": 5,
     "metadata": {},
     "output_type": "execute_result"
    }
   ],
   "source": [
    "a=SimilarityMatrix()\n",
    "\n",
    "a.make_matrix('database')\n",
    "np.shape(a.matrix)\n",
    "a.matrix\n",
    "a.item_dict\n",
    "a.user_dict\n",
    "#a.make_matrix('ratings')\n",
    "a.make_matrix('csv')\n",
    "np.shape(a.matrix)\n",
    "a.matrix\n",
    "#a.item_dict\n",
    "#a.user_dict\n",
    "\n",
    "\n",
    "\n"
   ]
  },
  {
   "cell_type": "code",
   "execution_count": 7,
   "metadata": {
    "collapsed": false
   },
   "outputs": [],
   "source": [
    "similarity=a.make_similarity_matrix('cosine')\n"
   ]
  },
  {
   "cell_type": "code",
   "execution_count": 9,
   "metadata": {
    "collapsed": false
   },
   "outputs": [
    {
     "data": {
      "text/plain": [
       "array([[  1.00000000e+00,   2.90647598e-04,   0.00000000e+00, ...,\n",
       "          0.00000000e+00,   1.67166592e-01,  -3.78019680e-02],\n",
       "       [  2.90647598e-04,   1.00000000e+00,   0.00000000e+00, ...,\n",
       "          0.00000000e+00,   0.00000000e+00,   0.00000000e+00],\n",
       "       [  0.00000000e+00,   0.00000000e+00,   1.00000000e+00, ...,\n",
       "          0.00000000e+00,   0.00000000e+00,   0.00000000e+00],\n",
       "       ..., \n",
       "       [  0.00000000e+00,   0.00000000e+00,   0.00000000e+00, ...,\n",
       "          1.00000000e+00,   0.00000000e+00,   0.00000000e+00],\n",
       "       [  1.67166592e-01,   0.00000000e+00,   0.00000000e+00, ...,\n",
       "          0.00000000e+00,   1.00000000e+00,   0.00000000e+00],\n",
       "       [ -3.78019680e-02,   0.00000000e+00,   0.00000000e+00, ...,\n",
       "          0.00000000e+00,   0.00000000e+00,   1.00000000e+00]])"
      ]
     },
     "execution_count": 9,
     "metadata": {},
     "output_type": "execute_result"
    }
   ],
   "source": [
    "similarity.shape\n",
    "similarity\n"
   ]
  },
  {
   "cell_type": "code",
   "execution_count": 10,
   "metadata": {
    "collapsed": false
   },
   "outputs": [
    {
     "data": {
      "text/plain": [
       "[633, 157, 1516, 593, 1494, 29, 550, 1498, 193, 1304]"
      ]
     },
     "execution_count": 10,
     "metadata": {},
     "output_type": "execute_result"
    }
   ],
   "source": [
    "\n",
    "u=MangakiUniform(10)\n",
    "u.sample_k(list(a.user_set),similarity)"
   ]
  },
  {
   "cell_type": "code",
   "execution_count": 13,
   "metadata": {
    "collapsed": false
   },
   "outputs": [
    {
     "name": "stderr",
     "output_type": "stream",
     "text": [
      "/home/voisin/mangaki/venv/lib/python3.4/site-packages/ipykernel/__main__.py:104: VisibleDeprecationWarning: boolean index did not match indexed array along dimension 0; dimension is 8347 but corresponding boolean dimension is 1710\n",
      "\n",
      "/home/voisin/mangaki/venv/lib/python3.4/site-packages/ipykernel/__main__.py:105: VisibleDeprecationWarning: boolean index did not match indexed array along dimension 1; dimension is 8347 but corresponding boolean dimension is 1710\n",
      "\n",
      "/home/voisin/mangaki/venv/lib/python3.4/site-packages/ipykernel/__main__.py:110: VisibleDeprecationWarning: boolean index did not match indexed array along dimension 0; dimension is 8347 but corresponding boolean dimension is 1710\n",
      "\n",
      "/home/voisin/mangaki/venv/lib/python3.4/site-packages/ipykernel/__main__.py:114: VisibleDeprecationWarning: boolean index did not match indexed array along dimension 0; dimension is 8347 but corresponding boolean dimension is 1710\n",
      "\n"
     ]
    },
    {
     "data": {
      "text/plain": [
       "array([ 119,  356,  397,  933, 1178, 1313, 1376, 1399, 1439, 1705])"
      ]
     },
     "execution_count": 13,
     "metadata": {},
     "output_type": "execute_result"
    }
   ],
   "source": [
    "dpp=MangakiDPP(10)\n",
    "dpp.sample_k(list(a.user_set),similarity,10)"
   ]
  },
  {
   "cell_type": "code",
   "execution_count": null,
   "metadata": {
    "collapsed": true
   },
   "outputs": [],
   "source": []
  },
  {
   "cell_type": "code",
   "execution_count": null,
   "metadata": {
    "collapsed": true
   },
   "outputs": [],
   "source": []
  },
  {
   "cell_type": "code",
   "execution_count": null,
   "metadata": {
    "collapsed": true
   },
   "outputs": [],
   "source": []
  },
  {
   "cell_type": "code",
   "execution_count": null,
   "metadata": {
    "collapsed": true
   },
   "outputs": [],
   "source": []
  },
  {
   "cell_type": "code",
   "execution_count": null,
   "metadata": {
    "collapsed": true
   },
   "outputs": [],
   "source": []
  },
  {
   "cell_type": "code",
   "execution_count": null,
   "metadata": {
    "collapsed": true
   },
   "outputs": [],
   "source": []
  },
  {
   "cell_type": "markdown",
   "metadata": {},
   "source": [
    "fonction compare"
   ]
  },
  {
   "cell_type": "code",
   "execution_count": 27,
   "metadata": {
    "collapsed": false
   },
   "outputs": [],
   "source": [
    "def compare2(nb_points, nb_iterations):\n",
    "\tresults_uniform, results_sample_dpp=[], []\n",
    "\tsim=SimilarityMatrix()\n",
    "    #par ex ici csv\n",
    "\tsim.make_matrix('csv')\n",
    "\tsimilarity=sim.make_similarity_matrix('cosine')\n",
    "\tuniform = MangakiUniform(nb_points)\n",
    "\tdpp = MangakiDPP(10)#nb_points ne sert à rien \n",
    "\tindicateur = 0\n",
    "\tpb = 0\n",
    "\twhile indicateur != nb_iterations:\n",
    "    \n",
    "\t\ttry:\n",
    "\t\t\tsampled_items = dpp.sample_k(list(a.user_set), similarity, nb_points)\n",
    "        \n",
    "\n",
    "\t\texcept np.linalg.linalg.LinAlgError as err:\n",
    "\t\t\tpb = 1\n",
    "\t\tif pb==0:\n",
    "\t\t\tindicateur = indicateur+1\n",
    "        # cas où tt se passe bien, bloc où l'on exécute la comparaison\n",
    "\t\t\tuniform_items = uniform.sample_k(list(a.user_set),similarity)\n",
    "        \t\n",
    "\t\t\tdet_uni=np.linalg.det(squareform(pdist(sim.matrix[:,uniform_items].T, metric='cosine')))\n",
    "\t\t\tdet_dpp=np.linalg.det(squareform(pdist(sim.matrix[:,sampled_items].T, metric='cosine')))\n",
    "        \t\n",
    "\t\t\tdiam_uni = 2/(nb_points*(nb_points-1))*(pdist(sim.matrix[:,uniform_items].T).sum())\n",
    "\t\t\tdiam_dpp = 2/(nb_points*(nb_points-1))*(pdist(sim.matrix[:,sampled_items].T).sum())\n",
    "\n",
    "\t\t\tresults_uniform.append([det_uni, diam_uni]) #à compléter : det et diamètre d'ordre r\n",
    "\t\t\tresults_sample_dpp.append([det_dpp, diam_dpp]) #à compléter : det et diamètre d'ordre r\n",
    "\t\telse :\n",
    "\t\t\tpb = 0\n",
    "\tprint (\"%s \\n %s\" %(results_uniform, results_sample_dpp))"
   ]
  },
  {
   "cell_type": "code",
   "execution_count": 28,
   "metadata": {
    "collapsed": false,
    "scrolled": true
   },
   "outputs": [
    {
     "name": "stderr",
     "output_type": "stream",
     "text": [
      "/home/voisin/mangaki/venv/lib/python3.4/site-packages/ipykernel/__main__.py:104: VisibleDeprecationWarning: boolean index did not match indexed array along dimension 0; dimension is 8347 but corresponding boolean dimension is 1710\n",
      "\n",
      "/home/voisin/mangaki/venv/lib/python3.4/site-packages/ipykernel/__main__.py:105: VisibleDeprecationWarning: boolean index did not match indexed array along dimension 1; dimension is 8347 but corresponding boolean dimension is 1710\n",
      "\n",
      "/home/voisin/mangaki/venv/lib/python3.4/site-packages/ipykernel/__main__.py:110: VisibleDeprecationWarning: boolean index did not match indexed array along dimension 0; dimension is 8347 but corresponding boolean dimension is 1710\n",
      "\n",
      "/home/voisin/mangaki/venv/lib/python3.4/site-packages/ipykernel/__main__.py:114: VisibleDeprecationWarning: boolean index did not match indexed array along dimension 0; dimension is 8347 but corresponding boolean dimension is 1710\n",
      "\n"
     ]
    },
    {
     "name": "stdout",
     "output_type": "stream",
     "text": [
      "[[-4.829818390647449, 9.8175784449419297], [-6.5430807017216317, 10.013931832330242], [-0.60469638311485008, 13.731411815637861], [-5.4875002536627209, 11.278136325511285], [-8.890311549771571, 3.8413353143522513], [0.0, 4.2642718094162699], [-2.6025109535322191, 4.2710246392279352], [-3.326013762527495, 7.5561240008498096], [-1.4103577804853926, 7.4309702074158626], [-1.8762729087439889, 5.795559588781849]] \n",
      " [[-5.9769466377030431, 8.2770146064632133], [-7.4579871052532853, 12.701645262894745], [-6.5646673161193849, 5.6616123496940398], [-7.2620196058300417, 7.2291611269148097], [-7.6903187310663483, 6.3040389457734767], [-2.2565513013425482, 5.0119855087892207], [-3.5706146192767076, 4.5906122305686816], [-6.4450435682559517, 18.413723579850434], [-2.826782654892908, 4.2839872106080401], [-0.06647891971254008, 4.5998428572000618]]\n"
     ]
    }
   ],
   "source": [
    "compare2(10,10)"
   ]
  },
  {
   "cell_type": "code",
   "execution_count": null,
   "metadata": {
    "collapsed": false
   },
   "outputs": [],
   "source": []
  }
 ],
 "metadata": {
  "kernelspec": {
   "display_name": "Django Shell-Plus",
   "language": "python",
   "name": "django_extensions"
  },
  "language_info": {
   "codemirror_mode": {
    "name": "ipython",
    "version": 3
   },
   "file_extension": ".py",
   "mimetype": "text/x-python",
   "name": "python",
   "nbconvert_exporter": "python",
   "pygments_lexer": "ipython3",
   "version": "3.4.3"
  }
 },
 "nbformat": 4,
 "nbformat_minor": 0
}

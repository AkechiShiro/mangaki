{
 "cells": [
  {
   "cell_type": "code",
   "execution_count": 2,
   "metadata": {
    "collapsed": true
   },
   "outputs": [],
   "source": [
    "from scipy.sparse import csc_matrix\n",
    "from scipy.spatial.distance import pdist, squareform\n",
    "from mangaki.utils.svd import MangakiSVD\n",
    "from mangaki.utils.values import rating_values\n",
    "from mangaki.models import Rating\n",
    "import pandas, random\n",
    "import numpy as np"
   ]
  },
  {
   "cell_type": "code",
   "execution_count": 4,
   "metadata": {
    "collapsed": false
   },
   "outputs": [
    {
     "data": {
      "text/plain": [
       "2100"
      ]
     },
     "execution_count": 4,
     "metadata": {},
     "output_type": "execute_result"
    }
   ],
   "source": [
    "#si l'on veut sauvegarder les données et connaître le nbre de users et d'items\n",
    "################################################ tests en gros qui m'ont permis de faire des vérifications\n",
    "new_file = open(\"../data/ratings_essai.csv\",\"w\")\n",
    "for user_id, work_id, choice in Rating.objects.values_list('user_id', 'work_id', 'choice'):\n",
    "    new_file.write(\"%d,%d,%s\\n\" %(user_id, work_id, choice))\n",
    "\n",
    "new_file.close()\n",
    "from mangaki.utils.svd import MangakiSVD\n",
    "import numpy as np\n",
    "import pandas \n",
    "from mangaki.utils.values import rating_values\n",
    "\n",
    "ratings = pandas.read_csv('../data/ratings_essai.csv', header=None).as_matrix()\n",
    "X=ratings[:,0:2]\n",
    "nb_users=X[:,0].max()+1\n",
    "nb_items=X[:,1].max()+1\n",
    "nb_items\n",
    "nb_users\n"
   ]
  },
  {
   "cell_type": "code",
   "execution_count": 19,
   "metadata": {
    "collapsed": true
   },
   "outputs": [],
   "source": [
    "from sets import Set\n",
    "\n",
    "nb_items=Work.objects.count()\n",
    "nb_users=User.objects.count()\n",
    "\n",
    "class SimilarityMatrix(object):\n",
    "\t#def __init__(self):\n",
    "\t#\tpass\n",
    "    \n",
    "\tdef set_parameters(self, nb_users, nb_items):\n",
    "\t\tself.nb_users = nb_users\n",
    "\t\tself.nb_items = nb_items\n",
    "\n",
    "#TODO : on ne garde que les users et les items qui ont des ratings\n",
    "#option : 'csv' or 'database'\n",
    "\tdef make_matrix(self, option_data):\n",
    "#changer par matrice creuse ou garder matrice avec que des zéros\n",
    "\t\t\n",
    "\t\tif option_data=='database':\n",
    "\t\t\tcontent=Rating.objects.values_list('user_id', 'work_id', 'choice')\n",
    "\t\t\tnb_users=self.nb_users\n",
    "\t\t\tnb_items=self.nb_items\n",
    "\t\telse :\n",
    "\t\t\tcontent = pandas.read_csv('../data/ratings.csv', header=None).as_matrix()\n",
    "            \n",
    "\t\t\tnb_users = content[:,0].max()+1\n",
    "\t\t\tnb_items = content[:,1].max()+1\n",
    "            \n",
    "\t\tmatrix = np.zeros((nb_users, nb_items), dtype=np.float64)\n",
    "            \n",
    "            \n",
    "            \n",
    "\t\tliste_user_id=[]\n",
    "\t\tliste_item_id=[]\n",
    "        dico_user_id={}\n",
    "        dico_item_id={}\n",
    "        int indice_i=0\n",
    "        int indice_j=0\n",
    "        \n",
    "\t\tfor user_id, work_id, choice in content:\n",
    "            \n",
    "            if user_id not in liste_user_id:\n",
    "\t\t\t\tliste_user_id.remove(user_id) \n",
    "\t\t\tif work_id not in liste_item_id:\n",
    "\t\t\t\tliste_item_id.remove(work_id)\n",
    "\t\t\tmatrix[i][j] = rating_values[choice]\n",
    "            i=i+1\n",
    "            j=j+1\n",
    "\t\t\t\n",
    "        \n",
    "\t\tself.liste_user_id=liste_user_id\n",
    "\t\tself.liste_item_id=liste_item_id\n",
    "        \n",
    "\t\tself.matrix=matrix\n",
    "\t\t\n",
    "\n",
    "            \n",
    "        \n",
    "    #option='cosine', voir fonctions de dpp.py\n",
    "\tdef make_similarity_matrix(self, option):\n",
    "\t\tpass\n",
    "\n",
    "\t#def __str__(self):\n",
    "\t#\treturn ''\n",
    "\n",
    "    \n",
    "    \n",
    "    \n",
    "#items = range(0,nb_works)"
   ]
  },
  {
   "cell_type": "code",
   "execution_count": 20,
   "metadata": {
    "collapsed": true
   },
   "outputs": [],
   "source": [
    "a=SimilarityMatrix()"
   ]
  },
  {
   "cell_type": "code",
   "execution_count": 21,
   "metadata": {
    "collapsed": false
   },
   "outputs": [],
   "source": [
    "a.set_parameters(nb_users, nb_items)"
   ]
  },
  {
   "cell_type": "code",
   "execution_count": 141,
   "metadata": {
    "collapsed": false
   },
   "outputs": [
    {
     "data": {
      "text/plain": [
       "(2100, 14416)"
      ]
     },
     "execution_count": 141,
     "metadata": {},
     "output_type": "execute_result"
    }
   ],
   "source": [
    "#modif à faire ...\n",
    "a.make_matrix('database')\n",
    "np.shape(a.matrix)\n"
   ]
  },
  {
   "cell_type": "code",
   "execution_count": 22,
   "metadata": {
    "collapsed": false
   },
   "outputs": [
    {
     "data": {
      "text/plain": [
       "(1710, 8347)"
      ]
     },
     "execution_count": 22,
     "metadata": {},
     "output_type": "execute_result"
    }
   ],
   "source": [
    "#ok, marche\n",
    "a.make_matrix('csv')\n",
    "np.shape(a.matrix)"
   ]
  },
  {
   "cell_type": "code",
   "execution_count": 23,
   "metadata": {
    "collapsed": false
   },
   "outputs": [
    {
     "data": {
      "text/plain": [
       "0.10000000000000001"
      ]
     },
     "execution_count": 23,
     "metadata": {},
     "output_type": "execute_result"
    }
   ],
   "source": [
    "a.matrix\n",
    "a.matrix[784,5471]"
   ]
  }
 ],
 "metadata": {
  "kernelspec": {
   "display_name": "Django Shell-Plus",
   "language": "python",
   "name": "django_extensions"
  },
  "language_info": {
   "codemirror_mode": {
    "name": "ipython",
    "version": 3
   },
   "file_extension": ".py",
   "mimetype": "text/x-python",
   "name": "python",
   "nbconvert_exporter": "python",
   "pygments_lexer": "ipython3",
   "version": "3.4.3"
  }
 },
 "nbformat": 4,
 "nbformat_minor": 0
}

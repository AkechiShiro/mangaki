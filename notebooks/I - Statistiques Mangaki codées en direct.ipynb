{
 "cells": [
  {
   "cell_type": "markdown",
   "metadata": {},
   "source": [
    "# I - Statistiques Mangaki codées en direct"
   ]
  },
  {
   "cell_type": "markdown",
   "metadata": {},
   "source": [
    "Ces statistiques ont été codées à l'occasion de la [rencontre Mangaki au Kawaii Café du 9/12/2015](http://meta.mangaki.fr/t/rencontre-mangaki-9-decembre-au-kawaii-cafe-a-paris/611/5?u=jj), puis modifiées le 31/01/2016."
   ]
  },
  {
   "cell_type": "markdown",
   "metadata": {},
   "source": [
    "## Obtenir un anime à partir de son ID"
   ]
  },
  {
   "cell_type": "code",
   "execution_count": 1,
   "metadata": {
    "collapsed": false
   },
   "outputs": [
    {
     "data": {
      "text/plain": [
       "<Anime: [1] Death Note>"
      ]
     },
     "execution_count": 1,
     "metadata": {},
     "output_type": "execute_result"
    }
   ],
   "source": [
    "Anime.objects.get(id=1)"
   ]
  },
  {
   "cell_type": "markdown",
   "metadata": {
    "collapsed": false
   },
   "source": [
    "## Rechercher un anime par mot-clé"
   ]
  },
  {
   "cell_type": "code",
   "execution_count": 2,
   "metadata": {
    "collapsed": false
   },
   "outputs": [
    {
     "name": "stdout",
     "output_type": "stream",
     "text": [
      "N° 180 : Puella Magi Madoka Magica the Movie Part II: Eternal\n",
      "N° 176 : Puella Magi Madoka Magica the Movie Part III: Rebellion\n",
      "N° 179 : Puella Magi Madoka Magica the Movie Part I: Beginnings\n",
      "N° 181 : Mahou Shoujo Madoka★Magica Movie 3: Hangyaku no Monogatari - Magica Quartet x Nisioisin\n",
      "N° 14090 : Mahou Shoujo Madoka Magica: Concept Movie\n",
      "N° 33 : Mahou Shoujo Madoka★Magica\n"
     ]
    }
   ],
   "source": [
    "for anime in Anime.objects.filter(title__contains='Madoka'):\n",
    "    print('N°', anime.id, ':', anime.title)"
   ]
  },
  {
   "cell_type": "markdown",
   "metadata": {
    "collapsed": false
   },
   "source": [
    "## Rechercher un artiste par mot-clé"
   ]
  },
  {
   "cell_type": "code",
   "execution_count": 3,
   "metadata": {
    "collapsed": false
   },
   "outputs": [
    {
     "name": "stdout",
     "output_type": "stream",
     "text": [
      "2352 Akiyuki Shinbou\n"
     ]
    }
   ],
   "source": [
    "for artist in Artist.objects.filter(last_name__contains='Shinbou'):\n",
    "    print(artist.id, artist.first_name, artist.last_name)"
   ]
  },
  {
   "cell_type": "markdown",
   "metadata": {},
   "source": [
    "Mais au fait, il a réalisé quoi, Akiyuki Shinbou ?"
   ]
  },
  {
   "cell_type": "code",
   "execution_count": 4,
   "metadata": {
    "collapsed": false
   },
   "outputs": [
    {
     "data": {
      "text/plain": [
       "[<Anime: [8621] Tsukuyomi: Moon Phase>, <Anime: [116] Nisemonogatari>, <Anime: [149] Nisekoi>, <Anime: [314] Sasami-san@Ganbaranai>, <Anime: [1412] Hidamari Sketch>, <Anime: [1595] Pani Poni Dash!>, <Anime: [1759] Magical Girl Lyrical Nanoha>, <Anime: [1964] Denpa Onna to Seishun Otoko Special>, <Anime: [2022] Nekomonogatari Black: Tsubasa Family>, <Anime: [2075] ef ~ A Tale of Memories>, <Anime: [872] Sayonara Zetsubou Sensei>, <Anime: [33] Mahou Shoujo Madoka★Magica>, <Anime: [1733] Le Portrait de Petit Cossette>, <Anime: [2505] Arakawa Under the Bridge>, <Anime: [24] Bakemonogatari>]"
      ]
     },
     "execution_count": 4,
     "metadata": {},
     "output_type": "execute_result"
    }
   ],
   "source": [
    "artist.directed.all()"
   ]
  },
  {
   "cell_type": "markdown",
   "metadata": {
    "collapsed": false
   },
   "source": [
    "## Parcourir les ratings d'un anime"
   ]
  },
  {
   "cell_type": "code",
   "execution_count": 5,
   "metadata": {
    "collapsed": false
   },
   "outputs": [
    {
     "name": "stdout",
     "output_type": "stream",
     "text": [
      "Il y a 578 ratings pour Mahou Shoujo Madoka★Magica.\n"
     ]
    }
   ],
   "source": [
    "madoka = Anime.objects.get(id=33)\n",
    "print('Il y a %d ratings pour %s.' % (madoka.rating_set.count(), madoka.title))"
   ]
  },
  {
   "cell_type": "markdown",
   "metadata": {},
   "source": [
    "Affichons-en les 5 premiers :"
   ]
  },
  {
   "cell_type": "code",
   "execution_count": 6,
   "metadata": {
    "collapsed": false
   },
   "outputs": [
    {
     "name": "stdout",
     "output_type": "stream",
     "text": [
      "['like', 'neutral', 'like', 'like', 'like']\n"
     ]
    }
   ],
   "source": [
    "madoka_ratings = madoka.rating_set.values_list('choice', flat=True)\n",
    "print(madoka_ratings[:5])  # Afficher les 5 premiers ratings"
   ]
  },
  {
   "cell_type": "markdown",
   "metadata": {},
   "source": [
    "Regroupons tous les ratings dans un compteur :"
   ]
  },
  {
   "cell_type": "code",
   "execution_count": 7,
   "metadata": {
    "collapsed": false
   },
   "outputs": [
    {
     "data": {
      "text/plain": [
       "Counter({'dislike': 35,\n",
       "         'favorite': 20,\n",
       "         'like': 277,\n",
       "         'neutral': 61,\n",
       "         'willsee': 71,\n",
       "         'wontsee': 114})"
      ]
     },
     "execution_count": 7,
     "metadata": {},
     "output_type": "execute_result"
    }
   ],
   "source": [
    "from collections import Counter\n",
    "Counter(madoka_ratings)"
   ]
  },
  {
   "cell_type": "markdown",
   "metadata": {
    "collapsed": true
   },
   "source": [
    "## Nombre d'utilisateurs inscrits sur le site"
   ]
  },
  {
   "cell_type": "code",
   "execution_count": 8,
   "metadata": {
    "collapsed": false
   },
   "outputs": [
    {
     "data": {
      "text/plain": [
       "1843"
      ]
     },
     "execution_count": 8,
     "metadata": {},
     "output_type": "execute_result"
    }
   ],
   "source": [
    "User.objects.count()"
   ]
  },
  {
   "cell_type": "markdown",
   "metadata": {},
   "source": [
    "## Nombre d'œuvres sur le site"
   ]
  },
  {
   "cell_type": "code",
   "execution_count": 9,
   "metadata": {
    "collapsed": false
   },
   "outputs": [
    {
     "data": {
      "text/plain": [
       "14081"
      ]
     },
     "execution_count": 9,
     "metadata": {},
     "output_type": "execute_result"
    }
   ],
   "source": [
    "Work.objects.count()"
   ]
  },
  {
   "cell_type": "markdown",
   "metadata": {},
   "source": [
    "## Nombre de ratings sur le site"
   ]
  },
  {
   "cell_type": "code",
   "execution_count": 10,
   "metadata": {
    "collapsed": false
   },
   "outputs": [
    {
     "data": {
      "text/plain": [
       "269054"
      ]
     },
     "execution_count": 10,
     "metadata": {},
     "output_type": "execute_result"
    }
   ],
   "source": [
    "Rating.objects.count()"
   ]
  },
  {
   "cell_type": "markdown",
   "metadata": {},
   "source": [
    "## Nombre d'œuvres qui ont reçu au moins une note sur le site"
   ]
  },
  {
   "cell_type": "code",
   "execution_count": 11,
   "metadata": {
    "collapsed": false
   },
   "outputs": [
    {
     "data": {
      "text/plain": [
       "8263"
      ]
     },
     "execution_count": 11,
     "metadata": {},
     "output_type": "execute_result"
    }
   ],
   "source": [
    "len(set(Rating.objects.values_list('work_id', flat=True)))"
   ]
  },
  {
   "cell_type": "markdown",
   "metadata": {},
   "source": [
    "## Nombre de favoris sur le site"
   ]
  },
  {
   "cell_type": "code",
   "execution_count": 12,
   "metadata": {
    "collapsed": false
   },
   "outputs": [
    {
     "data": {
      "text/plain": [
       "6801"
      ]
     },
     "execution_count": 12,
     "metadata": {},
     "output_type": "execute_result"
    }
   ],
   "source": [
    "favorites = Rating.objects.filter(choice='favorite')\n",
    "favorites.count()"
   ]
  },
  {
   "cell_type": "markdown",
   "metadata": {},
   "source": [
    "## Nombre d'œuvres ajoutées aux favoris"
   ]
  },
  {
   "cell_type": "code",
   "execution_count": 13,
   "metadata": {
    "collapsed": false
   },
   "outputs": [
    {
     "data": {
      "text/plain": [
       "1518"
      ]
     },
     "execution_count": 13,
     "metadata": {},
     "output_type": "execute_result"
    }
   ],
   "source": [
    "len(set(favorites.values_list('work_id', flat=True)))"
   ]
  }
 ],
 "metadata": {
  "kernelspec": {
   "display_name": "Django Shell-Plus",
   "language": "python",
   "name": "django_extensions"
  },
  "language_info": {
   "codemirror_mode": {
    "name": "ipython",
    "version": 3
   },
   "file_extension": ".py",
   "mimetype": "text/x-python",
   "name": "python",
   "nbconvert_exporter": "python",
   "pygments_lexer": "ipython3",
   "version": "3.4.3"
  }
 },
 "nbformat": 4,
 "nbformat_minor": 0
}

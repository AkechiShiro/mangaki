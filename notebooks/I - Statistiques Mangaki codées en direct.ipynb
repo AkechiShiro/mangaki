{
 "cells": [
  {
   "cell_type": "markdown",
   "metadata": {},
   "source": [
    "# I - Statistiques Mangaki codées en direct"
   ]
  },
  {
   "cell_type": "markdown",
   "metadata": {},
   "source": [
    "Ces statistiques ont été codées à l'occasion de la [rencontre Mangaki au Kawaii Café du 9/12/2015](http://meta.mangaki.fr/t/rencontre-mangaki-9-decembre-au-kawaii-cafe-a-paris/611/5?u=jj), puis modifiées le 31/01/2016."
   ]
  },
  {
   "cell_type": "markdown",
   "metadata": {},
   "source": [
    "## Obtenir un anime à partir de son ID"
   ]
  },
  {
   "cell_type": "code",
   "execution_count": 1,
   "metadata": {
    "collapsed": false
   },
   "outputs": [
    {
     "data": {
      "text/plain": [
       "<Work: Death Note>"
      ]
     },
     "execution_count": 1,
     "metadata": {},
     "output_type": "execute_result"
    }
   ],
   "source": [
    "Work.objects.get(id=1)"
   ]
  },
  {
   "cell_type": "markdown",
   "metadata": {
    "collapsed": false
   },
   "source": [
    "## Rechercher un anime par mot-clé"
   ]
  },
  {
   "cell_type": "code",
   "execution_count": 3,
   "metadata": {
    "collapsed": false
   },
   "outputs": [
    {
     "name": "stdout",
     "output_type": "stream",
     "text": [
      "N° 1098 : Danemon's Monster Hunt at Shojoji\n",
      "N° 2180 : Humanoid Monster Bem\n",
      "N° 2336 : The Monster Of Frankenstein\n",
      "N° 2887 : Negadon: The Monster from Mars\n",
      "N° 2889 : Cyborg 009 and the Monster Wars\n",
      "N° 2890 : Spooky Kitaro: Giant Sea Monster\n",
      "N° 3213 : Taro's Monster Hunt\n",
      "N° 3599 : Yu-Gi-Oh! Duel Monsters: Battle City Special\n",
      "N° 3748 : Monster Farm 5: Circus Caravan OVA - Kessei!! Orcoro Circus\n",
      "N° 6497 : Monster Hunter Orage\n",
      "N° 6499 : Monster Soul\n",
      "N° 258 : Monster Extra\n",
      "N° 5190 : Eensy Weensy Monster\n",
      "N° 217 : Monster\n",
      "N° 8176 : Friends: Naki of Monster Island\n",
      "N° 1885 : Grandizer, Getter Robot G, Great Mazinger Decisive Battle! The Great Sea Monster\n",
      "N° 12909 : Monster Musume no Iru Nichijou: Hobo Mainichi OO! Namappoi Douga\n",
      "N° 6495 : Monster Hunter Episode\n",
      "N° 6501 : Monster collection\n",
      "N° 5515 : Gogo Monster\n",
      "N° 6494 : Monster Hunter Epic\n",
      "N° 8082 : Everyday Life with Monster Girls\n",
      "N° 6496 : Monster Hunter Flash\n",
      "N° 9483 : Yowamushi Monsters\n",
      "N° 6492 : Monster\n",
      "N° 10929 : Monster Rancher\n",
      "N° 11488 : Pocket Monsters: Sing Meloetta - Search for the Rinka Berries\n",
      "N° 12119 : Monster Rancher (2000)\n",
      "N° 12142 : Everyday Life with Monster Girls\n",
      "N° 13112 : Monster Musume no Iru Nichijou: Hobo Mainichi OO! Namappoi Douga\n",
      "N° 13139 : Kirby of the Stars Special Episode: Take it Down! The Crustacean Monster Ebizou\n",
      "N° 13164 : Everyday Life with Monster Girls\n",
      "N° 14292 : The Man in the Monster's Shell\n",
      "N° 14406 : Monster Strike\n"
     ]
    }
   ],
   "source": [
    "for anime in Work.objects.filter(title__contains='Monster'):\n",
    "    print('N°', anime.id, ':', anime.title)"
   ]
  },
  {
   "cell_type": "markdown",
   "metadata": {
    "collapsed": false
   },
   "source": [
    "## Rechercher un artiste par mot-clé"
   ]
  },
  {
   "cell_type": "code",
   "execution_count": 1,
   "metadata": {
    "collapsed": false
   },
   "outputs": [
    {
     "name": "stdout",
     "output_type": "stream",
     "text": [
      "795 Mamoru Hosoda\n"
     ]
    }
   ],
   "source": [
    "for artist in Artist.objects.filter(last_name__contains='Hosoda')[:1]:\n",
    "    print(artist.id, artist.first_name, artist.last_name)"
   ]
  },
  {
   "cell_type": "markdown",
   "metadata": {},
   "source": [
    "Mais au fait, il a réalisé quoi, Akiyuki Shinbou ?"
   ]
  },
  {
   "cell_type": "code",
   "execution_count": 2,
   "metadata": {
    "collapsed": false,
    "scrolled": true
   },
   "outputs": [
    {
     "data": {
      "text/plain": [
       "[<Staff: Mamoru Hosoda, réalisateur de Summer Wars>, <Staff: Mamoru Hosoda, réalisateur de Toki wo Kakeru Shoujo>, <Staff: Mamoru Hosoda, réalisateur de Les Enfants Loups : Ame & Yuki>, <Staff: Mamoru Hosoda, réalisateur de Le Garçon et la Bête>, <Staff: Mamoru Hosoda, auteur de Summer Wars>, <Staff: Mamoru Hosoda, auteur de Les Enfants Loups : Ame & Yuki>, <Staff: Mamoru Hosoda, auteur de Le Garçon et la Bête>, <Staff: Mamoru Hosoda, mangaka de Enfants loups (les) - Ame & Yuki>, <Staff: Mamoru Hosoda, mangaka de Enfants loups (les) - Ame & Yuki - Coffret intégrale>, <Staff: Mamoru Hosoda, scénariste de Enfants loups (les) - Ame & Yuki>, <Staff: Mamoru Hosoda, scénariste de Enfants loups (les) - Ame & Yuki - Coffret intégrale>]"
      ]
     },
     "execution_count": 2,
     "metadata": {},
     "output_type": "execute_result"
    }
   ],
   "source": [
    "artist.staff_set.all()"
   ]
  },
  {
   "cell_type": "code",
   "execution_count": 28,
   "metadata": {
    "collapsed": false
   },
   "outputs": [
    {
     "data": {
      "text/plain": [
       "[<Rating: 1994 favorite [33] Mahou Shoujo Madoka★Magica>, <Rating: 2015 dislike [33] Mahou Shoujo Madoka★Magica>, <Rating: 1986 like [33] Mahou Shoujo Madoka★Magica>, <Rating: 1967 like [33] Mahou Shoujo Madoka★Magica>, <Rating: 1987 neutral [33] Mahou Shoujo Madoka★Magica>, <Rating: 2042 wontsee [33] Mahou Shoujo Madoka★Magica>, <Rating: 2067 like [33] Mahou Shoujo Madoka★Magica>, <Rating: 1965 like [33] Mahou Shoujo Madoka★Magica>, <Rating: 2055 like [33] Mahou Shoujo Madoka★Magica>, <Rating: 2033 wontsee [33] Mahou Shoujo Madoka★Magica>, <Rating: 2054 like [33] Mahou Shoujo Madoka★Magica>, <Rating: 1906 like [33] Mahou Shoujo Madoka★Magica>, <Rating: 2068 like [33] Mahou Shoujo Madoka★Magica>, <Rating: 1953 like [33] Mahou Shoujo Madoka★Magica>, <Rating: 2023 like [33] Mahou Shoujo Madoka★Magica>, <Rating: 1993 like [33] Mahou Shoujo Madoka★Magica>, <Rating: 2098 like [33] Mahou Shoujo Madoka★Magica>, <Rating: 2005 favorite [33] Mahou Shoujo Madoka★Magica>, <Rating: 2073 like [33] Mahou Shoujo Madoka★Magica>, <Rating: 2014 dislike [33] Mahou Shoujo Madoka★Magica>, '...(remaining elements truncated)...']"
      ]
     },
     "execution_count": 28,
     "metadata": {},
     "output_type": "execute_result"
    }
   ],
   "source": [
    "madoka.rating_set.all()"
   ]
  },
  {
   "cell_type": "code",
   "execution_count": null,
   "metadata": {
    "collapsed": true
   },
   "outputs": [],
   "source": []
  },
  {
   "cell_type": "code",
   "execution_count": null,
   "metadata": {
    "collapsed": true
   },
   "outputs": [],
   "source": []
  },
  {
   "cell_type": "code",
   "execution_count": null,
   "metadata": {
    "collapsed": true
   },
   "outputs": [],
   "source": []
  },
  {
   "cell_type": "code",
   "execution_count": null,
   "metadata": {
    "collapsed": true
   },
   "outputs": [],
   "source": []
  },
  {
   "cell_type": "markdown",
   "metadata": {
    "collapsed": false
   },
   "source": [
    "## Parcourir les ratings d'un anime"
   ]
  },
  {
   "cell_type": "code",
   "execution_count": 26,
   "metadata": {
    "collapsed": false
   },
   "outputs": [
    {
     "name": "stdout",
     "output_type": "stream",
     "text": [
      "Il y a 61 ratings pour Mahou Shoujo Madoka★Magica.\n"
     ]
    }
   ],
   "source": [
    "madoka = Anime.objects.get(id=33)\n",
    "print('Il y a %d ratings pour %s.' % (madoka.rating_set.count(), madoka.title))"
   ]
  },
  {
   "cell_type": "code",
   "execution_count": 27,
   "metadata": {
    "collapsed": false
   },
   "outputs": [
    {
     "name": "stdout",
     "output_type": "stream",
     "text": [
      "1994 favorite [33] Mahou Shoujo Madoka★Magica\n",
      "2015 dislike [33] Mahou Shoujo Madoka★Magica\n",
      "1986 like [33] Mahou Shoujo Madoka★Magica\n",
      "1967 like [33] Mahou Shoujo Madoka★Magica\n",
      "1987 neutral [33] Mahou Shoujo Madoka★Magica\n"
     ]
    }
   ],
   "source": [
    "for rating in madoka.rating_set.all()[:5]:\n",
    "    print(rating)"
   ]
  },
  {
   "cell_type": "code",
   "execution_count": null,
   "metadata": {
    "collapsed": true
   },
   "outputs": [],
   "source": []
  },
  {
   "cell_type": "markdown",
   "metadata": {},
   "source": [
    "Affichons-en les 5 premiers :"
   ]
  },
  {
   "cell_type": "code",
   "execution_count": 6,
   "metadata": {
    "collapsed": false
   },
   "outputs": [
    {
     "name": "stdout",
     "output_type": "stream",
     "text": [
      "['like', 'neutral', 'like', 'like', 'like']\n"
     ]
    }
   ],
   "source": [
    "madoka_ratings = madoka.rating_set.values_list('choice', flat=True)\n",
    "print(madoka_ratings[:5])  # Afficher les 5 premiers ratings"
   ]
  },
  {
   "cell_type": "markdown",
   "metadata": {},
   "source": [
    "Regroupons tous les ratings dans un compteur :"
   ]
  },
  {
   "cell_type": "code",
   "execution_count": 7,
   "metadata": {
    "collapsed": false
   },
   "outputs": [
    {
     "data": {
      "text/plain": [
       "Counter({'dislike': 35,\n",
       "         'favorite': 20,\n",
       "         'like': 277,\n",
       "         'neutral': 61,\n",
       "         'willsee': 71,\n",
       "         'wontsee': 114})"
      ]
     },
     "execution_count": 7,
     "metadata": {},
     "output_type": "execute_result"
    }
   ],
   "source": [
    "from collections import Counter\n",
    "Counter(madoka_ratings)"
   ]
  },
  {
   "cell_type": "markdown",
   "metadata": {
    "collapsed": true
   },
   "source": [
    "## Nombre d'utilisateurs inscrits sur le site"
   ]
  },
  {
   "cell_type": "code",
   "execution_count": 8,
   "metadata": {
    "collapsed": false
   },
   "outputs": [
    {
     "data": {
      "text/plain": [
       "1843"
      ]
     },
     "execution_count": 8,
     "metadata": {},
     "output_type": "execute_result"
    }
   ],
   "source": [
    "User.objects.count()"
   ]
  },
  {
   "cell_type": "markdown",
   "metadata": {},
   "source": [
    "## Nombre d'œuvres sur le site"
   ]
  },
  {
   "cell_type": "code",
   "execution_count": 9,
   "metadata": {
    "collapsed": false
   },
   "outputs": [
    {
     "data": {
      "text/plain": [
       "14081"
      ]
     },
     "execution_count": 9,
     "metadata": {},
     "output_type": "execute_result"
    }
   ],
   "source": [
    "Work.objects.count()"
   ]
  },
  {
   "cell_type": "markdown",
   "metadata": {},
   "source": [
    "## Nombre de ratings sur le site"
   ]
  },
  {
   "cell_type": "code",
   "execution_count": 10,
   "metadata": {
    "collapsed": false
   },
   "outputs": [
    {
     "data": {
      "text/plain": [
       "269054"
      ]
     },
     "execution_count": 10,
     "metadata": {},
     "output_type": "execute_result"
    }
   ],
   "source": [
    "Rating.objects.count()"
   ]
  },
  {
   "cell_type": "markdown",
   "metadata": {},
   "source": [
    "## Nombre d'œuvres qui ont reçu au moins une note sur le site"
   ]
  },
  {
   "cell_type": "code",
   "execution_count": 11,
   "metadata": {
    "collapsed": false
   },
   "outputs": [
    {
     "data": {
      "text/plain": [
       "8263"
      ]
     },
     "execution_count": 11,
     "metadata": {},
     "output_type": "execute_result"
    }
   ],
   "source": [
    "len(set(Rating.objects.values_list('work_id', flat=True)))"
   ]
  },
  {
   "cell_type": "markdown",
   "metadata": {},
   "source": [
    "## Nombre de favoris sur le site"
   ]
  },
  {
   "cell_type": "code",
   "execution_count": 12,
   "metadata": {
    "collapsed": false
   },
   "outputs": [
    {
     "data": {
      "text/plain": [
       "6801"
      ]
     },
     "execution_count": 12,
     "metadata": {},
     "output_type": "execute_result"
    }
   ],
   "source": [
    "favorites = Rating.objects.filter(choice='favorite')\n",
    "favorites.count()"
   ]
  },
  {
   "cell_type": "markdown",
   "metadata": {},
   "source": [
    "## Nombre d'œuvres ajoutées aux favoris"
   ]
  },
  {
   "cell_type": "code",
   "execution_count": 13,
   "metadata": {
    "collapsed": false
   },
   "outputs": [
    {
     "data": {
      "text/plain": [
       "1518"
      ]
     },
     "execution_count": 13,
     "metadata": {},
     "output_type": "execute_result"
    }
   ],
   "source": [
    "len(set(favorites.values_list('work_id', flat=True)))"
   ]
  }
 ],
 "metadata": {
  "kernelspec": {
   "display_name": "Django Shell-Plus",
   "language": "python",
   "name": "django_extensions"
  },
  "language_info": {
   "codemirror_mode": {
    "name": "ipython",
    "version": 3
   },
   "file_extension": ".py",
   "mimetype": "text/x-python",
   "name": "python",
   "nbconvert_exporter": "python",
   "pygments_lexer": "ipython3",
   "version": "3.4.3"
  }
 },
 "nbformat": 4,
 "nbformat_minor": 0
}

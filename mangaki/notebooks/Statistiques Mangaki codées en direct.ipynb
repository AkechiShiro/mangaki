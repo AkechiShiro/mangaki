{
 "cells": [
  {
   "cell_type": "markdown",
   "metadata": {},
   "source": [
    "# Statistiques Mangaki codées en direct"
   ]
  },
  {
   "cell_type": "markdown",
   "metadata": {},
   "source": [
    "## Obtenir un anime à partir de son ID"
   ]
  },
  {
   "cell_type": "code",
   "execution_count": 1,
   "metadata": {
    "collapsed": false
   },
   "outputs": [
    {
     "data": {
      "text/plain": [
       "<Anime: Death Note>"
      ]
     },
     "execution_count": 1,
     "metadata": {},
     "output_type": "execute_result"
    }
   ],
   "source": [
    "Anime.objects.get(id=1)"
   ]
  },
  {
   "cell_type": "markdown",
   "metadata": {
    "collapsed": false
   },
   "source": [
    "## Rechercher un anime par mot-clé"
   ]
  },
  {
   "cell_type": "code",
   "execution_count": 2,
   "metadata": {
    "collapsed": false
   },
   "outputs": [
    {
     "name": "stdout",
     "output_type": "stream",
     "text": [
      "176 Puella Magi Madoka Magica the Movie Part III: Rebellion\n",
      "181 Mahou Shoujo Madoka★Magica Movie 3: Hangyaku no Monogatari - Magica Quartet x Nisioisin\n",
      "180 Puella Magi Madoka Magica the Movie Part II: Eternal\n",
      "179 Puella Magi Madoka Magica the Movie Part I: Beginnings\n",
      "33 Mahou Shoujo Madoka★Magica\n"
     ]
    }
   ],
   "source": [
    "for anime in Anime.objects.filter(title__contains='Madoka'):\n",
    "    print(anime.id, anime.title)"
   ]
  },
  {
   "cell_type": "markdown",
   "metadata": {
    "collapsed": false
   },
   "source": [
    "## Rechercher un artiste par mot-clé"
   ]
  },
  {
   "cell_type": "code",
   "execution_count": 13,
   "metadata": {
    "collapsed": false
   },
   "outputs": [
    {
     "name": "stdout",
     "output_type": "stream",
     "text": [
      "2352 Akiyuki Shinbou\n"
     ]
    }
   ],
   "source": [
    "for artist in Artist.objects.filter(last_name__contains='Shinbou'):\n",
    "    print(artist.id, artist.first_name, artist.last_name)"
   ]
  },
  {
   "cell_type": "markdown",
   "metadata": {
    "collapsed": false
   },
   "source": [
    "## Afficher tous les ratings d'un anime"
   ]
  },
  {
   "cell_type": "code",
   "execution_count": 3,
   "metadata": {
    "collapsed": false
   },
   "outputs": [
    {
     "name": "stdout",
     "output_type": "stream",
     "text": [
      "Il y a 548 ratings pour Mahou Shoujo Madoka★Magica :\n",
      "Bloup like Mahou Shoujo Madoka★Magica\n",
      "Keul neutral Mahou Shoujo Madoka★Magica\n",
      "Wiressel like Mahou Shoujo Madoka★Magica\n",
      "RDzzz like Mahou Shoujo Madoka★Magica\n",
      "Tapas like Mahou Shoujo Madoka★Magica\n",
      "UtanusNoCunnie-sama like Mahou Shoujo Madoka★Magica\n",
      "Rukawa like Mahou Shoujo Madoka★Magica\n",
      "Toshi like Mahou Shoujo Madoka★Magica\n",
      "yuri like Mahou Shoujo Madoka★Magica\n",
      "csylia neutral Mahou Shoujo Madoka★Magica\n",
      "Lau like Mahou Shoujo Madoka★Magica\n",
      "HeroicRain like Mahou Shoujo Madoka★Magica\n",
      "Weaper dislike Mahou Shoujo Madoka★Magica\n",
      "Setsuna willsee Mahou Shoujo Madoka★Magica\n",
      "Aldherrian like Mahou Shoujo Madoka★Magica\n",
      "Setsunael like Mahou Shoujo Madoka★Magica\n",
      "Tinecro like Mahou Shoujo Madoka★Magica\n",
      "nekronstar wontsee Mahou Shoujo Madoka★Magica\n",
      "Kolya like Mahou Shoujo Madoka★Magica\n",
      "Oni_Dango like Mahou Shoujo Madoka★Magica\n",
      "Silmarien like Mahou Shoujo Madoka★Magica\n",
      "KarorinNikaido willsee Mahou Shoujo Madoka★Magica\n",
      "Silphyon wontsee Mahou Shoujo Madoka★Magica\n",
      "Trickyoto like Mahou Shoujo Madoka★Magica\n",
      "HeyCuSon wontsee Mahou Shoujo Madoka★Magica\n",
      "Lysanthius like Mahou Shoujo Madoka★Magica\n",
      "Pepper wontsee Mahou Shoujo Madoka★Magica\n",
      "Sermus like Mahou Shoujo Madoka★Magica\n",
      "Krow like Mahou Shoujo Madoka★Magica\n",
      "Sugarshy like Mahou Shoujo Madoka★Magica\n",
      "seirl like Mahou Shoujo Madoka★Magica\n",
      "nawo like Mahou Shoujo Madoka★Magica\n",
      "Jeungo like Mahou Shoujo Madoka★Magica\n",
      "Yuuan like Mahou Shoujo Madoka★Magica\n",
      "Hlussë like Mahou Shoujo Madoka★Magica\n",
      "Aeden like Mahou Shoujo Madoka★Magica\n",
      "Jude willsee Mahou Shoujo Madoka★Magica\n",
      "Fskng neutral Mahou Shoujo Madoka★Magica\n",
      "Romukaji like Mahou Shoujo Madoka★Magica\n",
      "Thic like Mahou Shoujo Madoka★Magica\n",
      "Peachpidon like Mahou Shoujo Madoka★Magica\n",
      "silvoswordo like Mahou Shoujo Madoka★Magica\n",
      "Kubo like Mahou Shoujo Madoka★Magica\n",
      "Luttii like Mahou Shoujo Madoka★Magica\n",
      "Kardhafi like Mahou Shoujo Madoka★Magica\n",
      "Conan3D like Mahou Shoujo Madoka★Magica\n",
      "Nabashi dislike Mahou Shoujo Madoka★Magica\n",
      "Stixgame583 wontsee Mahou Shoujo Madoka★Magica\n",
      "Nekokoro willsee Mahou Shoujo Madoka★Magica\n",
      "makoto1412 like Mahou Shoujo Madoka★Magica\n",
      "bidule13570 like Mahou Shoujo Madoka★Magica\n",
      "Hikarii-P like Mahou Shoujo Madoka★Magica\n",
      "Belderak willsee Mahou Shoujo Madoka★Magica\n",
      "kidokami wontsee Mahou Shoujo Madoka★Magica\n",
      "JonathanMM willsee Mahou Shoujo Madoka★Magica\n",
      "QCTX dislike Mahou Shoujo Madoka★Magica\n",
      "Pellentz like Mahou Shoujo Madoka★Magica\n",
      "Nyquist like Mahou Shoujo Madoka★Magica\n",
      "Cédric neutral Mahou Shoujo Madoka★Magica\n",
      "RaitoBezarius neutral Mahou Shoujo Madoka★Magica\n",
      "Lily willsee Mahou Shoujo Madoka★Magica\n",
      "Loktor neutral Mahou Shoujo Madoka★Magica\n",
      "ThibG like Mahou Shoujo Madoka★Magica\n",
      "jj like Mahou Shoujo Madoka★Magica\n",
      "wincested_naked_loli like Mahou Shoujo Madoka★Magica\n",
      "tito like Mahou Shoujo Madoka★Magica\n",
      "ThomasA wontsee Mahou Shoujo Madoka★Magica\n",
      "Maduesu favorite Mahou Shoujo Madoka★Magica\n",
      "bite like Mahou Shoujo Madoka★Magica\n",
      "delfare like Mahou Shoujo Madoka★Magica\n",
      "katchup like Mahou Shoujo Madoka★Magica\n",
      "Sedeto like Mahou Shoujo Madoka★Magica\n",
      "RobinLSL like Mahou Shoujo Madoka★Magica\n",
      "É favorite Mahou Shoujo Madoka★Magica\n",
      "Reventlov like Mahou Shoujo Madoka★Magica\n",
      "Wiic369 like Mahou Shoujo Madoka★Magica\n",
      "mkourgan like Mahou Shoujo Madoka★Magica\n",
      "Auriane dislike Mahou Shoujo Madoka★Magica\n",
      "kF neutral Mahou Shoujo Madoka★Magica\n",
      "Sedepyon like Mahou Shoujo Madoka★Magica\n",
      "Smankh like Mahou Shoujo Madoka★Magica\n",
      "SarahBoule willsee Mahou Shoujo Madoka★Magica\n",
      "Armael like Mahou Shoujo Madoka★Magica\n",
      "Jibrilcs wontsee Mahou Shoujo Madoka★Magica\n",
      "kikurie like Mahou Shoujo Madoka★Magica\n",
      "Mereck like Mahou Shoujo Madoka★Magica\n",
      "Paquito willsee Mahou Shoujo Madoka★Magica\n",
      "Soubi like Mahou Shoujo Madoka★Magica\n",
      "Rochois neutral Mahou Shoujo Madoka★Magica\n",
      "shiro like Mahou Shoujo Madoka★Magica\n",
      "Tialys like Mahou Shoujo Madoka★Magica\n",
      "blop like Mahou Shoujo Madoka★Magica\n",
      "Fitzou neutral Mahou Shoujo Madoka★Magica\n",
      "SquallFinal like Mahou Shoujo Madoka★Magica\n",
      "Kureeru like Mahou Shoujo Madoka★Magica\n",
      "-Angy- like Mahou Shoujo Madoka★Magica\n",
      "DL21 like Mahou Shoujo Madoka★Magica\n",
      "CURASE wontsee Mahou Shoujo Madoka★Magica\n",
      "Yuuki neutral Mahou Shoujo Madoka★Magica\n",
      "alexof94 dislike Mahou Shoujo Madoka★Magica\n",
      "lizuka like Mahou Shoujo Madoka★Magica\n",
      "NrdzDreams wontsee Mahou Shoujo Madoka★Magica\n",
      "AntoinePeyralout like Mahou Shoujo Madoka★Magica\n",
      "DrNock neutral Mahou Shoujo Madoka★Magica\n",
      "Amo like Mahou Shoujo Madoka★Magica\n",
      "Ar-Pharazon like Mahou Shoujo Madoka★Magica\n",
      "Yokathaking like Mahou Shoujo Madoka★Magica\n",
      "m3r1 like Mahou Shoujo Madoka★Magica\n",
      "MaxaoH like Mahou Shoujo Madoka★Magica\n",
      "Api like Mahou Shoujo Madoka★Magica\n",
      "Morpheen like Mahou Shoujo Madoka★Magica\n",
      "ElKa like Mahou Shoujo Madoka★Magica\n",
      "mettalicana like Mahou Shoujo Madoka★Magica\n",
      "thefightingdoll neutral Mahou Shoujo Madoka★Magica\n",
      "DarkAdonis like Mahou Shoujo Madoka★Magica\n",
      "AudreyAzura like Mahou Shoujo Madoka★Magica\n",
      "CKelle neutral Mahou Shoujo Madoka★Magica\n",
      "eyam wontsee Mahou Shoujo Madoka★Magica\n",
      "Aloneisone dislike Mahou Shoujo Madoka★Magica\n",
      "o0TEO0o willsee Mahou Shoujo Madoka★Magica\n",
      "jilljennestunabruti like Mahou Shoujo Madoka★Magica\n",
      "Kabu like Mahou Shoujo Madoka★Magica\n",
      "pinkyblue dislike Mahou Shoujo Madoka★Magica\n",
      "fwjmath wontsee Mahou Shoujo Madoka★Magica\n",
      "Khonda willsee Mahou Shoujo Madoka★Magica\n",
      "EctoArckanox like Mahou Shoujo Madoka★Magica\n",
      "Seirei like Mahou Shoujo Madoka★Magica\n",
      "Akao willsee Mahou Shoujo Madoka★Magica\n",
      "Vodka like Mahou Shoujo Madoka★Magica\n",
      "Vael0 like Mahou Shoujo Madoka★Magica\n",
      "KaibaGX neutral Mahou Shoujo Madoka★Magica\n",
      "RdNetwork like Mahou Shoujo Madoka★Magica\n",
      "Humanhunger dislike Mahou Shoujo Madoka★Magica\n",
      "Breizh like Mahou Shoujo Madoka★Magica\n",
      "Rafbill like Mahou Shoujo Madoka★Magica\n",
      "Nodamin like Mahou Shoujo Madoka★Magica\n",
      "Taiki_Amami like Mahou Shoujo Madoka★Magica\n",
      "Nemotaku willsee Mahou Shoujo Madoka★Magica\n",
      "Mayoo willsee Mahou Shoujo Madoka★Magica\n",
      "Aono like Mahou Shoujo Madoka★Magica\n",
      "Melow like Mahou Shoujo Madoka★Magica\n",
      "Nefka neutral Mahou Shoujo Madoka★Magica\n",
      "Shrykull like Mahou Shoujo Madoka★Magica\n",
      "Sasakyo-sama like Mahou Shoujo Madoka★Magica\n",
      "Il_Palazzo-sama like Mahou Shoujo Madoka★Magica\n",
      "Kramoule like Mahou Shoujo Madoka★Magica\n",
      "Clem like Mahou Shoujo Madoka★Magica\n",
      "Ryô wontsee Mahou Shoujo Madoka★Magica\n",
      "Idam like Mahou Shoujo Madoka★Magica\n",
      "Jebay wontsee Mahou Shoujo Madoka★Magica\n",
      "Leyius like Mahou Shoujo Madoka★Magica\n",
      "Vi wontsee Mahou Shoujo Madoka★Magica\n",
      "linkmauve favorite Mahou Shoujo Madoka★Magica\n",
      "Guriido like Mahou Shoujo Madoka★Magica\n",
      "Kmeuh neutral Mahou Shoujo Madoka★Magica\n",
      "Lyxia like Mahou Shoujo Madoka★Magica\n",
      "Deneb like Mahou Shoujo Madoka★Magica\n",
      "chlogane wontsee Mahou Shoujo Madoka★Magica\n",
      "WhiteRockMiku like Mahou Shoujo Madoka★Magica\n",
      "Hill like Mahou Shoujo Madoka★Magica\n",
      "Hitode neutral Mahou Shoujo Madoka★Magica\n",
      "Solteyr willsee Mahou Shoujo Madoka★Magica\n",
      "Onyz like Mahou Shoujo Madoka★Magica\n",
      "DlanorAozaki like Mahou Shoujo Madoka★Magica\n",
      "toutoune134 like Mahou Shoujo Madoka★Magica\n",
      "Katua like Mahou Shoujo Madoka★Magica\n",
      "Shampooing willsee Mahou Shoujo Madoka★Magica\n",
      "trichelieu like Mahou Shoujo Madoka★Magica\n",
      "Ploupiie like Mahou Shoujo Madoka★Magica\n",
      "Mikilleiou wontsee Mahou Shoujo Madoka★Magica\n",
      "Kaorya neutral Mahou Shoujo Madoka★Magica\n",
      "Belby like Mahou Shoujo Madoka★Magica\n",
      "Ch1tsuki dislike Mahou Shoujo Madoka★Magica\n",
      "shizukame willsee Mahou Shoujo Madoka★Magica\n",
      "MilkyleChat like Mahou Shoujo Madoka★Magica\n",
      "binyam willsee Mahou Shoujo Madoka★Magica\n",
      "romain35fr wontsee Mahou Shoujo Madoka★Magica\n",
      "Yukionna like Mahou Shoujo Madoka★Magica\n",
      "Poyjo like Mahou Shoujo Madoka★Magica\n",
      "xReev like Mahou Shoujo Madoka★Magica\n",
      "Rod_sensei like Mahou Shoujo Madoka★Magica\n",
      "Diabolo like Mahou Shoujo Madoka★Magica\n",
      "ftrnt like Mahou Shoujo Madoka★Magica\n",
      "ElduRsverO like Mahou Shoujo Madoka★Magica\n",
      "lololeboiteux like Mahou Shoujo Madoka★Magica\n",
      "weifail neutral Mahou Shoujo Madoka★Magica\n",
      "Oreku like Mahou Shoujo Madoka★Magica\n",
      "kongi59 like Mahou Shoujo Madoka★Magica\n",
      "limkha like Mahou Shoujo Madoka★Magica\n",
      "spitfire like Mahou Shoujo Madoka★Magica\n",
      "AkiNoNiji willsee Mahou Shoujo Madoka★Magica\n",
      "tsubyu like Mahou Shoujo Madoka★Magica\n",
      "eMKa dislike Mahou Shoujo Madoka★Magica\n",
      "Drinko neutral Mahou Shoujo Madoka★Magica\n",
      "Gaetane like Mahou Shoujo Madoka★Magica\n",
      "Kiary wontsee Mahou Shoujo Madoka★Magica\n",
      "jordan59 wontsee Mahou Shoujo Madoka★Magica\n",
      "Yoh like Mahou Shoujo Madoka★Magica\n",
      "Aeryst like Mahou Shoujo Madoka★Magica\n",
      "vannak like Mahou Shoujo Madoka★Magica\n",
      "Kuku like Mahou Shoujo Madoka★Magica\n",
      "arnaldo17 wontsee Mahou Shoujo Madoka★Magica\n",
      "Lord like Mahou Shoujo Madoka★Magica\n",
      "To_aru neutral Mahou Shoujo Madoka★Magica\n",
      "Akenaide like Mahou Shoujo Madoka★Magica\n",
      "Kurumin like Mahou Shoujo Madoka★Magica\n",
      "Rolkion like Mahou Shoujo Madoka★Magica\n",
      "Fujimaru like Mahou Shoujo Madoka★Magica\n",
      "otaku9999 like Mahou Shoujo Madoka★Magica\n",
      "KodoK like Mahou Shoujo Madoka★Magica\n",
      "Bigbenr like Mahou Shoujo Madoka★Magica\n",
      "Kirsie like Mahou Shoujo Madoka★Magica\n",
      "boblebuter wontsee Mahou Shoujo Madoka★Magica\n",
      "Gajilles like Mahou Shoujo Madoka★Magica\n",
      "Neos like Mahou Shoujo Madoka★Magica\n",
      "HelgaSP like Mahou Shoujo Madoka★Magica\n",
      "Lufkin like Mahou Shoujo Madoka★Magica\n",
      "SebNL neutral Mahou Shoujo Madoka★Magica\n",
      "elleipseis like Mahou Shoujo Madoka★Magica\n",
      "Magicnegi wontsee Mahou Shoujo Madoka★Magica\n",
      "haku like Mahou Shoujo Madoka★Magica\n",
      "Linkchira like Mahou Shoujo Madoka★Magica\n",
      "xSaiuyki wontsee Mahou Shoujo Madoka★Magica\n",
      "TolieBunny like Mahou Shoujo Madoka★Magica\n",
      "Nensho neutral Mahou Shoujo Madoka★Magica\n",
      "MangyDog like Mahou Shoujo Madoka★Magica\n",
      "Sora wontsee Mahou Shoujo Madoka★Magica\n",
      "Momo like Mahou Shoujo Madoka★Magica\n",
      "nekosonico like Mahou Shoujo Madoka★Magica\n",
      "Tentapoulpe neutral Mahou Shoujo Madoka★Magica\n",
      "DemiCercle dislike Mahou Shoujo Madoka★Magica\n",
      "Naery like Mahou Shoujo Madoka★Magica\n",
      "Yamiku wontsee Mahou Shoujo Madoka★Magica\n",
      "Kandaina wontsee Mahou Shoujo Madoka★Magica\n",
      "Tintou like Mahou Shoujo Madoka★Magica\n",
      "Nykio neutral Mahou Shoujo Madoka★Magica\n",
      "yukinatsu like Mahou Shoujo Madoka★Magica\n",
      "returnVoid dislike Mahou Shoujo Madoka★Magica\n",
      "Tsukiyo like Mahou Shoujo Madoka★Magica\n",
      "Yamiko willsee Mahou Shoujo Madoka★Magica\n",
      "Eislinn like Mahou Shoujo Madoka★Magica\n",
      "Draco742 willsee Mahou Shoujo Madoka★Magica\n",
      "Super-Kiwi neutral Mahou Shoujo Madoka★Magica\n",
      "steeveclm neutral Mahou Shoujo Madoka★Magica\n",
      "Gaeko like Mahou Shoujo Madoka★Magica\n",
      "hanami neutral Mahou Shoujo Madoka★Magica\n",
      "Polandum like Mahou Shoujo Madoka★Magica\n",
      "Shueisha like Mahou Shoujo Madoka★Magica\n",
      "Thaliane dislike Mahou Shoujo Madoka★Magica\n",
      "kyubitsu like Mahou Shoujo Madoka★Magica\n",
      "Timluffy like Mahou Shoujo Madoka★Magica\n",
      "KasumiYawa like Mahou Shoujo Madoka★Magica\n",
      "Myorii wontsee Mahou Shoujo Madoka★Magica\n",
      "Starlight like Mahou Shoujo Madoka★Magica\n",
      "DisturbedSloth wontsee Mahou Shoujo Madoka★Magica\n",
      "guts wontsee Mahou Shoujo Madoka★Magica\n",
      "Nezumi wontsee Mahou Shoujo Madoka★Magica\n",
      "Konoka31 neutral Mahou Shoujo Madoka★Magica\n",
      "Shingetsune like Mahou Shoujo Madoka★Magica\n",
      "alruu wontsee Mahou Shoujo Madoka★Magica\n",
      "Aokami wontsee Mahou Shoujo Madoka★Magica\n",
      "noirkirika like Mahou Shoujo Madoka★Magica\n",
      "Aoitori like Mahou Shoujo Madoka★Magica\n",
      "Thom like Mahou Shoujo Madoka★Magica\n",
      "ours256 dislike Mahou Shoujo Madoka★Magica\n",
      "Ailish like Mahou Shoujo Madoka★Magica\n",
      "makichan63 willsee Mahou Shoujo Madoka★Magica\n",
      "luca neutral Mahou Shoujo Madoka★Magica\n",
      "Arukania like Mahou Shoujo Madoka★Magica\n",
      "Orangecheatee dislike Mahou Shoujo Madoka★Magica\n",
      "toyita neutral Mahou Shoujo Madoka★Magica\n",
      "BakaSkorm like Mahou Shoujo Madoka★Magica\n",
      "Kélouf dislike Mahou Shoujo Madoka★Magica\n",
      "yrokun like Mahou Shoujo Madoka★Magica\n",
      "MangAnimefr like Mahou Shoujo Madoka★Magica\n",
      "MakaAlbarn like Mahou Shoujo Madoka★Magica\n",
      "ClocloPandora like Mahou Shoujo Madoka★Magica\n",
      "Kuuro-chan like Mahou Shoujo Madoka★Magica\n",
      "Dragoniae wontsee Mahou Shoujo Madoka★Magica\n",
      "Otakugeek974 wontsee Mahou Shoujo Madoka★Magica\n",
      "reine-chan like Mahou Shoujo Madoka★Magica\n",
      "ktacomb wontsee Mahou Shoujo Madoka★Magica\n",
      "mastertheshift wontsee Mahou Shoujo Madoka★Magica\n",
      "stailux wontsee Mahou Shoujo Madoka★Magica\n",
      "ClassyRabbit wontsee Mahou Shoujo Madoka★Magica\n",
      "Yuzune neutral Mahou Shoujo Madoka★Magica\n",
      "Mizuki willsee Mahou Shoujo Madoka★Magica\n",
      "Snowlight like Mahou Shoujo Madoka★Magica\n",
      "Haruka like Mahou Shoujo Madoka★Magica\n",
      "Armigraph like Mahou Shoujo Madoka★Magica\n",
      "Robyn like Mahou Shoujo Madoka★Magica\n",
      "Kusajishi willsee Mahou Shoujo Madoka★Magica\n",
      "nezumis like Mahou Shoujo Madoka★Magica\n",
      "Atalykis like Mahou Shoujo Madoka★Magica\n",
      "psychogriffe willsee Mahou Shoujo Madoka★Magica\n",
      "Hawke neutral Mahou Shoujo Madoka★Magica\n",
      "UndyingRea wontsee Mahou Shoujo Madoka★Magica\n",
      "rinshi wontsee Mahou Shoujo Madoka★Magica\n",
      "phenix17 neutral Mahou Shoujo Madoka★Magica\n",
      "Hyoreck willsee Mahou Shoujo Madoka★Magica\n",
      "Korosu dislike Mahou Shoujo Madoka★Magica\n",
      "Nonow wontsee Mahou Shoujo Madoka★Magica\n",
      "migdle neutral Mahou Shoujo Madoka★Magica\n",
      "Xeynner wontsee Mahou Shoujo Madoka★Magica\n",
      "Pandore06 like Mahou Shoujo Madoka★Magica\n",
      "Maka_Usagi willsee Mahou Shoujo Madoka★Magica\n",
      "Phalin neutral Mahou Shoujo Madoka★Magica\n",
      "AikaTeruko wontsee Mahou Shoujo Madoka★Magica\n",
      "maneki604 dislike Mahou Shoujo Madoka★Magica\n",
      "audreydel07 wontsee Mahou Shoujo Madoka★Magica\n",
      "chizuru like Mahou Shoujo Madoka★Magica\n",
      "dagoba11 neutral Mahou Shoujo Madoka★Magica\n",
      "Melli wontsee Mahou Shoujo Madoka★Magica\n",
      "yamineko dislike Mahou Shoujo Madoka★Magica\n",
      "holowake dislike Mahou Shoujo Madoka★Magica\n",
      "Pathtek like Mahou Shoujo Madoka★Magica\n",
      "Miyabimaru wontsee Mahou Shoujo Madoka★Magica\n",
      "sylvain064 wontsee Mahou Shoujo Madoka★Magica\n",
      "Kuroyuki willsee Mahou Shoujo Madoka★Magica\n",
      "Basile.@20 willsee Mahou Shoujo Madoka★Magica\n",
      "thibaut12345 like Mahou Shoujo Madoka★Magica\n",
      "Valodryon like Mahou Shoujo Madoka★Magica\n",
      "robin27 wontsee Mahou Shoujo Madoka★Magica\n",
      "ShiroDeviluke like Mahou Shoujo Madoka★Magica\n",
      "DreamZz willsee Mahou Shoujo Madoka★Magica\n",
      "AleDarKus willsee Mahou Shoujo Madoka★Magica\n",
      "Liberté like Mahou Shoujo Madoka★Magica\n",
      "DaigoDandy like Mahou Shoujo Madoka★Magica\n",
      "FukuSama like Mahou Shoujo Madoka★Magica\n",
      "Lustria wontsee Mahou Shoujo Madoka★Magica\n",
      "taisuke.m like Mahou Shoujo Madoka★Magica\n",
      "BasDesMarches like Mahou Shoujo Madoka★Magica\n",
      "Benku like Mahou Shoujo Madoka★Magica\n",
      "Hbpandaa willsee Mahou Shoujo Madoka★Magica\n",
      "Ixirus like Mahou Shoujo Madoka★Magica\n",
      "Taira-Hakamichi like Mahou Shoujo Madoka★Magica\n",
      "Kimory like Mahou Shoujo Madoka★Magica\n",
      "atchi-rockbell wontsee Mahou Shoujo Madoka★Magica\n",
      "Naotys wontsee Mahou Shoujo Madoka★Magica\n",
      "Traumatix dislike Mahou Shoujo Madoka★Magica\n",
      "Nyx0uf willsee Mahou Shoujo Madoka★Magica\n",
      "tsukihime42 like Mahou Shoujo Madoka★Magica\n",
      "Wacandia like Mahou Shoujo Madoka★Magica\n",
      "CidGayella willsee Mahou Shoujo Madoka★Magica\n",
      "biblop dislike Mahou Shoujo Madoka★Magica\n",
      "Niwatori like Mahou Shoujo Madoka★Magica\n",
      "sidney90 willsee Mahou Shoujo Madoka★Magica\n",
      "Sarah-chan like Mahou Shoujo Madoka★Magica\n",
      "cynthia1260 neutral Mahou Shoujo Madoka★Magica\n",
      "Vins wontsee Mahou Shoujo Madoka★Magica\n",
      "Mizaya willsee Mahou Shoujo Madoka★Magica\n",
      "Naïto willsee Mahou Shoujo Madoka★Magica\n",
      "pjz_19 like Mahou Shoujo Madoka★Magica\n",
      "Pachi wontsee Mahou Shoujo Madoka★Magica\n",
      "Bainos like Mahou Shoujo Madoka★Magica\n",
      "erigan like Mahou Shoujo Madoka★Magica\n",
      "Marusu like Mahou Shoujo Madoka★Magica\n",
      "Romanus-kun willsee Mahou Shoujo Madoka★Magica\n",
      "Esther wontsee Mahou Shoujo Madoka★Magica\n",
      "klein111 wontsee Mahou Shoujo Madoka★Magica\n",
      "Ortcel wontsee Mahou Shoujo Madoka★Magica\n",
      "Empathy like Mahou Shoujo Madoka★Magica\n",
      "Aiondil neutral Mahou Shoujo Madoka★Magica\n",
      "LordZeitoun like Mahou Shoujo Madoka★Magica\n",
      "Akulen like Mahou Shoujo Madoka★Magica\n",
      "chaucolet willsee Mahou Shoujo Madoka★Magica\n",
      "chijoo wontsee Mahou Shoujo Madoka★Magica\n",
      "Pleok like Mahou Shoujo Madoka★Magica\n",
      "Chimiki willsee Mahou Shoujo Madoka★Magica\n",
      "Julien879 neutral Mahou Shoujo Madoka★Magica\n",
      "alisea like Mahou Shoujo Madoka★Magica\n",
      "asxtoric willsee Mahou Shoujo Madoka★Magica\n",
      "nijibakurei like Mahou Shoujo Madoka★Magica\n",
      "sabrewolf2a neutral Mahou Shoujo Madoka★Magica\n",
      "touka.kirishima77 wontsee Mahou Shoujo Madoka★Magica\n",
      "Tigamee neutral Mahou Shoujo Madoka★Magica\n",
      "Vendethiel dislike Mahou Shoujo Madoka★Magica\n",
      "Cekun willsee Mahou Shoujo Madoka★Magica\n",
      "Naru12021 like Mahou Shoujo Madoka★Magica\n",
      "enti willsee Mahou Shoujo Madoka★Magica\n",
      "duffahkiin dislike Mahou Shoujo Madoka★Magica\n",
      "Lpendragone neutral Mahou Shoujo Madoka★Magica\n",
      "Nodens willsee Mahou Shoujo Madoka★Magica\n",
      "Sharleen willsee Mahou Shoujo Madoka★Magica\n",
      "ZzChrono like Mahou Shoujo Madoka★Magica\n",
      "Eno like Mahou Shoujo Madoka★Magica\n",
      "nicosama wontsee Mahou Shoujo Madoka★Magica\n",
      "Holten like Mahou Shoujo Madoka★Magica\n",
      "Haruya like Mahou Shoujo Madoka★Magica\n",
      "Nako like Mahou Shoujo Madoka★Magica\n",
      "Saho wontsee Mahou Shoujo Madoka★Magica\n",
      "MayaM wontsee Mahou Shoujo Madoka★Magica\n",
      "Nui wontsee Mahou Shoujo Madoka★Magica\n",
      "alka like Mahou Shoujo Madoka★Magica\n",
      "Hanae wontsee Mahou Shoujo Madoka★Magica\n",
      "Chouquette like Mahou Shoujo Madoka★Magica\n",
      "Tiblue willsee Mahou Shoujo Madoka★Magica\n",
      "ErmiteCrabe like Mahou Shoujo Madoka★Magica\n",
      "Ementi dislike Mahou Shoujo Madoka★Magica\n",
      "WadaPocky like Mahou Shoujo Madoka★Magica\n",
      "fendorz neutral Mahou Shoujo Madoka★Magica\n",
      "Mike345 wontsee Mahou Shoujo Madoka★Magica\n",
      "MiDnight76 like Mahou Shoujo Madoka★Magica\n",
      "darkleo like Mahou Shoujo Madoka★Magica\n",
      "Bloodystar like Mahou Shoujo Madoka★Magica\n",
      "sarahd willsee Mahou Shoujo Madoka★Magica\n",
      "Shoubidouwa willsee Mahou Shoujo Madoka★Magica\n",
      "Shirakane wontsee Mahou Shoujo Madoka★Magica\n",
      "Judy25 wontsee Mahou Shoujo Madoka★Magica\n",
      "eulmouette like Mahou Shoujo Madoka★Magica\n",
      "Lycad wontsee Mahou Shoujo Madoka★Magica\n",
      "Kaiserin willsee Mahou Shoujo Madoka★Magica\n",
      "Akito_fr neutral Mahou Shoujo Madoka★Magica\n",
      "Koroeskohr like Mahou Shoujo Madoka★Magica\n",
      "CaptainChoC like Mahou Shoujo Madoka★Magica\n",
      "Eimin like Mahou Shoujo Madoka★Magica\n",
      "SuzieSuzy like Mahou Shoujo Madoka★Magica\n",
      "Akije dislike Mahou Shoujo Madoka★Magica\n",
      "ShiroKun wontsee Mahou Shoujo Madoka★Magica\n",
      "Edogawa_Ranpo wontsee Mahou Shoujo Madoka★Magica\n",
      "ajusteur willsee Mahou Shoujo Madoka★Magica\n",
      "nokyann like Mahou Shoujo Madoka★Magica\n",
      "Louchan willsee Mahou Shoujo Madoka★Magica\n",
      "Neryuu wontsee Mahou Shoujo Madoka★Magica\n",
      "Jojosuke wontsee Mahou Shoujo Madoka★Magica\n",
      "Killpunk wontsee Mahou Shoujo Madoka★Magica\n",
      "schyzo wontsee Mahou Shoujo Madoka★Magica\n",
      "ai wontsee Mahou Shoujo Madoka★Magica\n",
      "jirachiarceus willsee Mahou Shoujo Madoka★Magica\n",
      "Nekko_Nya like Mahou Shoujo Madoka★Magica\n",
      "nina6368 like Mahou Shoujo Madoka★Magica\n",
      "clara.loulmet willsee Mahou Shoujo Madoka★Magica\n",
      "Fukyuutsuki wontsee Mahou Shoujo Madoka★Magica\n",
      "Viktor wontsee Mahou Shoujo Madoka★Magica\n",
      "Maxoupixou like Mahou Shoujo Madoka★Magica\n",
      "Eldiadlo willsee Mahou Shoujo Madoka★Magica\n",
      "Kuroonaa dislike Mahou Shoujo Madoka★Magica\n",
      "Pasiphae wontsee Mahou Shoujo Madoka★Magica\n",
      "Nyuuh willsee Mahou Shoujo Madoka★Magica\n",
      "Méli wontsee Mahou Shoujo Madoka★Magica\n",
      "fuaya willsee Mahou Shoujo Madoka★Magica\n",
      "Giordan wontsee Mahou Shoujo Madoka★Magica\n",
      "Blue.Bubble.Jack wontsee Mahou Shoujo Madoka★Magica\n",
      "Welkin neutral Mahou Shoujo Madoka★Magica\n",
      "Yuu-Sama like Mahou Shoujo Madoka★Magica\n",
      "kahki13 neutral Mahou Shoujo Madoka★Magica\n",
      "Yunikon like Mahou Shoujo Madoka★Magica\n",
      "SaMentheALo neutral Mahou Shoujo Madoka★Magica\n",
      "meldy02 like Mahou Shoujo Madoka★Magica\n",
      "SoulZ wontsee Mahou Shoujo Madoka★Magica\n",
      "Heiji like Mahou Shoujo Madoka★Magica\n",
      "MadScientistHK wontsee Mahou Shoujo Madoka★Magica\n",
      "Gallu57 like Mahou Shoujo Madoka★Magica\n",
      "Otakun like Mahou Shoujo Madoka★Magica\n",
      "Malolo39 dislike Mahou Shoujo Madoka★Magica\n",
      "mikia like Mahou Shoujo Madoka★Magica\n",
      "qckirito wontsee Mahou Shoujo Madoka★Magica\n",
      "Oiken wontsee Mahou Shoujo Madoka★Magica\n",
      "Uaethar like Mahou Shoujo Madoka★Magica\n",
      "Kôsei wontsee Mahou Shoujo Madoka★Magica\n",
      "Touki wontsee Mahou Shoujo Madoka★Magica\n",
      "Ryless willsee Mahou Shoujo Madoka★Magica\n",
      "Kuroneko favorite Mahou Shoujo Madoka★Magica\n",
      "Aeclis dislike Mahou Shoujo Madoka★Magica\n",
      "Ryu-kirua wontsee Mahou Shoujo Madoka★Magica\n",
      "Brutos94 neutral Mahou Shoujo Madoka★Magica\n",
      "Claras95 neutral Mahou Shoujo Madoka★Magica\n",
      "Samhi neutral Mahou Shoujo Madoka★Magica\n",
      "Mymy13 like Mahou Shoujo Madoka★Magica\n",
      "redhawk willsee Mahou Shoujo Madoka★Magica\n",
      "DoctorRainbow favorite Mahou Shoujo Madoka★Magica\n",
      "hana28 willsee Mahou Shoujo Madoka★Magica\n",
      "mchan dislike Mahou Shoujo Madoka★Magica\n",
      "Litto like Mahou Shoujo Madoka★Magica\n",
      "kirche favorite Mahou Shoujo Madoka★Magica\n",
      "RayserGF dislike Mahou Shoujo Madoka★Magica\n",
      "Adrien wontsee Mahou Shoujo Madoka★Magica\n",
      "Mangetsu willsee Mahou Shoujo Madoka★Magica\n",
      "HoshiKuroNeko willsee Mahou Shoujo Madoka★Magica\n",
      "merlin neutral Mahou Shoujo Madoka★Magica\n",
      "Alviry like Mahou Shoujo Madoka★Magica\n",
      "Mikawaii willsee Mahou Shoujo Madoka★Magica\n",
      "somonette wontsee Mahou Shoujo Madoka★Magica\n",
      "Kirihomi wontsee Mahou Shoujo Madoka★Magica\n",
      "Kingoftentacle wontsee Mahou Shoujo Madoka★Magica\n",
      "Zeckel wontsee Mahou Shoujo Madoka★Magica\n",
      "Myst0g4n neutral Mahou Shoujo Madoka★Magica\n",
      "okura wontsee Mahou Shoujo Madoka★Magica\n",
      "MorganB neutral Mahou Shoujo Madoka★Magica\n",
      "kamuro wontsee Mahou Shoujo Madoka★Magica\n",
      "ExCiTuDe like Mahou Shoujo Madoka★Magica\n",
      "ShingoH like Mahou Shoujo Madoka★Magica\n",
      "Haltorn wontsee Mahou Shoujo Madoka★Magica\n",
      "Riekas wontsee Mahou Shoujo Madoka★Magica\n",
      "lilou favorite Mahou Shoujo Madoka★Magica\n",
      "Red-Abitbol favorite Mahou Shoujo Madoka★Magica\n",
      "creatinator favorite Mahou Shoujo Madoka★Magica\n",
      "pumur willsee Mahou Shoujo Madoka★Magica\n",
      "aureldono like Mahou Shoujo Madoka★Magica\n",
      "harlock_julien wontsee Mahou Shoujo Madoka★Magica\n",
      "wxrider like Mahou Shoujo Madoka★Magica\n",
      "Masamune42 neutral Mahou Shoujo Madoka★Magica\n",
      "Tesla favorite Mahou Shoujo Madoka★Magica\n",
      "Mimi wontsee Mahou Shoujo Madoka★Magica\n",
      "Sakai wontsee Mahou Shoujo Madoka★Magica\n",
      "Shironari willsee Mahou Shoujo Madoka★Magica\n",
      "tenuo favorite Mahou Shoujo Madoka★Magica\n",
      "Toki willsee Mahou Shoujo Madoka★Magica\n",
      "TaigaRay wontsee Mahou Shoujo Madoka★Magica\n",
      "Zelphing wontsee Mahou Shoujo Madoka★Magica\n",
      "Shichiryu like Mahou Shoujo Madoka★Magica\n",
      "SatomiRyumonji like Mahou Shoujo Madoka★Magica\n",
      "bullshitdu93 like Mahou Shoujo Madoka★Magica\n",
      "Melloe like Mahou Shoujo Madoka★Magica\n",
      "Ogaman like Mahou Shoujo Madoka★Magica\n",
      "Ogaman like Mahou Shoujo Madoka★Magica\n",
      "darknef like Mahou Shoujo Madoka★Magica\n",
      "Aohayou like Mahou Shoujo Madoka★Magica\n",
      "Aohayou like Mahou Shoujo Madoka★Magica\n",
      "camilleshojo like Mahou Shoujo Madoka★Magica\n",
      "Dratsu wontsee Mahou Shoujo Madoka★Magica\n",
      "daravan wontsee Mahou Shoujo Madoka★Magica\n",
      "ChibiRuizu.chan willsee Mahou Shoujo Madoka★Magica\n",
      "Yuu like Mahou Shoujo Madoka★Magica\n",
      "Tarepanda neutral Mahou Shoujo Madoka★Magica\n",
      "X-Javier dislike Mahou Shoujo Madoka★Magica\n",
      "Peanutiz wontsee Mahou Shoujo Madoka★Magica\n",
      "lilichan like Mahou Shoujo Madoka★Magica\n",
      "naya favorite Mahou Shoujo Madoka★Magica\n",
      "Psycopatrick neutral Mahou Shoujo Madoka★Magica\n",
      "Mr_Wonderland willsee Mahou Shoujo Madoka★Magica\n",
      "Welfin neutral Mahou Shoujo Madoka★Magica\n",
      "Nathan wontsee Mahou Shoujo Madoka★Magica\n",
      "Toshinsengumi favorite Mahou Shoujo Madoka★Magica\n",
      "floboum favorite Mahou Shoujo Madoka★Magica\n",
      "Yushihiro like Mahou Shoujo Madoka★Magica\n",
      "Shinjifuma favorite Mahou Shoujo Madoka★Magica\n",
      "Bastoss wontsee Mahou Shoujo Madoka★Magica\n",
      "Nabimaru favorite Mahou Shoujo Madoka★Magica\n",
      "Katsui wontsee Mahou Shoujo Madoka★Magica\n",
      "tashici neutral Mahou Shoujo Madoka★Magica\n",
      "Kyruo like Mahou Shoujo Madoka★Magica\n",
      "Lapinchat like Mahou Shoujo Madoka★Magica\n",
      "Guaris0n dislike Mahou Shoujo Madoka★Magica\n",
      "artmerc willsee Mahou Shoujo Madoka★Magica\n",
      "iraso wontsee Mahou Shoujo Madoka★Magica\n",
      "KimShunpei willsee Mahou Shoujo Madoka★Magica\n",
      "Charon dislike Mahou Shoujo Madoka★Magica\n"
     ]
    }
   ],
   "source": [
    "madoka = Anime.objects.get(id=33)\n",
    "print('Il y a %d ratings pour %s :' % (madoka.rating_set.count(), madoka.title))\n",
    "for rating in madoka.rating_set.all():\n",
    "    print(rating)"
   ]
  },
  {
   "cell_type": "markdown",
   "metadata": {
    "collapsed": true
   },
   "source": [
    "# Nombre d'utilisateurs inscrits sur le site"
   ]
  },
  {
   "cell_type": "code",
   "execution_count": 14,
   "metadata": {
    "collapsed": false
   },
   "outputs": [
    {
     "data": {
      "text/plain": [
       "1707"
      ]
     },
     "execution_count": 14,
     "metadata": {},
     "output_type": "execute_result"
    }
   ],
   "source": [
    "User.objects.count()"
   ]
  },
  {
   "cell_type": "markdown",
   "metadata": {},
   "source": [
    "## Nombre d'œuvres sur le site"
   ]
  },
  {
   "cell_type": "code",
   "execution_count": 15,
   "metadata": {
    "collapsed": false
   },
   "outputs": [
    {
     "data": {
      "text/plain": [
       "13646"
      ]
     },
     "execution_count": 15,
     "metadata": {},
     "output_type": "execute_result"
    }
   ],
   "source": [
    "Work.objects.count()"
   ]
  },
  {
   "cell_type": "markdown",
   "metadata": {},
   "source": [
    "## Nombre de ratings sur le site"
   ]
  },
  {
   "cell_type": "code",
   "execution_count": 16,
   "metadata": {
    "collapsed": false
   },
   "outputs": [
    {
     "data": {
      "text/plain": [
       "246648"
      ]
     },
     "execution_count": 16,
     "metadata": {},
     "output_type": "execute_result"
    }
   ],
   "source": [
    "Rating.objects.count()"
   ]
  },
  {
   "cell_type": "markdown",
   "metadata": {},
   "source": [
    "## Nombre d'œuvres notées sur le site"
   ]
  },
  {
   "cell_type": "code",
   "execution_count": 17,
   "metadata": {
    "collapsed": false
   },
   "outputs": [
    {
     "data": {
      "text/plain": [
       "7455"
      ]
     },
     "execution_count": 17,
     "metadata": {},
     "output_type": "execute_result"
    }
   ],
   "source": [
    "len(set(Rating.objects.values_list('work_id', flat=True)))"
   ]
  },
  {
   "cell_type": "markdown",
   "metadata": {},
   "source": [
    "## Nombre de favoris sur le site"
   ]
  },
  {
   "cell_type": "code",
   "execution_count": 18,
   "metadata": {
    "collapsed": false
   },
   "outputs": [
    {
     "data": {
      "text/plain": [
       "5308"
      ]
     },
     "execution_count": 18,
     "metadata": {},
     "output_type": "execute_result"
    }
   ],
   "source": [
    "favorites = Rating.objects.filter(choice='favorite')\n",
    "favorites.count()"
   ]
  },
  {
   "cell_type": "markdown",
   "metadata": {},
   "source": [
    "## Nombre d'œuvres ajoutées aux favoris"
   ]
  },
  {
   "cell_type": "code",
   "execution_count": 19,
   "metadata": {
    "collapsed": false
   },
   "outputs": [
    {
     "data": {
      "text/plain": [
       "1282"
      ]
     },
     "execution_count": 19,
     "metadata": {},
     "output_type": "execute_result"
    }
   ],
   "source": [
    "len(set(favorites.values_list('work_id', flat=True)))"
   ]
  }
 ],
 "metadata": {
  "kernelspec": {
   "display_name": "Django Shell-Plus",
   "language": "python",
   "name": "django_extensions"
  },
  "language_info": {
   "codemirror_mode": {
    "name": "ipython",
    "version": 3
   },
   "file_extension": ".py",
   "mimetype": "text/x-python",
   "name": "python",
   "nbconvert_exporter": "python",
   "pygments_lexer": "ipython3",
   "version": "3.4.1"
  }
 },
 "nbformat": 4,
 "nbformat_minor": 0
}
